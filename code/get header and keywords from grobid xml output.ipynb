{
 "cells": [
  {
   "cell_type": "code",
   "execution_count": 3,
   "id": "derived-uniform",
   "metadata": {},
   "outputs": [],
   "source": [
    "import xml.etree.ElementTree as ET"
   ]
  },
  {
   "cell_type": "code",
   "execution_count": 4,
   "id": "subtle-growth",
   "metadata": {},
   "outputs": [],
   "source": [
    "tree = ET.parse('../articles_from_tatiana/abishek_test.xml')\n",
    "root = tree.getroot()\n"
   ]
  },
  {
   "cell_type": "code",
   "execution_count": 8,
   "id": "portable-array",
   "metadata": {},
   "outputs": [
    {
     "ename": "TypeError",
     "evalue": "element indices must be integers",
     "output_type": "error",
     "traceback": [
      "\u001b[0;31m---------------------------------------------------------------------------\u001b[0m",
      "\u001b[0;31mTypeError\u001b[0m                                 Traceback (most recent call last)",
      "\u001b[0;32m<ipython-input-8-cf6786ea215e>\u001b[0m in \u001b[0;36m<module>\u001b[0;34m\u001b[0m\n\u001b[0;32m----> 1\u001b[0;31m \u001b[0mroot\u001b[0m\u001b[0;34m[\u001b[0m\u001b[0;34m'teiHeader'\u001b[0m\u001b[0;34m]\u001b[0m\u001b[0;34m.\u001b[0m\u001b[0mgetChildren\u001b[0m\u001b[0;34m(\u001b[0m\u001b[0;34m)\u001b[0m\u001b[0;34m\u001b[0m\u001b[0;34m\u001b[0m\u001b[0m\n\u001b[0m",
      "\u001b[0;31mTypeError\u001b[0m: element indices must be integers"
     ]
    }
   ],
   "source": [
    "root['teiHeader'].getChildren()\n"
   ]
  },
  {
   "cell_type": "code",
   "execution_count": 7,
   "id": "alleged-mission",
   "metadata": {},
   "outputs": [],
   "source": [
    "for ch in root.iter('abstract'):\n",
    "    print(ch[:10])"
   ]
  },
  {
   "cell_type": "code",
   "execution_count": 9,
   "id": "mobile-characterization",
   "metadata": {},
   "outputs": [
    {
     "name": "stdout",
     "output_type": "stream",
     "text": [
      "\n"
     ]
    }
   ],
   "source": [
    "from tei_reader import TeiReader\n",
    "reader = TeiReader()\n",
    "corpora = reader.read_file('../articles_from_tatiana/abishek_test.xml') # or read_string\n",
    "print(corpora.text)\n"
   ]
  },
  {
   "cell_type": "code",
   "execution_count": 10,
   "id": "humanitarian-williams",
   "metadata": {},
   "outputs": [
    {
     "data": {
      "text/plain": [
       "['_Element__parts_and_divisions',\n",
       " '__class__',\n",
       " '__delattr__',\n",
       " '__dict__',\n",
       " '__dir__',\n",
       " '__doc__',\n",
       " '__eq__',\n",
       " '__format__',\n",
       " '__ge__',\n",
       " '__getattribute__',\n",
       " '__gt__',\n",
       " '__hash__',\n",
       " '__init__',\n",
       " '__init_subclass__',\n",
       " '__iter_attributes__',\n",
       " '__le__',\n",
       " '__lt__',\n",
       " '__module__',\n",
       " '__ne__',\n",
       " '__new__',\n",
       " '__reduce__',\n",
       " '__reduce_ex__',\n",
       " '__repr__',\n",
       " '__setattr__',\n",
       " '__sizeof__',\n",
       " '__str__',\n",
       " '__subclasshook__',\n",
       " '__weakref__',\n",
       " 'all_parts',\n",
       " 'attributes',\n",
       " 'corpora',\n",
       " 'divisions',\n",
       " 'documents',\n",
       " 'node',\n",
       " 'parts',\n",
       " 'tag',\n",
       " 'text',\n",
       " 'tostring',\n",
       " 'xml']"
      ]
     },
     "execution_count": 10,
     "metadata": {},
     "output_type": "execute_result"
    }
   ],
   "source": [
    "dir(corpora)"
   ]
  },
  {
   "cell_type": "code",
   "execution_count": 13,
   "id": "valued-warren",
   "metadata": {},
   "outputs": [
    {
     "data": {
      "text/plain": [
       "[]"
      ]
     },
     "execution_count": 13,
     "metadata": {},
     "output_type": "execute_result"
    }
   ],
   "source": [
    "list(corpora.parts)\n"
   ]
  },
  {
   "cell_type": "code",
   "execution_count": 14,
   "id": "split-performer",
   "metadata": {},
   "outputs": [
    {
     "data": {
      "text/plain": [
       "<tei_reader.models.corpora.Corpora at 0x7fa702a57090>"
      ]
     },
     "execution_count": 14,
     "metadata": {},
     "output_type": "execute_result"
    }
   ],
   "source": [
    "corpora"
   ]
  },
  {
   "cell_type": "code",
   "execution_count": 15,
   "id": "another-department",
   "metadata": {},
   "outputs": [
    {
     "data": {
      "text/plain": [
       "'<corpus><document>\\n<attributes key=\"fileDesc\"><attribute key=\"titleStmt\"><attributes><attribute key=\"title\"><attributes><attribute key=\"level\">a</attribute><attribute key=\"type\">main</attribute></attributes>Agency Selling or Reselling? Channel Structures in Electronic Retailing</attribute></attributes>\\n</attribute><attribute key=\"publicationStmt\"><attributes><attribute key=\"publisher\"/><attribute key=\"availability\"><attributes><attribute key=\"status\">unknown</attribute><attribute key=\"licence\"/></attributes></attribute></attributes>\\n</attribute><attribute key=\"sourceDesc\"><attributes><attribute key=\"biblStruct\"><attributes><attribute key=\"analytic\"><attributes><attribute key=\"author\"><attributes><attribute key=\"persName\"><attributes><attribute key=\"forename\"><attributes><attribute key=\"type\">first</attribute></attributes>Vibhanshu</attribute><attribute key=\"surname\">Abhishek</attribute></attributes></attribute><attribute key=\"affiliation\"><attributes><attribute key=\"key\">aff0</attribute><attribute key=\"orgName\"><attributes><attribute key=\"type\">department</attribute></attributes>Faculty Research</attribute><attribute key=\"orgName\"><attributes><attribute key=\"type\">institution</attribute></attributes>University of Pennsylvania ScholarlyCommons Finance Papers Wharton</attribute><attribute key=\"address\"><attributes><attribute key=\"postCode\">8-2016</attribute></attributes>\\n</attribute></attributes>\\n</attribute></attributes>\\n</attribute><attribute key=\"author\"><attributes><attribute key=\"persName\"><attributes><attribute key=\"forename\"><attributes><attribute key=\"type\">first</attribute></attributes>Kinshuk</attribute><attribute key=\"surname\">Jerath</attribute></attributes></attribute><attribute key=\"affiliation\"><attributes><attribute key=\"key\">aff0</attribute><attribute key=\"orgName\"><attributes><attribute key=\"type\">department</attribute></attributes>Faculty Research</attribute><attribute key=\"orgName\"><attributes><attribute key=\"type\">institution</attribute></attributes>University of Pennsylvania ScholarlyCommons Finance Papers Wharton</attribute><attribute key=\"address\"><attributes><attribute key=\"postCode\">8-2016</attribute></attributes>\\n</attribute></attributes>\\n</attribute></attributes>\\n</attribute><attribute key=\"author\"><attributes><attribute key=\"persName\"><attributes><attribute key=\"forename\"><attributes><attribute key=\"type\">first</attribute></attributes>Z</attribute><attribute key=\"forename\"><attributes><attribute key=\"type\">middle</attribute></attributes>John</attribute><attribute key=\"surname\">Zhang</attribute></attributes></attribute><attribute key=\"affiliation\"><attributes><attribute key=\"key\">aff0</attribute><attribute key=\"orgName\"><attributes><attribute key=\"type\">department</attribute></attributes>Faculty Research</attribute><attribute key=\"orgName\"><attributes><attribute key=\"type\">institution</attribute></attributes>University of Pennsylvania ScholarlyCommons Finance Papers Wharton</attribute><attribute key=\"address\"><attributes><attribute key=\"postCode\">8-2016</attribute></attributes>\\n</attribute></attributes>\\n</attribute></attributes>\\n</attribute><attribute key=\"title\"><attributes><attribute key=\"level\">a</attribute><attribute key=\"type\">main</attribute></attributes>Agency Selling or Reselling? Channel Structures in Electronic Retailing</attribute></attributes>\\n</attribute><attribute key=\"monogr\"><attributes><attribute key=\"imprint\">\\n<part tei-tag=\"date\"/></attribute></attributes>\\n</attribute><attribute key=\"idno\"><attributes><attribute key=\"type\">DOI</attribute></attributes>10.1287/mnsc.2015.2230</attribute></attributes>\\n</attribute></attributes>\\n</attribute></attributes>\\n<attributes key=\"encodingDesc\"><attribute key=\"appInfo\"><attributes><attribute key=\"application\"><attributes><attribute key=\"ident\">GROBID</attribute><attribute key=\"version\">0.6.1</attribute><attribute key=\"when\">2021-02-02T08:35+0000</attribute><attribute key=\"desc\">GROBID - A machine learning software for extracting information from scholarly documents</attribute><attribute key=\"ref\"><attributes><attribute key=\"target\">https://github.com/kermitt2/grobid</attribute></attributes></attribute></attributes>\\n</attribute></attributes>\\n</attribute></attributes>\\n<attributes key=\"profileDesc\"><attribute key=\"textClass\"><attributes><attribute key=\"keywords\"><attributes><attribute key=\"term\">multichannel retailing</attribute><attribute key=\"term\">electronic commerce</attribute><attribute key=\"term\">distribution channel</attribute><attribute key=\"term\">cross-channel spillovers</attribute><attribute key=\"term\">platform retailing; retail competition</attribute><attribute key=\"term\">game theory Disciplines</attribute></attributes>\\n</attribute></attributes>\\n</attribute><attribute key=\"abstract\">\\n<div tei-tag=\"p\">In recent years, online retailers (also called e-tailers) have started allowing manufacturers direct access to their customers while charging a fee for providing this access, a format commonly referred to as agency selling. In this paper, we use a stylized theoretical model to answer a key question that e-tailers are facing: When should they use an agency selling format instead of using the more conventional reselling format? We find that agency selling is more efficient than reselling and leads to lower retail prices; however, the e-tailers end up giving control over retail prices to the manufacturer. Therefore, the reaction by the manufacturer, who makes electronic channel pricing decisions based on their impact on demand in the traditional channel (brick-andmortar retailing), is an important factor for e-tailers to consider. We find that when sales in the electronic channel lead to a negative effect on demand in the traditional channel, e-tailers prefer agency selling, whereas when sales in the electronic channel lead to substantial stimulation of demand in the traditional channel, etailers prefer reselling. This preference is mediated by competition between e-tailers-as competition between them increases, e-tailers prefer to use agency selling. We also find that when e-tailers benefit from positive externalities from the sales of the focal product (such as additional profits from sales of associated products), retail prices may be lower under reselling than under agency selling, and the e-tailers prefer reselling under some conditions for which they would prefer agency selling without the positive externalities.</div></attribute></attributes>\\n<div tei-tag=\"text\"><attributes><attribute key=\"xml:lang\">en</attribute></attributes>\\n</div></document></corpus>'"
      ]
     },
     "execution_count": 15,
     "metadata": {},
     "output_type": "execute_result"
    }
   ],
   "source": [
    "corpora.xml"
   ]
  },
  {
   "cell_type": "code",
   "execution_count": 17,
   "id": "weird-forum",
   "metadata": {},
   "outputs": [
    {
     "name": "stdout",
     "output_type": "stream",
     "text": [
      "attr:_Element__parts_and_divisions\n",
      "[]\n",
      "attr:all_parts\n",
      "[]\n",
      "attr:attributes\n",
      "[]\n",
      "attr:corpora\n",
      "[]\n",
      "attr:divisions\n",
      "[]\n",
      "attr:documents\n",
      "[<tei_reader.models.document.Document object at 0x7fa700bb4610>]\n",
      "attr:node\n",
      "[<Element document at 0x7fa7028f5e10>]\n",
      "attr:parts\n",
      "[]\n",
      "attr:tag\n",
      "['c', 'o', 'r', 'p', 'u', 's']\n",
      "attr:text\n",
      "[]\n",
      "attr:tostring\n",
      "attr:xml\n",
      "['<', 'c', 'o', 'r', 'p', 'u', 's', '>', '<', 'd', 'o', 'c', 'u', 'm', 'e', 'n', 't', '>', '\\n', '<', 'a', 't', 't', 'r', 'i', 'b', 'u', 't', 'e', 's', ' ', 'k', 'e', 'y', '=', '\"', 'f', 'i', 'l', 'e', 'D', 'e', 's', 'c', '\"', '>', '<', 'a', 't', 't', 'r', 'i', 'b', 'u', 't', 'e', ' ', 'k', 'e', 'y', '=', '\"', 't', 'i', 't', 'l', 'e', 'S', 't', 'm', 't', '\"', '>', '<', 'a', 't', 't', 'r', 'i', 'b', 'u', 't', 'e', 's', '>', '<', 'a', 't', 't', 'r', 'i', 'b', 'u', 't', 'e', ' ', 'k', 'e', 'y', '=', '\"', 't', 'i', 't', 'l', 'e', '\"', '>', '<', 'a', 't', 't', 'r', 'i', 'b', 'u', 't', 'e', 's', '>', '<', 'a', 't', 't', 'r', 'i', 'b', 'u', 't', 'e', ' ', 'k', 'e', 'y', '=', '\"', 'l', 'e', 'v', 'e', 'l', '\"', '>', 'a', '<', '/', 'a', 't', 't', 'r', 'i', 'b', 'u', 't', 'e', '>', '<', 'a', 't', 't', 'r', 'i', 'b', 'u', 't', 'e', ' ', 'k', 'e', 'y', '=', '\"', 't', 'y', 'p', 'e', '\"', '>', 'm', 'a', 'i', 'n', '<', '/', 'a', 't', 't', 'r', 'i', 'b', 'u', 't', 'e', '>', '<', '/', 'a', 't', 't', 'r', 'i', 'b', 'u', 't', 'e', 's', '>', 'A', 'g', 'e', 'n', 'c', 'y', ' ', 'S', 'e', 'l', 'l', 'i', 'n', 'g', ' ', 'o', 'r', ' ', 'R', 'e', 's', 'e', 'l', 'l', 'i', 'n', 'g', '?', ' ', 'C', 'h', 'a', 'n', 'n', 'e', 'l', ' ', 'S', 't', 'r', 'u', 'c', 't', 'u', 'r', 'e', 's', ' ', 'i', 'n', ' ', 'E', 'l', 'e', 'c', 't', 'r', 'o', 'n', 'i', 'c', ' ', 'R', 'e', 't', 'a', 'i', 'l', 'i', 'n', 'g', '<', '/', 'a', 't', 't', 'r', 'i', 'b', 'u', 't', 'e', '>', '<', '/', 'a', 't', 't', 'r', 'i', 'b', 'u', 't', 'e', 's', '>', '\\n', '<', '/', 'a', 't', 't', 'r', 'i', 'b', 'u', 't', 'e', '>', '<', 'a', 't', 't', 'r', 'i', 'b', 'u', 't', 'e', ' ', 'k', 'e', 'y', '=', '\"', 'p', 'u', 'b', 'l', 'i', 'c', 'a', 't', 'i', 'o', 'n', 'S', 't', 'm', 't', '\"', '>', '<', 'a', 't', 't', 'r', 'i', 'b', 'u', 't', 'e', 's', '>', '<', 'a', 't', 't', 'r', 'i', 'b', 'u', 't', 'e', ' ', 'k', 'e', 'y', '=', '\"', 'p', 'u', 'b', 'l', 'i', 's', 'h', 'e', 'r', '\"', '/', '>', '<', 'a', 't', 't', 'r', 'i', 'b', 'u', 't', 'e', ' ', 'k', 'e', 'y', '=', '\"', 'a', 'v', 'a', 'i', 'l', 'a', 'b', 'i', 'l', 'i', 't', 'y', '\"', '>', '<', 'a', 't', 't', 'r', 'i', 'b', 'u', 't', 'e', 's', '>', '<', 'a', 't', 't', 'r', 'i', 'b', 'u', 't', 'e', ' ', 'k', 'e', 'y', '=', '\"', 's', 't', 'a', 't', 'u', 's', '\"', '>', 'u', 'n', 'k', 'n', 'o', 'w', 'n', '<', '/', 'a', 't', 't', 'r', 'i', 'b', 'u', 't', 'e', '>', '<', 'a', 't', 't', 'r', 'i', 'b', 'u', 't', 'e', ' ', 'k', 'e', 'y', '=', '\"', 'l', 'i', 'c', 'e', 'n', 'c', 'e', '\"', '/', '>', '<', '/', 'a', 't', 't', 'r', 'i', 'b', 'u', 't', 'e', 's', '>', '<', '/', 'a', 't', 't', 'r', 'i', 'b', 'u', 't', 'e', '>', '<', '/', 'a', 't', 't', 'r', 'i', 'b', 'u', 't', 'e', 's', '>', '\\n', '<', '/', 'a', 't', 't', 'r', 'i', 'b', 'u', 't', 'e', '>', '<', 'a', 't', 't', 'r', 'i', 'b', 'u', 't', 'e', ' ', 'k', 'e', 'y', '=', '\"', 's', 'o', 'u', 'r', 'c', 'e', 'D', 'e', 's', 'c', '\"', '>', '<', 'a', 't', 't', 'r', 'i', 'b', 'u', 't', 'e', 's', '>', '<', 'a', 't', 't', 'r', 'i', 'b', 'u', 't', 'e', ' ', 'k', 'e', 'y', '=', '\"', 'b', 'i', 'b', 'l', 'S', 't', 'r', 'u', 'c', 't', '\"', '>', '<', 'a', 't', 't', 'r', 'i', 'b', 'u', 't', 'e', 's', '>', '<', 'a', 't', 't', 'r', 'i', 'b', 'u', 't', 'e', ' ', 'k', 'e', 'y', '=', '\"', 'a', 'n', 'a', 'l', 'y', 't', 'i', 'c', '\"', '>', '<', 'a', 't', 't', 'r', 'i', 'b', 'u', 't', 'e', 's', '>', '<', 'a', 't', 't', 'r', 'i', 'b', 'u', 't', 'e', ' ', 'k', 'e', 'y', '=', '\"', 'a', 'u', 't', 'h', 'o', 'r', '\"', '>', '<', 'a', 't', 't', 'r', 'i', 'b', 'u', 't', 'e', 's', '>', '<', 'a', 't', 't', 'r', 'i', 'b', 'u', 't', 'e', ' ', 'k', 'e', 'y', '=', '\"', 'p', 'e', 'r', 's', 'N', 'a', 'm', 'e', '\"', '>', '<', 'a', 't', 't', 'r', 'i', 'b', 'u', 't', 'e', 's', '>', '<', 'a', 't', 't', 'r', 'i', 'b', 'u', 't', 'e', ' ', 'k', 'e', 'y', '=', '\"', 'f', 'o', 'r', 'e', 'n', 'a', 'm', 'e', '\"', '>', '<', 'a', 't', 't', 'r', 'i', 'b', 'u', 't', 'e', 's', '>', '<', 'a', 't', 't', 'r', 'i', 'b', 'u', 't', 'e', ' ', 'k', 'e', 'y', '=', '\"', 't', 'y', 'p', 'e', '\"', '>', 'f', 'i', 'r', 's', 't', '<', '/', 'a', 't', 't', 'r', 'i', 'b', 'u', 't', 'e', '>', '<', '/', 'a', 't', 't', 'r', 'i', 'b', 'u', 't', 'e', 's', '>', 'V', 'i', 'b', 'h', 'a', 'n', 's', 'h', 'u', '<', '/', 'a', 't', 't', 'r', 'i', 'b', 'u', 't', 'e', '>', '<', 'a', 't', 't', 'r', 'i', 'b', 'u', 't', 'e', ' ', 'k', 'e', 'y', '=', '\"', 's', 'u', 'r', 'n', 'a', 'm', 'e', '\"', '>', 'A', 'b', 'h', 'i', 's', 'h', 'e', 'k', '<', '/', 'a', 't', 't', 'r', 'i', 'b', 'u', 't', 'e', '>', '<', '/', 'a', 't', 't', 'r', 'i', 'b', 'u', 't', 'e', 's', '>', '<', '/', 'a', 't', 't', 'r', 'i', 'b', 'u', 't', 'e', '>', '<', 'a', 't', 't', 'r', 'i', 'b', 'u', 't', 'e', ' ', 'k', 'e', 'y', '=', '\"', 'a', 'f', 'f', 'i', 'l', 'i', 'a', 't', 'i', 'o', 'n', '\"', '>', '<', 'a', 't', 't', 'r', 'i', 'b', 'u', 't', 'e', 's', '>', '<', 'a', 't', 't', 'r', 'i', 'b', 'u', 't', 'e', ' ', 'k', 'e', 'y', '=', '\"', 'k', 'e', 'y', '\"', '>', 'a', 'f', 'f', '0', '<', '/', 'a', 't', 't', 'r', 'i', 'b', 'u', 't', 'e', '>', '<', 'a', 't', 't', 'r', 'i', 'b', 'u', 't', 'e', ' ', 'k', 'e', 'y', '=', '\"', 'o', 'r', 'g', 'N', 'a', 'm', 'e', '\"', '>', '<', 'a', 't', 't', 'r', 'i', 'b', 'u', 't', 'e', 's', '>', '<', 'a', 't', 't', 'r', 'i', 'b', 'u', 't', 'e', ' ', 'k', 'e', 'y', '=', '\"', 't', 'y', 'p', 'e', '\"', '>', 'd', 'e', 'p', 'a', 'r', 't', 'm', 'e', 'n', 't', '<', '/', 'a', 't', 't', 'r', 'i', 'b', 'u', 't', 'e', '>', '<', '/', 'a', 't', 't', 'r', 'i', 'b', 'u', 't', 'e', 's', '>', 'F', 'a', 'c', 'u', 'l', 't', 'y', ' ', 'R', 'e', 's', 'e', 'a', 'r', 'c', 'h', '<', '/', 'a', 't', 't', 'r', 'i', 'b', 'u', 't', 'e', '>', '<', 'a', 't', 't', 'r', 'i', 'b', 'u', 't', 'e', ' ', 'k', 'e', 'y', '=', '\"', 'o', 'r', 'g', 'N', 'a', 'm', 'e', '\"', '>', '<', 'a', 't', 't', 'r', 'i', 'b', 'u', 't', 'e', 's', '>', '<', 'a', 't', 't', 'r', 'i', 'b', 'u', 't', 'e', ' ', 'k', 'e', 'y', '=', '\"', 't', 'y', 'p', 'e', '\"', '>', 'i', 'n', 's', 't', 'i', 't', 'u', 't', 'i', 'o', 'n', '<', '/', 'a', 't', 't', 'r', 'i', 'b', 'u', 't', 'e', '>', '<', '/', 'a', 't', 't', 'r', 'i', 'b', 'u', 't', 'e', 's', '>', 'U', 'n', 'i', 'v', 'e', 'r', 's', 'i', 't', 'y', ' ', 'o', 'f', ' ', 'P', 'e', 'n', 'n', 's', 'y', 'l', 'v', 'a', 'n', 'i', 'a', ' ', 'S', 'c', 'h', 'o', 'l', 'a', 'r', 'l', 'y', 'C', 'o', 'm', 'm', 'o', 'n', 's', ' ', 'F', 'i', 'n', 'a', 'n', 'c', 'e', ' ', 'P', 'a', 'p', 'e', 'r', 's', ' ', 'W', 'h', 'a', 'r', 't', 'o', 'n', '<', '/', 'a', 't', 't', 'r', 'i', 'b', 'u', 't', 'e', '>', '<', 'a', 't', 't', 'r', 'i', 'b', 'u', 't', 'e', ' ', 'k', 'e', 'y', '=', '\"', 'a', 'd', 'd', 'r', 'e', 's', 's', '\"', '>', '<', 'a', 't', 't', 'r', 'i', 'b', 'u', 't', 'e', 's', '>', '<', 'a', 't', 't', 'r', 'i', 'b', 'u', 't', 'e', ' ', 'k', 'e', 'y', '=', '\"', 'p', 'o', 's', 't', 'C', 'o', 'd', 'e', '\"', '>', '8', '-', '2', '0', '1', '6', '<', '/', 'a', 't', 't', 'r', 'i', 'b', 'u', 't', 'e', '>', '<', '/', 'a', 't', 't', 'r', 'i', 'b', 'u', 't', 'e', 's', '>', '\\n', '<', '/', 'a', 't', 't', 'r', 'i', 'b', 'u', 't', 'e', '>', '<', '/', 'a', 't', 't', 'r', 'i', 'b', 'u', 't', 'e', 's', '>', '\\n', '<', '/', 'a', 't', 't', 'r', 'i', 'b', 'u', 't', 'e', '>', '<', '/', 'a', 't', 't', 'r', 'i', 'b', 'u', 't', 'e', 's', '>', '\\n', '<', '/', 'a', 't', 't', 'r', 'i', 'b', 'u', 't', 'e', '>', '<', 'a', 't', 't', 'r', 'i', 'b', 'u', 't', 'e', ' ', 'k', 'e', 'y', '=', '\"', 'a', 'u', 't', 'h', 'o', 'r', '\"', '>', '<', 'a', 't', 't', 'r', 'i', 'b', 'u', 't', 'e', 's', '>', '<', 'a', 't', 't', 'r', 'i', 'b', 'u', 't', 'e', ' ', 'k', 'e', 'y', '=', '\"', 'p', 'e', 'r', 's', 'N', 'a', 'm', 'e', '\"', '>', '<', 'a', 't', 't', 'r', 'i', 'b', 'u', 't', 'e', 's', '>', '<', 'a', 't', 't', 'r', 'i', 'b', 'u', 't', 'e', ' ', 'k', 'e', 'y', '=', '\"', 'f', 'o', 'r', 'e', 'n', 'a', 'm', 'e', '\"', '>', '<', 'a', 't', 't', 'r', 'i', 'b', 'u', 't', 'e', 's', '>', '<', 'a', 't', 't', 'r', 'i', 'b', 'u', 't', 'e', ' ', 'k', 'e', 'y', '=', '\"', 't', 'y', 'p', 'e', '\"', '>', 'f', 'i', 'r', 's', 't', '<', '/', 'a', 't', 't', 'r', 'i', 'b', 'u', 't', 'e', '>', '<', '/', 'a', 't', 't', 'r', 'i', 'b', 'u', 't', 'e', 's', '>', 'K', 'i', 'n', 's', 'h', 'u', 'k', '<', '/', 'a', 't', 't', 'r', 'i', 'b', 'u', 't', 'e', '>', '<', 'a', 't', 't', 'r', 'i', 'b', 'u', 't', 'e', ' ', 'k', 'e', 'y', '=', '\"', 's', 'u', 'r', 'n', 'a', 'm', 'e', '\"', '>', 'J', 'e', 'r', 'a', 't', 'h', '<', '/', 'a', 't', 't', 'r', 'i', 'b', 'u', 't', 'e', '>', '<', '/', 'a', 't', 't', 'r', 'i', 'b', 'u', 't', 'e', 's', '>', '<', '/', 'a', 't', 't', 'r', 'i', 'b', 'u', 't', 'e', '>', '<', 'a', 't', 't', 'r', 'i', 'b', 'u', 't', 'e', ' ', 'k', 'e', 'y', '=', '\"', 'a', 'f', 'f', 'i', 'l', 'i', 'a', 't', 'i', 'o', 'n', '\"', '>', '<', 'a', 't', 't', 'r', 'i', 'b', 'u', 't', 'e', 's', '>', '<', 'a', 't', 't', 'r', 'i', 'b', 'u', 't', 'e', ' ', 'k', 'e', 'y', '=', '\"', 'k', 'e', 'y', '\"', '>', 'a', 'f', 'f', '0', '<', '/', 'a', 't', 't', 'r', 'i', 'b', 'u', 't', 'e', '>', '<', 'a', 't', 't', 'r', 'i', 'b', 'u', 't', 'e', ' ', 'k', 'e', 'y', '=', '\"', 'o', 'r', 'g', 'N', 'a', 'm', 'e', '\"', '>', '<', 'a', 't', 't', 'r', 'i', 'b', 'u', 't', 'e', 's', '>', '<', 'a', 't', 't', 'r', 'i', 'b', 'u', 't', 'e', ' ', 'k', 'e', 'y', '=', '\"', 't', 'y', 'p', 'e', '\"', '>', 'd', 'e', 'p', 'a', 'r', 't', 'm', 'e', 'n', 't', '<', '/', 'a', 't', 't', 'r', 'i', 'b', 'u', 't', 'e', '>', '<', '/', 'a', 't', 't', 'r', 'i', 'b', 'u', 't', 'e', 's', '>', 'F', 'a', 'c', 'u', 'l', 't', 'y', ' ', 'R', 'e', 's', 'e', 'a', 'r', 'c', 'h', '<', '/', 'a', 't', 't', 'r', 'i', 'b', 'u', 't', 'e', '>', '<', 'a', 't', 't', 'r', 'i', 'b', 'u', 't', 'e', ' ', 'k', 'e', 'y', '=', '\"', 'o', 'r', 'g', 'N', 'a', 'm', 'e', '\"', '>', '<', 'a', 't', 't', 'r', 'i', 'b', 'u', 't', 'e', 's', '>', '<', 'a', 't', 't', 'r', 'i', 'b', 'u', 't', 'e', ' ', 'k', 'e', 'y', '=', '\"', 't', 'y', 'p', 'e', '\"', '>', 'i', 'n', 's', 't', 'i', 't', 'u', 't', 'i', 'o', 'n', '<', '/', 'a', 't', 't', 'r', 'i', 'b', 'u', 't', 'e', '>', '<', '/', 'a', 't', 't', 'r', 'i', 'b', 'u', 't', 'e', 's', '>', 'U', 'n', 'i', 'v', 'e', 'r', 's', 'i', 't', 'y', ' ', 'o', 'f', ' ', 'P', 'e', 'n', 'n', 's', 'y', 'l', 'v', 'a', 'n', 'i', 'a', ' ', 'S', 'c', 'h', 'o', 'l', 'a', 'r', 'l', 'y', 'C', 'o', 'm', 'm', 'o', 'n', 's', ' ', 'F', 'i', 'n', 'a', 'n', 'c', 'e', ' ', 'P', 'a', 'p', 'e', 'r', 's', ' ', 'W', 'h', 'a', 'r', 't', 'o', 'n', '<', '/', 'a', 't', 't', 'r', 'i', 'b', 'u', 't', 'e', '>', '<', 'a', 't', 't', 'r', 'i', 'b', 'u', 't', 'e', ' ', 'k', 'e', 'y', '=', '\"', 'a', 'd', 'd', 'r', 'e', 's', 's', '\"', '>', '<', 'a', 't', 't', 'r', 'i', 'b', 'u', 't', 'e', 's', '>', '<', 'a', 't', 't', 'r', 'i', 'b', 'u', 't', 'e', ' ', 'k', 'e', 'y', '=', '\"', 'p', 'o', 's', 't', 'C', 'o', 'd', 'e', '\"', '>', '8', '-', '2', '0', '1', '6', '<', '/', 'a', 't', 't', 'r', 'i', 'b', 'u', 't', 'e', '>', '<', '/', 'a', 't', 't', 'r', 'i', 'b', 'u', 't', 'e', 's', '>', '\\n', '<', '/', 'a', 't', 't', 'r', 'i', 'b', 'u', 't', 'e', '>', '<', '/', 'a', 't', 't', 'r', 'i', 'b', 'u', 't', 'e', 's', '>', '\\n', '<', '/', 'a', 't', 't', 'r', 'i', 'b', 'u', 't', 'e', '>', '<', '/', 'a', 't', 't', 'r', 'i', 'b', 'u', 't', 'e', 's', '>', '\\n', '<', '/', 'a', 't', 't', 'r', 'i', 'b', 'u', 't', 'e', '>', '<', 'a', 't', 't', 'r', 'i', 'b', 'u', 't', 'e', ' ', 'k', 'e', 'y', '=', '\"', 'a', 'u', 't', 'h', 'o', 'r', '\"', '>', '<', 'a', 't', 't', 'r', 'i', 'b', 'u', 't', 'e', 's', '>', '<', 'a', 't', 't', 'r', 'i', 'b', 'u', 't', 'e', ' ', 'k', 'e', 'y', '=', '\"', 'p', 'e', 'r', 's', 'N', 'a', 'm', 'e', '\"', '>', '<', 'a', 't', 't', 'r', 'i', 'b', 'u', 't', 'e', 's', '>', '<', 'a', 't', 't', 'r', 'i', 'b', 'u', 't', 'e', ' ', 'k', 'e', 'y', '=', '\"', 'f', 'o', 'r', 'e', 'n', 'a', 'm', 'e', '\"', '>', '<', 'a', 't', 't', 'r', 'i', 'b', 'u', 't', 'e', 's', '>', '<', 'a', 't', 't', 'r', 'i', 'b', 'u', 't', 'e', ' ', 'k', 'e', 'y', '=', '\"', 't', 'y', 'p', 'e', '\"', '>', 'f', 'i', 'r', 's', 't', '<', '/', 'a', 't', 't', 'r', 'i', 'b', 'u', 't', 'e', '>', '<', '/', 'a', 't', 't', 'r', 'i', 'b', 'u', 't', 'e', 's', '>', 'Z', '<', '/', 'a', 't', 't', 'r', 'i', 'b', 'u', 't', 'e', '>', '<', 'a', 't', 't', 'r', 'i', 'b', 'u', 't', 'e', ' ', 'k', 'e', 'y', '=', '\"', 'f', 'o', 'r', 'e', 'n', 'a', 'm', 'e', '\"', '>', '<', 'a', 't', 't', 'r', 'i', 'b', 'u', 't', 'e', 's', '>', '<', 'a', 't', 't', 'r', 'i', 'b', 'u', 't', 'e', ' ', 'k', 'e', 'y', '=', '\"', 't', 'y', 'p', 'e', '\"', '>', 'm', 'i', 'd', 'd', 'l', 'e', '<', '/', 'a', 't', 't', 'r', 'i', 'b', 'u', 't', 'e', '>', '<', '/', 'a', 't', 't', 'r', 'i', 'b', 'u', 't', 'e', 's', '>', 'J', 'o', 'h', 'n', '<', '/', 'a', 't', 't', 'r', 'i', 'b', 'u', 't', 'e', '>', '<', 'a', 't', 't', 'r', 'i', 'b', 'u', 't', 'e', ' ', 'k', 'e', 'y', '=', '\"', 's', 'u', 'r', 'n', 'a', 'm', 'e', '\"', '>', 'Z', 'h', 'a', 'n', 'g', '<', '/', 'a', 't', 't', 'r', 'i', 'b', 'u', 't', 'e', '>', '<', '/', 'a', 't', 't', 'r', 'i', 'b', 'u', 't', 'e', 's', '>', '<', '/', 'a', 't', 't', 'r', 'i', 'b', 'u', 't', 'e', '>', '<', 'a', 't', 't', 'r', 'i', 'b', 'u', 't', 'e', ' ', 'k', 'e', 'y', '=', '\"', 'a', 'f', 'f', 'i', 'l', 'i', 'a', 't', 'i', 'o', 'n', '\"', '>', '<', 'a', 't', 't', 'r', 'i', 'b', 'u', 't', 'e', 's', '>', '<', 'a', 't', 't', 'r', 'i', 'b', 'u', 't', 'e', ' ', 'k', 'e', 'y', '=', '\"', 'k', 'e', 'y', '\"', '>', 'a', 'f', 'f', '0', '<', '/', 'a', 't', 't', 'r', 'i', 'b', 'u', 't', 'e', '>', '<', 'a', 't', 't', 'r', 'i', 'b', 'u', 't', 'e', ' ', 'k', 'e', 'y', '=', '\"', 'o', 'r', 'g', 'N', 'a', 'm', 'e', '\"', '>', '<', 'a', 't', 't', 'r', 'i', 'b', 'u', 't', 'e', 's', '>', '<', 'a', 't', 't', 'r', 'i', 'b', 'u', 't', 'e', ' ', 'k', 'e', 'y', '=', '\"', 't', 'y', 'p', 'e', '\"', '>', 'd', 'e', 'p', 'a', 'r', 't', 'm', 'e', 'n', 't', '<', '/', 'a', 't', 't', 'r', 'i', 'b', 'u', 't', 'e', '>', '<', '/', 'a', 't', 't', 'r', 'i', 'b', 'u', 't', 'e', 's', '>', 'F', 'a', 'c', 'u', 'l', 't', 'y', ' ', 'R', 'e', 's', 'e', 'a', 'r', 'c', 'h', '<', '/', 'a', 't', 't', 'r', 'i', 'b', 'u', 't', 'e', '>', '<', 'a', 't', 't', 'r', 'i', 'b', 'u', 't', 'e', ' ', 'k', 'e', 'y', '=', '\"', 'o', 'r', 'g', 'N', 'a', 'm', 'e', '\"', '>', '<', 'a', 't', 't', 'r', 'i', 'b', 'u', 't', 'e', 's', '>', '<', 'a', 't', 't', 'r', 'i', 'b', 'u', 't', 'e', ' ', 'k', 'e', 'y', '=', '\"', 't', 'y', 'p', 'e', '\"', '>', 'i', 'n', 's', 't', 'i', 't', 'u', 't', 'i', 'o', 'n', '<', '/', 'a', 't', 't', 'r', 'i', 'b', 'u', 't', 'e', '>', '<', '/', 'a', 't', 't', 'r', 'i', 'b', 'u', 't', 'e', 's', '>', 'U', 'n', 'i', 'v', 'e', 'r', 's', 'i', 't', 'y', ' ', 'o', 'f', ' ', 'P', 'e', 'n', 'n', 's', 'y', 'l', 'v', 'a', 'n', 'i', 'a', ' ', 'S', 'c', 'h', 'o', 'l', 'a', 'r', 'l', 'y', 'C', 'o', 'm', 'm', 'o', 'n', 's', ' ', 'F', 'i', 'n', 'a', 'n', 'c', 'e', ' ', 'P', 'a', 'p', 'e', 'r', 's', ' ', 'W', 'h', 'a', 'r', 't', 'o', 'n', '<', '/', 'a', 't', 't', 'r', 'i', 'b', 'u', 't', 'e', '>', '<', 'a', 't', 't', 'r', 'i', 'b', 'u', 't', 'e', ' ', 'k', 'e', 'y', '=', '\"', 'a', 'd', 'd', 'r', 'e', 's', 's', '\"', '>', '<', 'a', 't', 't', 'r', 'i', 'b', 'u', 't', 'e', 's', '>', '<', 'a', 't', 't', 'r', 'i', 'b', 'u', 't', 'e', ' ', 'k', 'e', 'y', '=', '\"', 'p', 'o', 's', 't', 'C', 'o', 'd', 'e', '\"', '>', '8', '-', '2', '0', '1', '6', '<', '/', 'a', 't', 't', 'r', 'i', 'b', 'u', 't', 'e', '>', '<', '/', 'a', 't', 't', 'r', 'i', 'b', 'u', 't', 'e', 's', '>', '\\n', '<', '/', 'a', 't', 't', 'r', 'i', 'b', 'u', 't', 'e', '>', '<', '/', 'a', 't', 't', 'r', 'i', 'b', 'u', 't', 'e', 's', '>', '\\n', '<', '/', 'a', 't', 't', 'r', 'i', 'b', 'u', 't', 'e', '>', '<', '/', 'a', 't', 't', 'r', 'i', 'b', 'u', 't', 'e', 's', '>', '\\n', '<', '/', 'a', 't', 't', 'r', 'i', 'b', 'u', 't', 'e', '>', '<', 'a', 't', 't', 'r', 'i', 'b', 'u', 't', 'e', ' ', 'k', 'e', 'y', '=', '\"', 't', 'i', 't', 'l', 'e', '\"', '>', '<', 'a', 't', 't', 'r', 'i', 'b', 'u', 't', 'e', 's', '>', '<', 'a', 't', 't', 'r', 'i', 'b', 'u', 't', 'e', ' ', 'k', 'e', 'y', '=', '\"', 'l', 'e', 'v', 'e', 'l', '\"', '>', 'a', '<', '/', 'a', 't', 't', 'r', 'i', 'b', 'u', 't', 'e', '>', '<', 'a', 't', 't', 'r', 'i', 'b', 'u', 't', 'e', ' ', 'k', 'e', 'y', '=', '\"', 't', 'y', 'p', 'e', '\"', '>', 'm', 'a', 'i', 'n', '<', '/', 'a', 't', 't', 'r', 'i', 'b', 'u', 't', 'e', '>', '<', '/', 'a', 't', 't', 'r', 'i', 'b', 'u', 't', 'e', 's', '>', 'A', 'g', 'e', 'n', 'c', 'y', ' ', 'S', 'e', 'l', 'l', 'i', 'n', 'g', ' ', 'o', 'r', ' ', 'R', 'e', 's', 'e', 'l', 'l', 'i', 'n', 'g', '?', ' ', 'C', 'h', 'a', 'n', 'n', 'e', 'l', ' ', 'S', 't', 'r', 'u', 'c', 't', 'u', 'r', 'e', 's', ' ', 'i', 'n', ' ', 'E', 'l', 'e', 'c', 't', 'r', 'o', 'n', 'i', 'c', ' ', 'R', 'e', 't', 'a', 'i', 'l', 'i', 'n', 'g', '<', '/', 'a', 't', 't', 'r', 'i', 'b', 'u', 't', 'e', '>', '<', '/', 'a', 't', 't', 'r', 'i', 'b', 'u', 't', 'e', 's', '>', '\\n', '<', '/', 'a', 't', 't', 'r', 'i', 'b', 'u', 't', 'e', '>', '<', 'a', 't', 't', 'r', 'i', 'b', 'u', 't', 'e', ' ', 'k', 'e', 'y', '=', '\"', 'm', 'o', 'n', 'o', 'g', 'r', '\"', '>', '<', 'a', 't', 't', 'r', 'i', 'b', 'u', 't', 'e', 's', '>', '<', 'a', 't', 't', 'r', 'i', 'b', 'u', 't', 'e', ' ', 'k', 'e', 'y', '=', '\"', 'i', 'm', 'p', 'r', 'i', 'n', 't', '\"', '>', '\\n', '<', 'p', 'a', 'r', 't', ' ', 't', 'e', 'i', '-', 't', 'a', 'g', '=', '\"', 'd', 'a', 't', 'e', '\"', '/', '>', '<', '/', 'a', 't', 't', 'r', 'i', 'b', 'u', 't', 'e', '>', '<', '/', 'a', 't', 't', 'r', 'i', 'b', 'u', 't', 'e', 's', '>', '\\n', '<', '/', 'a', 't', 't', 'r', 'i', 'b', 'u', 't', 'e', '>', '<', 'a', 't', 't', 'r', 'i', 'b', 'u', 't', 'e', ' ', 'k', 'e', 'y', '=', '\"', 'i', 'd', 'n', 'o', '\"', '>', '<', 'a', 't', 't', 'r', 'i', 'b', 'u', 't', 'e', 's', '>', '<', 'a', 't', 't', 'r', 'i', 'b', 'u', 't', 'e', ' ', 'k', 'e', 'y', '=', '\"', 't', 'y', 'p', 'e', '\"', '>', 'D', 'O', 'I', '<', '/', 'a', 't', 't', 'r', 'i', 'b', 'u', 't', 'e', '>', '<', '/', 'a', 't', 't', 'r', 'i', 'b', 'u', 't', 'e', 's', '>', '1', '0', '.', '1', '2', '8', '7', '/', 'm', 'n', 's', 'c', '.', '2', '0', '1', '5', '.', '2', '2', '3', '0', '<', '/', 'a', 't', 't', 'r', 'i', 'b', 'u', 't', 'e', '>', '<', '/', 'a', 't', 't', 'r', 'i', 'b', 'u', 't', 'e', 's', '>', '\\n', '<', '/', 'a', 't', 't', 'r', 'i', 'b', 'u', 't', 'e', '>', '<', '/', 'a', 't', 't', 'r', 'i', 'b', 'u', 't', 'e', 's', '>', '\\n', '<', '/', 'a', 't', 't', 'r', 'i', 'b', 'u', 't', 'e', '>', '<', '/', 'a', 't', 't', 'r', 'i', 'b', 'u', 't', 'e', 's', '>', '\\n', '<', 'a', 't', 't', 'r', 'i', 'b', 'u', 't', 'e', 's', ' ', 'k', 'e', 'y', '=', '\"', 'e', 'n', 'c', 'o', 'd', 'i', 'n', 'g', 'D', 'e', 's', 'c', '\"', '>', '<', 'a', 't', 't', 'r', 'i', 'b', 'u', 't', 'e', ' ', 'k', 'e', 'y', '=', '\"', 'a', 'p', 'p', 'I', 'n', 'f', 'o', '\"', '>', '<', 'a', 't', 't', 'r', 'i', 'b', 'u', 't', 'e', 's', '>', '<', 'a', 't', 't', 'r', 'i', 'b', 'u', 't', 'e', ' ', 'k', 'e', 'y', '=', '\"', 'a', 'p', 'p', 'l', 'i', 'c', 'a', 't', 'i', 'o', 'n', '\"', '>', '<', 'a', 't', 't', 'r', 'i', 'b', 'u', 't', 'e', 's', '>', '<', 'a', 't', 't', 'r', 'i', 'b', 'u', 't', 'e', ' ', 'k', 'e', 'y', '=', '\"', 'i', 'd', 'e', 'n', 't', '\"', '>', 'G', 'R', 'O', 'B', 'I', 'D', '<', '/', 'a', 't', 't', 'r', 'i', 'b', 'u', 't', 'e', '>', '<', 'a', 't', 't', 'r', 'i', 'b', 'u', 't', 'e', ' ', 'k', 'e', 'y', '=', '\"', 'v', 'e', 'r', 's', 'i', 'o', 'n', '\"', '>', '0', '.', '6', '.', '1', '<', '/', 'a', 't', 't', 'r', 'i', 'b', 'u', 't', 'e', '>', '<', 'a', 't', 't', 'r', 'i', 'b', 'u', 't', 'e', ' ', 'k', 'e', 'y', '=', '\"', 'w', 'h', 'e', 'n', '\"', '>', '2', '0', '2', '1', '-', '0', '2', '-', '0', '2', 'T', '0', '8', ':', '3', '5', '+', '0', '0', '0', '0', '<', '/', 'a', 't', 't', 'r', 'i', 'b', 'u', 't', 'e', '>', '<', 'a', 't', 't', 'r', 'i', 'b', 'u', 't', 'e', ' ', 'k', 'e', 'y', '=', '\"', 'd', 'e', 's', 'c', '\"', '>', 'G', 'R', 'O', 'B', 'I', 'D', ' ', '-', ' ', 'A', ' ', 'm', 'a', 'c', 'h', 'i', 'n', 'e', ' ', 'l', 'e', 'a', 'r', 'n', 'i', 'n', 'g', ' ', 's', 'o', 'f', 't', 'w', 'a', 'r', 'e', ' ', 'f', 'o', 'r', ' ', 'e', 'x', 't', 'r', 'a', 'c', 't', 'i', 'n', 'g', ' ', 'i', 'n', 'f', 'o', 'r', 'm', 'a', 't', 'i', 'o', 'n', ' ', 'f', 'r', 'o', 'm', ' ', 's', 'c', 'h', 'o', 'l', 'a', 'r', 'l', 'y', ' ', 'd', 'o', 'c', 'u', 'm', 'e', 'n', 't', 's', '<', '/', 'a', 't', 't', 'r', 'i', 'b', 'u', 't', 'e', '>', '<', 'a', 't', 't', 'r', 'i', 'b', 'u', 't', 'e', ' ', 'k', 'e', 'y', '=', '\"', 'r', 'e', 'f', '\"', '>', '<', 'a', 't', 't', 'r', 'i', 'b', 'u', 't', 'e', 's', '>', '<', 'a', 't', 't', 'r', 'i', 'b', 'u', 't', 'e', ' ', 'k', 'e', 'y', '=', '\"', 't', 'a', 'r', 'g', 'e', 't', '\"', '>', 'h', 't', 't', 'p', 's', ':', '/', '/', 'g', 'i', 't', 'h', 'u', 'b', '.', 'c', 'o', 'm', '/', 'k', 'e', 'r', 'm', 'i', 't', 't', '2', '/', 'g', 'r', 'o', 'b', 'i', 'd', '<', '/', 'a', 't', 't', 'r', 'i', 'b', 'u', 't', 'e', '>', '<', '/', 'a', 't', 't', 'r', 'i', 'b', 'u', 't', 'e', 's', '>', '<', '/', 'a', 't', 't', 'r', 'i', 'b', 'u', 't', 'e', '>', '<', '/', 'a', 't', 't', 'r', 'i', 'b', 'u', 't', 'e', 's', '>', '\\n', '<', '/', 'a', 't', 't', 'r', 'i', 'b', 'u', 't', 'e', '>', '<', '/', 'a', 't', 't', 'r', 'i', 'b', 'u', 't', 'e', 's', '>', '\\n', '<', '/', 'a', 't', 't', 'r', 'i', 'b', 'u', 't', 'e', '>', '<', '/', 'a', 't', 't', 'r', 'i', 'b', 'u', 't', 'e', 's', '>', '\\n', '<', 'a', 't', 't', 'r', 'i', 'b', 'u', 't', 'e', 's', ' ', 'k', 'e', 'y', '=', '\"', 'p', 'r', 'o', 'f', 'i', 'l', 'e', 'D', 'e', 's', 'c', '\"', '>', '<', 'a', 't', 't', 'r', 'i', 'b', 'u', 't', 'e', ' ', 'k', 'e', 'y', '=', '\"', 't', 'e', 'x', 't', 'C', 'l', 'a', 's', 's', '\"', '>', '<', 'a', 't', 't', 'r', 'i', 'b', 'u', 't', 'e', 's', '>', '<', 'a', 't', 't', 'r', 'i', 'b', 'u', 't', 'e', ' ', 'k', 'e', 'y', '=', '\"', 'k', 'e', 'y', 'w', 'o', 'r', 'd', 's', '\"', '>', '<', 'a', 't', 't', 'r', 'i', 'b', 'u', 't', 'e', 's', '>', '<', 'a', 't', 't', 'r', 'i', 'b', 'u', 't', 'e', ' ', 'k', 'e', 'y', '=', '\"', 't', 'e', 'r', 'm', '\"', '>', 'm', 'u', 'l', 't', 'i', 'c', 'h', 'a', 'n', 'n', 'e', 'l', ' ', 'r', 'e', 't', 'a', 'i', 'l', 'i', 'n', 'g', '<', '/', 'a', 't', 't', 'r', 'i', 'b', 'u', 't', 'e', '>', '<', 'a', 't', 't', 'r', 'i', 'b', 'u', 't', 'e', ' ', 'k', 'e', 'y', '=', '\"', 't', 'e', 'r', 'm', '\"', '>', 'e', 'l', 'e', 'c', 't', 'r', 'o', 'n', 'i', 'c', ' ', 'c', 'o', 'm', 'm', 'e', 'r', 'c', 'e', '<', '/', 'a', 't', 't', 'r', 'i', 'b', 'u', 't', 'e', '>', '<', 'a', 't', 't', 'r', 'i', 'b', 'u', 't', 'e', ' ', 'k', 'e', 'y', '=', '\"', 't', 'e', 'r', 'm', '\"', '>', 'd', 'i', 's', 't', 'r', 'i', 'b', 'u', 't', 'i', 'o', 'n', ' ', 'c', 'h', 'a', 'n', 'n', 'e', 'l', '<', '/', 'a', 't', 't', 'r', 'i', 'b', 'u', 't', 'e', '>', '<', 'a', 't', 't', 'r', 'i', 'b', 'u', 't', 'e', ' ', 'k', 'e', 'y', '=', '\"', 't', 'e', 'r', 'm', '\"', '>', 'c', 'r', 'o', 's', 's', '-', 'c', 'h', 'a', 'n', 'n', 'e', 'l', ' ', 's', 'p', 'i', 'l', 'l', 'o', 'v', 'e', 'r', 's', '<', '/', 'a', 't', 't', 'r', 'i', 'b', 'u', 't', 'e', '>', '<', 'a', 't', 't', 'r', 'i', 'b', 'u', 't', 'e', ' ', 'k', 'e', 'y', '=', '\"', 't', 'e', 'r', 'm', '\"', '>', 'p', 'l', 'a', 't', 'f', 'o', 'r', 'm', ' ', 'r', 'e', 't', 'a', 'i', 'l', 'i', 'n', 'g', ';', ' ', 'r', 'e', 't', 'a', 'i', 'l', ' ', 'c', 'o', 'm', 'p', 'e', 't', 'i', 't', 'i', 'o', 'n', '<', '/', 'a', 't', 't', 'r', 'i', 'b', 'u', 't', 'e', '>', '<', 'a', 't', 't', 'r', 'i', 'b', 'u', 't', 'e', ' ', 'k', 'e', 'y', '=', '\"', 't', 'e', 'r', 'm', '\"', '>', 'g', 'a', 'm', 'e', ' ', 't', 'h', 'e', 'o', 'r', 'y', ' ', 'D', 'i', 's', 'c', 'i', 'p', 'l', 'i', 'n', 'e', 's', '<', '/', 'a', 't', 't', 'r', 'i', 'b', 'u', 't', 'e', '>', '<', '/', 'a', 't', 't', 'r', 'i', 'b', 'u', 't', 'e', 's', '>', '\\n', '<', '/', 'a', 't', 't', 'r', 'i', 'b', 'u', 't', 'e', '>', '<', '/', 'a', 't', 't', 'r', 'i', 'b', 'u', 't', 'e', 's', '>', '\\n', '<', '/', 'a', 't', 't', 'r', 'i', 'b', 'u', 't', 'e', '>', '<', 'a', 't', 't', 'r', 'i', 'b', 'u', 't', 'e', ' ', 'k', 'e', 'y', '=', '\"', 'a', 'b', 's', 't', 'r', 'a', 'c', 't', '\"', '>', '\\n', '<', 'd', 'i', 'v', ' ', 't', 'e', 'i', '-', 't', 'a', 'g', '=', '\"', 'p', '\"', '>', 'I', 'n', ' ', 'r', 'e', 'c', 'e', 'n', 't', ' ', 'y', 'e', 'a', 'r', 's', ',', ' ', 'o', 'n', 'l', 'i', 'n', 'e', ' ', 'r', 'e', 't', 'a', 'i', 'l', 'e', 'r', 's', ' ', '(', 'a', 'l', 's', 'o', ' ', 'c', 'a', 'l', 'l', 'e', 'd', ' ', 'e', '-', 't', 'a', 'i', 'l', 'e', 'r', 's', ')', ' ', 'h', 'a', 'v', 'e', ' ', 's', 't', 'a', 'r', 't', 'e', 'd', ' ', 'a', 'l', 'l', 'o', 'w', 'i', 'n', 'g', ' ', 'm', 'a', 'n', 'u', 'f', 'a', 'c', 't', 'u', 'r', 'e', 'r', 's', ' ', 'd', 'i', 'r', 'e', 'c', 't', ' ', 'a', 'c', 'c', 'e', 's', 's', ' ', 't', 'o', ' ', 't', 'h', 'e', 'i', 'r', ' ', 'c', 'u', 's', 't', 'o', 'm', 'e', 'r', 's', ' ', 'w', 'h', 'i', 'l', 'e', ' ', 'c', 'h', 'a', 'r', 'g', 'i', 'n', 'g', ' ', 'a', ' ', 'f', 'e', 'e', ' ', 'f', 'o', 'r', ' ', 'p', 'r', 'o', 'v', 'i', 'd', 'i', 'n', 'g', ' ', 't', 'h', 'i', 's', ' ', 'a', 'c', 'c', 'e', 's', 's', ',', ' ', 'a', ' ', 'f', 'o', 'r', 'm', 'a', 't', ' ', 'c', 'o', 'm', 'm', 'o', 'n', 'l', 'y', ' ', 'r', 'e', 'f', 'e', 'r', 'r', 'e', 'd', ' ', 't', 'o', ' ', 'a', 's', ' ', 'a', 'g', 'e', 'n', 'c', 'y', ' ', 's', 'e', 'l', 'l', 'i', 'n', 'g', '.', ' ', 'I', 'n', ' ', 't', 'h', 'i', 's', ' ', 'p', 'a', 'p', 'e', 'r', ',', ' ', 'w', 'e', ' ', 'u', 's', 'e', ' ', 'a', ' ', 's', 't', 'y', 'l', 'i', 'z', 'e', 'd', ' ', 't', 'h', 'e', 'o', 'r', 'e', 't', 'i', 'c', 'a', 'l', ' ', 'm', 'o', 'd', 'e', 'l', ' ', 't', 'o', ' ', 'a', 'n', 's', 'w', 'e', 'r', ' ', 'a', ' ', 'k', 'e', 'y', ' ', 'q', 'u', 'e', 's', 't', 'i', 'o', 'n', ' ', 't', 'h', 'a', 't', ' ', 'e', '-', 't', 'a', 'i', 'l', 'e', 'r', 's', ' ', 'a', 'r', 'e', ' ', 'f', 'a', 'c', 'i', 'n', 'g', ':', ' ', 'W', 'h', 'e', 'n', ' ', 's', 'h', 'o', 'u', 'l', 'd', ' ', 't', 'h', 'e', 'y', ' ', 'u', 's', 'e', ' ', 'a', 'n', ' ', 'a', 'g', 'e', 'n', 'c', 'y', ' ', 's', 'e', 'l', 'l', 'i', 'n', 'g', ' ', 'f', 'o', 'r', 'm', 'a', 't', ' ', 'i', 'n', 's', 't', 'e', 'a', 'd', ' ', 'o', 'f', ' ', 'u', 's', 'i', 'n', 'g', ' ', 't', 'h', 'e', ' ', 'm', 'o', 'r', 'e', ' ', 'c', 'o', 'n', 'v', 'e', 'n', 't', 'i', 'o', 'n', 'a', 'l', ' ', 'r', 'e', 's', 'e', 'l', 'l', 'i', 'n', 'g', ' ', 'f', 'o', 'r', 'm', 'a', 't', '?', ' ', 'W', 'e', ' ', 'f', 'i', 'n', 'd', ' ', 't', 'h', 'a', 't', ' ', 'a', 'g', 'e', 'n', 'c', 'y', ' ', 's', 'e', 'l', 'l', 'i', 'n', 'g', ' ', 'i', 's', ' ', 'm', 'o', 'r', 'e', ' ', 'e', 'f', 'f', 'i', 'c', 'i', 'e', 'n', 't', ' ', 't', 'h', 'a', 'n', ' ', 'r', 'e', 's', 'e', 'l', 'l', 'i', 'n', 'g', ' ', 'a', 'n', 'd', ' ', 'l', 'e', 'a', 'd', 's', ' ', 't', 'o', ' ', 'l', 'o', 'w', 'e', 'r', ' ', 'r', 'e', 't', 'a', 'i', 'l', ' ', 'p', 'r', 'i', 'c', 'e', 's', ';', ' ', 'h', 'o', 'w', 'e', 'v', 'e', 'r', ',', ' ', 't', 'h', 'e', ' ', 'e', '-', 't', 'a', 'i', 'l', 'e', 'r', 's', ' ', 'e', 'n', 'd', ' ', 'u', 'p', ' ', 'g', 'i', 'v', 'i', 'n', 'g', ' ', 'c', 'o', 'n', 't', 'r', 'o', 'l', ' ', 'o', 'v', 'e', 'r', ' ', 'r', 'e', 't', 'a', 'i', 'l', ' ', 'p', 'r', 'i', 'c', 'e', 's', ' ', 't', 'o', ' ', 't', 'h', 'e', ' ', 'm', 'a', 'n', 'u', 'f', 'a', 'c', 't', 'u', 'r', 'e', 'r', '.', ' ', 'T', 'h', 'e', 'r', 'e', 'f', 'o', 'r', 'e', ',', ' ', 't', 'h', 'e', ' ', 'r', 'e', 'a', 'c', 't', 'i', 'o', 'n', ' ', 'b', 'y', ' ', 't', 'h', 'e', ' ', 'm', 'a', 'n', 'u', 'f', 'a', 'c', 't', 'u', 'r', 'e', 'r', ',', ' ', 'w', 'h', 'o', ' ', 'm', 'a', 'k', 'e', 's', ' ', 'e', 'l', 'e', 'c', 't', 'r', 'o', 'n', 'i', 'c', ' ', 'c', 'h', 'a', 'n', 'n', 'e', 'l', ' ', 'p', 'r', 'i', 'c', 'i', 'n', 'g', ' ', 'd', 'e', 'c', 'i', 's', 'i', 'o', 'n', 's', ' ', 'b', 'a', 's', 'e', 'd', ' ', 'o', 'n', ' ', 't', 'h', 'e', 'i', 'r', ' ', 'i', 'm', 'p', 'a', 'c', 't', ' ', 'o', 'n', ' ', 'd', 'e', 'm', 'a', 'n', 'd', ' ', 'i', 'n', ' ', 't', 'h', 'e', ' ', 't', 'r', 'a', 'd', 'i', 't', 'i', 'o', 'n', 'a', 'l', ' ', 'c', 'h', 'a', 'n', 'n', 'e', 'l', ' ', '(', 'b', 'r', 'i', 'c', 'k', '-', 'a', 'n', 'd', 'm', 'o', 'r', 't', 'a', 'r', ' ', 'r', 'e', 't', 'a', 'i', 'l', 'i', 'n', 'g', ')', ',', ' ', 'i', 's', ' ', 'a', 'n', ' ', 'i', 'm', 'p', 'o', 'r', 't', 'a', 'n', 't', ' ', 'f', 'a', 'c', 't', 'o', 'r', ' ', 'f', 'o', 'r', ' ', 'e', '-', 't', 'a', 'i', 'l', 'e', 'r', 's', ' ', 't', 'o', ' ', 'c', 'o', 'n', 's', 'i', 'd', 'e', 'r', '.', ' ', 'W', 'e', ' ', 'f', 'i', 'n', 'd', ' ', 't', 'h', 'a', 't', ' ', 'w', 'h', 'e', 'n', ' ', 's', 'a', 'l', 'e', 's', ' ', 'i', 'n', ' ', 't', 'h', 'e', ' ', 'e', 'l', 'e', 'c', 't', 'r', 'o', 'n', 'i', 'c', ' ', 'c', 'h', 'a', 'n', 'n', 'e', 'l', ' ', 'l', 'e', 'a', 'd', ' ', 't', 'o', ' ', 'a', ' ', 'n', 'e', 'g', 'a', 't', 'i', 'v', 'e', ' ', 'e', 'f', 'f', 'e', 'c', 't', ' ', 'o', 'n', ' ', 'd', 'e', 'm', 'a', 'n', 'd', ' ', 'i', 'n', ' ', 't', 'h', 'e', ' ', 't', 'r', 'a', 'd', 'i', 't', 'i', 'o', 'n', 'a', 'l', ' ', 'c', 'h', 'a', 'n', 'n', 'e', 'l', ',', ' ', 'e', '-', 't', 'a', 'i', 'l', 'e', 'r', 's', ' ', 'p', 'r', 'e', 'f', 'e', 'r', ' ', 'a', 'g', 'e', 'n', 'c', 'y', ' ', 's', 'e', 'l', 'l', 'i', 'n', 'g', ',', ' ', 'w', 'h', 'e', 'r', 'e', 'a', 's', ' ', 'w', 'h', 'e', 'n', ' ', 's', 'a', 'l', 'e', 's', ' ', 'i', 'n', ' ', 't', 'h', 'e', ' ', 'e', 'l', 'e', 'c', 't', 'r', 'o', 'n', 'i', 'c', ' ', 'c', 'h', 'a', 'n', 'n', 'e', 'l', ' ', 'l', 'e', 'a', 'd', ' ', 't', 'o', ' ', 's', 'u', 'b', 's', 't', 'a', 'n', 't', 'i', 'a', 'l', ' ', 's', 't', 'i', 'm', 'u', 'l', 'a', 't', 'i', 'o', 'n', ' ', 'o', 'f', ' ', 'd', 'e', 'm', 'a', 'n', 'd', ' ', 'i', 'n', ' ', 't', 'h', 'e', ' ', 't', 'r', 'a', 'd', 'i', 't', 'i', 'o', 'n', 'a', 'l', ' ', 'c', 'h', 'a', 'n', 'n', 'e', 'l', ',', ' ', 'e', 't', 'a', 'i', 'l', 'e', 'r', 's', ' ', 'p', 'r', 'e', 'f', 'e', 'r', ' ', 'r', 'e', 's', 'e', 'l', 'l', 'i', 'n', 'g', '.', ' ', 'T', 'h', 'i', 's', ' ', 'p', 'r', 'e', 'f', 'e', 'r', 'e', 'n', 'c', 'e', ' ', 'i', 's', ' ', 'm', 'e', 'd', 'i', 'a', 't', 'e', 'd', ' ', 'b', 'y', ' ', 'c', 'o', 'm', 'p', 'e', 't', 'i', 't', 'i', 'o', 'n', ' ', 'b', 'e', 't', 'w', 'e', 'e', 'n', ' ', 'e', '-', 't', 'a', 'i', 'l', 'e', 'r', 's', '-', 'a', 's', ' ', 'c', 'o', 'm', 'p', 'e', 't', 'i', 't', 'i', 'o', 'n', ' ', 'b', 'e', 't', 'w', 'e', 'e', 'n', ' ', 't', 'h', 'e', 'm', ' ', 'i', 'n', 'c', 'r', 'e', 'a', 's', 'e', 's', ',', ' ', 'e', '-', 't', 'a', 'i', 'l', 'e', 'r', 's', ' ', 'p', 'r', 'e', 'f', 'e', 'r', ' ', 't', 'o', ' ', 'u', 's', 'e', ' ', 'a', 'g', 'e', 'n', 'c', 'y', ' ', 's', 'e', 'l', 'l', 'i', 'n', 'g', '.', ' ', 'W', 'e', ' ', 'a', 'l', 's', 'o', ' ', 'f', 'i', 'n', 'd', ' ', 't', 'h', 'a', 't', ' ', 'w', 'h', 'e', 'n', ' ', 'e', '-', 't', 'a', 'i', 'l', 'e', 'r', 's', ' ', 'b', 'e', 'n', 'e', 'f', 'i', 't', ' ', 'f', 'r', 'o', 'm', ' ', 'p', 'o', 's', 'i', 't', 'i', 'v', 'e', ' ', 'e', 'x', 't', 'e', 'r', 'n', 'a', 'l', 'i', 't', 'i', 'e', 's', ' ', 'f', 'r', 'o', 'm', ' ', 't', 'h', 'e', ' ', 's', 'a', 'l', 'e', 's', ' ', 'o', 'f', ' ', 't', 'h', 'e', ' ', 'f', 'o', 'c', 'a', 'l', ' ', 'p', 'r', 'o', 'd', 'u', 'c', 't', ' ', '(', 's', 'u', 'c', 'h', ' ', 'a', 's', ' ', 'a', 'd', 'd', 'i', 't', 'i', 'o', 'n', 'a', 'l', ' ', 'p', 'r', 'o', 'f', 'i', 't', 's', ' ', 'f', 'r', 'o', 'm', ' ', 's', 'a', 'l', 'e', 's', ' ', 'o', 'f', ' ', 'a', 's', 's', 'o', 'c', 'i', 'a', 't', 'e', 'd', ' ', 'p', 'r', 'o', 'd', 'u', 'c', 't', 's', ')', ',', ' ', 'r', 'e', 't', 'a', 'i', 'l', ' ', 'p', 'r', 'i', 'c', 'e', 's', ' ', 'm', 'a', 'y', ' ', 'b', 'e', ' ', 'l', 'o', 'w', 'e', 'r', ' ', 'u', 'n', 'd', 'e', 'r', ' ', 'r', 'e', 's', 'e', 'l', 'l', 'i', 'n', 'g', ' ', 't', 'h', 'a', 'n', ' ', 'u', 'n', 'd', 'e', 'r', ' ', 'a', 'g', 'e', 'n', 'c', 'y', ' ', 's', 'e', 'l', 'l', 'i', 'n', 'g', ',', ' ', 'a', 'n', 'd', ' ', 't', 'h', 'e', ' ', 'e', '-', 't', 'a', 'i', 'l', 'e', 'r', 's', ' ', 'p', 'r', 'e', 'f', 'e', 'r', ' ', 'r', 'e', 's', 'e', 'l', 'l', 'i', 'n', 'g', ' ', 'u', 'n', 'd', 'e', 'r', ' ', 's', 'o', 'm', 'e', ' ', 'c', 'o', 'n', 'd', 'i', 't', 'i', 'o', 'n', 's', ' ', 'f', 'o', 'r', ' ', 'w', 'h', 'i', 'c', 'h', ' ', 't', 'h', 'e', 'y', ' ', 'w', 'o', 'u', 'l', 'd', ' ', 'p', 'r', 'e', 'f', 'e', 'r', ' ', 'a', 'g', 'e', 'n', 'c', 'y', ' ', 's', 'e', 'l', 'l', 'i', 'n', 'g', ' ', 'w', 'i', 't', 'h', 'o', 'u', 't', ' ', 't', 'h', 'e', ' ', 'p', 'o', 's', 'i', 't', 'i', 'v', 'e', ' ', 'e', 'x', 't', 'e', 'r', 'n', 'a', 'l', 'i', 't', 'i', 'e', 's', '.', '<', '/', 'd', 'i', 'v', '>', '<', '/', 'a', 't', 't', 'r', 'i', 'b', 'u', 't', 'e', '>', '<', '/', 'a', 't', 't', 'r', 'i', 'b', 'u', 't', 'e', 's', '>', '\\n', '<', 'd', 'i', 'v', ' ', 't', 'e', 'i', '-', 't', 'a', 'g', '=', '\"', 't', 'e', 'x', 't', '\"', '>', '<', 'a', 't', 't', 'r', 'i', 'b', 'u', 't', 'e', 's', '>', '<', 'a', 't', 't', 'r', 'i', 'b', 'u', 't', 'e', ' ', 'k', 'e', 'y', '=', '\"', 'x', 'm', 'l', ':', 'l', 'a', 'n', 'g', '\"', '>', 'e', 'n', '<', '/', 'a', 't', 't', 'r', 'i', 'b', 'u', 't', 'e', '>', '<', '/', 'a', 't', 't', 'r', 'i', 'b', 'u', 't', 'e', 's', '>', '\\n', '<', '/', 'd', 'i', 'v', '>', '<', '/', 'd', 'o', 'c', 'u', 'm', 'e', 'n', 't', '>', '<', '/', 'c', 'o', 'r', 'p', 'u', 's', '>']\n"
     ]
    }
   ],
   "source": [
    "for attr in dir(corpora):\n",
    "    if not attr.startswith('__'):\n",
    "        print(f\"attr:{attr}\")\n",
    "        try:\n",
    "            print(list(getattr(corpora,attr)))\n",
    "        except:\n",
    "            pass"
   ]
  },
  {
   "cell_type": "code",
   "execution_count": 18,
   "id": "great-tokyo",
   "metadata": {},
   "outputs": [
    {
     "data": {
      "text/plain": [
       "['__bool__',\n",
       " '__class__',\n",
       " '__contains__',\n",
       " '__copy__',\n",
       " '__deepcopy__',\n",
       " '__delattr__',\n",
       " '__delitem__',\n",
       " '__dir__',\n",
       " '__doc__',\n",
       " '__eq__',\n",
       " '__format__',\n",
       " '__ge__',\n",
       " '__getattribute__',\n",
       " '__getitem__',\n",
       " '__gt__',\n",
       " '__hash__',\n",
       " '__init__',\n",
       " '__init_subclass__',\n",
       " '__iter__',\n",
       " '__le__',\n",
       " '__len__',\n",
       " '__lt__',\n",
       " '__ne__',\n",
       " '__new__',\n",
       " '__reduce__',\n",
       " '__reduce_ex__',\n",
       " '__repr__',\n",
       " '__reversed__',\n",
       " '__setattr__',\n",
       " '__setitem__',\n",
       " '__sizeof__',\n",
       " '__str__',\n",
       " '__subclasshook__',\n",
       " '_init',\n",
       " 'addnext',\n",
       " 'addprevious',\n",
       " 'append',\n",
       " 'attrib',\n",
       " 'base',\n",
       " 'clear',\n",
       " 'cssselect',\n",
       " 'extend',\n",
       " 'find',\n",
       " 'findall',\n",
       " 'findtext',\n",
       " 'get',\n",
       " 'getchildren',\n",
       " 'getiterator',\n",
       " 'getnext',\n",
       " 'getparent',\n",
       " 'getprevious',\n",
       " 'getroottree',\n",
       " 'index',\n",
       " 'insert',\n",
       " 'items',\n",
       " 'iter',\n",
       " 'iterancestors',\n",
       " 'iterchildren',\n",
       " 'iterdescendants',\n",
       " 'iterfind',\n",
       " 'itersiblings',\n",
       " 'itertext',\n",
       " 'keys',\n",
       " 'makeelement',\n",
       " 'nsmap',\n",
       " 'prefix',\n",
       " 'remove',\n",
       " 'replace',\n",
       " 'set',\n",
       " 'sourceline',\n",
       " 'tag',\n",
       " 'tail',\n",
       " 'text',\n",
       " 'values',\n",
       " 'xpath']"
      ]
     },
     "execution_count": 18,
     "metadata": {},
     "output_type": "execute_result"
    }
   ],
   "source": [
    "dir(corpora.node)"
   ]
  },
  {
   "cell_type": "code",
   "execution_count": 19,
   "id": "needed-gauge",
   "metadata": {},
   "outputs": [
    {
     "data": {
      "text/plain": [
       "[<Element document at 0x7fa7026c3d70>]"
      ]
     },
     "execution_count": 19,
     "metadata": {},
     "output_type": "execute_result"
    }
   ],
   "source": [
    "corpora.node.getchildren()"
   ]
  },
  {
   "cell_type": "code",
   "execution_count": 24,
   "id": "still-cursor",
   "metadata": {},
   "outputs": [],
   "source": [
    "doc=next(iter(corpora.documents))"
   ]
  },
  {
   "cell_type": "code",
   "execution_count": 25,
   "id": "convinced-speed",
   "metadata": {},
   "outputs": [
    {
     "data": {
      "text/plain": [
       "['_Element__parts_and_divisions',\n",
       " '__class__',\n",
       " '__delattr__',\n",
       " '__dict__',\n",
       " '__dir__',\n",
       " '__doc__',\n",
       " '__eq__',\n",
       " '__format__',\n",
       " '__ge__',\n",
       " '__getattribute__',\n",
       " '__gt__',\n",
       " '__hash__',\n",
       " '__init__',\n",
       " '__init_subclass__',\n",
       " '__iter_attributes__',\n",
       " '__le__',\n",
       " '__lt__',\n",
       " '__module__',\n",
       " '__ne__',\n",
       " '__new__',\n",
       " '__reduce__',\n",
       " '__reduce_ex__',\n",
       " '__repr__',\n",
       " '__setattr__',\n",
       " '__sizeof__',\n",
       " '__str__',\n",
       " '__subclasshook__',\n",
       " '__weakref__',\n",
       " 'all_parts',\n",
       " 'attributes',\n",
       " 'corpus',\n",
       " 'divisions',\n",
       " 'node',\n",
       " 'parts',\n",
       " 'tag',\n",
       " 'text',\n",
       " 'tostring',\n",
       " 'xml']"
      ]
     },
     "execution_count": 25,
     "metadata": {},
     "output_type": "execute_result"
    }
   ],
   "source": [
    "dir(doc)"
   ]
  },
  {
   "cell_type": "code",
   "execution_count": 29,
   "id": "higher-alloy",
   "metadata": {},
   "outputs": [],
   "source": [
    "div =next(iter((doc.divisions)))"
   ]
  },
  {
   "cell_type": "code",
   "execution_count": 30,
   "id": "paperback-contributor",
   "metadata": {},
   "outputs": [
    {
     "data": {
      "text/plain": [
       "['_Element__parts_and_divisions',\n",
       " '__class__',\n",
       " '__delattr__',\n",
       " '__dict__',\n",
       " '__dir__',\n",
       " '__doc__',\n",
       " '__eq__',\n",
       " '__format__',\n",
       " '__ge__',\n",
       " '__getattribute__',\n",
       " '__gt__',\n",
       " '__hash__',\n",
       " '__init__',\n",
       " '__init_subclass__',\n",
       " '__iter_attributes__',\n",
       " '__le__',\n",
       " '__lt__',\n",
       " '__module__',\n",
       " '__ne__',\n",
       " '__new__',\n",
       " '__reduce__',\n",
       " '__reduce_ex__',\n",
       " '__repr__',\n",
       " '__setattr__',\n",
       " '__sizeof__',\n",
       " '__str__',\n",
       " '__subclasshook__',\n",
       " '__weakref__',\n",
       " 'all_parts',\n",
       " 'attributes',\n",
       " 'divisions',\n",
       " 'node',\n",
       " 'parts',\n",
       " 'tag',\n",
       " 'text',\n",
       " 'tostring',\n",
       " 'xml']"
      ]
     },
     "execution_count": 30,
     "metadata": {},
     "output_type": "execute_result"
    }
   ],
   "source": [
    "dir(div)"
   ]
  },
  {
   "cell_type": "code",
   "execution_count": 35,
   "id": "ranking-balloon",
   "metadata": {},
   "outputs": [
    {
     "data": {
      "text/plain": [
       "'<div tei-tag=\"text\"><attributes><attribute key=\"xml:lang\">en</attribute></attributes>\\n</div>'"
      ]
     },
     "execution_count": 35,
     "metadata": {},
     "output_type": "execute_result"
    }
   ],
   "source": [
    "div.xml"
   ]
  },
  {
   "cell_type": "code",
   "execution_count": 38,
   "id": "descending-hollywood",
   "metadata": {},
   "outputs": [],
   "source": [
    "from lxml import etree\n",
    "\n",
    "tree = etree.parse(\"../articles_from_tatiana/abishek_test.xml\")\n",
    "\n",
    "for attributes in tree.xpath(\"//abstract\"):\n",
    "    for name, value in attributes.items():\n",
    "        print(f'{name} = {value}')"
   ]
  },
  {
   "cell_type": "code",
   "execution_count": 86,
   "id": "wrong-kitchen",
   "metadata": {},
   "outputs": [],
   "source": [
    "\"../articles_from_tatiana/abishek_test.xml\"\n",
    "def get_abstract_contents(fname):\n",
    "    tree = etree.parse(fname)\n",
    "    abstr = [a for a in tree.getiterator() if a.tag.endswith('abstract')]\n",
    "    if abstr:\n",
    "        text = ''.join([a.strip() for a in abstr[0].itertext()])\n",
    "        return text"
   ]
  },
  {
   "cell_type": "code",
   "execution_count": 87,
   "id": "anonymous-surrey",
   "metadata": {},
   "outputs": [
    {
     "data": {
      "text/plain": [
       "'In recent years, online retailers (also called e-tailers) have started allowing manufacturers direct access to their customers while charging a fee for providing this access, a format commonly referred to as agency selling. In this paper, we use a stylized theoretical model to answer a key question that e-tailers are facing: When should they use an agency selling format instead of using the more conventional reselling format? We find that agency selling is more efficient than reselling and leads to lower retail prices; however, the e-tailers end up giving control over retail prices to the manufacturer. Therefore, the reaction by the manufacturer, who makes electronic channel pricing decisions based on their impact on demand in the traditional channel (brick-andmortar retailing), is an important factor for e-tailers to consider. We find that when sales in the electronic channel lead to a negative effect on demand in the traditional channel, e-tailers prefer agency selling, whereas when sales in the electronic channel lead to substantial stimulation of demand in the traditional channel, etailers prefer reselling. This preference is mediated by competition between e-tailers-as competition between them increases, e-tailers prefer to use agency selling. We also find that when e-tailers benefit from positive externalities from the sales of the focal product (such as additional profits from sales of associated products), retail prices may be lower under reselling than under agency selling, and the e-tailers prefer reselling under some conditions for which they would prefer agency selling without the positive externalities.'"
      ]
     },
     "execution_count": 87,
     "metadata": {},
     "output_type": "execute_result"
    }
   ],
   "source": [
    "get_abstract_contents(\"../articles_from_tatiana/abishek_test.xml\")\n",
    "\n"
   ]
  },
  {
   "cell_type": "code",
   "execution_count": 41,
   "id": "awful-lancaster",
   "metadata": {},
   "outputs": [
    {
     "data": {
      "text/plain": [
       "[]"
      ]
     },
     "execution_count": 41,
     "metadata": {},
     "output_type": "execute_result"
    }
   ],
   "source": [
    "tree.xpath('teiheader')"
   ]
  },
  {
   "cell_type": "code",
   "execution_count": 43,
   "id": "mobile-effort",
   "metadata": {},
   "outputs": [],
   "source": [
    "tree.findtext('years')"
   ]
  },
  {
   "cell_type": "code",
   "execution_count": 48,
   "id": "excessive-equilibrium",
   "metadata": {},
   "outputs": [],
   "source": [
    "abstr=list(tree.getiterator())[-3]"
   ]
  },
  {
   "cell_type": "code",
   "execution_count": 51,
   "id": "applicable-service",
   "metadata": {},
   "outputs": [
    {
     "data": {
      "text/plain": [
       "['__bool__',\n",
       " '__class__',\n",
       " '__contains__',\n",
       " '__copy__',\n",
       " '__deepcopy__',\n",
       " '__delattr__',\n",
       " '__delitem__',\n",
       " '__dir__',\n",
       " '__doc__',\n",
       " '__eq__',\n",
       " '__format__',\n",
       " '__ge__',\n",
       " '__getattribute__',\n",
       " '__getitem__',\n",
       " '__gt__',\n",
       " '__hash__',\n",
       " '__init__',\n",
       " '__init_subclass__',\n",
       " '__iter__',\n",
       " '__le__',\n",
       " '__len__',\n",
       " '__lt__',\n",
       " '__ne__',\n",
       " '__new__',\n",
       " '__reduce__',\n",
       " '__reduce_ex__',\n",
       " '__repr__',\n",
       " '__reversed__',\n",
       " '__setattr__',\n",
       " '__setitem__',\n",
       " '__sizeof__',\n",
       " '__str__',\n",
       " '__subclasshook__',\n",
       " '_init',\n",
       " 'addnext',\n",
       " 'addprevious',\n",
       " 'append',\n",
       " 'attrib',\n",
       " 'base',\n",
       " 'clear',\n",
       " 'cssselect',\n",
       " 'extend',\n",
       " 'find',\n",
       " 'findall',\n",
       " 'findtext',\n",
       " 'get',\n",
       " 'getchildren',\n",
       " 'getiterator',\n",
       " 'getnext',\n",
       " 'getparent',\n",
       " 'getprevious',\n",
       " 'getroottree',\n",
       " 'index',\n",
       " 'insert',\n",
       " 'items',\n",
       " 'iter',\n",
       " 'iterancestors',\n",
       " 'iterchildren',\n",
       " 'iterdescendants',\n",
       " 'iterfind',\n",
       " 'itersiblings',\n",
       " 'itertext',\n",
       " 'keys',\n",
       " 'makeelement',\n",
       " 'nsmap',\n",
       " 'prefix',\n",
       " 'remove',\n",
       " 'replace',\n",
       " 'set',\n",
       " 'sourceline',\n",
       " 'tag',\n",
       " 'tail',\n",
       " 'text',\n",
       " 'values',\n",
       " 'xpath']"
      ]
     },
     "execution_count": 51,
     "metadata": {},
     "output_type": "execute_result"
    }
   ],
   "source": [
    "dir(abstr)"
   ]
  },
  {
   "cell_type": "code",
   "execution_count": 50,
   "id": "nervous-fields",
   "metadata": {},
   "outputs": [
    {
     "data": {
      "text/plain": [
       "{}"
      ]
     },
     "execution_count": 50,
     "metadata": {},
     "output_type": "execute_result"
    }
   ],
   "source": [
    "abstr.attrib"
   ]
  },
  {
   "cell_type": "code",
   "execution_count": 52,
   "id": "manufactured-messaging",
   "metadata": {},
   "outputs": [
    {
     "data": {
      "text/plain": [
       "['\\n\\t\\t\\t\\t',\n",
       " 'In recent years, online retailers (also called e-tailers) have started allowing manufacturers direct access to their customers while charging a fee for providing this access, a format commonly referred to as agency selling. In this paper, we use a stylized theoretical model to answer a key question that e-tailers are facing: When should they use an agency selling format instead of using the more conventional reselling format? We find that agency selling is more efficient than reselling and leads to lower retail prices; however, the e-tailers end up giving control over retail prices to the manufacturer. Therefore, the reaction by the manufacturer, who makes electronic channel pricing decisions based on their impact on demand in the traditional channel (brick-andmortar retailing), is an important factor for e-tailers to consider. We find that when sales in the electronic channel lead to a negative effect on demand in the traditional channel, e-tailers prefer agency selling, whereas when sales in the electronic channel lead to substantial stimulation of demand in the traditional channel, etailers prefer reselling. This preference is mediated by competition between e-tailers-as competition between them increases, e-tailers prefer to use agency selling. We also find that when e-tailers benefit from positive externalities from the sales of the focal product (such as additional profits from sales of associated products), retail prices may be lower under reselling than under agency selling, and the e-tailers prefer reselling under some conditions for which they would prefer agency selling without the positive externalities.',\n",
       " '\\n\\t\\t\\t']"
      ]
     },
     "execution_count": 52,
     "metadata": {},
     "output_type": "execute_result"
    }
   ],
   "source": [
    "list(abstr.itertext())"
   ]
  },
  {
   "cell_type": "code",
   "execution_count": 75,
   "id": "published-chancellor",
   "metadata": {},
   "outputs": [
    {
     "data": {
      "text/plain": [
       "''"
      ]
     },
     "execution_count": 75,
     "metadata": {},
     "output_type": "execute_result"
    }
   ],
   "source": [
    "'\\n\\t\\t\\t\\t'.strip()"
   ]
  },
  {
   "cell_type": "code",
   "execution_count": 55,
   "id": "lasting-chancellor",
   "metadata": {},
   "outputs": [
    {
     "data": {
      "text/plain": [
       "[]"
      ]
     },
     "execution_count": 55,
     "metadata": {},
     "output_type": "execute_result"
    }
   ],
   "source": [
    "tree.findall('\\\\abstract')"
   ]
  },
  {
   "cell_type": "code",
   "execution_count": 56,
   "id": "occasional-secret",
   "metadata": {},
   "outputs": [
    {
     "data": {
      "text/plain": [
       "['_init',\n",
       " 'addnext',\n",
       " 'addprevious',\n",
       " 'append',\n",
       " 'attrib',\n",
       " 'base',\n",
       " 'clear',\n",
       " 'cssselect',\n",
       " 'extend',\n",
       " 'find',\n",
       " 'findall',\n",
       " 'findtext',\n",
       " 'get',\n",
       " 'getchildren',\n",
       " 'getiterator',\n",
       " 'getnext',\n",
       " 'getparent',\n",
       " 'getprevious',\n",
       " 'getroottree',\n",
       " 'index',\n",
       " 'insert',\n",
       " 'items',\n",
       " 'iter',\n",
       " 'iterancestors',\n",
       " 'iterchildren',\n",
       " 'iterdescendants',\n",
       " 'iterfind',\n",
       " 'itersiblings',\n",
       " 'itertext',\n",
       " 'keys',\n",
       " 'makeelement',\n",
       " 'nsmap',\n",
       " 'prefix',\n",
       " 'remove',\n",
       " 'replace',\n",
       " 'set',\n",
       " 'sourceline',\n",
       " 'tag',\n",
       " 'tail',\n",
       " 'text',\n",
       " 'values',\n",
       " 'xpath']"
      ]
     },
     "execution_count": 56,
     "metadata": {},
     "output_type": "execute_result"
    }
   ],
   "source": [
    "[a for a in dir(abstr) if not a.startswith('__')]"
   ]
  },
  {
   "cell_type": "code",
   "execution_count": 57,
   "id": "enormous-spoke",
   "metadata": {},
   "outputs": [
    {
     "data": {
      "text/plain": [
       "'{http://www.tei-c.org/ns/1.0}abstract'"
      ]
     },
     "execution_count": 57,
     "metadata": {},
     "output_type": "execute_result"
    }
   ],
   "source": [
    "abstr.tag"
   ]
  },
  {
   "cell_type": "code",
   "execution_count": 74,
   "id": "accredited-nation",
   "metadata": {},
   "outputs": [
    {
     "ename": "XPathEvalError",
     "evalue": "Invalid expression",
     "output_type": "error",
     "traceback": [
      "\u001b[0;31m---------------------------------------------------------------------------\u001b[0m",
      "\u001b[0;31mXPathEvalError\u001b[0m                            Traceback (most recent call last)",
      "\u001b[0;32m<ipython-input-74-e9a84e81a1fe>\u001b[0m in \u001b[0;36m<module>\u001b[0;34m\u001b[0m\n\u001b[0;32m----> 1\u001b[0;31m \u001b[0mtree\u001b[0m\u001b[0;34m.\u001b[0m\u001b[0mxpath\u001b[0m\u001b[0;34m(\u001b[0m\u001b[0;34m'{//}abstract'\u001b[0m\u001b[0;34m)\u001b[0m\u001b[0;34m\u001b[0m\u001b[0;34m\u001b[0m\u001b[0m\n\u001b[0m",
      "\u001b[0;32msrc/lxml/etree.pyx\u001b[0m in \u001b[0;36mlxml.etree._ElementTree.xpath\u001b[0;34m()\u001b[0m\n",
      "\u001b[0;32msrc/lxml/xpath.pxi\u001b[0m in \u001b[0;36mlxml.etree.XPathDocumentEvaluator.__call__\u001b[0;34m()\u001b[0m\n",
      "\u001b[0;32msrc/lxml/xpath.pxi\u001b[0m in \u001b[0;36mlxml.etree._XPathEvaluatorBase._handle_result\u001b[0;34m()\u001b[0m\n",
      "\u001b[0;31mXPathEvalError\u001b[0m: Invalid expression"
     ]
    }
   ],
   "source": [
    "tree.xpath('{//}abstract')"
   ]
  },
  {
   "cell_type": "code",
   "execution_count": null,
   "id": "affected-spending",
   "metadata": {},
   "outputs": [],
   "source": []
  }
 ],
 "metadata": {
  "kernelspec": {
   "display_name": "Python 3.7.4 64-bit ('base': conda)",
   "language": "python",
   "name": "python37464bitbaseconda865b03b3ea5d4f4bb8519af201560b69"
  },
  "language_info": {
   "codemirror_mode": {
    "name": "ipython",
    "version": 3
   },
   "file_extension": ".py",
   "mimetype": "text/x-python",
   "name": "python",
   "nbconvert_exporter": "python",
   "pygments_lexer": "ipython3",
   "version": "3.7.9"
  }
 },
 "nbformat": 4,
 "nbformat_minor": 5
}
