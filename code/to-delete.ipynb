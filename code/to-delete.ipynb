{
 "cells": [
  {
   "cell_type": "code",
   "execution_count": 1,
   "metadata": {},
   "outputs": [],
   "source": [
    "from xml_tools import get_abstract_contents"
   ]
  },
  {
   "cell_type": "code",
   "execution_count": 2,
   "metadata": {},
   "outputs": [],
   "source": [
    "import glob\n",
    "from os import path\n",
    "\n"
   ]
  },
  {
   "cell_type": "code",
   "execution_count": 5,
   "metadata": {},
   "outputs": [
    {
     "ename": "ModuleNotFoundError",
     "evalue": "No module named 'spacy'",
     "output_type": "error",
     "traceback": [
      "\u001b[0;31m---------------------------------------------------------------------------\u001b[0m",
      "\u001b[0;31mModuleNotFoundError\u001b[0m                       Traceback (most recent call last)",
      "\u001b[0;32m<ipython-input-5-5469aec04266>\u001b[0m in \u001b[0;36m<module>\u001b[0;34m\u001b[0m\n\u001b[0;32m----> 1\u001b[0;31m \u001b[0;32mimport\u001b[0m \u001b[0mspacy\u001b[0m\u001b[0;34m\u001b[0m\u001b[0;34m\u001b[0m\u001b[0m\n\u001b[0m\u001b[1;32m      2\u001b[0m \u001b[0mnlp\u001b[0m \u001b[0;34m=\u001b[0m \u001b[0mspacy\u001b[0m\u001b[0;34m.\u001b[0m\u001b[0mload\u001b[0m\u001b[0;34m(\u001b[0m\u001b[0;34m\"en_core_web_lg\"\u001b[0m\u001b[0;34m)\u001b[0m\u001b[0;34m\u001b[0m\u001b[0;34m\u001b[0m\u001b[0m\n",
      "\u001b[0;31mModuleNotFoundError\u001b[0m: No module named 'spacy'"
     ]
    }
   ],
   "source": [
    "import spacy\n",
    "nlp = spacy.load(\"en_core_web_lg\")"
   ]
  },
  {
   "cell_type": "code",
   "execution_count": 3,
   "metadata": {},
   "outputs": [
    {
     "data": {
      "text/plain": [
       "['../articles_from_tatiana/batch3_header_xml/Grieger 2003.xml',\n",
       " '../articles_from_tatiana/batch3_header_xml/Xu et al 2020.xml',\n",
       " '../articles_from_tatiana/batch3_header_xml/Cao et al 2019.xml',\n",
       " '../articles_from_tatiana/batch3_header_xml/Mantin et al 2014.xml',\n",
       " '../articles_from_tatiana/batch3_header_xml/Li 2020.xml',\n",
       " '../articles_from_tatiana/batch3_header_xml/Shen et al 2019.xml',\n",
       " '../articles_from_tatiana/batch3_header_xml/Avinadav et al 2015b.xml',\n",
       " '../articles_from_tatiana/batch3_header_xml/Hua et al 2020.xml',\n",
       " '../articles_from_tatiana/batch3_header_xml/Zhen et al 2020.xml',\n",
       " '../articles_from_tatiana/batch3_header_xml/Avinadav et al 2020b.xml']"
      ]
     },
     "execution_count": 3,
     "metadata": {},
     "output_type": "execute_result"
    }
   ],
   "source": [
    "xmls = glob.glob('../articles_from_tatiana/batch3_header_xml/*.xml')\n",
    "\n",
    "xmls[:10]"
   ]
  },
  {
   "cell_type": "code",
   "execution_count": 4,
   "metadata": {},
   "outputs": [],
   "source": [
    "article_abstract_dict = {path.basename(x).split('.')[0]: get_abstract_contents(x) for x in xmls}"
   ]
  },
  {
   "cell_type": "code",
   "execution_count": 7,
   "metadata": {},
   "outputs": [
    {
     "name": "stdout",
     "output_type": "stream",
     "text": [
      "[117, 100, 245, 250, 96, 231, 124, 193, 257, 166, 340, 194, 169, 0, 209, 212, 248, 307, 90, 246, 254, 130, 200, 167, 254, 241, 224, 96, 247, 167, 217, 158, 94, 153, 141, 229, 184, 172, 244, 222, 189, 225, 220, 251, 161, 200, 242, 249, 246, 79, 199, 180, 213, 188, 281, 160, 148, 201, 185]\n"
     ]
    }
   ],
   "source": [
    "print([len(v.split()) for v in article_abstract_dict.values()])"
   ]
  },
  {
   "cell_type": "code",
   "execution_count": null,
   "metadata": {},
   "outputs": [],
   "source": []
  }
 ],
 "metadata": {
  "kernelspec": {
   "display_name": "Python 3",
   "language": "python",
   "name": "python3"
  },
  "language_info": {
   "codemirror_mode": {
    "name": "ipython",
    "version": 3
   },
   "file_extension": ".py",
   "mimetype": "text/x-python",
   "name": "python",
   "nbconvert_exporter": "python",
   "pygments_lexer": "ipython3",
   "version": "3.9.1"
  }
 },
 "nbformat": 4,
 "nbformat_minor": 2
}
