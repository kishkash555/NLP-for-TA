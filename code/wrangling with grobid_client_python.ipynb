{
 "cells": [
  {
   "cell_type": "code",
   "execution_count": 1,
   "metadata": {},
   "outputs": [],
   "source": [
    "import sys\n",
    "from os import path\n",
    "import glob"
   ]
  },
  {
   "cell_type": "code",
   "execution_count": 2,
   "metadata": {},
   "outputs": [
    {
     "name": "stdout",
     "output_type": "stream",
     "text": [
      "/home/siegman/Documents/Shahar/years/y2021/t_and_t/code/grobid_client_python\n",
      "True\n"
     ]
    }
   ],
   "source": [
    "gropath = path.abspath(path.join('.','grobid_client_python'))\n",
    "print(gropath)\n",
    "print(path.exists(gropath))"
   ]
  },
  {
   "cell_type": "code",
   "execution_count": 3,
   "metadata": {},
   "outputs": [],
   "source": [
    "sys.path.append(gropath)\n",
    "import grobid_client as grobid\n",
    "\n"
   ]
  },
  {
   "cell_type": "code",
   "execution_count": 4,
   "metadata": {},
   "outputs": [
    {
     "name": "stdout",
     "output_type": "stream",
     "text": [
      "GROBID server is up and running\n"
     ]
    },
    {
     "data": {
      "text/plain": [
       "['../articles_from_tatiana/fulltext-pdf-batch2/Cao et al 2020.pdf',\n",
       " '../articles_from_tatiana/fulltext-pdf-batch2/Chen et al 2020.pdf',\n",
       " '../articles_from_tatiana/fulltext-pdf-batch2/Cao et al 2019.pdf',\n",
       " '../articles_from_tatiana/fulltext-pdf-batch2/Sun et al 2020.pdf',\n",
       " '../articles_from_tatiana/fulltext-pdf-batch2/Hagiu and Wright 2020.pdf',\n",
       " '../articles_from_tatiana/fulltext-pdf-batch2/Avinadav et al 2015a.pdf',\n",
       " '../articles_from_tatiana/fulltext-pdf-batch2/Hua et al 2020.pdf',\n",
       " '../articles_from_tatiana/fulltext-pdf-batch2/Li et al 2016.pdf',\n",
       " '../articles_from_tatiana/fulltext-pdf-batch2/Lin et al 2020.pdf',\n",
       " '../articles_from_tatiana/fulltext-pdf-batch2/Avinadav et al 2017.pdf']"
      ]
     },
     "execution_count": 4,
     "metadata": {},
     "output_type": "execute_result"
    }
   ],
   "source": [
    "client = grobid.grobid_client(config_path=path.join(gropath,\"config.json\"))\n",
    "\n",
    "file_list = glob.glob('../articles_from_tatiana/**/*.pdf',recursive=True)\n",
    "\n",
    "file_list[:10]"
   ]
  },
  {
   "cell_type": "code",
   "execution_count": 5,
   "metadata": {},
   "outputs": [
    {
     "data": {
      "text/plain": [
       "46"
      ]
     },
     "execution_count": 5,
     "metadata": {},
     "output_type": "execute_result"
    }
   ],
   "source": [
    "len(file_list)"
   ]
  },
  {
   "cell_type": "code",
   "execution_count": null,
   "metadata": {},
   "outputs": [],
   "source": [
    "# dir1 = path.dirname(file_list[0])\n",
    "# print(dir1)\n",
    "# client.process(\"processHeaderDocument\", dir1, n=2, output='grobid_run_results', verbose=True)"
   ]
  },
  {
   "cell_type": "code",
   "execution_count": 30,
   "metadata": {},
   "outputs": [],
   "source": [
    "client.process_pdf(\"processReferences\", \n",
    "        file_list[0], \n",
    "        path.dirname(file_list[0]),\n",
    "        'grobid_run_results',\n",
    "        False, False, False, False, False, False, False,\n",
    "        headers = None)\n",
    "                   #        headers={'Accept': 'application/x-bibtex'}         )"
   ]
  },
  {
   "cell_type": "code",
   "execution_count": 7,
   "metadata": {},
   "outputs": [
    {
     "data": {
      "text/plain": [
       "('Cao et al 2020.pdf', '../articles_from_tatiana/fulltext-pdf-batch2')"
      ]
     },
     "execution_count": 7,
     "metadata": {},
     "output_type": "execute_result"
    }
   ],
   "source": [
    "path.basename(file_list[0]), path.dirname(file_list[0])"
   ]
  },
  {
   "cell_type": "code",
   "execution_count": 16,
   "metadata": {},
   "outputs": [],
   "source": [
    "import lxml.etree as ET"
   ]
  },
  {
   "cell_type": "code",
   "execution_count": 31,
   "metadata": {},
   "outputs": [
    {
     "name": "stdout",
     "output_type": "stream",
     "text": [
      "None\n"
     ]
    }
   ],
   "source": [
    "dom = ET.parse('grobid_run_results/Cao et al 2020.tei.xml')\n",
    "xslt = ET.parse('grobid_run_results/convert_bib.xsl')\n",
    "transform = ET.XSLT(xslt)\n",
    "newdom = transform(dom)\n",
    "print(ET.tostring(newdom, pretty_print=True))"
   ]
  },
  {
   "cell_type": "code",
   "execution_count": 21,
   "metadata": {},
   "outputs": [
    {
     "data": {
      "text/plain": [
       "[]"
      ]
     },
     "execution_count": 21,
     "metadata": {},
     "output_type": "execute_result"
    }
   ],
   "source": [
    "dom.findall('biblStruct')"
   ]
  },
  {
   "cell_type": "code",
   "execution_count": 22,
   "metadata": {},
   "outputs": [],
   "source": []
  },
  {
   "cell_type": "code",
   "execution_count": 33,
   "metadata": {},
   "outputs": [],
   "source": [
    "a=dom.getiterator()\n",
    "a_ = []\n",
    "for i in range(10):\n",
    "    a_.append(next(a))"
   ]
  },
  {
   "cell_type": "code",
   "execution_count": 37,
   "metadata": {},
   "outputs": [
    {
     "data": {
      "text/plain": [
       "[<Element {http://www.tei-c.org/ns/1.0}title at 0x7fb9bc3d39b0>,\n",
       " <Element {http://www.tei-c.org/ns/1.0}author at 0x7fb9bc3c8370>,\n",
       " <Element {http://www.tei-c.org/ns/1.0}author at 0x7fb9bc20ae60>,\n",
       " <Element {http://www.tei-c.org/ns/1.0}author at 0x7fb9bc20a8c0>]"
      ]
     },
     "execution_count": 37,
     "metadata": {},
     "output_type": "execute_result"
    }
   ],
   "source": [
    "a_[8].getchildren()[0].getchildren()"
   ]
  },
  {
   "cell_type": "code",
   "execution_count": 39,
   "metadata": {},
   "outputs": [
    {
     "data": {
      "text/plain": [
       "'{http://www.tei-c.org/ns/1.0}biblStruct'"
      ]
     },
     "execution_count": 39,
     "metadata": {},
     "output_type": "execute_result"
    }
   ],
   "source": [
    "a_[8].tag"
   ]
  },
  {
   "cell_type": "code",
   "execution_count": 26,
   "metadata": {},
   "outputs": [
    {
     "name": "stdout",
     "output_type": "stream",
     "text": [
      "<Element {http://www.w3.org/1999/XSL/Transform}stylesheet at 0x7fb9bc3d52d0>\n",
      "<Element {http://www.w3.org/1999/XSL/Transform}output at 0x7fb9bc3c8c80>\n",
      "<Element {http://www.w3.org/1999/XSL/Transform}template at 0x7fb9bc3c8550>\n",
      "<Element {http://www.w3.org/1999/XSL/Transform}variable at 0x7fb9bc3c8c80>\n",
      "<Element {http://www.w3.org/1999/XSL/Transform}choose at 0x7fb9bc3c8550>\n",
      "<Element {http://www.w3.org/1999/XSL/Transform}when at 0x7fb9bc3c8c80>\n",
      "<Element {http://www.w3.org/1999/XSL/Transform}text at 0x7fb9bc3c8550>\n",
      "<Element {http://www.w3.org/1999/XSL/Transform}when at 0x7fb9bc3c8c80>\n",
      "<Element {http://www.w3.org/1999/XSL/Transform}text at 0x7fb9bc3c8550>\n",
      "<Element {http://www.w3.org/1999/XSL/Transform}when at 0x7fb9bc3c8c80>\n"
     ]
    }
   ],
   "source": [
    "b = xslt.getiterator()\n",
    "for i in range(10):\n",
    "    print(next(b))"
   ]
  },
  {
   "cell_type": "code",
   "execution_count": 28,
   "metadata": {},
   "outputs": [
    {
     "ename": "StopIteration",
     "evalue": "",
     "output_type": "error",
     "traceback": [
      "\u001b[0;31m---------------------------------------------------------------------------\u001b[0m",
      "\u001b[0;31mStopIteration\u001b[0m                             Traceback (most recent call last)",
      "\u001b[0;32m<ipython-input-28-fa9292451f6a>\u001b[0m in \u001b[0;36m<module>\u001b[0;34m\u001b[0m\n\u001b[1;32m      1\u001b[0m \u001b[0mc\u001b[0m \u001b[0;34m=\u001b[0m \u001b[0mnewdom\u001b[0m\u001b[0;34m.\u001b[0m\u001b[0mgetiterator\u001b[0m\u001b[0;34m(\u001b[0m\u001b[0;34m)\u001b[0m\u001b[0;34m\u001b[0m\u001b[0;34m\u001b[0m\u001b[0m\n\u001b[1;32m      2\u001b[0m \u001b[0;32mfor\u001b[0m \u001b[0mi\u001b[0m \u001b[0;32min\u001b[0m \u001b[0mrange\u001b[0m\u001b[0;34m(\u001b[0m\u001b[0;36m10\u001b[0m\u001b[0;34m)\u001b[0m\u001b[0;34m:\u001b[0m\u001b[0;34m\u001b[0m\u001b[0;34m\u001b[0m\u001b[0m\n\u001b[0;32m----> 3\u001b[0;31m     \u001b[0mprint\u001b[0m\u001b[0;34m(\u001b[0m\u001b[0mnext\u001b[0m\u001b[0;34m(\u001b[0m\u001b[0mc\u001b[0m\u001b[0;34m)\u001b[0m\u001b[0;34m)\u001b[0m\u001b[0;34m\u001b[0m\u001b[0;34m\u001b[0m\u001b[0m\n\u001b[0m",
      "\u001b[0;31mStopIteration\u001b[0m: "
     ]
    }
   ],
   "source": [
    "c = newdom.getiterator()\n",
    "for i in range(10):\n",
    "    print(next(c))"
   ]
  },
  {
   "cell_type": "code",
   "execution_count": null,
   "metadata": {},
   "outputs": [],
   "source": []
  }
 ],
 "metadata": {
  "kernelspec": {
   "display_name": "Python 3.7.4 64-bit ('base': conda)",
   "language": "python",
   "name": "python37464bitbaseconda865b03b3ea5d4f4bb8519af201560b69"
  },
  "language_info": {
   "codemirror_mode": {
    "name": "ipython",
    "version": 3
   },
   "file_extension": ".py",
   "mimetype": "text/x-python",
   "name": "python",
   "nbconvert_exporter": "python",
   "pygments_lexer": "ipython3",
   "version": "3.7.9"
  }
 },
 "nbformat": 4,
 "nbformat_minor": 4
}
