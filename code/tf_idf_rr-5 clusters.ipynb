{
 "cells": [
  {
   "cell_type": "code",
   "execution_count": 1,
   "id": "gorgeous-brunei",
   "metadata": {},
   "outputs": [],
   "source": [
    "from xml_tools import get_abstract_contents\n",
    "from collections import Counter\n",
    "from sklearn.feature_extraction.text import TfidfVectorizer\n",
    "from sklearn.metrics.pairwise import linear_kernel\n",
    "from sklearn.cluster import KMeans\n",
    "import pandas as pd\n",
    "from sklearn.decomposition import PCA\n",
    "import numpy as np\n",
    "from scipy.spatial import distance_matrix\n",
    "from sklearn import manifold\n",
    "from tqdm import tqdm"
   ]
  },
  {
   "cell_type": "code",
   "execution_count": 2,
   "id": "nuclear-consumer",
   "metadata": {},
   "outputs": [],
   "source": [
    "import glob\n",
    "from os import path\n",
    "\n"
   ]
  },
  {
   "cell_type": "code",
   "execution_count": 3,
   "id": "injured-moisture",
   "metadata": {
    "scrolled": true
   },
   "outputs": [],
   "source": [
    "import spacy\n",
    "nlp = spacy.load(\"en_core_web_lg\")"
   ]
  },
  {
   "cell_type": "code",
   "execution_count": 4,
   "id": "subjective-amino",
   "metadata": {},
   "outputs": [
    {
     "data": {
      "text/plain": [
       "['../articles_from_tatiana/review_revenue_header_xml/Zhang et al 2010.pdf.xml',\n",
       " '../articles_from_tatiana/review_revenue_header_xml/Pal et al. 2018.pdf.xml',\n",
       " '../articles_from_tatiana/review_revenue_header_xml/Gong et al 2018.pdf.xml',\n",
       " '../articles_from_tatiana/review_revenue_header_xml/Linh and Hong  2009-Channel coordination through a revenue sharing contract.pdf.xml',\n",
       " '../articles_from_tatiana/review_revenue_header_xml/Cao et al-2013-IJPE.pdf.xml',\n",
       " '../articles_from_tatiana/review_revenue_header_xml/Buratto et al - 2019.pdf.xml',\n",
       " '../articles_from_tatiana/review_revenue_header_xml/Hsueh 2014-Improving corporate social responsibility in a supply chain through a new revenue sharing contract.pdf.xml',\n",
       " '../articles_from_tatiana/review_revenue_header_xml/Lee and Rhee-2010-IJPE.pdf.xml',\n",
       " '../articles_from_tatiana/review_revenue_header_xml/Avinadav et al. 2019-IJPE.pdf.xml',\n",
       " '../articles_from_tatiana/review_revenue_header_xml/Shen et al-2019-POMS.pdf.xml']"
      ]
     },
     "execution_count": 4,
     "metadata": {},
     "output_type": "execute_result"
    }
   ],
   "source": [
    "xmls = glob.glob('../articles_from_tatiana/review_revenue_header_xml/*.xml')\n",
    "\n",
    "xmls[:10]"
   ]
  },
  {
   "cell_type": "code",
   "execution_count": 5,
   "id": "harmful-neighbor",
   "metadata": {},
   "outputs": [],
   "source": [
    "article_abstract_dict = {path.basename(x).rsplit('.',2)[0]: get_abstract_contents(x) for x in xmls}"
   ]
  },
  {
   "cell_type": "code",
   "execution_count": 6,
   "id": "clinical-daisy",
   "metadata": {},
   "outputs": [
    {
     "name": "stdout",
     "output_type": "stream",
     "text": [
      "Zhang et al 2010: With the emergence of virtual market places, consignment sel... (1017)\n",
      "\n",
      "Pal et al. 2018: Uncertainty is a major challenging factor in the marketing s... (1036)\n",
      "\n",
      "Gong et al 2018: The information technology (IT) capabilities of third-party ... (1614)\n",
      "\n",
      "Linh and Hong  2009-Channel coordination through a revenue sharing contract: This paper studies channel coordination through revenue shar... (772)\n",
      "\n",
      "Cao et al-2013-IJPE: This paper develops a coordination mechanism for a supply ch... (1290)\n",
      "\n",
      "Buratto et al - 2019: This paper investigates whether a supply chain can achieve c... (1354)\n",
      "\n",
      "Hsueh 2014-Improving corporate social responsibility in a supply chain through a new revenue sharing contract: Due to the social and environmental impacts of industrial ac... (1450)\n",
      "\n",
      "Lee and Rhee-2010-IJPE: Numerous studies have offered diverse contractual forms of a... (1761)\n",
      "\n",
      "Avinadav et al. 2019-IJPE: Virtual products, such as mobile apps, 3D print files, e-mus... (1737)\n",
      "\n",
      "Shen et al-2019-POMS: T his paper studies how a manufacturer should engage with a ... (1514)\n",
      "\n",
      "Dana and  Spier 2001-Revenue Sharing and Vertical Control in the Video Rental Industry: ... (0)\n",
      "\n",
      "Chen et al 2011: This article deals with the problem of coordinating a vertic... (1315)\n",
      "\n",
      "Chauhan and Proth 2005-Analysis of a supply chain partnership with revenue sharing: The profit margins of retailers and providers are becoming s... (926)\n",
      "\n",
      "Kong et al. 2013: This work explores the potential of revenue sharing contract... (1059)\n",
      "\n",
      "Heydari et al 2018: In this paper, a two-stage reverse supply chain (RSC) is ana... (1784)\n",
      "\n",
      "zhang et al. 2015: P rior theory claims that buyback and revenue-sharing contra... (2047)\n",
      "\n",
      "Khouja et al-2010-IJPE: In rental information goods supply chain, such as movie DVDs... (978)\n",
      "\n",
      "Saha 2013-CCRS: In this paper three different types of rebate induced contra... (679)\n",
      "\n",
      "Feng et al 2014-Revenue-sharing contracts in an N-stage supply chain with reliability consideration: Revenue-sharing (RS) contracts have been used in a number of... (1597)\n",
      "\n",
      "Zhao and Wu 2011-coordination of agri-food chain with revenue sharing contract and stochastic demand: ... (0)\n",
      "\n",
      "Cai et al 2012- Exclusive Channels and Revenue Sharing in a complementary goods market: This hybrid paper duopoly evaluates common the joint retaile... (1163)\n",
      "\n",
      "Hu et al-2013-IJPE: This paper studies a flexible ordering policy among a manufa... (751)\n",
      "\n",
      "Giannoccaro and pontrandolfo-2009: This paper focuses on the implementation issues of the reven... (1364)\n",
      "\n",
      "Liu and Wang-2019: We investigate two competing carriers' incentives of horizon... (717)\n",
      "\n",
      "check-Hu and Feng 2017-Optimization and coordination of supply chain with revenue sharing: In a one-supplier-one-buyer supply chain, uncertainty occurs... (1417)\n",
      "\n",
      "Liu li et al 2017: As the demands of some important products such as oil, gas, ... (876)\n",
      "\n",
      "Katok and Wu-2009-Contracting_in_Supply_Chains_A_Laboratory_Investigation: T he coordination of supply chains by means of contracting m... (1055)\n",
      "\n",
      "Tan_et_al-2016: While digital goods industries such as entertainment, softwa... (339)\n",
      "\n",
      "Yang and Chen 2017-Retailer-driven carbon emission abatement with consumer: We investigate the impact of Revenue-Sharing and Cost-Sharin... (1701)\n",
      "\n",
      "Giovanni 2014: We consider a closed-loop supply chain (CLSC) with a single ... (1219)\n",
      "\n",
      "check-Li et al 2009-Supply chain coordination and decision making under consignment contract with revenue sharing: Consignment contract with revenue sharing has been widely ap... (974)\n",
      "\n",
      "Krishnan and Winter 2011-On the role of revenue-sharing contracts in supply chains: The supply chain coordinating role of revenue-sharing has, t... (422)\n",
      "\n",
      "Xiao et al 2017: We consider a financially constrained supply chain in which ... (1163)\n",
      "\n",
      "Lin et al. 2010: We propose an insurance contract under which the supplier sh... (710)\n",
      "\n",
      "Wang et al-2013b: Markup pricing contracts have been widely employed in many i... (1309)\n",
      "\n",
      "Hu et al 2017: In this paper, a one-retailer and two-manufacturer supply ch... (1083)\n",
      "\n",
      "Sheu 2011-Marketing-driven channel coordination with revenue-sharing contracts: This paper explores the equilibrium behavior of a basic supp... (1309)\n",
      "\n",
      "Krylatov et al. -2016 (לא קשור): ... (0)\n",
      "\n",
      "check-Yao et al 2008-Manufacturer’s revenue-sharing contract and retail competition: This paper investigates a revenue-sharing contract for coord... (1492)\n",
      "\n",
      "Moon and Feng-2017: We address a novel decentralized supply chain with one suppl... (677)\n",
      "\n",
      "Zao and Shi 2011: This paper considers two competing supply chains, each with ... (1219)\n",
      "\n",
      "Gerchak and Khmelnitsky 2003: Newspapers are often sold through stores via consignment arr... (987)\n",
      "\n",
      "Dong et al 2016: Carbon emission abatement is a hot topic in environmental su... (881)\n",
      "\n",
      "Cachon et al-2005: ... (0)\n",
      "\n",
      "Chen et al 2017: This paper investigates the interaction of provider of free ... (1067)\n",
      "\n",
      "Hua et al-2011-Omega: Product design decision has significant impacts on firm's co... (1491)\n",
      "\n",
      "Guan and Zhao 2010: Based on continuous review (r, Q) policy, this paper deals w... (999)\n",
      "\n",
      "Zhao et al-2016-JORS: In this paper, we consider a start-up service provider that ... (989)\n",
      "\n",
      "check-Hu et al 2016-Three-echelon supply chain coordination: This paper studies supply chain coordination via revenue sha... (1018)\n",
      "\n",
      "Avinadav et al.- 2015b: Consider n mobile application (app) developers selling their... (855)\n",
      "\n",
      "El Ouardighi and Kim 2010-Supply quality management with wholesale price and revenue-sharing contracts under horizontal competition: In a number of industries (e.g., the airplane industry, aero... (1418)\n",
      "\n",
      "RAZA 2018: Corporate social responsibility is among the most desired fe... (1778)\n",
      "\n",
      "Fang et al. 2016: This paper investigates the equilibrium contract selection p... (1296)\n",
      "\n",
      "Li_et_al-2015: W e consider a decentralized two-period supply chain in whic... (1304)\n",
      "\n",
      "Zhang 2015-Coordinating a supply chain for deteriorating items with a revenue sharing: In this study, a one-manufacturer-one-retailer supply chain ... (1253)\n",
      "\n",
      "Avinadav et al. 2017: This paper evaluates mergers and acquisitions (M&A) in a sup... (1084)\n",
      "\n",
      "Lu et al 2017: Supply chain contracts are widely considered as useful and n... (854)\n",
      "\n",
      "Seifbarghy et al. 2015: We consider a two-level supply chain consisting of a manufac... (1174)\n",
      "\n",
      "Wen et al. 2018: ... (0)\n",
      "\n",
      "Hou et al 2009-Achieving better coordination through revenue sharing and bargaining: Coordination is essential for improving supply chain wide pe... (770)\n",
      "\n",
      "Yang et al. 2015: This work explores the impact of quick response on supply ch... (952)\n",
      "\n",
      "Koulamas 2006-full version: ... (0)\n",
      "\n",
      "Ru and Wang 2010- consignment contracts: Consignment is a popular form of business arrangement where ... (1610)\n",
      "\n",
      "Palsule-Desai 2013-Supply chain coordination using revenue-dependent revenue: A typical single period revenue sharing contract specifies a... (1934)\n",
      "\n",
      "Hou et al 2017: This paper focuses on a three-echelon supply chain composed ... (861)\n",
      "\n",
      "Yao et al. 2008b: This paper investigates a revenue-sharing contract for coord... (1492)\n",
      "\n",
      "Yang et al 2017-The role of revenue sharing and first-mover advantage in emission: In this study, we explore the role of revenue sharing and fi... (1565)\n",
      "\n",
      "Jorgensen et al-2003-EJOR: We consider a channel of distribution with a single manufact... (1003)\n",
      "\n",
      "Giannoccaro and pontrandolfo-2004-IJPE: Supply chain (SC) coordination can be pursued by adopting a ... (746)\n",
      "\n",
      "Chen et al 2011-On channel coordination through revenue-sharing contracts with price and shelf-space dependent demand: This paper deals with the problem of coordinating a vertical... (1302)\n",
      "\n",
      "Govindan and Popiuc 2014-Reverse supply chain coordination by revenue sharing contract: Products that are not recycled at the end of their life incr... (996)\n",
      "\n",
      "Xiao et al 2011-Coordinating a supply chain with a quality assurance policy via a revenue sharing contract: This paper explores coordination of a (global) supply chain ... (1502)\n",
      "\n",
      "Wang et al 2012 (1): In this article, we consider a single-manufacturer-single-bu... (908)\n",
      "\n",
      "Liu et al-2009: The service provision of the retailer has a great effect on ... (1070)\n",
      "\n",
      "Panda et al 2017: This paper analyzes the effects of corporate social responsi... (1189)\n",
      "\n",
      "check-Xu et al 2014-Coordinating a dual-channel supply chain with risk-averse: This paper investigates the impact of establishing a dual-ch... (1243)\n",
      "\n",
      "Heese and Kemahlioglu-Ziya 2014: W e consider a supply chain with a supplier that sells to a ... (926)\n",
      "\n",
      "Feng et al 2017: In this paper, we consider a two-echelon reverse supply chai... (1502)\n",
      "\n",
      "Tan_Carrillo-2017: T he introduction of digital goods in the media industry has... (1695)\n",
      "\n",
      "Jiang 2012: We analyze a supply chain consisting of one manufacturer and... (1437)\n",
      "\n",
      "Avinadav T. 2020-IJPE: Using the framework of an economic order quantity (EOQ) mode... (1397)\n",
      "\n",
      "Corbett 2001: ... (0)\n",
      "\n",
      "Heese and Kemahlıoğlu-Ziya 2016-Don’t ask don’t tell-Sharing revenues with a dishonest retailer: When different supply chain parties have private information... (1318)\n",
      "\n",
      "Wang 2006: ... (0)\n",
      "\n",
      "Avinadav et al. 2020-IJPR: This is a PDF file of an article that has undergone enhancem... (574)\n",
      "\n",
      "Zhang et al 2010-Revenue sharing with multiple airlines and airports: This paper investigates the effects of concession revenue sh... (1397)\n",
      "\n",
      "Yao et al. 2008a: Purpose-The purpose of this paper is to numerically analyze ... (2244)\n",
      "\n",
      "Choi and He-2019: With the advance of platform technologies, peer-to-peer coll... (1543)\n",
      "\n",
      "Adida and Ratisoontorn-2011: Consignment contracts have been widely employed in many indu... (1518)\n",
      "\n",
      "Jin et al-2015-EJOR: From the practices of Chinese consumer electronics market, w... (1241)\n",
      "\n",
      "Zhang et al 2019: More and more e-tailers (platforms) are allowing manufacture... (1547)\n",
      "\n",
      "Gerchak et al-2007: Vendor-managed revenue-sharing arrangements are common in th... (1106)\n",
      "\n",
      "Chakraborty et al 2015-Coordination and competition in a common retailer: In this paper, we study a supply chain comprising two compet... (1183)\n",
      "\n",
      "Bai et al 2004-revenue sharing and control rights: We present a model of team production motivated by the styli... (722)\n",
      "\n",
      "Kunter 2012-Coordination via cost and revenue sharing in manufacturer–retailer channels: The problem of establishing efficiency in a manufacturer-ret... (1687)\n",
      "\n",
      "Qin and Yang 2008: We consider a supply chain involving one supplier and one re... (846)\n",
      "\n",
      "Chakraborty et al 2018: The performance of a supply chain is often characterized by ... (903)\n",
      "\n",
      "van der Veen and Venugopal 2005-Using Revenue Sharing to Create Win-Win in the Video Rental Supply Chain: Recent developments in video rental supply chains seem to in... (800)\n",
      "\n",
      "Wang and Shin 2014: W e consider a supply chain with an upstream supplier who in... (1372)\n",
      "\n",
      "Cai  et al 2017-Flexible contract design for VMI supply chain with service-sensitive demand: To coordinate a VMI (vendor-managed inventory) supply chain ... (1367)\n",
      "\n",
      "Cai-2010-channel selection and coordination: This paper investigates the influence of channel structures ... (890)\n",
      "\n",
      "Chen et al 2010: This paper deals with the problem of coordinating a vertical... (704)\n",
      "\n",
      "De Giovanni et al 2019: Most of the cooperative advertising literature has focused o... (1349)\n",
      "\n",
      "de Matt et al 2017: We model the decisions in two simple, structurally different... (1228)\n",
      "\n",
      "Panda 2014-Coordination of a socially responsible supply chain using revenue sharing contract: This paper explores coordination of a corporate social respo... (645)\n",
      "\n",
      "Hu-Li-2012: This paper studies the consignment contract with revenue sha... (1244)\n",
      "\n",
      "Bellantuono et al 2009-The implications of joint adoption of revenue sharing and advance booking discount: Consider a supply chain that consists of a supplier and a re... (1290)\n",
      "\n",
      "van der Rhee et al 2010-A new revenue sharing mechanism for coordinating multi-echelon supply chains: A new type of revenue sharing (RS) contract mechanism for mu... (368)\n",
      "\n",
      "Avinadav et al 2015a: The paper provides a thorough investigation of the revenue s... (1719)\n",
      "\n",
      "check-Pan et al 2010-Revenue-sharing versus wholesale price mechanisms under different channel structures: We consider a supply chain channel with two manufacturers an... (733)\n",
      "\n",
      "Hu et al. 2019: We have observed four modes of cost reduction in supply chai... (1448)\n",
      "\n",
      "Yang et al 2018-Supplier encroachment under nonlinear pricing with imperfect substitutes: We explore the impact of nonlinear pricing (NP) on supplier ... (1292)\n",
      "\n",
      "Lu et al-2018-EJOR: We model a supply chain consisting of an author, a publisher... (1408)\n",
      "\n",
      "Giri et al 2017: In this paper, we consider a supply chain in which multiple ... (1251)\n",
      "\n",
      "Govindan and Malomfalean 2019: Over the past decade, a significant change has occurred in t... (1024)\n",
      "\n",
      "check-Wang et al 2004-Channel Performance under Consignment Contract with Revenue Sharing: Under a consignment contract with revenue sharing, a supplie... (1155)\n",
      "\n",
      "Sarathi et al 2014-An integrated revenue sharing and quantity discounts contract: This paper develops a combined contract model for coordinati... (729)\n",
      "\n",
      "Wang et al. 2013: We investigate a dominant retailer's optimal joint strategy ... (1386)\n",
      "\n",
      "Becker-Peth and Thonemann 2016-Reference points in revenue sharing contracts—How to design optimal: Coordinating supply chains is an important goal for contract... (871)\n",
      "\n",
      "Giovanni and Roselli 2012: In a marketing channel governed by goodwill dynamics, player... (700)\n",
      "\n",
      "Gerchak and Wang 2004-full version: A ssembly and kitting operations, as well as jointly sold pr... (1510)\n",
      "\n",
      "Li et al- 2016-WCRS: This paper considers a supply chain that consists of a manuf... (623)\n",
      "\n",
      "de Matta et al 2014: We consider two independently managed parties, a retailer an... (791)\n",
      "\n",
      "Xie et al 2017: On the background of an online/offline dual channel, this pa... (850)\n",
      "\n",
      "Shen 2018: This paper investigates a type of platform retailing, where ... (1012)\n",
      "\n",
      "Vafa Arani et al 2016-A revenue-sharing option contract toward coordination of supply chains: In this paper, a novel mixed revenue-sharing option contract... (1332)\n",
      "\n",
      "He et al 2017: In a supply chain with one risk neutral manufacturer and one... (716)\n",
      "\n",
      "Yan et al-2018-EJOR: In recent years, the increasing prevalence of online retaili... (1704)\n",
      "\n",
      "Xiao and Xu-2018-POMS: W e consider an online retailer selling a seasonal product p... (1004)\n",
      "\n",
      "Sarker 2014: This paper studies the consignment stocking policy models fo... (1666)\n",
      "\n",
      "Wang et al 2012-Three revenue-sharing variants their significant performance differences under systemparameter uncertainties: ?seq=1&cid=pdf-reference#references_tab_contents You may nee... (433)\n",
      "\n",
      "Saraswati and Hanaoka 2014-Airport–airline cooperation under commercial revenue sharing: This study analyzes airport-airline cooperation where an air... (570)\n",
      "\n",
      "Giri and Bardhan-2012: This paper deals with an integrated single-manufacturer sing... (659)\n",
      "\n",
      "Gupta and Weerawat-2006-EJOR: Manufacture-to-order is an increasingly popular strategy in ... (1009)\n",
      "\n",
      "Lim et al 2015: ... (0)\n",
      "\n",
      "Mai et al 2017: In the past two decades, many store-brand products have been... (1384)\n",
      "\n"
     ]
    }
   ],
   "source": [
    "for k, v in article_abstract_dict.items():\n",
    "    print(f'{k}: {v[:60]}... ({len(v)})\\n')\n",
    "#article_abstract_dict.__repr__()[:1000]"
   ]
  },
  {
   "cell_type": "code",
   "execution_count": 7,
   "id": "norman-oliver",
   "metadata": {},
   "outputs": [
    {
     "data": {
      "text/plain": [
       "Counter({500: 123, 0: 9, 339: 1, 422: 1, 368: 1, 433: 1})"
      ]
     },
     "execution_count": 7,
     "metadata": {},
     "output_type": "execute_result"
    }
   ],
   "source": [
    "Counter([min(len(v),500) for v in article_abstract_dict.values()])"
   ]
  },
  {
   "cell_type": "code",
   "execution_count": 8,
   "id": "cheap-causing",
   "metadata": {},
   "outputs": [],
   "source": [
    "article_abstract_dict = {k: v for k,v in article_abstract_dict.items() if len(v)>0}"
   ]
  },
  {
   "cell_type": "code",
   "execution_count": 9,
   "id": "apart-parallel",
   "metadata": {},
   "outputs": [],
   "source": [
    "bywords = {\n",
    "    'rs','revenue share contract','revenue sharing contract','revenue sharing','rs contract','contract'\n",
    "}\n",
    "def spacy_clean_tokenizer(document, chunks=True):\n",
    "    tokens = nlp(document)\n",
    "    tokens = [token.lemma_ for token in (tokens.noun_chunks if chunks else tokens)  if (\n",
    "        (chunks or token.is_stop == False) and \n",
    "        (chunks or token.is_punct == False) and \n",
    "        token.lemma_.strip()!= ''\n",
    "    )]\n",
    "    tokens = [ ' '.join([tk.lemma_ for tk in nlp(token) if not (tk.is_stop or tk.is_punct)]) \n",
    "              for token in tokens\n",
    "             ]\n",
    "    tokens = [tk for tk in tokens if len(tk) and tk not in bywords]\n",
    "    return tokens"
   ]
  },
  {
   "cell_type": "code",
   "execution_count": 10,
   "id": "circular-invasion",
   "metadata": {},
   "outputs": [
    {
     "data": {
      "text/plain": [
       "['behavior',\n",
       " 'chance factor',\n",
       " 'condition',\n",
       " 'demand uncertainty',\n",
       " 'effect',\n",
       " 'environment',\n",
       " 'extra product',\n",
       " 'feasibility',\n",
       " 'flexible ordering policy',\n",
       " 'graphical illustration',\n",
       " 'key parameter',\n",
       " 'major challenging factor',\n",
       " 'manufacturer',\n",
       " 'manufacturer',\n",
       " 'manufacturer',\n",
       " 'manufacturer Stackelberg revenue sharing contract',\n",
       " 'marketing strategy',\n",
       " 'model',\n",
       " 'model',\n",
       " 'model',\n",
       " 'numerical example',\n",
       " 'optimal decision',\n",
       " 'penalty',\n",
       " 'player',\n",
       " 'propose model',\n",
       " 'random yield',\n",
       " 'random yield',\n",
       " 'range',\n",
       " 'salvage value',\n",
       " 'sensitivity',\n",
       " 'share',\n",
       " 'stock',\n",
       " 'stocking overstock risk',\n",
       " 'study',\n",
       " 'supplier',\n",
       " 'supplier production',\n",
       " 'supply chain',\n",
       " 'uncertainty',\n",
       " 'vertical Nash approach']"
      ]
     },
     "execution_count": 10,
     "metadata": {},
     "output_type": "execute_result"
    }
   ],
   "source": [
    "sorted(spacy_clean_tokenizer(list(article_abstract_dict.values())[1]))"
   ]
  },
  {
   "cell_type": "code",
   "execution_count": 11,
   "id": "activated-bridal",
   "metadata": {},
   "outputs": [
    {
     "name": "stdout",
     "output_type": "stream",
     "text": [
      "[154, 159, 233, 115, 180, 195, 214, 242, 251, 231, 200, 144, 164, 261, 299, 158, 87, 253, 170, 111, 227, 98, 216, 132, 146, 51, 273, 181, 147, 55, 175, 102, 181, 151, 177, 216, 97, 176, 150, 125, 161, 220, 159, 156, 146, 124, 202, 243, 178, 189, 172, 167, 123, 183, 114, 141, 259, 275, 127, 216, 230, 174, 125, 197, 143, 223, 130, 159, 174, 184, 144, 213, 260, 220, 232, 191, 94, 214, 308, 235, 218, 198, 233, 161, 182, 99, 234, 144, 141, 132, 189, 196, 126, 93, 198, 188, 96, 193, 209, 55, 254, 107, 225, 196, 217, 197, 152, 182, 112, 213, 125, 103, 220, 97, 124, 115, 146, 197, 100, 248, 158, 227, 62, 83, 101, 144, 198]\n"
     ]
    }
   ],
   "source": [
    "print([len(v.split()) for v in article_abstract_dict.values()])"
   ]
  },
  {
   "cell_type": "code",
   "execution_count": 12,
   "id": "frank-plastic",
   "metadata": {},
   "outputs": [
    {
     "data": {
      "text/plain": [
       "<127x2350 sparse matrix of type '<class 'numpy.float64'>'\n",
       "\twith 3937 stored elements in Compressed Sparse Row format>"
      ]
     },
     "execution_count": 12,
     "metadata": {},
     "output_type": "execute_result"
    }
   ],
   "source": [
    "tfidf_vectorizer = TfidfVectorizer(input = 'content', tokenizer = spacy_clean_tokenizer)\n",
    "\n",
    "result = tfidf_vectorizer.fit_transform(iter(article_abstract_dict.values()))\n",
    "result\n"
   ]
  },
  {
   "cell_type": "code",
   "execution_count": 13,
   "id": "casual-yorkshire",
   "metadata": {},
   "outputs": [
    {
     "data": {
      "text/plain": [
       "<matplotlib.image.AxesImage at 0x7f34d1aa63d0>"
      ]
     },
     "execution_count": 13,
     "metadata": {},
     "output_type": "execute_result"
    },
    {
     "data": {
      "image/png": "[encoded data removed]",
      "text/plain": [
       "<Figure size 864x288 with 1 Axes>"
      ]
     },
     "metadata": {
      "needs_background": "light"
     },
     "output_type": "display_data"
    }
   ],
   "source": [
    "n_clusters=5\n",
    "kmeans = KMeans(n_clusters=n_clusters,random_state=1015).fit(result)\n",
    "\n",
    "kmeans.cluster_centers_.shape\n",
    "\n",
    "import matplotlib.pyplot as plt\n",
    "plt.figure(figsize=(12,4))\n",
    "plt.imshow(kmeans.cluster_centers_,aspect=40,vmax=0.03)"
   ]
  },
  {
   "cell_type": "code",
   "execution_count": 14,
   "id": "relevant-mileage",
   "metadata": {},
   "outputs": [
    {
     "data": {
      "text/plain": [
       "[(0.062082592724887364, 'retailer'),\n",
       " (0.05966898609343989, 'manufacturer'),\n",
       " (0.05932134675623506, 'supplier'),\n",
       " (0.05002665242081504, 'supply chain'),\n",
       " (0.03314918998829576, 'paper'),\n",
       " (0.029486867578095148, 'model'),\n",
       " (0.021763779408979857, 'result'),\n",
       " (0.019915187143787, 'product'),\n",
       " (0.019901976704274054, 'profit'),\n",
       " (0.019491523746144632, 'impact'),\n",
       " (0.01935248460090779, 'coordination'),\n",
       " (0.019318247652234895, 'demand')]"
      ]
     },
     "execution_count": 14,
     "metadata": {},
     "output_type": "execute_result"
    }
   ],
   "source": [
    "\n",
    "mean_coord = kmeans.cluster_centers_.mean(axis=0)\n",
    "mean_words = sorted(zip(mean_coord, tfidf_vectorizer.get_feature_names()),reverse=True)[:12]\n",
    "mean_words"
   ]
  },
  {
   "cell_type": "code",
   "execution_count": 15,
   "id": "thick-profit",
   "metadata": {},
   "outputs": [
    {
     "data": {
      "text/plain": [
       "[[(0.03886682903359541, 'manufacturer'),\n",
       "  (0.0329684112929088, 'firm'),\n",
       "  (0.029441216574130277, 'vendor'),\n",
       "  (0.023807326713361974, 'quality'),\n",
       "  (0.021862618174779695, 'cooperative program'),\n",
       "  (0.021524298124836465, 'app'),\n",
       "  (0.01934979803573527, 'm&a'),\n",
       "  (0.01886346585522016, 'consignment contract'),\n",
       "  (0.018240431277012817, 'optimal value'),\n",
       "  (0.017810145189827535, 'p2p'),\n",
       "  (0.017158967021783402, 'investment'),\n",
       "  (0.01700831403701611, 'consumer')],\n",
       " [(0.042876676690406984, 'supply chain'),\n",
       "  (0.035549988385238984, 'buyer'),\n",
       "  (0.027854070334067005, 'quick response'),\n",
       "  (0.024185175447530922, 'insurance contract'),\n",
       "  (0.022766940550321517, 'business'),\n",
       "  (0.02119777546265274, 'product substitution'),\n",
       "  (0.020709265057789833, 'decision sequence'),\n",
       "  (0.019141810749959985, 'loss averse retailer'),\n",
       "  (0.01875219513847424, 'er'),\n",
       "  (0.01831536717841823, 'pareto improvement'),\n",
       "  (0.01821213254023759, 'risk diversification contract'),\n",
       "  (0.01775635030062708, 'coordination')]]"
      ]
     },
     "execution_count": 15,
     "metadata": {},
     "output_type": "execute_result"
    }
   ],
   "source": [
    "cc = kmeans.cluster_centers_\n",
    "k = []\n",
    "for i in range(n_clusters):\n",
    "    k.append(sorted(zip(cc[i,:]-mean_coord, tfidf_vectorizer.get_feature_names()),reverse=True)[:12])\n",
    "\n",
    "k[:2]"
   ]
  },
  {
   "cell_type": "code",
   "execution_count": 16,
   "id": "renewable-spending",
   "metadata": {},
   "outputs": [],
   "source": [
    "k50 = []\n",
    "for i in range(n_clusters):\n",
    "    k50.append(sorted(zip(cc[i,:]-mean_coord, tfidf_vectorizer.get_feature_names()),reverse=True)[:50])\n",
    "\n"
   ]
  },
  {
   "cell_type": "code",
   "execution_count": 17,
   "id": "medical-cache",
   "metadata": {},
   "outputs": [
    {
     "data": {
      "text/plain": [
       "[(0.03886682903359541, 'manufacturer'),\n",
       " (0.0329684112929088, 'firm'),\n",
       " (0.029441216574130277, 'vendor'),\n",
       " (0.023807326713361974, 'quality'),\n",
       " (0.021862618174779695, 'cooperative program'),\n",
       " (0.021524298124836465, 'app'),\n",
       " (0.01934979803573527, 'm&a'),\n",
       " (0.01886346585522016, 'consignment contract'),\n",
       " (0.018240431277012817, 'optimal value'),\n",
       " (0.017810145189827535, 'p2p'),\n",
       " (0.017158967021783402, 'investment'),\n",
       " (0.01700831403701611, 'consumer'),\n",
       " (0.01668752759456803, 'chain'),\n",
       " (0.015729602900530756, 'cooperation'),\n",
       " (0.015092460416181749, '3pl provider'),\n",
       " (0.01475416764611347, 'rq'),\n",
       " (0.014722745474060583, 'retail price'),\n",
       " (0.014323936027289567, 'return'),\n",
       " (0.013609158921971232, 'party'),\n",
       " (0.013397620606144163, 'r'),\n",
       " (0.013070668626570733, 'developer'),\n",
       " (0.012896488617382965, 'price discount mechanism'),\n",
       " (0.012751781190931108, 'manufacturer profit'),\n",
       " (0.012747216358209974, 'effect'),\n",
       " (0.012721532278448239, 'cc'),\n",
       " (0.012688567211573853, 'operation'),\n",
       " (0.01250398467386143, 'cooperative advertising program'),\n",
       " (0.01242475166854762, 'software'),\n",
       " (0.012208691241134394, 'partner'),\n",
       " (0.012156483667616676, 'defective rate'),\n",
       " (0.011803334116890777, 'mover advantage'),\n",
       " (0.011657716375367166, 'system'),\n",
       " (0.011504643624066693, 'strategy'),\n",
       " (0.01147727668977643, 'advantage'),\n",
       " (0.011368562318335437, 'ownership'),\n",
       " (0.011289962548407417, 'retailer'),\n",
       " (0.011273450772530301, 'account'),\n",
       " (0.011134941145172895, 'sale'),\n",
       " (0.010705986847231962, 'different attitude'),\n",
       " (0.010496030486697056, 'sale effort'),\n",
       " (0.010460603877324655, 'port'),\n",
       " (0.010456405521425466, 'final product'),\n",
       " (0.010407285043174268, 'report'),\n",
       " (0.010008581712203897, 'supply chain member'),\n",
       " (0.009834016188355133, 'supply chain profit'),\n",
       " (0.009828418046318978, 'cost learn'),\n",
       " (0.00957897070353313, 'spillover'),\n",
       " (0.00957897070353313, 'marketplace channel'),\n",
       " (0.00957897070353313, 'e tailer'),\n",
       " (0.009411698650378704, 'extent')]"
      ]
     },
     "execution_count": 17,
     "metadata": {},
     "output_type": "execute_result"
    }
   ],
   "source": [
    "k50[0]"
   ]
  },
  {
   "cell_type": "code",
   "execution_count": 18,
   "id": "structural-aviation",
   "metadata": {},
   "outputs": [
    {
     "data": {
      "text/html": [
       "<div>\n",
       "<style scoped>\n",
       "    .dataframe tbody tr th:only-of-type {\n",
       "        vertical-align: middle;\n",
       "    }\n",
       "\n",
       "    .dataframe tbody tr th {\n",
       "        vertical-align: top;\n",
       "    }\n",
       "\n",
       "    .dataframe thead th {\n",
       "        text-align: right;\n",
       "    }\n",
       "</style>\n",
       "<table border=\"1\" class=\"dataframe\">\n",
       "  <thead>\n",
       "    <tr style=\"text-align: right;\">\n",
       "      <th></th>\n",
       "      <th>cluster</th>\n",
       "      <th>words</th>\n",
       "      <th>score</th>\n",
       "    </tr>\n",
       "  </thead>\n",
       "  <tbody>\n",
       "    <tr>\n",
       "      <th>0</th>\n",
       "      <td>0</td>\n",
       "      <td>manufacturer</td>\n",
       "      <td>0.038867</td>\n",
       "    </tr>\n",
       "    <tr>\n",
       "      <th>1</th>\n",
       "      <td>0</td>\n",
       "      <td>firm</td>\n",
       "      <td>0.032968</td>\n",
       "    </tr>\n",
       "    <tr>\n",
       "      <th>2</th>\n",
       "      <td>0</td>\n",
       "      <td>vendor</td>\n",
       "      <td>0.029441</td>\n",
       "    </tr>\n",
       "    <tr>\n",
       "      <th>3</th>\n",
       "      <td>0</td>\n",
       "      <td>quality</td>\n",
       "      <td>0.023807</td>\n",
       "    </tr>\n",
       "    <tr>\n",
       "      <th>4</th>\n",
       "      <td>0</td>\n",
       "      <td>cooperative program</td>\n",
       "      <td>0.021863</td>\n",
       "    </tr>\n",
       "    <tr>\n",
       "      <th>5</th>\n",
       "      <td>0</td>\n",
       "      <td>app</td>\n",
       "      <td>0.021524</td>\n",
       "    </tr>\n",
       "    <tr>\n",
       "      <th>6</th>\n",
       "      <td>0</td>\n",
       "      <td>m&amp;a</td>\n",
       "      <td>0.019350</td>\n",
       "    </tr>\n",
       "    <tr>\n",
       "      <th>7</th>\n",
       "      <td>0</td>\n",
       "      <td>consignment contract</td>\n",
       "      <td>0.018863</td>\n",
       "    </tr>\n",
       "    <tr>\n",
       "      <th>8</th>\n",
       "      <td>0</td>\n",
       "      <td>optimal value</td>\n",
       "      <td>0.018240</td>\n",
       "    </tr>\n",
       "    <tr>\n",
       "      <th>9</th>\n",
       "      <td>0</td>\n",
       "      <td>p2p</td>\n",
       "      <td>0.017810</td>\n",
       "    </tr>\n",
       "    <tr>\n",
       "      <th>10</th>\n",
       "      <td>0</td>\n",
       "      <td>investment</td>\n",
       "      <td>0.017159</td>\n",
       "    </tr>\n",
       "    <tr>\n",
       "      <th>11</th>\n",
       "      <td>0</td>\n",
       "      <td>consumer</td>\n",
       "      <td>0.017008</td>\n",
       "    </tr>\n",
       "    <tr>\n",
       "      <th>0</th>\n",
       "      <td>1</td>\n",
       "      <td>supply chain</td>\n",
       "      <td>0.042877</td>\n",
       "    </tr>\n",
       "    <tr>\n",
       "      <th>1</th>\n",
       "      <td>1</td>\n",
       "      <td>buyer</td>\n",
       "      <td>0.035550</td>\n",
       "    </tr>\n",
       "    <tr>\n",
       "      <th>2</th>\n",
       "      <td>1</td>\n",
       "      <td>quick response</td>\n",
       "      <td>0.027854</td>\n",
       "    </tr>\n",
       "    <tr>\n",
       "      <th>3</th>\n",
       "      <td>1</td>\n",
       "      <td>insurance contract</td>\n",
       "      <td>0.024185</td>\n",
       "    </tr>\n",
       "    <tr>\n",
       "      <th>4</th>\n",
       "      <td>1</td>\n",
       "      <td>business</td>\n",
       "      <td>0.022767</td>\n",
       "    </tr>\n",
       "    <tr>\n",
       "      <th>5</th>\n",
       "      <td>1</td>\n",
       "      <td>product substitution</td>\n",
       "      <td>0.021198</td>\n",
       "    </tr>\n",
       "    <tr>\n",
       "      <th>6</th>\n",
       "      <td>1</td>\n",
       "      <td>decision sequence</td>\n",
       "      <td>0.020709</td>\n",
       "    </tr>\n",
       "    <tr>\n",
       "      <th>7</th>\n",
       "      <td>1</td>\n",
       "      <td>loss averse retailer</td>\n",
       "      <td>0.019142</td>\n",
       "    </tr>\n",
       "    <tr>\n",
       "      <th>8</th>\n",
       "      <td>1</td>\n",
       "      <td>er</td>\n",
       "      <td>0.018752</td>\n",
       "    </tr>\n",
       "    <tr>\n",
       "      <th>9</th>\n",
       "      <td>1</td>\n",
       "      <td>pareto improvement</td>\n",
       "      <td>0.018315</td>\n",
       "    </tr>\n",
       "    <tr>\n",
       "      <th>10</th>\n",
       "      <td>1</td>\n",
       "      <td>risk diversification contract</td>\n",
       "      <td>0.018212</td>\n",
       "    </tr>\n",
       "    <tr>\n",
       "      <th>11</th>\n",
       "      <td>1</td>\n",
       "      <td>coordination</td>\n",
       "      <td>0.017756</td>\n",
       "    </tr>\n",
       "    <tr>\n",
       "      <th>0</th>\n",
       "      <td>2</td>\n",
       "      <td>model</td>\n",
       "      <td>0.057556</td>\n",
       "    </tr>\n",
       "    <tr>\n",
       "      <th>1</th>\n",
       "      <td>2</td>\n",
       "      <td>player</td>\n",
       "      <td>0.035539</td>\n",
       "    </tr>\n",
       "    <tr>\n",
       "      <th>2</th>\n",
       "      <td>2</td>\n",
       "      <td>sc actor</td>\n",
       "      <td>0.035281</td>\n",
       "    </tr>\n",
       "    <tr>\n",
       "      <th>3</th>\n",
       "      <td>2</td>\n",
       "      <td>agency model</td>\n",
       "      <td>0.034074</td>\n",
       "    </tr>\n",
       "    <tr>\n",
       "      <th>4</th>\n",
       "      <td>2</td>\n",
       "      <td>disruption</td>\n",
       "      <td>0.025398</td>\n",
       "    </tr>\n",
       "    <tr>\n",
       "      <th>5</th>\n",
       "      <td>2</td>\n",
       "      <td>member</td>\n",
       "      <td>0.024213</td>\n",
       "    </tr>\n",
       "    <tr>\n",
       "      <th>6</th>\n",
       "      <td>2</td>\n",
       "      <td>reliability</td>\n",
       "      <td>0.023500</td>\n",
       "    </tr>\n",
       "    <tr>\n",
       "      <th>7</th>\n",
       "      <td>2</td>\n",
       "      <td>contract parameter</td>\n",
       "      <td>0.021148</td>\n",
       "    </tr>\n",
       "    <tr>\n",
       "      <th>8</th>\n",
       "      <td>2</td>\n",
       "      <td>rsc</td>\n",
       "      <td>0.020782</td>\n",
       "    </tr>\n",
       "    <tr>\n",
       "      <th>9</th>\n",
       "      <td>2</td>\n",
       "      <td>supply chain</td>\n",
       "      <td>0.020625</td>\n",
       "    </tr>\n",
       "    <tr>\n",
       "      <th>10</th>\n",
       "      <td>2</td>\n",
       "      <td>tape</td>\n",
       "      <td>0.018615</td>\n",
       "    </tr>\n",
       "    <tr>\n",
       "      <th>11</th>\n",
       "      <td>2</td>\n",
       "      <td>inventory</td>\n",
       "      <td>0.017386</td>\n",
       "    </tr>\n",
       "    <tr>\n",
       "      <th>0</th>\n",
       "      <td>3</td>\n",
       "      <td>supplier</td>\n",
       "      <td>0.155306</td>\n",
       "    </tr>\n",
       "    <tr>\n",
       "      <th>1</th>\n",
       "      <td>3</td>\n",
       "      <td>retailer</td>\n",
       "      <td>0.067389</td>\n",
       "    </tr>\n",
       "    <tr>\n",
       "      <th>2</th>\n",
       "      <td>3</td>\n",
       "      <td>wholesale price contract</td>\n",
       "      <td>0.042651</td>\n",
       "    </tr>\n",
       "    <tr>\n",
       "      <th>3</th>\n",
       "      <td>3</td>\n",
       "      <td>consignment contract</td>\n",
       "      <td>0.035027</td>\n",
       "    </tr>\n",
       "    <tr>\n",
       "      <th>4</th>\n",
       "      <td>3</td>\n",
       "      <td>buyback revenue share contract</td>\n",
       "      <td>0.018103</td>\n",
       "    </tr>\n",
       "    <tr>\n",
       "      <th>5</th>\n",
       "      <td>3</td>\n",
       "      <td>retailer differentiation</td>\n",
       "      <td>0.017152</td>\n",
       "    </tr>\n",
       "    <tr>\n",
       "      <th>6</th>\n",
       "      <td>3</td>\n",
       "      <td>basic model</td>\n",
       "      <td>0.017070</td>\n",
       "    </tr>\n",
       "    <tr>\n",
       "      <th>7</th>\n",
       "      <td>3</td>\n",
       "      <td>sale promotion</td>\n",
       "      <td>0.016530</td>\n",
       "    </tr>\n",
       "    <tr>\n",
       "      <th>8</th>\n",
       "      <td>3</td>\n",
       "      <td>contract type</td>\n",
       "      <td>0.016057</td>\n",
       "    </tr>\n",
       "    <tr>\n",
       "      <th>9</th>\n",
       "      <td>3</td>\n",
       "      <td>certain threshold</td>\n",
       "      <td>0.015962</td>\n",
       "    </tr>\n",
       "    <tr>\n",
       "      <th>10</th>\n",
       "      <td>3</td>\n",
       "      <td>online retailer</td>\n",
       "      <td>0.014547</td>\n",
       "    </tr>\n",
       "    <tr>\n",
       "      <th>11</th>\n",
       "      <td>3</td>\n",
       "      <td>supply chain channel</td>\n",
       "      <td>0.014396</td>\n",
       "    </tr>\n",
       "    <tr>\n",
       "      <th>0</th>\n",
       "      <td>4</td>\n",
       "      <td>manufacturer</td>\n",
       "      <td>0.060732</td>\n",
       "    </tr>\n",
       "    <tr>\n",
       "      <th>1</th>\n",
       "      <td>4</td>\n",
       "      <td>csr</td>\n",
       "      <td>0.033363</td>\n",
       "    </tr>\n",
       "    <tr>\n",
       "      <th>2</th>\n",
       "      <td>4</td>\n",
       "      <td>wholesale price</td>\n",
       "      <td>0.025672</td>\n",
       "    </tr>\n",
       "    <tr>\n",
       "      <th>3</th>\n",
       "      <td>4</td>\n",
       "      <td>platform</td>\n",
       "      <td>0.020231</td>\n",
       "    </tr>\n",
       "    <tr>\n",
       "      <th>4</th>\n",
       "      <td>4</td>\n",
       "      <td>compete retailer</td>\n",
       "      <td>0.018871</td>\n",
       "    </tr>\n",
       "    <tr>\n",
       "      <th>5</th>\n",
       "      <td>4</td>\n",
       "      <td>channel coordination</td>\n",
       "      <td>0.018224</td>\n",
       "    </tr>\n",
       "    <tr>\n",
       "      <th>6</th>\n",
       "      <td>4</td>\n",
       "      <td>demand variability</td>\n",
       "      <td>0.017740</td>\n",
       "    </tr>\n",
       "    <tr>\n",
       "      <th>7</th>\n",
       "      <td>4</td>\n",
       "      <td>jstor</td>\n",
       "      <td>0.017340</td>\n",
       "    </tr>\n",
       "    <tr>\n",
       "      <th>8</th>\n",
       "      <td>4</td>\n",
       "      <td>platform retailer</td>\n",
       "      <td>0.017165</td>\n",
       "    </tr>\n",
       "    <tr>\n",
       "      <th>9</th>\n",
       "      <td>4</td>\n",
       "      <td>reward</td>\n",
       "      <td>0.017115</td>\n",
       "    </tr>\n",
       "    <tr>\n",
       "      <th>10</th>\n",
       "      <td>4</td>\n",
       "      <td>channel profit</td>\n",
       "      <td>0.017067</td>\n",
       "    </tr>\n",
       "    <tr>\n",
       "      <th>11</th>\n",
       "      <td>4</td>\n",
       "      <td>extended warranty</td>\n",
       "      <td>0.016955</td>\n",
       "    </tr>\n",
       "  </tbody>\n",
       "</table>\n",
       "</div>"
      ],
      "text/plain": [
       "    cluster                           words     score\n",
       "0         0                    manufacturer  0.038867\n",
       "1         0                            firm  0.032968\n",
       "2         0                          vendor  0.029441\n",
       "3         0                         quality  0.023807\n",
       "4         0             cooperative program  0.021863\n",
       "5         0                             app  0.021524\n",
       "6         0                             m&a  0.019350\n",
       "7         0            consignment contract  0.018863\n",
       "8         0                   optimal value  0.018240\n",
       "9         0                             p2p  0.017810\n",
       "10        0                      investment  0.017159\n",
       "11        0                        consumer  0.017008\n",
       "0         1                    supply chain  0.042877\n",
       "1         1                           buyer  0.035550\n",
       "2         1                  quick response  0.027854\n",
       "3         1              insurance contract  0.024185\n",
       "4         1                        business  0.022767\n",
       "5         1            product substitution  0.021198\n",
       "6         1               decision sequence  0.020709\n",
       "7         1            loss averse retailer  0.019142\n",
       "8         1                              er  0.018752\n",
       "9         1              pareto improvement  0.018315\n",
       "10        1   risk diversification contract  0.018212\n",
       "11        1                    coordination  0.017756\n",
       "0         2                           model  0.057556\n",
       "1         2                          player  0.035539\n",
       "2         2                        sc actor  0.035281\n",
       "3         2                    agency model  0.034074\n",
       "4         2                      disruption  0.025398\n",
       "5         2                          member  0.024213\n",
       "6         2                     reliability  0.023500\n",
       "7         2              contract parameter  0.021148\n",
       "8         2                             rsc  0.020782\n",
       "9         2                    supply chain  0.020625\n",
       "10        2                            tape  0.018615\n",
       "11        2                       inventory  0.017386\n",
       "0         3                        supplier  0.155306\n",
       "1         3                        retailer  0.067389\n",
       "2         3        wholesale price contract  0.042651\n",
       "3         3            consignment contract  0.035027\n",
       "4         3  buyback revenue share contract  0.018103\n",
       "5         3        retailer differentiation  0.017152\n",
       "6         3                     basic model  0.017070\n",
       "7         3                  sale promotion  0.016530\n",
       "8         3                   contract type  0.016057\n",
       "9         3               certain threshold  0.015962\n",
       "10        3                 online retailer  0.014547\n",
       "11        3            supply chain channel  0.014396\n",
       "0         4                    manufacturer  0.060732\n",
       "1         4                             csr  0.033363\n",
       "2         4                 wholesale price  0.025672\n",
       "3         4                        platform  0.020231\n",
       "4         4                compete retailer  0.018871\n",
       "5         4            channel coordination  0.018224\n",
       "6         4              demand variability  0.017740\n",
       "7         4                           jstor  0.017340\n",
       "8         4               platform retailer  0.017165\n",
       "9         4                          reward  0.017115\n",
       "10        4                  channel profit  0.017067\n",
       "11        4               extended warranty  0.016955"
      ]
     },
     "execution_count": 18,
     "metadata": {},
     "output_type": "execute_result"
    }
   ],
   "source": [
    "df = pd.concat([pd.DataFrame(data=v, columns= ['score','words']) for i,v in enumerate(k)],axis=0)\n",
    "df['cluster'] = sum([[i]*12 for i in range(n_clusters)],[]) \n",
    "df = df[df.columns[::-1]]\n",
    "df"
   ]
  },
  {
   "cell_type": "code",
   "execution_count": 19,
   "id": "settled-forum",
   "metadata": {},
   "outputs": [
    {
     "data": {
      "text/plain": [
       "cluster\n",
       "0    manufacturer; firm; vendor; quality; cooperati...\n",
       "1    supply chain; buyer; quick response; insurance...\n",
       "2    model; player; sc actor; agency model; disrupt...\n",
       "3    supplier; retailer; wholesale price contract; ...\n",
       "4    manufacturer; csr; wholesale price; platform; ...\n",
       "Name: words, dtype: object"
      ]
     },
     "execution_count": 19,
     "metadata": {},
     "output_type": "execute_result"
    }
   ],
   "source": [
    "df.groupby('cluster')['words'].apply( lambda w: '; '.join(w))"
   ]
  },
  {
   "cell_type": "code",
   "execution_count": 20,
   "id": "sustained-enterprise",
   "metadata": {},
   "outputs": [
    {
     "data": {
      "text/plain": [
       "'/home/siegman/Documents/Shahar/years/y2021/t_and_t/code'"
      ]
     },
     "execution_count": 20,
     "metadata": {},
     "output_type": "execute_result"
    }
   ],
   "source": [
    "pwd"
   ]
  },
  {
   "cell_type": "code",
   "execution_count": 21,
   "id": "athletic-jersey",
   "metadata": {},
   "outputs": [],
   "source": [
    "df.to_excel('revenue_review_tf_idf_cluster_main_words_5_clusters.xlsx', index=False)"
   ]
  },
  {
   "cell_type": "code",
   "execution_count": 22,
   "id": "returning-interface",
   "metadata": {},
   "outputs": [
    {
     "data": {
      "text/plain": [
       "array([3, 2, 0, 4, 2, 0, 4, 2, 4, 4, 0, 1, 3, 4, 3, 3, 4, 2, 3, 1, 2, 0,\n",
       "       1, 2, 3, 0, 4, 4, 0, 2, 1, 1, 4, 1, 3, 4, 1, 1, 0, 4, 0, 4, 0, 1,\n",
       "       1, 0, 0, 2, 3, 0, 2, 0, 3, 0, 1, 1, 3, 2, 4, 4, 0, 0, 2, 0, 4, 0,\n",
       "       1, 0, 4, 4, 3, 2, 2, 4, 0, 3, 1, 1, 4, 0, 3, 3, 4, 3, 3, 2, 4, 3,\n",
       "       0, 2, 3, 2, 3, 1, 0, 1, 4, 3, 3, 0, 0, 3, 0, 3, 2, 0, 1, 3, 2, 4,\n",
       "       2, 2, 3, 1, 3, 4, 3, 0, 1, 0, 3, 2, 4, 4, 4, 4, 4], dtype=int32)"
      ]
     },
     "execution_count": 22,
     "metadata": {},
     "output_type": "execute_result"
    }
   ],
   "source": [
    "kmeans.predict(result)\n"
   ]
  },
  {
   "cell_type": "code",
   "execution_count": 31,
   "id": "placed-explanation",
   "metadata": {},
   "outputs": [],
   "source": [
    "cluster_affinity = np.array([3, 2, 0, 4, 2, 0, 4, 2, 4, 4, 0, 1, 3, 4, 3, 3, 4, 2, 3, 1, 2, 0,\n",
    "       1, 2, 3, 0, 4, 4, 0, 2, 1, 1, 4, 1, 3, 4, 1, 1, 0, 4, 0, 4, 0, 1,\n",
    "       1, 0, 0, 2, 3, 0, 2, 0, 3, 0, 1, 1, 3, 2, 4, 4, 0, 0, 2, 0, 4, 0,\n",
    "       1, 0, 4, 4, 3, 2, 2, 4, 0, 3, 1, 1, 4, 0, 3, 3, 4, 3, 3, 2, 4, 3,\n",
    "       0, 2, 3, 2, 3, 1, 0, 1, 4, 3, 3, 0, 0, 3, 0, 3, 2, 0, 1, 3, 2, 4,\n",
    "       2, 2, 3, 1, 3, 4, 3, 0, 1, 0, 3, 2, 4, 4, 4, 4, 4],\n",
    "      dtype=np.int32)"
   ]
  },
  {
   "cell_type": "code",
   "execution_count": 24,
   "id": "alleged-childhood",
   "metadata": {},
   "outputs": [],
   "source": [
    "# cluster_affinity = np.array([5, 7, 2, 3, 3, 4, 3, 1, 3, 4, 5, 4, 5, 3, 5, 5, 2, 6, 5, 5, 1, 6,\n",
    "#        5, 4, 5, 3, 1, 3, 3, 6, 5, 5, 5, 4, 5, 2, 5, 5, 4, 3, 1, 4, 4, 2,\n",
    "#        4, 0, 6, 2, 7, 5, 4, 2, 2, 2, 4, 5, 2, 5, 4, 0, 2, 1, 4, 1, 7, 5,\n",
    "#        3, 3, 7, 5, 3, 2, 5, 7, 7, 1, 3, 5, 1, 6, 2, 0, 5, 4, 0, 5, 4, 7,\n",
    "#        3, 5, 4, 4, 2, 2, 5, 1, 3, 7, 3, 5, 5, 6, 6, 2, 1, 1, 2, 4, 7, 5,\n",
    "#        5, 5, 2, 3, 5, 1, 5, 1, 5, 3, 5, 3, 5, 0, 7, 5, 6, 3, 5, 3, 4],\n",
    "#       dtype=np.int32)"
   ]
  },
  {
   "cell_type": "code",
   "execution_count": 32,
   "id": "oriented-wichita",
   "metadata": {},
   "outputs": [],
   "source": [
    "cluster_sets =[[x[1] for x in k] for k in k50]"
   ]
  },
  {
   "cell_type": "code",
   "execution_count": 33,
   "id": "missing-pantyhose",
   "metadata": {},
   "outputs": [],
   "source": [
    "article_tokens = {k: set(spacy_clean_tokenizer(v)) for k,v in article_abstract_dict.items()}"
   ]
  },
  {
   "cell_type": "code",
   "execution_count": 34,
   "id": "impossible-stations",
   "metadata": {},
   "outputs": [],
   "source": [
    "from collections import Counter\n",
    "c = Counter()\n",
    "for v in article_tokens.values():\n",
    "    c.update(v)\n",
    "    "
   ]
  },
  {
   "cell_type": "code",
   "execution_count": 35,
   "id": "incorrect-honduras",
   "metadata": {},
   "outputs": [
    {
     "data": {
      "text/plain": [
       "2347"
      ]
     },
     "execution_count": 35,
     "metadata": {},
     "output_type": "execute_result"
    }
   ],
   "source": [
    "len(c)"
   ]
  },
  {
   "cell_type": "code",
   "execution_count": 39,
   "id": "consistent-endorsement",
   "metadata": {},
   "outputs": [],
   "source": [
    "def get_article_indetifiers():\n",
    "    for (article_name, article_words), cluster  in \\\n",
    "            zip(article_tokens.items(), cluster_affinity):\n",
    "        cluster_words = cluster_sets[cluster]\n",
    "        joint_words = [word for word in cluster_words if word in article_words and c[word]>=3][:15]\n",
    "        yield article_name, cluster, joint_words"
   ]
  },
  {
   "cell_type": "code",
   "execution_count": 40,
   "id": "competitive-press",
   "metadata": {},
   "outputs": [
    {
     "data": {
      "text/html": [
       "<div>\n",
       "<style scoped>\n",
       "    .dataframe tbody tr th:only-of-type {\n",
       "        vertical-align: middle;\n",
       "    }\n",
       "\n",
       "    .dataframe tbody tr th {\n",
       "        vertical-align: top;\n",
       "    }\n",
       "\n",
       "    .dataframe thead th {\n",
       "        text-align: right;\n",
       "    }\n",
       "</style>\n",
       "<table border=\"1\" class=\"dataframe\">\n",
       "  <thead>\n",
       "    <tr style=\"text-align: right;\">\n",
       "      <th></th>\n",
       "      <th>article_name</th>\n",
       "      <th>cluster</th>\n",
       "      <th>article_words</th>\n",
       "    </tr>\n",
       "  </thead>\n",
       "  <tbody>\n",
       "    <tr>\n",
       "      <th>74</th>\n",
       "      <td>Avinadav T. 2020-IJPE</td>\n",
       "      <td>0</td>\n",
       "      <td>manufacturer, investment, party, retailer, acc...</td>\n",
       "    </tr>\n",
       "    <tr>\n",
       "      <th>100</th>\n",
       "      <td>Avinadav et al 2015a</td>\n",
       "      <td>0</td>\n",
       "      <td>quality, consignment contract, investment, eff...</td>\n",
       "    </tr>\n",
       "    <tr>\n",
       "      <th>51</th>\n",
       "      <td>Avinadav et al. 2017</td>\n",
       "      <td>0</td>\n",
       "      <td>quality, consumer, party, effect</td>\n",
       "    </tr>\n",
       "    <tr>\n",
       "      <th>45</th>\n",
       "      <td>Avinadav et al.- 2015b</td>\n",
       "      <td>0</td>\n",
       "      <td>quality, consignment contract, effect, strateg...</td>\n",
       "    </tr>\n",
       "    <tr>\n",
       "      <th>5</th>\n",
       "      <td>Buratto et al - 2019</td>\n",
       "      <td>0</td>\n",
       "      <td>manufacturer, quality, cooperative program, co...</td>\n",
       "    </tr>\n",
       "    <tr>\n",
       "      <th>...</th>\n",
       "      <td>...</td>\n",
       "      <td>...</td>\n",
       "      <td>...</td>\n",
       "    </tr>\n",
       "    <tr>\n",
       "      <th>78</th>\n",
       "      <td>Yao et al. 2008a</td>\n",
       "      <td>4</td>\n",
       "      <td>manufacturer, demand variability, channel prof...</td>\n",
       "    </tr>\n",
       "    <tr>\n",
       "      <th>59</th>\n",
       "      <td>Yao et al. 2008b</td>\n",
       "      <td>4</td>\n",
       "      <td>manufacturer, compete retailer, demand variabi...</td>\n",
       "    </tr>\n",
       "    <tr>\n",
       "      <th>82</th>\n",
       "      <td>Zhang et al 2019</td>\n",
       "      <td>4</td>\n",
       "      <td>manufacturer</td>\n",
       "    </tr>\n",
       "    <tr>\n",
       "      <th>69</th>\n",
       "      <td>check-Xu et al 2014-Coordinating a dual-channe...</td>\n",
       "      <td>4</td>\n",
       "      <td>manufacturer, channel coordination, supply cha...</td>\n",
       "    </tr>\n",
       "    <tr>\n",
       "      <th>35</th>\n",
       "      <td>check-Yao et al 2008-Manufacturer’s revenue-sh...</td>\n",
       "      <td>4</td>\n",
       "      <td>manufacturer, compete retailer, demand variabi...</td>\n",
       "    </tr>\n",
       "  </tbody>\n",
       "</table>\n",
       "<p>127 rows × 3 columns</p>\n",
       "</div>"
      ],
      "text/plain": [
       "                                          article_name  cluster  \\\n",
       "74                               Avinadav T. 2020-IJPE        0   \n",
       "100                               Avinadav et al 2015a        0   \n",
       "51                                Avinadav et al. 2017        0   \n",
       "45                              Avinadav et al.- 2015b        0   \n",
       "5                                 Buratto et al - 2019        0   \n",
       "..                                                 ...      ...   \n",
       "78                                    Yao et al. 2008a        4   \n",
       "59                                    Yao et al. 2008b        4   \n",
       "82                                    Zhang et al 2019        4   \n",
       "69   check-Xu et al 2014-Coordinating a dual-channe...        4   \n",
       "35   check-Yao et al 2008-Manufacturer’s revenue-sh...        4   \n",
       "\n",
       "                                         article_words  \n",
       "74   manufacturer, investment, party, retailer, acc...  \n",
       "100  quality, consignment contract, investment, eff...  \n",
       "51                    quality, consumer, party, effect  \n",
       "45   quality, consignment contract, effect, strateg...  \n",
       "5    manufacturer, quality, cooperative program, co...  \n",
       "..                                                 ...  \n",
       "78   manufacturer, demand variability, channel prof...  \n",
       "59   manufacturer, compete retailer, demand variabi...  \n",
       "82                                        manufacturer  \n",
       "69   manufacturer, channel coordination, supply cha...  \n",
       "35   manufacturer, compete retailer, demand variabi...  \n",
       "\n",
       "[127 rows x 3 columns]"
      ]
     },
     "execution_count": 40,
     "metadata": {},
     "output_type": "execute_result"
    }
   ],
   "source": [
    "cluster_summary = pd.DataFrame(\n",
    "        data=list(get_article_indetifiers()), \n",
    "        columns = 'article_name, cluster, article_words'.split(', ')\n",
    "    )\n",
    "\n",
    "cluster_summary['article_words'] = cluster_summary.article_words.map(', '.join)\n",
    "cluster_summary = cluster_summary.sort_values(['cluster','article_name'])\n",
    "cluster_summary"
   ]
  },
  {
   "cell_type": "code",
   "execution_count": 41,
   "id": "numeric-twenty",
   "metadata": {},
   "outputs": [],
   "source": [
    "cluster_summary.to_excel('revenue_review_tf_idf3_5_clusters.xlsx', index=False)"
   ]
  },
  {
   "cell_type": "code",
   "execution_count": 42,
   "id": "exceptional-christian",
   "metadata": {},
   "outputs": [
    {
     "data": {
      "text/plain": [
       "{'analysis',\n",
       " 'background',\n",
       " 'centralized decentralize dual channel close loop supply chain',\n",
       " 'centralized decision',\n",
       " 'change parameter valuation',\n",
       " 'channel',\n",
       " 'consideration',\n",
       " 'decentralized decision',\n",
       " 'feature',\n",
       " 'influence',\n",
       " 'manufacturing',\n",
       " 'numeric example',\n",
       " 'online offline dual channel',\n",
       " 'online offline price',\n",
       " 'optimal online offline price',\n",
       " 'optimal profit',\n",
       " 'recycle rate',\n",
       " 'recycle rate fluctuation',\n",
       " 'recycle revenue sharing ratio',\n",
       " 'relationship',\n",
       " 'revenue share mechanism',\n",
       " 'revenue sharing ratio',\n",
       " 'variable',\n",
       " 'wholesale price',\n",
       " 'wholesale price advertising investment'}"
      ]
     },
     "execution_count": 42,
     "metadata": {},
     "output_type": "execute_result"
    }
   ],
   "source": [
    "article_tokens['Xie et al 2017']"
   ]
  },
  {
   "cell_type": "code",
   "execution_count": 50,
   "id": "verified-madrid",
   "metadata": {},
   "outputs": [],
   "source": [
    "df2 = pd.DataFrame({'file_name': list(article_abstract_dict.keys()), 'cluster': kmeans.predict(result)})\n",
    "df2=df2.sort_values(['cluster','file_name'])"
   ]
  },
  {
   "cell_type": "code",
   "execution_count": 51,
   "id": "continued-scotland",
   "metadata": {},
   "outputs": [
    {
     "name": "stderr",
     "output_type": "stream",
     "text": [
      "<ipython-input-51-14fec56918fb>:6: SettingWithCopyWarning: \n",
      "A value is trying to be set on a copy of a slice from a DataFrame\n",
      "\n",
      "See the caveats in the documentation: https://pandas.pydata.org/pandas-docs/stable/user_guide/indexing.html#returning-a-view-versus-a-copy\n",
      "  df2['words'][gr['words'].index[0]] = word_series[cl]\n"
     ]
    }
   ],
   "source": [
    "word_series = df.groupby('cluster')['words'].apply( lambda w: '; '.join(w))\n",
    "df2['words']=''\n",
    "for cl,gr in df2.groupby('cluster'):\n",
    "#     print(cl)\n",
    "#     print(gr.columns)\n",
    "    df2['words'][gr['words'].index[0]] = word_series[cl]"
   ]
  },
  {
   "cell_type": "code",
   "execution_count": 52,
   "id": "ready-powder",
   "metadata": {},
   "outputs": [
    {
     "data": {
      "text/html": [
       "<div>\n",
       "<style scoped>\n",
       "    .dataframe tbody tr th:only-of-type {\n",
       "        vertical-align: middle;\n",
       "    }\n",
       "\n",
       "    .dataframe tbody tr th {\n",
       "        vertical-align: top;\n",
       "    }\n",
       "\n",
       "    .dataframe thead th {\n",
       "        text-align: right;\n",
       "    }\n",
       "</style>\n",
       "<table border=\"1\" class=\"dataframe\">\n",
       "  <thead>\n",
       "    <tr style=\"text-align: right;\">\n",
       "      <th></th>\n",
       "      <th>file_name</th>\n",
       "      <th>cluster</th>\n",
       "      <th>words</th>\n",
       "    </tr>\n",
       "  </thead>\n",
       "  <tbody>\n",
       "    <tr>\n",
       "      <th>74</th>\n",
       "      <td>Avinadav T. 2020-IJPE</td>\n",
       "      <td>0</td>\n",
       "      <td>manufacturer; firm; vendor; quality; cooperati...</td>\n",
       "    </tr>\n",
       "    <tr>\n",
       "      <th>100</th>\n",
       "      <td>Avinadav et al 2015a</td>\n",
       "      <td>0</td>\n",
       "      <td></td>\n",
       "    </tr>\n",
       "    <tr>\n",
       "      <th>51</th>\n",
       "      <td>Avinadav et al. 2017</td>\n",
       "      <td>0</td>\n",
       "      <td></td>\n",
       "    </tr>\n",
       "    <tr>\n",
       "      <th>45</th>\n",
       "      <td>Avinadav et al.- 2015b</td>\n",
       "      <td>0</td>\n",
       "      <td></td>\n",
       "    </tr>\n",
       "    <tr>\n",
       "      <th>5</th>\n",
       "      <td>Buratto et al - 2019</td>\n",
       "      <td>0</td>\n",
       "      <td></td>\n",
       "    </tr>\n",
       "    <tr>\n",
       "      <th>...</th>\n",
       "      <td>...</td>\n",
       "      <td>...</td>\n",
       "      <td>...</td>\n",
       "    </tr>\n",
       "    <tr>\n",
       "      <th>78</th>\n",
       "      <td>Yao et al. 2008a</td>\n",
       "      <td>4</td>\n",
       "      <td></td>\n",
       "    </tr>\n",
       "    <tr>\n",
       "      <th>59</th>\n",
       "      <td>Yao et al. 2008b</td>\n",
       "      <td>4</td>\n",
       "      <td></td>\n",
       "    </tr>\n",
       "    <tr>\n",
       "      <th>82</th>\n",
       "      <td>Zhang et al 2019</td>\n",
       "      <td>4</td>\n",
       "      <td></td>\n",
       "    </tr>\n",
       "    <tr>\n",
       "      <th>69</th>\n",
       "      <td>check-Xu et al 2014-Coordinating a dual-channe...</td>\n",
       "      <td>4</td>\n",
       "      <td></td>\n",
       "    </tr>\n",
       "    <tr>\n",
       "      <th>35</th>\n",
       "      <td>check-Yao et al 2008-Manufacturer’s revenue-sh...</td>\n",
       "      <td>4</td>\n",
       "      <td></td>\n",
       "    </tr>\n",
       "  </tbody>\n",
       "</table>\n",
       "<p>127 rows × 3 columns</p>\n",
       "</div>"
      ],
      "text/plain": [
       "                                             file_name  cluster  \\\n",
       "74                               Avinadav T. 2020-IJPE        0   \n",
       "100                               Avinadav et al 2015a        0   \n",
       "51                                Avinadav et al. 2017        0   \n",
       "45                              Avinadav et al.- 2015b        0   \n",
       "5                                 Buratto et al - 2019        0   \n",
       "..                                                 ...      ...   \n",
       "78                                    Yao et al. 2008a        4   \n",
       "59                                    Yao et al. 2008b        4   \n",
       "82                                    Zhang et al 2019        4   \n",
       "69   check-Xu et al 2014-Coordinating a dual-channe...        4   \n",
       "35   check-Yao et al 2008-Manufacturer’s revenue-sh...        4   \n",
       "\n",
       "                                                 words  \n",
       "74   manufacturer; firm; vendor; quality; cooperati...  \n",
       "100                                                     \n",
       "51                                                      \n",
       "45                                                      \n",
       "5                                                       \n",
       "..                                                 ...  \n",
       "78                                                      \n",
       "59                                                      \n",
       "82                                                      \n",
       "69                                                      \n",
       "35                                                      \n",
       "\n",
       "[127 rows x 3 columns]"
      ]
     },
     "execution_count": 52,
     "metadata": {},
     "output_type": "execute_result"
    }
   ],
   "source": [
    "df2"
   ]
  },
  {
   "cell_type": "code",
   "execution_count": null,
   "id": "needed-cleveland",
   "metadata": {},
   "outputs": [],
   "source": [
    "kmeans.cluster_centers_.shape\n"
   ]
  },
  {
   "cell_type": "code",
   "execution_count": null,
   "id": "balanced-climate",
   "metadata": {},
   "outputs": [],
   "source": [
    "df2.to_excel('revenue_review_tf_idf_cluster_contents3_5_clusters.xlsx',sheet_name='clusters', index=False)"
   ]
  },
  {
   "cell_type": "code",
   "execution_count": null,
   "id": "smooth-license",
   "metadata": {},
   "outputs": [],
   "source": [
    "pd.__version__"
   ]
  },
  {
   "cell_type": "code",
   "execution_count": null,
   "id": "vital-diagram",
   "metadata": {},
   "outputs": [],
   "source": [
    "cluster_centers_pca = PCA()\n",
    "cluster_centers_pca.fit(kmeans.cluster_centers_)"
   ]
  },
  {
   "cell_type": "code",
   "execution_count": null,
   "id": "advance-prisoner",
   "metadata": {},
   "outputs": [],
   "source": [
    "np.round(np.cumsum(cluster_centers_pca.explained_variance_ratio_),3)"
   ]
  },
  {
   "cell_type": "code",
   "execution_count": null,
   "id": "satisfactory-product",
   "metadata": {},
   "outputs": [],
   "source": [
    "cluster_centers_pca.components_ "
   ]
  },
  {
   "cell_type": "code",
   "execution_count": null,
   "id": "demonstrated-devon",
   "metadata": {},
   "outputs": [],
   "source": [
    "cluster_centers_pca = PCA(2)\n",
    "emb = cluster_centers_pca.fit_transform(kmeans.cluster_centers_)"
   ]
  },
  {
   "cell_type": "code",
   "execution_count": null,
   "id": "prescribed-verse",
   "metadata": {},
   "outputs": [],
   "source": [
    "plt.plot(emb[:,0], emb[:,1],'.')\n",
    "\n",
    "for i,r in enumerate(emb):\n",
    "    plt.text(r[0],r[1],str(i))"
   ]
  },
  {
   "cell_type": "code",
   "execution_count": 47,
   "id": "younger-beverage",
   "metadata": {},
   "outputs": [
    {
     "data": {
      "text/plain": [
       "<matplotlib.image.AxesImage at 0x7f35170db9d0>"
      ]
     },
     "execution_count": 47,
     "metadata": {},
     "output_type": "execute_result"
    },
    {
     "data": {
      "image/png": "[encoded data removed]",
      "text/plain": [
       "<Figure size 432x288 with 1 Axes>"
      ]
     },
     "metadata": {
      "needs_background": "light"
     },
     "output_type": "display_data"
    }
   ],
   "source": [
    "plt.imshow(distance_matrix(kmeans.cluster_centers_, kmeans.cluster_centers_))"
   ]
  },
  {
   "cell_type": "code",
   "execution_count": null,
   "id": "rural-inquiry",
   "metadata": {},
   "outputs": [],
   "source": [
    "np.round(distance_matrix(kmeans.cluster_centers_, kmeans.cluster_centers_).mean(axis=0),3)"
   ]
  },
  {
   "cell_type": "code",
   "execution_count": 43,
   "id": "sacred-simon",
   "metadata": {},
   "outputs": [],
   "source": [
    "\n",
    "mds = manifold.MDS(n_components=2, dissimilarity=\"euclidean\", random_state=6)\n",
    "results = mds.fit(kmeans.cluster_centers_)\n",
    "\n",
    "coords = results.embedding_\n"
   ]
  },
  {
   "cell_type": "code",
   "execution_count": 44,
   "id": "quiet-program",
   "metadata": {},
   "outputs": [
    {
     "data": {
      "image/png": "[encoded data removed]",
      "text/plain": [
       "<Figure size 432x288 with 1 Axes>"
      ]
     },
     "metadata": {
      "needs_background": "light"
     },
     "output_type": "display_data"
    }
   ],
   "source": [
    "plt.plot(coords[:,0], coords[:,1],'o')\n",
    "\n",
    "for i,r in enumerate(coords):\n",
    "    plt.text(r[0]+0.02,r[1],str(i),fontsize=12)"
   ]
  },
  {
   "cell_type": "code",
   "execution_count": 45,
   "id": "attempted-lambda",
   "metadata": {},
   "outputs": [
    {
     "data": {
      "text/plain": [
       "(127, 2350)"
      ]
     },
     "execution_count": 45,
     "metadata": {},
     "output_type": "execute_result"
    }
   ],
   "source": [
    "result.shape"
   ]
  },
  {
   "cell_type": "code",
   "execution_count": 46,
   "id": "adolescent-documentary",
   "metadata": {},
   "outputs": [
    {
     "ename": "ValueError",
     "evalue": "Found array with 0 sample(s) (shape=(0, 2350)) while a minimum of 1 is required.",
     "output_type": "error",
     "traceback": [
      "\u001b[0;31m---------------------------------------------------------------------------\u001b[0m",
      "\u001b[0;31mValueError\u001b[0m                                Traceback (most recent call last)",
      "\u001b[0;32m<ipython-input-46-704a218fd5ef>\u001b[0m in \u001b[0;36m<module>\u001b[0;34m\u001b[0m\n\u001b[1;32m      3\u001b[0m     \u001b[0mpoints\u001b[0m \u001b[0;34m=\u001b[0m \u001b[0mresult\u001b[0m\u001b[0;34m[\u001b[0m\u001b[0mcluster_affinity\u001b[0m\u001b[0;34m==\u001b[0m\u001b[0mcl\u001b[0m\u001b[0;34m,\u001b[0m\u001b[0;34m:\u001b[0m\u001b[0;34m]\u001b[0m \u001b[0;34m-\u001b[0m \u001b[0mkmeans\u001b[0m\u001b[0;34m.\u001b[0m\u001b[0mcluster_centers_\u001b[0m\u001b[0;34m[\u001b[0m\u001b[0mi\u001b[0m\u001b[0;34m,\u001b[0m\u001b[0;34m:\u001b[0m\u001b[0;34m]\u001b[0m\u001b[0;34m\u001b[0m\u001b[0;34m\u001b[0m\u001b[0m\n\u001b[1;32m      4\u001b[0m \u001b[0;34m\u001b[0m\u001b[0m\n\u001b[0;32m----> 5\u001b[0;31m     \u001b[0mpoints2d\u001b[0m \u001b[0;34m=\u001b[0m \u001b[0mmds\u001b[0m\u001b[0;34m.\u001b[0m\u001b[0mfit\u001b[0m\u001b[0;34m(\u001b[0m\u001b[0mpoints\u001b[0m\u001b[0;34m)\u001b[0m\u001b[0;34m.\u001b[0m\u001b[0membedding_\u001b[0m \u001b[0;34m+\u001b[0m \u001b[0mcoords\u001b[0m\u001b[0;34m[\u001b[0m\u001b[0mi\u001b[0m\u001b[0;34m,\u001b[0m\u001b[0;34m:\u001b[0m\u001b[0;34m]\u001b[0m\u001b[0;34m\u001b[0m\u001b[0;34m\u001b[0m\u001b[0m\n\u001b[0m\u001b[1;32m      6\u001b[0m     \u001b[0mpoint_coord\u001b[0m\u001b[0;34m.\u001b[0m\u001b[0mappend\u001b[0m\u001b[0;34m(\u001b[0m\u001b[0mpoints2d\u001b[0m\u001b[0;34m)\u001b[0m\u001b[0;34m\u001b[0m\u001b[0;34m\u001b[0m\u001b[0m\n",
      "\u001b[0;32m~/miniconda3/envs/base1/lib/python3.9/site-packages/sklearn/manifold/_mds.py\u001b[0m in \u001b[0;36mfit\u001b[0;34m(self, X, y, init)\u001b[0m\n\u001b[1;32m    395\u001b[0m             \u001b[0mchosen\u001b[0m \u001b[0marray\u001b[0m\u001b[0;34m.\u001b[0m\u001b[0;34m\u001b[0m\u001b[0;34m\u001b[0m\u001b[0m\n\u001b[1;32m    396\u001b[0m         \"\"\"\n\u001b[0;32m--> 397\u001b[0;31m         \u001b[0mself\u001b[0m\u001b[0;34m.\u001b[0m\u001b[0mfit_transform\u001b[0m\u001b[0;34m(\u001b[0m\u001b[0mX\u001b[0m\u001b[0;34m,\u001b[0m \u001b[0minit\u001b[0m\u001b[0;34m=\u001b[0m\u001b[0minit\u001b[0m\u001b[0;34m)\u001b[0m\u001b[0;34m\u001b[0m\u001b[0;34m\u001b[0m\u001b[0m\n\u001b[0m\u001b[1;32m    398\u001b[0m         \u001b[0;32mreturn\u001b[0m \u001b[0mself\u001b[0m\u001b[0;34m\u001b[0m\u001b[0;34m\u001b[0m\u001b[0m\n\u001b[1;32m    399\u001b[0m \u001b[0;34m\u001b[0m\u001b[0m\n",
      "\u001b[0;32m~/miniconda3/envs/base1/lib/python3.9/site-packages/sklearn/manifold/_mds.py\u001b[0m in \u001b[0;36mfit_transform\u001b[0;34m(self, X, y, init)\u001b[0m\n\u001b[1;32m    415\u001b[0m             \u001b[0mchosen\u001b[0m \u001b[0marray\u001b[0m\u001b[0;34m.\u001b[0m\u001b[0;34m\u001b[0m\u001b[0;34m\u001b[0m\u001b[0m\n\u001b[1;32m    416\u001b[0m         \"\"\"\n\u001b[0;32m--> 417\u001b[0;31m         \u001b[0mX\u001b[0m \u001b[0;34m=\u001b[0m \u001b[0mself\u001b[0m\u001b[0;34m.\u001b[0m\u001b[0m_validate_data\u001b[0m\u001b[0;34m(\u001b[0m\u001b[0mX\u001b[0m\u001b[0;34m)\u001b[0m\u001b[0;34m\u001b[0m\u001b[0;34m\u001b[0m\u001b[0m\n\u001b[0m\u001b[1;32m    418\u001b[0m         \u001b[0;32mif\u001b[0m \u001b[0mX\u001b[0m\u001b[0;34m.\u001b[0m\u001b[0mshape\u001b[0m\u001b[0;34m[\u001b[0m\u001b[0;36m0\u001b[0m\u001b[0;34m]\u001b[0m \u001b[0;34m==\u001b[0m \u001b[0mX\u001b[0m\u001b[0;34m.\u001b[0m\u001b[0mshape\u001b[0m\u001b[0;34m[\u001b[0m\u001b[0;36m1\u001b[0m\u001b[0;34m]\u001b[0m \u001b[0;32mand\u001b[0m \u001b[0mself\u001b[0m\u001b[0;34m.\u001b[0m\u001b[0mdissimilarity\u001b[0m \u001b[0;34m!=\u001b[0m \u001b[0;34m\"precomputed\"\u001b[0m\u001b[0;34m:\u001b[0m\u001b[0;34m\u001b[0m\u001b[0;34m\u001b[0m\u001b[0m\n\u001b[1;32m    419\u001b[0m             warnings.warn(\"The MDS API has changed. ``fit`` now constructs an\"\n",
      "\u001b[0;32m~/miniconda3/envs/base1/lib/python3.9/site-packages/sklearn/base.py\u001b[0m in \u001b[0;36m_validate_data\u001b[0;34m(self, X, y, reset, validate_separately, **check_params)\u001b[0m\n\u001b[1;32m    418\u001b[0m                     \u001b[0;34mf\"requires y to be passed, but the target y is None.\"\u001b[0m\u001b[0;34m\u001b[0m\u001b[0;34m\u001b[0m\u001b[0m\n\u001b[1;32m    419\u001b[0m                 )\n\u001b[0;32m--> 420\u001b[0;31m             \u001b[0mX\u001b[0m \u001b[0;34m=\u001b[0m \u001b[0mcheck_array\u001b[0m\u001b[0;34m(\u001b[0m\u001b[0mX\u001b[0m\u001b[0;34m,\u001b[0m \u001b[0;34m**\u001b[0m\u001b[0mcheck_params\u001b[0m\u001b[0;34m)\u001b[0m\u001b[0;34m\u001b[0m\u001b[0;34m\u001b[0m\u001b[0m\n\u001b[0m\u001b[1;32m    421\u001b[0m             \u001b[0mout\u001b[0m \u001b[0;34m=\u001b[0m \u001b[0mX\u001b[0m\u001b[0;34m\u001b[0m\u001b[0;34m\u001b[0m\u001b[0m\n\u001b[1;32m    422\u001b[0m         \u001b[0;32melse\u001b[0m\u001b[0;34m:\u001b[0m\u001b[0;34m\u001b[0m\u001b[0;34m\u001b[0m\u001b[0m\n",
      "\u001b[0;32m~/miniconda3/envs/base1/lib/python3.9/site-packages/sklearn/utils/validation.py\u001b[0m in \u001b[0;36minner_f\u001b[0;34m(*args, **kwargs)\u001b[0m\n\u001b[1;32m     70\u001b[0m                           FutureWarning)\n\u001b[1;32m     71\u001b[0m         \u001b[0mkwargs\u001b[0m\u001b[0;34m.\u001b[0m\u001b[0mupdate\u001b[0m\u001b[0;34m(\u001b[0m\u001b[0;34m{\u001b[0m\u001b[0mk\u001b[0m\u001b[0;34m:\u001b[0m \u001b[0marg\u001b[0m \u001b[0;32mfor\u001b[0m \u001b[0mk\u001b[0m\u001b[0;34m,\u001b[0m \u001b[0marg\u001b[0m \u001b[0;32min\u001b[0m \u001b[0mzip\u001b[0m\u001b[0;34m(\u001b[0m\u001b[0msig\u001b[0m\u001b[0;34m.\u001b[0m\u001b[0mparameters\u001b[0m\u001b[0;34m,\u001b[0m \u001b[0margs\u001b[0m\u001b[0;34m)\u001b[0m\u001b[0;34m}\u001b[0m\u001b[0;34m)\u001b[0m\u001b[0;34m\u001b[0m\u001b[0;34m\u001b[0m\u001b[0m\n\u001b[0;32m---> 72\u001b[0;31m         \u001b[0;32mreturn\u001b[0m \u001b[0mf\u001b[0m\u001b[0;34m(\u001b[0m\u001b[0;34m**\u001b[0m\u001b[0mkwargs\u001b[0m\u001b[0;34m)\u001b[0m\u001b[0;34m\u001b[0m\u001b[0;34m\u001b[0m\u001b[0m\n\u001b[0m\u001b[1;32m     73\u001b[0m     \u001b[0;32mreturn\u001b[0m \u001b[0minner_f\u001b[0m\u001b[0;34m\u001b[0m\u001b[0;34m\u001b[0m\u001b[0m\n\u001b[1;32m     74\u001b[0m \u001b[0;34m\u001b[0m\u001b[0m\n",
      "\u001b[0;32m~/miniconda3/envs/base1/lib/python3.9/site-packages/sklearn/utils/validation.py\u001b[0m in \u001b[0;36mcheck_array\u001b[0;34m(array, accept_sparse, accept_large_sparse, dtype, order, copy, force_all_finite, ensure_2d, allow_nd, ensure_min_samples, ensure_min_features, estimator)\u001b[0m\n\u001b[1;32m    648\u001b[0m         \u001b[0mn_samples\u001b[0m \u001b[0;34m=\u001b[0m \u001b[0m_num_samples\u001b[0m\u001b[0;34m(\u001b[0m\u001b[0marray\u001b[0m\u001b[0;34m)\u001b[0m\u001b[0;34m\u001b[0m\u001b[0;34m\u001b[0m\u001b[0m\n\u001b[1;32m    649\u001b[0m         \u001b[0;32mif\u001b[0m \u001b[0mn_samples\u001b[0m \u001b[0;34m<\u001b[0m \u001b[0mensure_min_samples\u001b[0m\u001b[0;34m:\u001b[0m\u001b[0;34m\u001b[0m\u001b[0;34m\u001b[0m\u001b[0m\n\u001b[0;32m--> 650\u001b[0;31m             raise ValueError(\"Found array with %d sample(s) (shape=%s) while a\"\n\u001b[0m\u001b[1;32m    651\u001b[0m                              \u001b[0;34m\" minimum of %d is required%s.\"\u001b[0m\u001b[0;34m\u001b[0m\u001b[0;34m\u001b[0m\u001b[0m\n\u001b[1;32m    652\u001b[0m                              % (n_samples, array.shape, ensure_min_samples,\n",
      "\u001b[0;31mValueError\u001b[0m: Found array with 0 sample(s) (shape=(0, 2350)) while a minimum of 1 is required."
     ]
    }
   ],
   "source": [
    "point_coord = []\n",
    "for cl in range(8):\n",
    "    points = result[cluster_affinity==cl,:] - kmeans.cluster_centers_[i,:]\n",
    "    \n",
    "    points2d = mds.fit(points).embedding_ + coords[i,:]\n",
    "    point_coord.append(points2d)"
   ]
  },
  {
   "cell_type": "code",
   "execution_count": null,
   "id": "turned-palace",
   "metadata": {},
   "outputs": [],
   "source": [
    "point_stats = []\n",
    "for cl in range(8):\n",
    "    points_dist = distance_matrix(result[cluster_affinity==cl,:].todense(),kmeans.cluster_centers_)\n",
    "    points_dist = (points_dist**2).mean(axis=0)\n",
    "    point_stats.append(points_dist)"
   ]
  },
  {
   "cell_type": "code",
   "execution_count": null,
   "id": "forced-advocacy",
   "metadata": {},
   "outputs": [],
   "source": [
    "plt.imshow(np.vstack(point_stats))"
   ]
  },
  {
   "cell_type": "code",
   "execution_count": null,
   "id": "excessive-transformation",
   "metadata": {},
   "outputs": [],
   "source": [
    "np.round(np.vstack(point_stats),3)"
   ]
  },
  {
   "cell_type": "code",
   "execution_count": null,
   "id": "painted-nicaragua",
   "metadata": {},
   "outputs": [],
   "source": [
    "import matplotlib.cm as cm"
   ]
  },
  {
   "cell_type": "code",
   "execution_count": null,
   "id": "precise-point",
   "metadata": {},
   "outputs": [],
   "source": [
    "\n",
    "for i,r in enumerate(coords):\n",
    "    plt.plot(coords[i,0], coords[i,1],'o',color = cm.tab20(i))\n",
    "    plt.plot(coords[i,0], coords[i,1],'d',color = cm.tab20(i))\n",
    "\n",
    "    plt.plot(point_coord[i][:,0], point_coord[i][:,1],'.',color = cm.tab20(i))"
   ]
  },
  {
   "cell_type": "code",
   "execution_count": null,
   "id": "robust-sullivan",
   "metadata": {},
   "outputs": [],
   "source": [
    "points2d"
   ]
  },
  {
   "cell_type": "code",
   "execution_count": null,
   "id": "intelligent-component",
   "metadata": {},
   "outputs": [],
   "source": [
    "result[cluster_affinity==2,:].todense().shape"
   ]
  },
  {
   "cell_type": "markdown",
   "id": "related-fraud",
   "metadata": {},
   "source": [
    "### The clustering below is based on the community algorithm and was copy-pasted from cluster_and_draw_rr.ipynb"
   ]
  },
  {
   "cell_type": "code",
   "execution_count": 59,
   "id": "stretch-today",
   "metadata": {},
   "outputs": [],
   "source": [
    "community_partition = {'Yang Lou and Zhang-2018': 0, 'Fang et al. 2016': 7, 'Wang 2006': 2, 'Lin et al. 2010': 3, 'Yao et al. 2008b': 7, 'Dana and  Spier 2001-Revenue Sharing and Vertical Control in the Video Rental Industry': 3, 'Wang and Shin 2014': 0, 'check-Li et al 2009-Supply chain coordination and decision making under consignment contract with revenue sharing': 7, 'RAZA 2018': 3, 'He et al 2017': 6, 'Choi and He-2019': 3, 'Cachon et al-2005': 3, 'Gerchak and Wang 2004-full version': 3, 'Lee and Rhee-2010-IJPE': 3, 'Wang et al 2012 (1)': 6, 'van der Veen and Venugopal 2005-Using Revenue Sharing to Create Win-Win in the Video Rental Supply Chain': 3, 'Becker-Peth and Thonemann 2016-Reference points in revenue sharing contracts—How to design optimal': 1, 'Dong et al 2016': 7, 'Sarathi et al 2014-An integrated revenue sharing and quantity discounts contract': 3, 'Zhang et al 2019': 0, 'Ru and Wang 2010- consignment contracts': 7, 'Palsule-Desai 2013-Supply chain coordination using revenue-dependent revenue': 1, 'Wang and Shin-2015': 0, 'Cai et al 2012- Exclusive Channels and Revenue Sharing in a complementary goods market': 0, 'check-Yao et al 2008-Manufacturer’s revenue-sharing contract and retail competition': 7, 'Govindan and Malomfalean 2019': 0, 'Yang and Chen 2017-Retailer-driven carbon emission abatement with consumer': 0, 'Avinadav et al 2015a': 6, 'Hu et al 2017': 1, 'Giannoccaro and pontrandolfo-2009': 3, 'Hsueh 2014-Improving corporate social responsibility in a supply chain through a new revenue sharing contract': 3, 'Giri and Bardhan-2012': 1, 'Liu and Wang-2019': 1, 'Yang et al 2018-Supplier encroachment under nonlinear pricing with imperfect substitutes': 0, 'Avinadav et al.- 2015b': 6, 'Giri et al 2017': 3, 'Krishnan and Winter 2011-On the role of revenue-sharing contracts in supply chains': 1, 'Krylatov et al. -2016 (לא קשור)': 3, 'Shen et al-2019-POMS': 0, 'Gerchak and Khmelnitsky 2003': 3, 'Chen et al 2011-On channel coordination through revenue-sharing contracts with price and shelf-space dependent demand': 1, 'Sarker 2014': 6, 'Zhang et al 2019b': 0, 'El Ouardighi and Kim 2010-Supply quality management with wholesale price and revenue-sharing contracts under horizontal competition': 1, 'Saraswati and Hanaoka 2014-Airport–airline cooperation under commercial revenue sharing': 1, 'Avinadav et al-2019-IJPE': 6, 'Hu et al. 2019': 6, 'Bellantuono et al 2009-The implications of joint adoption of revenue sharing and advance booking discount': 3, 'Bai et al 2004-revenue sharing and control rights': 7, 'Qin and Yang 2008': 7, 'Cao et al-2013-IJPE': 1, 'check-Xu et al 2014-Coordinating a dual-channel supply chain with risk-averse': 0, 'Heese and Kemahlioglu-Ziya 2014': 3, 'check-Wang et al 2004-Channel Performance under Consignment Contract with Revenue Sharing': 7, 'Zhao et al-2016-JORS': 3, 'Mai et al 2017': 0, 'Gerchak et al-2007': 6, 'Moon and Feng-2017': 1, 'Wang et al-2013b': 7, 'Panda et al 2017': 3, 'Heese and Kemahlıoğlu-Ziya 2016-Don’t ask don’t tell-Sharing revenues with a dishonest retailer': 3, 'Hou et al 2017': 1, 'Pal et al. 2018': 3, 'Linh and Hong  2009-Channel coordination through a revenue sharing contract': 3, 'Kunter 2012-Coordination via cost and revenue sharing in manufacturer–retailer channels': 1, 'Guan and Zhao 2010': 6, 'zhang et al. 2015': 3, 'van der Rhee et al 2010-A new revenue sharing mechanism for coordinating multi-echelon supply chains': 3, 'Kong et al. 2013': 1, 'Gong et al 2018': 6, 'Panda 2014-Coordination of a socially responsible supply chain using revenue sharing contract': 3, 'Sheu 2011-Marketing-driven channel coordination with revenue-sharing contracts': 1, 'Jin et al-2015-EJOR': 7, 'Cai-2010-channel selection and coordination': 0, 'Giovanni 2014': 1, 'check-Hu et al 2016-Three-echelon supply chain coordination': 1, 'Tan_Carrillo-2017': 0, 'Lu et al 2017': 6, 'Xiao and Xu-2018-POMS': 0, 'Gupta and Weerawat-2006-EJOR': 3, 'Corbett 2001': 3, 'Jiang 2012': 7, 'Xiao et al 2011-Coordinating a supply chain with a quality assurance policy via a revenue sharing contract': 1, 'Jorgensen et al-2003-EJOR': 1, 'Saha 2013-CCRS': 1, 'Giannoccaro and pontrandolfo-2004-IJPE': 3, 'Li et al- 2016-WCRS': 7, 'Li_et_al-2015': 3, 'Yang et al. 2015': 3, 'Wang et al 2012-Three revenue-sharing variants their significant performance differences under systemparameter uncertainties': 1, 'Yao et al. 2008a': 7, 'Hua et al-2011-Omega': 1, 'Lim et al 2015': 7, 'Feng et al 2017': 0, 'Xie et al 2017': 0, 'Hu et al-2013-IJPE': 3, 'Feng et al 2014-Revenue-sharing contracts in an N-stage supply chain with reliability consideration': 1, 'Zhao and Wu 2011-coordination of agri-food chain with revenue sharing contract and stochastic demand': 4, 'Vafa Arani et al 2016-A revenue-sharing option contract toward coordination of supply chains': 1, 'Yang et al 2017-The role of revenue sharing and first-mover advantage in emission': 0, 'Chakraborty et al 2018': 1, 'Hou et al 2009-Achieving better coordination through revenue sharing and bargaining': 1, 'Xiao et al 2017': 3, 'de Matta et al 2014': 7, 'Zhang et al 2010': 7, 'Hu-Li-2012': 7, 'Avinadav et al. 2020-IJPR': 6, 'Buratto et al - 2019': 6, 'Govindan and Popiuc 2014-Reverse supply chain coordination by revenue sharing contract': 1, 'check-Hu and Feng 2017-Optimization and coordination of supply chain with revenue sharing': 1, 'Katok and Wu-2009-Contracting_in_Supply_Chains_A_Laboratory_Investigation': 3, 'check-Pan et al 2010-Revenue-sharing versus wholesale price mechanisms under different channel structures': 1, 'Chakraborty et al 2015-Coordination and competition in a common retailer': 7, 'Wen et al. 2018': 3, 'Liu li et al 2017': 1, 'Zhang 2015-Coordinating a supply chain for deteriorating items with a revenue sharing': 1, 'Chen et al 2011': 1, 'Khouja et al-2010-IJPE': 1, 'Chen et al 2010': 6, 'Avinadav T. 2020-IJPE': 6, 'Adida and Ratisoontorn-2011': 7, 'Avinadav et al. 2017': 6, 'Giovanni and Roselli 2012': 1, 'Tan_et_al-2016': 1, 'De Giovanni et al 2019': 6, 'Avinadav et al. 2019-IJPE': 6, 'Cai  et al 2017-Flexible contract design for VMI supply chain with service-sensitive demand': 1, 'Liu et al-2009': 3, 'Zao and Shi 2011': 7, 'de Matt et al 2017': 7, 'Koulamas 2006-full version': 5, 'Shen 2018': 0, 'Wang et al. 2013': 7, 'Seifbarghy et al. 2015': 1, 'Lu et al-2018-EJOR': 0, 'Zhang et al 2010-Revenue sharing with multiple airlines and airports': 1, 'Yan et al-2018-EJOR': 0, 'Chen et al 2017': 7, 'Heydari et al 2018': 0}"
   ]
  },
  {
   "cell_type": "code",
   "execution_count": 49,
   "id": "sixth-earthquake",
   "metadata": {},
   "outputs": [
    {
     "ename": "NameError",
     "evalue": "name 'df2' is not defined",
     "output_type": "error",
     "traceback": [
      "\u001b[0;31m---------------------------------------------------------------------------\u001b[0m",
      "\u001b[0;31mNameError\u001b[0m                                 Traceback (most recent call last)",
      "\u001b[0;32m<ipython-input-49-2f66b0aae6b6>\u001b[0m in \u001b[0;36m<module>\u001b[0;34m\u001b[0m\n\u001b[0;32m----> 1\u001b[0;31m \u001b[0mdf2\u001b[0m\u001b[0;34m.\u001b[0m\u001b[0mcolumns\u001b[0m\u001b[0;34m\u001b[0m\u001b[0;34m\u001b[0m\u001b[0m\n\u001b[0m",
      "\u001b[0;31mNameError\u001b[0m: name 'df2' is not defined"
     ]
    }
   ],
   "source": [
    "df2.columns"
   ]
  },
  {
   "cell_type": "code",
   "execution_count": 60,
   "id": "driving-rover",
   "metadata": {},
   "outputs": [],
   "source": [
    "cluster_summary['community'] = cluster_summary.article_name.map(lambda c: 'ABCDEFGHIJ'[community_partition[c]] if c in community_partition else '')"
   ]
  },
  {
   "cell_type": "code",
   "execution_count": 61,
   "id": "psychological-sweden",
   "metadata": {},
   "outputs": [],
   "source": [
    "cluster_summary.to_excel('revenue_review_tf_idf3_5_clusters.xlsx', index=False)"
   ]
  },
  {
   "cell_type": "code",
   "execution_count": 64,
   "id": "clear-scanning",
   "metadata": {},
   "outputs": [],
   "source": [
    "gg = cluster_summary.groupby(['cluster','community'])['article_name'].count()"
   ]
  },
  {
   "cell_type": "code",
   "execution_count": 71,
   "id": "bibliographic-court",
   "metadata": {},
   "outputs": [
    {
     "data": {
      "text/html": [
       "<div>\n",
       "<style scoped>\n",
       "    .dataframe tbody tr th:only-of-type {\n",
       "        vertical-align: middle;\n",
       "    }\n",
       "\n",
       "    .dataframe tbody tr th {\n",
       "        vertical-align: top;\n",
       "    }\n",
       "\n",
       "    .dataframe thead th {\n",
       "        text-align: right;\n",
       "    }\n",
       "</style>\n",
       "<table border=\"1\" class=\"dataframe\">\n",
       "  <thead>\n",
       "    <tr style=\"text-align: right;\">\n",
       "      <th></th>\n",
       "      <th>cluster</th>\n",
       "      <th>community</th>\n",
       "      <th>article_name</th>\n",
       "    </tr>\n",
       "  </thead>\n",
       "  <tbody>\n",
       "    <tr>\n",
       "      <th>1</th>\n",
       "      <td>0</td>\n",
       "      <td>B</td>\n",
       "      <td>10</td>\n",
       "    </tr>\n",
       "    <tr>\n",
       "      <th>3</th>\n",
       "      <td>0</td>\n",
       "      <td>G</td>\n",
       "      <td>9</td>\n",
       "    </tr>\n",
       "    <tr>\n",
       "      <th>2</th>\n",
       "      <td>0</td>\n",
       "      <td>D</td>\n",
       "      <td>6</td>\n",
       "    </tr>\n",
       "    <tr>\n",
       "      <th>0</th>\n",
       "      <td>0</td>\n",
       "      <td>A</td>\n",
       "      <td>2</td>\n",
       "    </tr>\n",
       "    <tr>\n",
       "      <th>4</th>\n",
       "      <td>0</td>\n",
       "      <td>H</td>\n",
       "      <td>2</td>\n",
       "    </tr>\n",
       "    <tr>\n",
       "      <th>7</th>\n",
       "      <td>1</td>\n",
       "      <td>B</td>\n",
       "      <td>6</td>\n",
       "    </tr>\n",
       "    <tr>\n",
       "      <th>8</th>\n",
       "      <td>1</td>\n",
       "      <td>D</td>\n",
       "      <td>5</td>\n",
       "    </tr>\n",
       "    <tr>\n",
       "      <th>9</th>\n",
       "      <td>1</td>\n",
       "      <td>G</td>\n",
       "      <td>4</td>\n",
       "    </tr>\n",
       "    <tr>\n",
       "      <th>10</th>\n",
       "      <td>1</td>\n",
       "      <td>H</td>\n",
       "      <td>3</td>\n",
       "    </tr>\n",
       "    <tr>\n",
       "      <th>5</th>\n",
       "      <td>1</td>\n",
       "      <td></td>\n",
       "      <td>1</td>\n",
       "    </tr>\n",
       "    <tr>\n",
       "      <th>6</th>\n",
       "      <td>1</td>\n",
       "      <td>A</td>\n",
       "      <td>1</td>\n",
       "    </tr>\n",
       "    <tr>\n",
       "      <th>12</th>\n",
       "      <td>2</td>\n",
       "      <td>B</td>\n",
       "      <td>9</td>\n",
       "    </tr>\n",
       "    <tr>\n",
       "      <th>13</th>\n",
       "      <td>2</td>\n",
       "      <td>D</td>\n",
       "      <td>7</td>\n",
       "    </tr>\n",
       "    <tr>\n",
       "      <th>11</th>\n",
       "      <td>2</td>\n",
       "      <td>A</td>\n",
       "      <td>3</td>\n",
       "    </tr>\n",
       "    <tr>\n",
       "      <th>14</th>\n",
       "      <td>2</td>\n",
       "      <td>G</td>\n",
       "      <td>1</td>\n",
       "    </tr>\n",
       "    <tr>\n",
       "      <th>15</th>\n",
       "      <td>2</td>\n",
       "      <td>H</td>\n",
       "      <td>1</td>\n",
       "    </tr>\n",
       "    <tr>\n",
       "      <th>20</th>\n",
       "      <td>3</td>\n",
       "      <td>H</td>\n",
       "      <td>10</td>\n",
       "    </tr>\n",
       "    <tr>\n",
       "      <th>16</th>\n",
       "      <td>3</td>\n",
       "      <td>A</td>\n",
       "      <td>6</td>\n",
       "    </tr>\n",
       "    <tr>\n",
       "      <th>18</th>\n",
       "      <td>3</td>\n",
       "      <td>D</td>\n",
       "      <td>6</td>\n",
       "    </tr>\n",
       "    <tr>\n",
       "      <th>17</th>\n",
       "      <td>3</td>\n",
       "      <td>B</td>\n",
       "      <td>4</td>\n",
       "    </tr>\n",
       "    <tr>\n",
       "      <th>19</th>\n",
       "      <td>3</td>\n",
       "      <td>G</td>\n",
       "      <td>2</td>\n",
       "    </tr>\n",
       "    <tr>\n",
       "      <th>22</th>\n",
       "      <td>4</td>\n",
       "      <td>B</td>\n",
       "      <td>9</td>\n",
       "    </tr>\n",
       "    <tr>\n",
       "      <th>21</th>\n",
       "      <td>4</td>\n",
       "      <td>A</td>\n",
       "      <td>7</td>\n",
       "    </tr>\n",
       "    <tr>\n",
       "      <th>25</th>\n",
       "      <td>4</td>\n",
       "      <td>H</td>\n",
       "      <td>7</td>\n",
       "    </tr>\n",
       "    <tr>\n",
       "      <th>23</th>\n",
       "      <td>4</td>\n",
       "      <td>D</td>\n",
       "      <td>5</td>\n",
       "    </tr>\n",
       "    <tr>\n",
       "      <th>24</th>\n",
       "      <td>4</td>\n",
       "      <td>G</td>\n",
       "      <td>1</td>\n",
       "    </tr>\n",
       "  </tbody>\n",
       "</table>\n",
       "</div>"
      ],
      "text/plain": [
       "    cluster community  article_name\n",
       "1         0         B            10\n",
       "3         0         G             9\n",
       "2         0         D             6\n",
       "0         0         A             2\n",
       "4         0         H             2\n",
       "7         1         B             6\n",
       "8         1         D             5\n",
       "9         1         G             4\n",
       "10        1         H             3\n",
       "5         1                       1\n",
       "6         1         A             1\n",
       "12        2         B             9\n",
       "13        2         D             7\n",
       "11        2         A             3\n",
       "14        2         G             1\n",
       "15        2         H             1\n",
       "20        3         H            10\n",
       "16        3         A             6\n",
       "18        3         D             6\n",
       "17        3         B             4\n",
       "19        3         G             2\n",
       "22        4         B             9\n",
       "21        4         A             7\n",
       "25        4         H             7\n",
       "23        4         D             5\n",
       "24        4         G             1"
      ]
     },
     "execution_count": 71,
     "metadata": {},
     "output_type": "execute_result"
    }
   ],
   "source": [
    "gg.reset_index().sort_values(['cluster','article_name'], ascending=[True, False])"
   ]
  },
  {
   "cell_type": "code",
   "execution_count": null,
   "id": "adopted-insulation",
   "metadata": {},
   "outputs": [],
   "source": [
    "gg.sort_values()"
   ]
  }
 ],
 "metadata": {
  "kernelspec": {
   "display_name": "Python 3.9.1 64-bit ('base1': conda)",
   "language": "python",
   "name": "python39164bitbase1conda6ae4cd7cd66d4873bccad52ac2cde672"
  },
  "language_info": {
   "codemirror_mode": {
    "name": "ipython",
    "version": 3
   },
   "file_extension": ".py",
   "mimetype": "text/x-python",
   "name": "python",
   "nbconvert_exporter": "python",
   "pygments_lexer": "ipython3",
   "version": "3.9.1"
  }
 },
 "nbformat": 4,
 "nbformat_minor": 5
}
