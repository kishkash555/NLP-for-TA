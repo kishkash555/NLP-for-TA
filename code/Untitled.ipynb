{
 "cells": [
  {
   "cell_type": "code",
   "execution_count": 4,
   "metadata": {},
   "outputs": [],
   "source": [
    "import pandas as pd\n",
    "import PyPDF2 as pdf\n",
    "from os import path"
   ]
  },
  {
   "cell_type": "code",
   "execution_count": 3,
   "metadata": {},
   "outputs": [
    {
     "data": {
      "text/plain": [
       "'/home/siegman/Documents/Shahar/years/y2021/t_and_t/code'"
      ]
     },
     "execution_count": 3,
     "metadata": {},
     "output_type": "execute_result"
    }
   ],
   "source": [
    "pwd"
   ]
  },
  {
   "cell_type": "code",
   "execution_count": 6,
   "metadata": {},
   "outputs": [
    {
     "data": {
      "text/plain": [
       "True"
      ]
     },
     "execution_count": 6,
     "metadata": {},
     "output_type": "execute_result"
    }
   ],
   "source": [
    "sample_file = path.abspath(path.join('../articles_from_tatiana/fulltext-pdf-batch1/Guo et al 2020.pdf'))\n",
    "path.exists(sample_file)"
   ]
  },
  {
   "cell_type": "code",
   "execution_count": null,
   "metadata": {},
   "outputs": [],
   "source": []
  },
  {
   "cell_type": "code",
   "execution_count": 8,
   "metadata": {},
   "outputs": [],
   "source": [
    "with open(sample_file,'rb') as f:\n",
    "    inp_file = pdf.PdfFileReader(f)\n",
    "    d=inp_file.getDocumentInfo()"
   ]
  },
  {
   "cell_type": "code",
   "execution_count": 9,
   "metadata": {},
   "outputs": [
    {
     "data": {
      "text/plain": [
       "{'/Author': '',\n",
       " '/CreationDate': \"D:20200211131506+05'30'\",\n",
       " '/Creator': 'LaTeX with hyperref package + hypdvips',\n",
       " '/CrossMarkDomains#5B1#5D': 'www.tandfonline.com',\n",
       " '/CrossmarkDomainExclusive': 'true',\n",
       " '/CrossmarkMajorVersionDate': '2019-08-28',\n",
       " '/Keywords': '',\n",
       " '/ModDate': \"D:20210102225453+02'00'\",\n",
       " '/Producer': 'iText 4.2.0 by 1T3XT',\n",
       " '/Subject': '',\n",
       " '/Title': 'Green supply chain contracts with eco-labels issued by the sales platform: profitability and environ',\n",
       " '/doi': '10.1080/00207543.2019.1658911'}"
      ]
     },
     "execution_count": 9,
     "metadata": {},
     "output_type": "execute_result"
    }
   ],
   "source": [
    "d"
   ]
  },
  {
   "cell_type": "code",
   "execution_count": null,
   "metadata": {},
   "outputs": [],
   "source": []
  }
 ],
 "metadata": {
  "kernelspec": {
   "display_name": "Python 3.7.4 64-bit ('base': conda)",
   "language": "python",
   "name": "python37464bitbaseconda865b03b3ea5d4f4bb8519af201560b69"
  },
  "language_info": {
   "codemirror_mode": {
    "name": "ipython",
    "version": 3
   },
   "file_extension": ".py",
   "mimetype": "text/x-python",
   "name": "python",
   "nbconvert_exporter": "python",
   "pygments_lexer": "ipython3",
   "version": "3.7.9"
  }
 },
 "nbformat": 4,
 "nbformat_minor": 4
}
