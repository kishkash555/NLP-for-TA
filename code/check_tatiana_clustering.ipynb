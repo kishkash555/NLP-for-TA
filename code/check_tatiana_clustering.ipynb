{
 "metadata": {
  "language_info": {
   "codemirror_mode": {
    "name": "ipython",
    "version": 3
   },
   "file_extension": ".py",
   "mimetype": "text/x-python",
   "name": "python",
   "nbconvert_exporter": "python",
   "pygments_lexer": "ipython3",
   "version": "3.9.1-final"
  },
  "orig_nbformat": 2,
  "kernelspec": {
   "name": "python3",
   "display_name": "Python 3",
   "language": "python"
  }
 },
 "nbformat": 4,
 "nbformat_minor": 2,
 "cells": [
  {
   "cell_type": "code",
   "execution_count": 117,
   "metadata": {},
   "outputs": [],
   "source": [
    "from lxml import etree\n",
    "import glob\n",
    "from os import path\n",
    "from collections import Counter\n",
    "from xml_tools import get_keywords\n",
    "import pandas as pd\n",
    "from matplotlib import pyplot as plt\n",
    "import networkx as nx\n",
    "import community\n"
   ]
  },
  {
   "cell_type": "code",
   "execution_count": 2,
   "metadata": {},
   "outputs": [
    {
     "output_type": "execute_result",
     "data": {
      "text/plain": [
       "['../articles_from_tatiana/batch3_header_xml/Grieger 2003.xml',\n",
       " '../articles_from_tatiana/batch3_header_xml/Xu et al 2020.xml',\n",
       " '../articles_from_tatiana/batch3_header_xml/Cao et al 2019.xml',\n",
       " '../articles_from_tatiana/batch3_header_xml/Mantin et al 2014.xml',\n",
       " '../articles_from_tatiana/batch3_header_xml/Li 2020.xml',\n",
       " '../articles_from_tatiana/batch3_header_xml/Shen et al 2019.xml',\n",
       " '../articles_from_tatiana/batch3_header_xml/Avinadav et al 2015b.xml',\n",
       " '../articles_from_tatiana/batch3_header_xml/Hua et al 2020.xml',\n",
       " '../articles_from_tatiana/batch3_header_xml/Zhen et al 2020.xml',\n",
       " '../articles_from_tatiana/batch3_header_xml/Avinadav et al 2020b.xml']"
      ]
     },
     "metadata": {},
     "execution_count": 2
    }
   ],
   "source": [
    "\n",
    "xmls = glob.glob('../articles_from_tatiana/batch3_header_xml/*.xml')\n",
    "\n",
    "xmls[:10]"
   ]
  },
  {
   "cell_type": "code",
   "execution_count": 11,
   "metadata": {},
   "outputs": [],
   "source": [
    "article_kws_dict = {path.basename(x).split('.')[0]: list(get_keywords(x)) for x in xmls}"
   ]
  },
  {
   "cell_type": "code",
   "execution_count": 12,
   "metadata": {},
   "outputs": [
    {
     "output_type": "execute_result",
     "data": {
      "text/plain": [
       "\"{'Grieger 2003': ['supply chain management', 'electronic marketplaces', 'electronic business', 'relationships', 'electronic commerce', 'information technology'], 'Xu et al 2020': ['delivery time', 'marketplace mode', 'platform power', 'coordination'], 'Cao et al 2019': ['trade-in strategy', 'b2c platform', 'dual-format retailing model', 'sales efforts'], 'Mantin et al 2014': ['marketing channels', 'dual-format retailing', 'third-party marketplaces', 'internet retailing', 'bargaining'], 'Li 2020'\""
      ]
     },
     "metadata": {},
     "execution_count": 12
    }
   ],
   "source": [
    "article_kws_dict.__repr__()[:500]"
   ]
  },
  {
   "cell_type": "code",
   "execution_count": 6,
   "metadata": {},
   "outputs": [
    {
     "output_type": "execute_result",
     "data": {
      "text/plain": [
       "   frequency             term new term GROUP    Unnamed: 4\n",
       "0          2  agency contract      NaN     1  agency model\n",
       "1          1     agency model      NaN     1           NaN\n",
       "2          3   agency selling      NaN     1           NaN\n",
       "3          1   commission fee      NaN     1           NaN\n",
       "4          1      consignment      NaN     1           NaN"
      ],
      "text/html": "<div>\n<style scoped>\n    .dataframe tbody tr th:only-of-type {\n        vertical-align: middle;\n    }\n\n    .dataframe tbody tr th {\n        vertical-align: top;\n    }\n\n    .dataframe thead th {\n        text-align: right;\n    }\n</style>\n<table border=\"1\" class=\"dataframe\">\n  <thead>\n    <tr style=\"text-align: right;\">\n      <th></th>\n      <th>frequency</th>\n      <th>term</th>\n      <th>new term</th>\n      <th>GROUP</th>\n      <th>Unnamed: 4</th>\n    </tr>\n  </thead>\n  <tbody>\n    <tr>\n      <th>0</th>\n      <td>2</td>\n      <td>agency contract</td>\n      <td>NaN</td>\n      <td>1</td>\n      <td>agency model</td>\n    </tr>\n    <tr>\n      <th>1</th>\n      <td>1</td>\n      <td>agency model</td>\n      <td>NaN</td>\n      <td>1</td>\n      <td>NaN</td>\n    </tr>\n    <tr>\n      <th>2</th>\n      <td>3</td>\n      <td>agency selling</td>\n      <td>NaN</td>\n      <td>1</td>\n      <td>NaN</td>\n    </tr>\n    <tr>\n      <th>3</th>\n      <td>1</td>\n      <td>commission fee</td>\n      <td>NaN</td>\n      <td>1</td>\n      <td>NaN</td>\n    </tr>\n    <tr>\n      <th>4</th>\n      <td>1</td>\n      <td>consignment</td>\n      <td>NaN</td>\n      <td>1</td>\n      <td>NaN</td>\n    </tr>\n  </tbody>\n</table>\n</div>"
     },
     "metadata": {},
     "execution_count": 6
    }
   ],
   "source": [
    "df=pd.read_excel('../Grouped keyword_terms.xlsx')\n",
    "df.head()"
   ]
  },
  {
   "cell_type": "code",
   "execution_count": 33,
   "metadata": {},
   "outputs": [
    {
     "output_type": "stream",
     "name": "stdout",
     "text": [
      "[1, 14, -1]\n"
     ]
    }
   ],
   "source": [
    "kw_to_group_mapping = dict(zip(df.term,df.GROUP.map(lambda x: {\n",
    "    float: lambda: -1, \n",
    "    str: lambda: int(x.split(',')[0]),\n",
    "    int: lambda: x\n",
    "    }[type(x)]())))\n",
    "\n",
    "print([kw_to_group_mapping[t] for t in ['agency contract','dynamic programming','content analysis']])"
   ]
  },
  {
   "cell_type": "code",
   "execution_count": 76,
   "metadata": {},
   "outputs": [
    {
     "output_type": "execute_result",
     "data": {
      "text/plain": [
       "[-1,\n",
       " 1,\n",
       " 2,\n",
       " 3,\n",
       " 4,\n",
       " 5,\n",
       " 6,\n",
       " 7,\n",
       " 8,\n",
       " 9,\n",
       " 10,\n",
       " 11,\n",
       " 12,\n",
       " 13,\n",
       " 14,\n",
       " 15,\n",
       " 16,\n",
       " 17,\n",
       " 18,\n",
       " 19,\n",
       " 20,\n",
       " 21,\n",
       " 22,\n",
       " 23,\n",
       " 24,\n",
       " 25,\n",
       " 26,\n",
       " 27,\n",
       " 28,\n",
       " 29,\n",
       " 30,\n",
       " 31,\n",
       " 32,\n",
       " 33,\n",
       " 34,\n",
       " 35,\n",
       " 36,\n",
       " 37,\n",
       " 38]"
      ]
     },
     "metadata": {},
     "execution_count": 76
    }
   ],
   "source": [
    "group_list = sorted(set(kw_to_group_mapping.values()))\n",
    "group_list"
   ]
  },
  {
   "cell_type": "code",
   "execution_count": 79,
   "metadata": {},
   "outputs": [
    {
     "output_type": "execute_result",
     "data": {
      "text/plain": [
       "['Alaei et al 2020',\n",
       " 'Yan et al 2018',\n",
       " 'Avinadav et al 2015a',\n",
       " 'Chen et al 2019',\n",
       " 'Yan et al 2019',\n",
       " 'Avinadav et al 2017',\n",
       " 'Zhang and Zhang 2020',\n",
       " 'Chen et al 2020',\n",
       " 'Abhishek et al 2016',\n",
       " 'Ryan et al 2012',\n",
       " 'De Giovanni 2020']"
      ]
     },
     "metadata": {},
     "execution_count": 79
    }
   ],
   "source": [
    "[k for k,v in article_kws_dict.items() if 'game theory' in v] "
   ]
  },
  {
   "cell_type": "code",
   "execution_count": 34,
   "metadata": {},
   "outputs": [],
   "source": [
    "article_groups = {k: Counter([kw_to_group_mapping[a] for a in v]) for k,v in article_kws_dict.items()}"
   ]
  },
  {
   "cell_type": "code",
   "execution_count": null,
   "metadata": {},
   "outputs": [],
   "source": [
    "[article_groups[k][]"
   ]
  },
  {
   "cell_type": "code",
   "execution_count": 70,
   "metadata": {},
   "outputs": [
    {
     "output_type": "execute_result",
     "data": {
      "text/plain": [
       "             article  group1  group2  group3  group4  group5  group6  group7  \\\n",
       "0       Grieger 2003       0       1       0       0       0       0       0   \n",
       "1      Xu et al 2020       0       0       0       0       0       0       1   \n",
       "2     Cao et al 2019       0       0       0       0       0       0       0   \n",
       "3  Mantin et al 2014       0       0       0       0       0       0       0   \n",
       "4            Li 2020       0       0       0       0       0       0       0   \n",
       "\n",
       "   group8  group9  ...  group29  group30  group31  group32  group33  group34  \\\n",
       "0       0       0  ...        0        1        0        0        0        0   \n",
       "1       0       0  ...        0        0        0        0        0        0   \n",
       "2       0       0  ...        0        0        0        0        0        0   \n",
       "3       0       0  ...        0        0        0        0        0        0   \n",
       "4       0       0  ...        0        1        0        0        0        0   \n",
       "\n",
       "   group35  group36  group37  group38  \n",
       "0        0        0        0        0  \n",
       "1        0        0        0        0  \n",
       "2        1        0        1        0  \n",
       "3        0        0        0        0  \n",
       "4        0        0        0        1  \n",
       "\n",
       "[5 rows x 39 columns]"
      ],
      "text/html": "<div>\n<style scoped>\n    .dataframe tbody tr th:only-of-type {\n        vertical-align: middle;\n    }\n\n    .dataframe tbody tr th {\n        vertical-align: top;\n    }\n\n    .dataframe thead th {\n        text-align: right;\n    }\n</style>\n<table border=\"1\" class=\"dataframe\">\n  <thead>\n    <tr style=\"text-align: right;\">\n      <th></th>\n      <th>article</th>\n      <th>group1</th>\n      <th>group2</th>\n      <th>group3</th>\n      <th>group4</th>\n      <th>group5</th>\n      <th>group6</th>\n      <th>group7</th>\n      <th>group8</th>\n      <th>group9</th>\n      <th>...</th>\n      <th>group29</th>\n      <th>group30</th>\n      <th>group31</th>\n      <th>group32</th>\n      <th>group33</th>\n      <th>group34</th>\n      <th>group35</th>\n      <th>group36</th>\n      <th>group37</th>\n      <th>group38</th>\n    </tr>\n  </thead>\n  <tbody>\n    <tr>\n      <th>0</th>\n      <td>Grieger 2003</td>\n      <td>0</td>\n      <td>1</td>\n      <td>0</td>\n      <td>0</td>\n      <td>0</td>\n      <td>0</td>\n      <td>0</td>\n      <td>0</td>\n      <td>0</td>\n      <td>...</td>\n      <td>0</td>\n      <td>1</td>\n      <td>0</td>\n      <td>0</td>\n      <td>0</td>\n      <td>0</td>\n      <td>0</td>\n      <td>0</td>\n      <td>0</td>\n      <td>0</td>\n    </tr>\n    <tr>\n      <th>1</th>\n      <td>Xu et al 2020</td>\n      <td>0</td>\n      <td>0</td>\n      <td>0</td>\n      <td>0</td>\n      <td>0</td>\n      <td>0</td>\n      <td>1</td>\n      <td>0</td>\n      <td>0</td>\n      <td>...</td>\n      <td>0</td>\n      <td>0</td>\n      <td>0</td>\n      <td>0</td>\n      <td>0</td>\n      <td>0</td>\n      <td>0</td>\n      <td>0</td>\n      <td>0</td>\n      <td>0</td>\n    </tr>\n    <tr>\n      <th>2</th>\n      <td>Cao et al 2019</td>\n      <td>0</td>\n      <td>0</td>\n      <td>0</td>\n      <td>0</td>\n      <td>0</td>\n      <td>0</td>\n      <td>0</td>\n      <td>0</td>\n      <td>0</td>\n      <td>...</td>\n      <td>0</td>\n      <td>0</td>\n      <td>0</td>\n      <td>0</td>\n      <td>0</td>\n      <td>0</td>\n      <td>1</td>\n      <td>0</td>\n      <td>1</td>\n      <td>0</td>\n    </tr>\n    <tr>\n      <th>3</th>\n      <td>Mantin et al 2014</td>\n      <td>0</td>\n      <td>0</td>\n      <td>0</td>\n      <td>0</td>\n      <td>0</td>\n      <td>0</td>\n      <td>0</td>\n      <td>0</td>\n      <td>0</td>\n      <td>...</td>\n      <td>0</td>\n      <td>0</td>\n      <td>0</td>\n      <td>0</td>\n      <td>0</td>\n      <td>0</td>\n      <td>0</td>\n      <td>0</td>\n      <td>0</td>\n      <td>0</td>\n    </tr>\n    <tr>\n      <th>4</th>\n      <td>Li 2020</td>\n      <td>0</td>\n      <td>0</td>\n      <td>0</td>\n      <td>0</td>\n      <td>0</td>\n      <td>0</td>\n      <td>0</td>\n      <td>0</td>\n      <td>0</td>\n      <td>...</td>\n      <td>0</td>\n      <td>1</td>\n      <td>0</td>\n      <td>0</td>\n      <td>0</td>\n      <td>0</td>\n      <td>0</td>\n      <td>0</td>\n      <td>0</td>\n      <td>1</td>\n    </tr>\n  </tbody>\n</table>\n<p>5 rows × 39 columns</p>\n</div>"
     },
     "metadata": {},
     "execution_count": 70
    }
   ],
   "source": [
    "article_adj=pd.DataFrame(data=[{**{'article': k}, **{f'group{i}': v[i] for i in range(1,39)}} for k, v in article_groups.items()])\n",
    "article_adj.head()"
   ]
  },
  {
   "cell_type": "code",
   "execution_count": 91,
   "metadata": {},
   "outputs": [
    {
     "output_type": "execute_result",
     "data": {
      "text/plain": [
       "Index(['group1', 'group2', 'group3', 'group4', 'group5', 'group6', 'group7',\n",
       "       'group10', 'group11', 'group12', 'group13', 'group14', 'group15',\n",
       "       'group16', 'group17', 'group18', 'group19', 'group20', 'group21',\n",
       "       'group22', 'group23', 'group24', 'group25', 'group27', 'group28',\n",
       "       'group29', 'group30', 'group31', 'group32', 'group33', 'group34',\n",
       "       'group35', 'group36', 'group37', 'group38'],\n",
       "      dtype='object')"
      ]
     },
     "metadata": {},
     "execution_count": 91
    }
   ],
   "source": [
    "valid_groups = list(article_adj.loc[:,\"group1\":].columns[article_adj.loc[:,\"group1\":].sum()>1]"
   ]
  },
  {
   "cell_type": "code",
   "execution_count": 92,
   "metadata": {},
   "outputs": [
    {
     "output_type": "stream",
     "name": "stdout",
     "text": [
      "['group1', 'group2', 'group3', 'group4', 'group5', 'group6', 'group7', 'group10', 'group11', 'group12', 'group13', 'group14', 'group15', 'group16', 'group17', 'group18', 'group19', 'group20', 'group21', 'group22', 'group23', 'group24', 'group25', 'group27', 'group28', 'group29', 'group30', 'group31', 'group32', 'group33', 'group34', 'group35', 'group36', 'group37', 'group38']\n"
     ]
    }
   ],
   "source": [
    "valid_groups = list(article_adj.loc[:,\"group1\":].columns[article_adj.loc[:,\"group1\":].sum()>1])\n",
    "print(valid_groups)\n",
    "\n",
    "article_group_dense = article_adj[['article']+valid_groups]"
   ]
  },
  {
   "cell_type": "code",
   "execution_count": 93,
   "metadata": {},
   "outputs": [
    {
     "output_type": "execute_result",
     "data": {
      "text/plain": [
       "Counter({0: 1861, 1: 204})"
      ]
     },
     "metadata": {},
     "execution_count": 93
    }
   ],
   "source": [
    "adj_mat=(article_group_dense.loc[:,\"group1\":].values >0).astype(int)\n",
    "\n",
    "Counter(adj_mat.reshape(-1))"
   ]
  },
  {
   "cell_type": "code",
   "execution_count": 94,
   "metadata": {},
   "outputs": [
    {
     "output_type": "execute_result",
     "data": {
      "text/plain": [
       "(59, 35)"
      ]
     },
     "metadata": {},
     "execution_count": 94
    }
   ],
   "source": [
    "adj_mat.shape"
   ]
  },
  {
   "cell_type": "code",
   "execution_count": 95,
   "metadata": {},
   "outputs": [
    {
     "output_type": "execute_result",
     "data": {
      "text/plain": [
       "array([17,  6,  9,  2,  4,  5,  6,  2, 10,  4, 13,  8, 30, 11,  2,  5,  6,\n",
       "        5,  4,  3,  1,  2,  3,  3,  2,  2, 19,  2,  2,  1,  2,  5,  2,  4,\n",
       "        2])"
      ]
     },
     "metadata": {},
     "execution_count": 95
    }
   ],
   "source": [
    "adj_mat.sum(axis=0)"
   ]
  },
  {
   "cell_type": "code",
   "execution_count": 96,
   "metadata": {},
   "outputs": [
    {
     "output_type": "execute_result",
     "data": {
      "text/plain": [
       "array([3, 3, 4, 4, 3, 3, 4, 3, 2, 5, 4, 0, 4, 0, 4, 1, 5, 3, 4, 6, 4, 4,\n",
       "       3, 3, 0, 4, 4, 5, 7, 4, 3, 4, 4, 4, 3, 3, 2, 1, 4, 3, 6, 3, 0, 5,\n",
       "       4, 3, 5, 3, 5, 2, 4, 4, 4, 2, 4, 2, 3, 4, 7])"
      ]
     },
     "metadata": {},
     "execution_count": 96
    }
   ],
   "source": [
    "adj_mat.sum(axis=1)"
   ]
  },
  {
   "cell_type": "code",
   "execution_count": 107,
   "metadata": {},
   "outputs": [],
   "source": [
    "group_adj_mat = adj_mat.T @ adj_mat\n",
    "group_adj_mat.shape\n",
    "for i in range(group_adj_mat.shape[0]):\n",
    "    group_adj_mat[i,i]=0\n",
    "\n",
    "#group_adj_mat[14,:] = 0\n",
    "#group_adj_mat[:, 14] = 0\n"
   ]
  },
  {
   "cell_type": "code",
   "execution_count": 108,
   "metadata": {},
   "outputs": [
    {
     "output_type": "execute_result",
     "data": {
      "text/plain": [
       "<matplotlib.image.AxesImage at 0x7f081c384710>"
      ]
     },
     "metadata": {},
     "execution_count": 108
    },
    {
     "output_type": "display_data",
     "data": {
      "text/plain": "<Figure size 432x288 with 1 Axes>",
      "image/svg+xml": "<?xml version=\"1.0\" encoding=\"utf-8\" standalone=\"no\"?>\n<!DOCTYPE svg PUBLIC \"-//W3C//DTD SVG 1.1//EN\"\n  \"http://www.w3.org/Graphics/SVG/1.1/DTD/svg11.dtd\">\n<!-- Created with matplotlib (https://matplotlib.org/) -->\n<svg height=\"249.211058pt\" version=\"1.1\" viewBox=\"0 0 251.565 249.211058\" width=\"251.565pt\" xmlns=\"http://www.w3.org/2000/svg\" xmlns:xlink=\"http://www.w3.org/1999/xlink\">\n <metadata>\n  <rdf:RDF xmlns:cc=\"http://creativecommons.org/ns#\" xmlns:dc=\"http://purl.org/dc/elements/1.1/\" xmlns:rdf=\"http://www.w3.org/1999/02/22-rdf-syntax-ns#\">\n   <cc:Work>\n    <dc:type rdf:resource=\"http://purl.org/dc/dcmitype/StillImage\"/>\n    <dc:date>2021-02-24T14:12:24.240346</dc:date>\n    <dc:format>image/svg+xml</dc:format>\n    <dc:creator>\n     <cc:Agent>\n      <dc:title>Matplotlib v3.3.4, https://matplotlib.org/</dc:title>\n     </cc:Agent>\n    </dc:creator>\n   </cc:Work>\n  </rdf:RDF>\n </metadata>\n <defs>\n  <style type=\"text/css\">*{stroke-linecap:butt;stroke-linejoin:round;}</style>\n </defs>\n <g id=\"figure_1\">\n  <g id=\"patch_1\">\n   <path d=\"M 0 249.211058 \nL 251.565 249.211058 \nL 251.565 0 \nL 0 0 \nz\n\" style=\"fill:none;\"/>\n  </g>\n  <g id=\"axes_1\">\n   <g id=\"patch_2\">\n    <path d=\"M 26.925 225.332933 \nL 244.365 225.332933 \nL 244.365 7.892933 \nL 26.925 7.892933 \nz\n\" style=\"fill:#ffffff;\"/>\n   </g>\n   <g clip-path=\"url(#p2e398626f6)\">\n    <image height=\"218\" id=\"image21348b81b4\" transform=\"scale(1 -1)translate(0 -218)\" width=\"218\" x=\"26.925\" xlink:href=\"data:image/png;base64,\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\" y=\"-7.332933\"/>\n   </g>\n   <g id=\"matplotlib.axis_1\">\n    <g id=\"xtick_1\">\n     <g id=\"line2d_1\">\n      <defs>\n       <path d=\"M 0 0 \nL 0 3.5 \n\" id=\"m5967153eb5\" style=\"stroke:#000000;stroke-width:0.8;\"/>\n      </defs>\n      <g>\n       <use style=\"stroke:#000000;stroke-width:0.8;\" x=\"30.031286\" xlink:href=\"#m5967153eb5\" y=\"225.332933\"/>\n      </g>\n     </g>\n     <g id=\"text_1\">\n      <!-- 0 -->\n      <g transform=\"translate(26.850036 239.931371)scale(0.1 -0.1)\">\n       <defs>\n        <path d=\"M 31.78125 66.40625 \nQ 24.171875 66.40625 20.328125 58.90625 \nQ 16.5 51.421875 16.5 36.375 \nQ 16.5 21.390625 20.328125 13.890625 \nQ 24.171875 6.390625 31.78125 6.390625 \nQ 39.453125 6.390625 43.28125 13.890625 \nQ 47.125 21.390625 47.125 36.375 \nQ 47.125 51.421875 43.28125 58.90625 \nQ 39.453125 66.40625 31.78125 66.40625 \nz\nM 31.78125 74.21875 \nQ 44.046875 74.21875 50.515625 64.515625 \nQ 56.984375 54.828125 56.984375 36.375 \nQ 56.984375 17.96875 50.515625 8.265625 \nQ 44.046875 -1.421875 31.78125 -1.421875 \nQ 19.53125 -1.421875 13.0625 8.265625 \nQ 6.59375 17.96875 6.59375 36.375 \nQ 6.59375 54.828125 13.0625 64.515625 \nQ 19.53125 74.21875 31.78125 74.21875 \nz\n\" id=\"DejaVuSans-48\"/>\n       </defs>\n       <use xlink:href=\"#DejaVuSans-48\"/>\n      </g>\n     </g>\n    </g>\n    <g id=\"xtick_2\">\n     <g id=\"line2d_2\">\n      <g>\n       <use style=\"stroke:#000000;stroke-width:0.8;\" x=\"61.094143\" xlink:href=\"#m5967153eb5\" y=\"225.332933\"/>\n      </g>\n     </g>\n     <g id=\"text_2\">\n      <!-- 5 -->\n      <g transform=\"translate(57.912893 239.931371)scale(0.1 -0.1)\">\n       <defs>\n        <path d=\"M 10.796875 72.90625 \nL 49.515625 72.90625 \nL 49.515625 64.59375 \nL 19.828125 64.59375 \nL 19.828125 46.734375 \nQ 21.96875 47.46875 24.109375 47.828125 \nQ 26.265625 48.1875 28.421875 48.1875 \nQ 40.625 48.1875 47.75 41.5 \nQ 54.890625 34.8125 54.890625 23.390625 \nQ 54.890625 11.625 47.5625 5.09375 \nQ 40.234375 -1.421875 26.90625 -1.421875 \nQ 22.3125 -1.421875 17.546875 -0.640625 \nQ 12.796875 0.140625 7.71875 1.703125 \nL 7.71875 11.625 \nQ 12.109375 9.234375 16.796875 8.0625 \nQ 21.484375 6.890625 26.703125 6.890625 \nQ 35.15625 6.890625 40.078125 11.328125 \nQ 45.015625 15.765625 45.015625 23.390625 \nQ 45.015625 31 40.078125 35.4375 \nQ 35.15625 39.890625 26.703125 39.890625 \nQ 22.75 39.890625 18.8125 39.015625 \nQ 14.890625 38.140625 10.796875 36.28125 \nz\n\" id=\"DejaVuSans-53\"/>\n       </defs>\n       <use xlink:href=\"#DejaVuSans-53\"/>\n      </g>\n     </g>\n    </g>\n    <g id=\"xtick_3\">\n     <g id=\"line2d_3\">\n      <g>\n       <use style=\"stroke:#000000;stroke-width:0.8;\" x=\"92.157\" xlink:href=\"#m5967153eb5\" y=\"225.332933\"/>\n      </g>\n     </g>\n     <g id=\"text_3\">\n      <!-- 10 -->\n      <g transform=\"translate(85.7945 239.931371)scale(0.1 -0.1)\">\n       <defs>\n        <path d=\"M 12.40625 8.296875 \nL 28.515625 8.296875 \nL 28.515625 63.921875 \nL 10.984375 60.40625 \nL 10.984375 69.390625 \nL 28.421875 72.90625 \nL 38.28125 72.90625 \nL 38.28125 8.296875 \nL 54.390625 8.296875 \nL 54.390625 0 \nL 12.40625 0 \nz\n\" id=\"DejaVuSans-49\"/>\n       </defs>\n       <use xlink:href=\"#DejaVuSans-49\"/>\n       <use x=\"63.623047\" xlink:href=\"#DejaVuSans-48\"/>\n      </g>\n     </g>\n    </g>\n    <g id=\"xtick_4\">\n     <g id=\"line2d_4\">\n      <g>\n       <use style=\"stroke:#000000;stroke-width:0.8;\" x=\"123.219857\" xlink:href=\"#m5967153eb5\" y=\"225.332933\"/>\n      </g>\n     </g>\n     <g id=\"text_4\">\n      <!-- 15 -->\n      <g transform=\"translate(116.857357 239.931371)scale(0.1 -0.1)\">\n       <use xlink:href=\"#DejaVuSans-49\"/>\n       <use x=\"63.623047\" xlink:href=\"#DejaVuSans-53\"/>\n      </g>\n     </g>\n    </g>\n    <g id=\"xtick_5\">\n     <g id=\"line2d_5\">\n      <g>\n       <use style=\"stroke:#000000;stroke-width:0.8;\" x=\"154.282714\" xlink:href=\"#m5967153eb5\" y=\"225.332933\"/>\n      </g>\n     </g>\n     <g id=\"text_5\">\n      <!-- 20 -->\n      <g transform=\"translate(147.920214 239.931371)scale(0.1 -0.1)\">\n       <defs>\n        <path d=\"M 19.1875 8.296875 \nL 53.609375 8.296875 \nL 53.609375 0 \nL 7.328125 0 \nL 7.328125 8.296875 \nQ 12.9375 14.109375 22.625 23.890625 \nQ 32.328125 33.6875 34.8125 36.53125 \nQ 39.546875 41.84375 41.421875 45.53125 \nQ 43.3125 49.21875 43.3125 52.78125 \nQ 43.3125 58.59375 39.234375 62.25 \nQ 35.15625 65.921875 28.609375 65.921875 \nQ 23.96875 65.921875 18.8125 64.3125 \nQ 13.671875 62.703125 7.8125 59.421875 \nL 7.8125 69.390625 \nQ 13.765625 71.78125 18.9375 73 \nQ 24.125 74.21875 28.421875 74.21875 \nQ 39.75 74.21875 46.484375 68.546875 \nQ 53.21875 62.890625 53.21875 53.421875 \nQ 53.21875 48.921875 51.53125 44.890625 \nQ 49.859375 40.875 45.40625 35.40625 \nQ 44.1875 33.984375 37.640625 27.21875 \nQ 31.109375 20.453125 19.1875 8.296875 \nz\n\" id=\"DejaVuSans-50\"/>\n       </defs>\n       <use xlink:href=\"#DejaVuSans-50\"/>\n       <use x=\"63.623047\" xlink:href=\"#DejaVuSans-48\"/>\n      </g>\n     </g>\n    </g>\n    <g id=\"xtick_6\">\n     <g id=\"line2d_6\">\n      <g>\n       <use style=\"stroke:#000000;stroke-width:0.8;\" x=\"185.345571\" xlink:href=\"#m5967153eb5\" y=\"225.332933\"/>\n      </g>\n     </g>\n     <g id=\"text_6\">\n      <!-- 25 -->\n      <g transform=\"translate(178.983071 239.931371)scale(0.1 -0.1)\">\n       <use xlink:href=\"#DejaVuSans-50\"/>\n       <use x=\"63.623047\" xlink:href=\"#DejaVuSans-53\"/>\n      </g>\n     </g>\n    </g>\n    <g id=\"xtick_7\">\n     <g id=\"line2d_7\">\n      <g>\n       <use style=\"stroke:#000000;stroke-width:0.8;\" x=\"216.408429\" xlink:href=\"#m5967153eb5\" y=\"225.332933\"/>\n      </g>\n     </g>\n     <g id=\"text_7\">\n      <!-- 30 -->\n      <g transform=\"translate(210.045929 239.931371)scale(0.1 -0.1)\">\n       <defs>\n        <path d=\"M 40.578125 39.3125 \nQ 47.65625 37.796875 51.625 33 \nQ 55.609375 28.21875 55.609375 21.1875 \nQ 55.609375 10.40625 48.1875 4.484375 \nQ 40.765625 -1.421875 27.09375 -1.421875 \nQ 22.515625 -1.421875 17.65625 -0.515625 \nQ 12.796875 0.390625 7.625 2.203125 \nL 7.625 11.71875 \nQ 11.71875 9.328125 16.59375 8.109375 \nQ 21.484375 6.890625 26.8125 6.890625 \nQ 36.078125 6.890625 40.9375 10.546875 \nQ 45.796875 14.203125 45.796875 21.1875 \nQ 45.796875 27.640625 41.28125 31.265625 \nQ 36.765625 34.90625 28.71875 34.90625 \nL 20.21875 34.90625 \nL 20.21875 43.015625 \nL 29.109375 43.015625 \nQ 36.375 43.015625 40.234375 45.921875 \nQ 44.09375 48.828125 44.09375 54.296875 \nQ 44.09375 59.90625 40.109375 62.90625 \nQ 36.140625 65.921875 28.71875 65.921875 \nQ 24.65625 65.921875 20.015625 65.03125 \nQ 15.375 64.15625 9.8125 62.3125 \nL 9.8125 71.09375 \nQ 15.4375 72.65625 20.34375 73.4375 \nQ 25.25 74.21875 29.59375 74.21875 \nQ 40.828125 74.21875 47.359375 69.109375 \nQ 53.90625 64.015625 53.90625 55.328125 \nQ 53.90625 49.265625 50.4375 45.09375 \nQ 46.96875 40.921875 40.578125 39.3125 \nz\n\" id=\"DejaVuSans-51\"/>\n       </defs>\n       <use xlink:href=\"#DejaVuSans-51\"/>\n       <use x=\"63.623047\" xlink:href=\"#DejaVuSans-48\"/>\n      </g>\n     </g>\n    </g>\n   </g>\n   <g id=\"matplotlib.axis_2\">\n    <g id=\"ytick_1\">\n     <g id=\"line2d_8\">\n      <defs>\n       <path d=\"M 0 0 \nL -3.5 0 \n\" id=\"mde08ce324e\" style=\"stroke:#000000;stroke-width:0.8;\"/>\n      </defs>\n      <g>\n       <use style=\"stroke:#000000;stroke-width:0.8;\" x=\"26.925\" xlink:href=\"#mde08ce324e\" y=\"10.999219\"/>\n      </g>\n     </g>\n     <g id=\"text_8\">\n      <!-- 0 -->\n      <g transform=\"translate(13.5625 14.798437)scale(0.1 -0.1)\">\n       <use xlink:href=\"#DejaVuSans-48\"/>\n      </g>\n     </g>\n    </g>\n    <g id=\"ytick_2\">\n     <g id=\"line2d_9\">\n      <g>\n       <use style=\"stroke:#000000;stroke-width:0.8;\" x=\"26.925\" xlink:href=\"#mde08ce324e\" y=\"42.062076\"/>\n      </g>\n     </g>\n     <g id=\"text_9\">\n      <!-- 5 -->\n      <g transform=\"translate(13.5625 45.861295)scale(0.1 -0.1)\">\n       <use xlink:href=\"#DejaVuSans-53\"/>\n      </g>\n     </g>\n    </g>\n    <g id=\"ytick_3\">\n     <g id=\"line2d_10\">\n      <g>\n       <use style=\"stroke:#000000;stroke-width:0.8;\" x=\"26.925\" xlink:href=\"#mde08ce324e\" y=\"73.124933\"/>\n      </g>\n     </g>\n     <g id=\"text_10\">\n      <!-- 10 -->\n      <g transform=\"translate(7.2 76.924152)scale(0.1 -0.1)\">\n       <use xlink:href=\"#DejaVuSans-49\"/>\n       <use x=\"63.623047\" xlink:href=\"#DejaVuSans-48\"/>\n      </g>\n     </g>\n    </g>\n    <g id=\"ytick_4\">\n     <g id=\"line2d_11\">\n      <g>\n       <use style=\"stroke:#000000;stroke-width:0.8;\" x=\"26.925\" xlink:href=\"#mde08ce324e\" y=\"104.18779\"/>\n      </g>\n     </g>\n     <g id=\"text_11\">\n      <!-- 15 -->\n      <g transform=\"translate(7.2 107.987009)scale(0.1 -0.1)\">\n       <use xlink:href=\"#DejaVuSans-49\"/>\n       <use x=\"63.623047\" xlink:href=\"#DejaVuSans-53\"/>\n      </g>\n     </g>\n    </g>\n    <g id=\"ytick_5\">\n     <g id=\"line2d_12\">\n      <g>\n       <use style=\"stroke:#000000;stroke-width:0.8;\" x=\"26.925\" xlink:href=\"#mde08ce324e\" y=\"135.250647\"/>\n      </g>\n     </g>\n     <g id=\"text_12\">\n      <!-- 20 -->\n      <g transform=\"translate(7.2 139.049866)scale(0.1 -0.1)\">\n       <use xlink:href=\"#DejaVuSans-50\"/>\n       <use x=\"63.623047\" xlink:href=\"#DejaVuSans-48\"/>\n      </g>\n     </g>\n    </g>\n    <g id=\"ytick_6\">\n     <g id=\"line2d_13\">\n      <g>\n       <use style=\"stroke:#000000;stroke-width:0.8;\" x=\"26.925\" xlink:href=\"#mde08ce324e\" y=\"166.313504\"/>\n      </g>\n     </g>\n     <g id=\"text_13\">\n      <!-- 25 -->\n      <g transform=\"translate(7.2 170.112723)scale(0.1 -0.1)\">\n       <use xlink:href=\"#DejaVuSans-50\"/>\n       <use x=\"63.623047\" xlink:href=\"#DejaVuSans-53\"/>\n      </g>\n     </g>\n    </g>\n    <g id=\"ytick_7\">\n     <g id=\"line2d_14\">\n      <g>\n       <use style=\"stroke:#000000;stroke-width:0.8;\" x=\"26.925\" xlink:href=\"#mde08ce324e\" y=\"197.376362\"/>\n      </g>\n     </g>\n     <g id=\"text_14\">\n      <!-- 30 -->\n      <g transform=\"translate(7.2 201.17558)scale(0.1 -0.1)\">\n       <use xlink:href=\"#DejaVuSans-51\"/>\n       <use x=\"63.623047\" xlink:href=\"#DejaVuSans-48\"/>\n      </g>\n     </g>\n    </g>\n   </g>\n   <g id=\"patch_3\">\n    <path d=\"M 26.925 225.332933 \nL 26.925 7.892933 \n\" style=\"fill:none;stroke:#000000;stroke-linecap:square;stroke-linejoin:miter;stroke-width:0.8;\"/>\n   </g>\n   <g id=\"patch_4\">\n    <path d=\"M 244.365 225.332933 \nL 244.365 7.892933 \n\" style=\"fill:none;stroke:#000000;stroke-linecap:square;stroke-linejoin:miter;stroke-width:0.8;\"/>\n   </g>\n   <g id=\"patch_5\">\n    <path d=\"M 26.925 225.332933 \nL 244.365 225.332933 \n\" style=\"fill:none;stroke:#000000;stroke-linecap:square;stroke-linejoin:miter;stroke-width:0.8;\"/>\n   </g>\n   <g id=\"patch_6\">\n    <path d=\"M 26.925 7.892933 \nL 244.365 7.892933 \n\" style=\"fill:none;stroke:#000000;stroke-linecap:square;stroke-linejoin:miter;stroke-width:0.8;\"/>\n   </g>\n  </g>\n </g>\n <defs>\n  <clipPath id=\"p2e398626f6\">\n   <rect height=\"217.44\" width=\"217.44\" x=\"26.925\" y=\"7.892933\"/>\n  </clipPath>\n </defs>\n</svg>\n",
      "image/png": "[encoded data removed]"
     },
     "metadata": {
      "needs_background": "light"
     }
    }
   ],
   "source": [
    "plt.imshow(group_adj_mat)"
   ]
  },
  {
   "cell_type": "code",
   "execution_count": 109,
   "metadata": {},
   "outputs": [
    {
     "output_type": "execute_result",
     "data": {
      "text/plain": [
       "Counter({0: 879, 4: 14, 1: 216, 3: 28, 2: 66, 8: 6, 9: 2, 5: 6, 6: 6, 7: 2})"
      ]
     },
     "metadata": {},
     "execution_count": 109
    }
   ],
   "source": [
    "Counter(group_adj_mat.reshape(-1))"
   ]
  },
  {
   "cell_type": "code",
   "execution_count": 115,
   "metadata": {},
   "outputs": [
    {
     "output_type": "execute_result",
     "data": {
      "text/plain": [
       "EdgeView([('group1', 'group2'), ('group1', 'group3'), ('group1', 'group5'), ('group1', 'group6'), ('group1', 'group7'), ('group1', 'group11'), ('group1', 'group13'), ('group1', 'group14'), ('group1', 'group15'), ('group1', 'group16'), ('group1', 'group17'), ('group1', 'group18'), ('group1', 'group19'), ('group1', 'group20'), ('group1', 'group24'), ('group1', 'group28'), ('group1', 'group29'), ('group1', 'group30'), ('group1', 'group31'), ('group1', 'group32'), ('group1', 'group33'), ('group1', 'group35'), ('group2', 'group6'), ('group2', 'group11'), ('group2', 'group15'), ('group2', 'group16'), ('group2', 'group18'), ('group2', 'group19'), ('group2', 'group20'), ('group2', 'group27'), ('group2', 'group29'), ('group2', 'group30'), ('group2', 'group31'), ('group3', 'group5'), ('group3', 'group7'), ('group3', 'group10'), ('group3', 'group11'), ('group3', 'group13'), ('group3', 'group14'), ('group3', 'group15'), ('group3', 'group16'), ('group3', 'group20'), ('group3', 'group25'), ('group3', 'group30'), ('group3', 'group34'), ('group3', 'group35'), ('group3', 'group37'), ('group4', 'group5'), ('group4', 'group12'), ('group4', 'group18'), ('group4', 'group35'), ('group4', 'group37'), ('group5', 'group14'), ('group5', 'group15'), ('group5', 'group18'), ('group5', 'group25'), ('group5', 'group30'), ('group6', 'group11'), ('group6', 'group13'), ('group6', 'group15'), ('group6', 'group17'), ('group6', 'group27'), ('group7', 'group11'), ('group7', 'group12'), ('group7', 'group14'), ('group7', 'group15'), ('group7', 'group16'), ('group7', 'group18'), ('group7', 'group24'), ('group7', 'group28'), ('group7', 'group30'), ('group7', 'group32'), ('group7', 'group36'), ('group10', 'group13'), ('group10', 'group15'), ('group10', 'group16'), ('group10', 'group27'), ('group10', 'group30'), ('group11', 'group13'), ('group11', 'group14'), ('group11', 'group15'), ('group11', 'group16'), ('group11', 'group18'), ('group11', 'group30'), ('group11', 'group31'), ('group11', 'group35'), ('group11', 'group37'), ('group12', 'group14'), ('group12', 'group15'), ('group12', 'group22'), ('group12', 'group35'), ('group12', 'group36'), ('group12', 'group37'), ('group12', 'group38'), ('group13', 'group14'), ('group13', 'group15'), ('group13', 'group16'), ('group13', 'group17'), ('group13', 'group18'), ('group13', 'group19'), ('group13', 'group21'), ('group13', 'group22'), ('group13', 'group30'), ('group13', 'group31'), ('group13', 'group34'), ('group13', 'group35'), ('group13', 'group37'), ('group14', 'group15'), ('group14', 'group16'), ('group14', 'group18'), ('group14', 'group22'), ('group14', 'group30'), ('group14', 'group35'), ('group14', 'group37'), ('group14', 'group38'), ('group15', 'group16'), ('group15', 'group18'), ('group15', 'group19'), ('group15', 'group20'), ('group15', 'group22'), ('group15', 'group24'), ('group15', 'group25'), ('group15', 'group27'), ('group15', 'group28'), ('group15', 'group30'), ('group15', 'group32'), ('group15', 'group34'), ('group15', 'group37'), ('group15', 'group38'), ('group16', 'group18'), ('group16', 'group19'), ('group16', 'group20'), ('group16', 'group21'), ('group16', 'group24'), ('group16', 'group27'), ('group16', 'group28'), ('group16', 'group30'), ('group16', 'group35'), ('group16', 'group37'), ('group17', 'group19'), ('group17', 'group32'), ('group18', 'group30'), ('group18', 'group31'), ('group18', 'group37'), ('group19', 'group20'), ('group19', 'group22'), ('group19', 'group30'), ('group19', 'group32'), ('group19', 'group35'), ('group19', 'group37'), ('group20', 'group21'), ('group20', 'group27'), ('group20', 'group28'), ('group20', 'group30'), ('group21', 'group23'), ('group21', 'group29'), ('group21', 'group30'), ('group23', 'group29'), ('group24', 'group25'), ('group24', 'group28'), ('group24', 'group30'), ('group27', 'group28'), ('group27', 'group30'), ('group28', 'group30'), ('group29', 'group30'), ('group30', 'group31'), ('group30', 'group34'), ('group30', 'group36'), ('group30', 'group37'), ('group30', 'group38'), ('group33', 'group35'), ('group34', 'group36'), ('group35', 'group37')])"
      ]
     },
     "metadata": {},
     "execution_count": 115
    }
   ],
   "source": [
    "groupGraph = nx.Graph(group_adj_mat)\n",
    "groupGraph = nx.relabel_nodes(groupGraph,dict(enumerate(valid_groups)))\n",
    "groupGraph.edges"
   ]
  },
  {
   "cell_type": "code",
   "execution_count": 118,
   "metadata": {},
   "outputs": [
    {
     "output_type": "execute_result",
     "data": {
      "text/plain": [
       "0.1549274049896009"
      ]
     },
     "metadata": {},
     "execution_count": 118
    }
   ],
   "source": []
  },
  {
   "cell_type": "code",
   "execution_count": 142,
   "metadata": {},
   "outputs": [
    {
     "output_type": "stream",
     "name": "stdout",
     "text": [
      "0.1549274049896009\n"
     ]
    },
    {
     "output_type": "execute_result",
     "data": {
      "text/plain": [
       "{0: ['group1',\n",
       "  'group2',\n",
       "  'group10',\n",
       "  'group16',\n",
       "  'group20',\n",
       "  'group21',\n",
       "  'group23',\n",
       "  'group24',\n",
       "  'group27',\n",
       "  'group28',\n",
       "  'group29',\n",
       "  'group30',\n",
       "  'group31'],\n",
       " 1: ['group3',\n",
       "  'group5',\n",
       "  'group6',\n",
       "  'group13',\n",
       "  'group15',\n",
       "  'group17',\n",
       "  'group19',\n",
       "  'group22',\n",
       "  'group25',\n",
       "  'group32',\n",
       "  'group34'],\n",
       " 2: ['group4',\n",
       "  'group7',\n",
       "  'group11',\n",
       "  'group12',\n",
       "  'group14',\n",
       "  'group18',\n",
       "  'group33',\n",
       "  'group35',\n",
       "  'group36',\n",
       "  'group37',\n",
       "  'group38']}"
      ]
     },
     "metadata": {},
     "execution_count": 142
    }
   ],
   "source": [
    "rs=1001\n",
    "#for rs in range(1000,1010):\n",
    "partition = community.best_partition(groupGraph,random_state=rs)\n",
    "print(community.modularity(partition,groupGraph))\n",
    "\n",
    "inverse_group_partition = {}\n",
    "for k, v in partition.items():\n",
    "    inverse_group_partition[v] = inverse_group_partition.get(v,[])+[k]\n",
    "\n",
    "inverse_group_partition"
   ]
  },
  {
   "cell_type": "code",
   "execution_count": 122,
   "metadata": {},
   "outputs": [
    {
     "output_type": "stream",
     "name": "stdout",
     "text": [
      "(59, 59)\n"
     ]
    }
   ],
   "source": [
    "article_adj_mat = adj_mat @ adj_mat.T\n",
    "print(article_adj_mat.shape)\n",
    "for i in range(article_adj_mat.shape[0]):\n",
    "    article_adj_mat[i,i]=0\n",
    "\n",
    "#group_adj_mat[14,:] = 0"
   ]
  },
  {
   "cell_type": "code",
   "execution_count": 123,
   "metadata": {},
   "outputs": [
    {
     "output_type": "execute_result",
     "data": {
      "text/plain": [
       "<matplotlib.image.AxesImage at 0x7f081c337b90>"
      ]
     },
     "metadata": {},
     "execution_count": 123
    },
    {
     "output_type": "display_data",
     "data": {
      "text/plain": "<Figure size 432x288 with 1 Axes>",
      "image/svg+xml": "<?xml version=\"1.0\" encoding=\"utf-8\" standalone=\"no\"?>\n<!DOCTYPE svg PUBLIC \"-//W3C//DTD SVG 1.1//EN\"\n  \"http://www.w3.org/Graphics/SVG/1.1/DTD/svg11.dtd\">\n<!-- Created with matplotlib (https://matplotlib.org/) -->\n<svg height=\"250.474632pt\" version=\"1.1\" viewBox=\"0 0 251.565 250.474632\" width=\"251.565pt\" xmlns=\"http://www.w3.org/2000/svg\" xmlns:xlink=\"http://www.w3.org/1999/xlink\">\n <metadata>\n  <rdf:RDF xmlns:cc=\"http://creativecommons.org/ns#\" xmlns:dc=\"http://purl.org/dc/elements/1.1/\" xmlns:rdf=\"http://www.w3.org/1999/02/22-rdf-syntax-ns#\">\n   <cc:Work>\n    <dc:type rdf:resource=\"http://purl.org/dc/dcmitype/StillImage\"/>\n    <dc:date>2021-02-24T15:42:41.189377</dc:date>\n    <dc:format>image/svg+xml</dc:format>\n    <dc:creator>\n     <cc:Agent>\n      <dc:title>Matplotlib v3.3.4, https://matplotlib.org/</dc:title>\n     </cc:Agent>\n    </dc:creator>\n   </cc:Work>\n  </rdf:RDF>\n </metadata>\n <defs>\n  <style type=\"text/css\">*{stroke-linecap:butt;stroke-linejoin:round;}</style>\n </defs>\n <g id=\"figure_1\">\n  <g id=\"patch_1\">\n   <path d=\"M 0 250.474632 \nL 251.565 250.474632 \nL 251.565 0 \nL 0 0 \nz\n\" style=\"fill:none;\"/>\n  </g>\n  <g id=\"axes_1\">\n   <g id=\"patch_2\">\n    <path d=\"M 26.925 226.596507 \nL 244.365 226.596507 \nL 244.365 9.156507 \nL 26.925 9.156507 \nz\n\" style=\"fill:#ffffff;\"/>\n   </g>\n   <g clip-path=\"url(#p7b4616a1bd)\">\n    <image height=\"218\" id=\"image14f546b8c5\" transform=\"scale(1 -1)translate(0 -218)\" width=\"218\" x=\"26.925\" xlink:href=\"data:image/png;base64,\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\" y=\"-8.596507\"/>\n   </g>\n   <g id=\"matplotlib.axis_1\">\n    <g id=\"xtick_1\">\n     <g id=\"line2d_1\">\n      <defs>\n       <path d=\"M 0 0 \nL 0 3.5 \n\" id=\"md29f2d4e7e\" style=\"stroke:#000000;stroke-width:0.8;\"/>\n      </defs>\n      <g>\n       <use style=\"stroke:#000000;stroke-width:0.8;\" x=\"28.767712\" xlink:href=\"#md29f2d4e7e\" y=\"226.596507\"/>\n      </g>\n     </g>\n     <g id=\"text_1\">\n      <!-- 0 -->\n      <g transform=\"translate(25.586462 241.194944)scale(0.1 -0.1)\">\n       <defs>\n        <path d=\"M 31.78125 66.40625 \nQ 24.171875 66.40625 20.328125 58.90625 \nQ 16.5 51.421875 16.5 36.375 \nQ 16.5 21.390625 20.328125 13.890625 \nQ 24.171875 6.390625 31.78125 6.390625 \nQ 39.453125 6.390625 43.28125 13.890625 \nQ 47.125 21.390625 47.125 36.375 \nQ 47.125 51.421875 43.28125 58.90625 \nQ 39.453125 66.40625 31.78125 66.40625 \nz\nM 31.78125 74.21875 \nQ 44.046875 74.21875 50.515625 64.515625 \nQ 56.984375 54.828125 56.984375 36.375 \nQ 56.984375 17.96875 50.515625 8.265625 \nQ 44.046875 -1.421875 31.78125 -1.421875 \nQ 19.53125 -1.421875 13.0625 8.265625 \nQ 6.59375 17.96875 6.59375 36.375 \nQ 6.59375 54.828125 13.0625 64.515625 \nQ 19.53125 74.21875 31.78125 74.21875 \nz\n\" id=\"DejaVuSans-48\"/>\n       </defs>\n       <use xlink:href=\"#DejaVuSans-48\"/>\n      </g>\n     </g>\n    </g>\n    <g id=\"xtick_2\">\n     <g id=\"line2d_2\">\n      <g>\n       <use style=\"stroke:#000000;stroke-width:0.8;\" x=\"65.621949\" xlink:href=\"#md29f2d4e7e\" y=\"226.596507\"/>\n      </g>\n     </g>\n     <g id=\"text_2\">\n      <!-- 10 -->\n      <g transform=\"translate(59.259449 241.194944)scale(0.1 -0.1)\">\n       <defs>\n        <path d=\"M 12.40625 8.296875 \nL 28.515625 8.296875 \nL 28.515625 63.921875 \nL 10.984375 60.40625 \nL 10.984375 69.390625 \nL 28.421875 72.90625 \nL 38.28125 72.90625 \nL 38.28125 8.296875 \nL 54.390625 8.296875 \nL 54.390625 0 \nL 12.40625 0 \nz\n\" id=\"DejaVuSans-49\"/>\n       </defs>\n       <use xlink:href=\"#DejaVuSans-49\"/>\n       <use x=\"63.623047\" xlink:href=\"#DejaVuSans-48\"/>\n      </g>\n     </g>\n    </g>\n    <g id=\"xtick_3\">\n     <g id=\"line2d_3\">\n      <g>\n       <use style=\"stroke:#000000;stroke-width:0.8;\" x=\"102.476186\" xlink:href=\"#md29f2d4e7e\" y=\"226.596507\"/>\n      </g>\n     </g>\n     <g id=\"text_3\">\n      <!-- 20 -->\n      <g transform=\"translate(96.113686 241.194944)scale(0.1 -0.1)\">\n       <defs>\n        <path d=\"M 19.1875 8.296875 \nL 53.609375 8.296875 \nL 53.609375 0 \nL 7.328125 0 \nL 7.328125 8.296875 \nQ 12.9375 14.109375 22.625 23.890625 \nQ 32.328125 33.6875 34.8125 36.53125 \nQ 39.546875 41.84375 41.421875 45.53125 \nQ 43.3125 49.21875 43.3125 52.78125 \nQ 43.3125 58.59375 39.234375 62.25 \nQ 35.15625 65.921875 28.609375 65.921875 \nQ 23.96875 65.921875 18.8125 64.3125 \nQ 13.671875 62.703125 7.8125 59.421875 \nL 7.8125 69.390625 \nQ 13.765625 71.78125 18.9375 73 \nQ 24.125 74.21875 28.421875 74.21875 \nQ 39.75 74.21875 46.484375 68.546875 \nQ 53.21875 62.890625 53.21875 53.421875 \nQ 53.21875 48.921875 51.53125 44.890625 \nQ 49.859375 40.875 45.40625 35.40625 \nQ 44.1875 33.984375 37.640625 27.21875 \nQ 31.109375 20.453125 19.1875 8.296875 \nz\n\" id=\"DejaVuSans-50\"/>\n       </defs>\n       <use xlink:href=\"#DejaVuSans-50\"/>\n       <use x=\"63.623047\" xlink:href=\"#DejaVuSans-48\"/>\n      </g>\n     </g>\n    </g>\n    <g id=\"xtick_4\">\n     <g id=\"line2d_4\">\n      <g>\n       <use style=\"stroke:#000000;stroke-width:0.8;\" x=\"139.330424\" xlink:href=\"#md29f2d4e7e\" y=\"226.596507\"/>\n      </g>\n     </g>\n     <g id=\"text_4\">\n      <!-- 30 -->\n      <g transform=\"translate(132.967924 241.194944)scale(0.1 -0.1)\">\n       <defs>\n        <path d=\"M 40.578125 39.3125 \nQ 47.65625 37.796875 51.625 33 \nQ 55.609375 28.21875 55.609375 21.1875 \nQ 55.609375 10.40625 48.1875 4.484375 \nQ 40.765625 -1.421875 27.09375 -1.421875 \nQ 22.515625 -1.421875 17.65625 -0.515625 \nQ 12.796875 0.390625 7.625 2.203125 \nL 7.625 11.71875 \nQ 11.71875 9.328125 16.59375 8.109375 \nQ 21.484375 6.890625 26.8125 6.890625 \nQ 36.078125 6.890625 40.9375 10.546875 \nQ 45.796875 14.203125 45.796875 21.1875 \nQ 45.796875 27.640625 41.28125 31.265625 \nQ 36.765625 34.90625 28.71875 34.90625 \nL 20.21875 34.90625 \nL 20.21875 43.015625 \nL 29.109375 43.015625 \nQ 36.375 43.015625 40.234375 45.921875 \nQ 44.09375 48.828125 44.09375 54.296875 \nQ 44.09375 59.90625 40.109375 62.90625 \nQ 36.140625 65.921875 28.71875 65.921875 \nQ 24.65625 65.921875 20.015625 65.03125 \nQ 15.375 64.15625 9.8125 62.3125 \nL 9.8125 71.09375 \nQ 15.4375 72.65625 20.34375 73.4375 \nQ 25.25 74.21875 29.59375 74.21875 \nQ 40.828125 74.21875 47.359375 69.109375 \nQ 53.90625 64.015625 53.90625 55.328125 \nQ 53.90625 49.265625 50.4375 45.09375 \nQ 46.96875 40.921875 40.578125 39.3125 \nz\n\" id=\"DejaVuSans-51\"/>\n       </defs>\n       <use xlink:href=\"#DejaVuSans-51\"/>\n       <use x=\"63.623047\" xlink:href=\"#DejaVuSans-48\"/>\n      </g>\n     </g>\n    </g>\n    <g id=\"xtick_5\">\n     <g id=\"line2d_5\">\n      <g>\n       <use style=\"stroke:#000000;stroke-width:0.8;\" x=\"176.184661\" xlink:href=\"#md29f2d4e7e\" y=\"226.596507\"/>\n      </g>\n     </g>\n     <g id=\"text_5\">\n      <!-- 40 -->\n      <g transform=\"translate(169.822161 241.194944)scale(0.1 -0.1)\">\n       <defs>\n        <path d=\"M 37.796875 64.3125 \nL 12.890625 25.390625 \nL 37.796875 25.390625 \nz\nM 35.203125 72.90625 \nL 47.609375 72.90625 \nL 47.609375 25.390625 \nL 58.015625 25.390625 \nL 58.015625 17.1875 \nL 47.609375 17.1875 \nL 47.609375 0 \nL 37.796875 0 \nL 37.796875 17.1875 \nL 4.890625 17.1875 \nL 4.890625 26.703125 \nz\n\" id=\"DejaVuSans-52\"/>\n       </defs>\n       <use xlink:href=\"#DejaVuSans-52\"/>\n       <use x=\"63.623047\" xlink:href=\"#DejaVuSans-48\"/>\n      </g>\n     </g>\n    </g>\n    <g id=\"xtick_6\">\n     <g id=\"line2d_6\">\n      <g>\n       <use style=\"stroke:#000000;stroke-width:0.8;\" x=\"213.038898\" xlink:href=\"#md29f2d4e7e\" y=\"226.596507\"/>\n      </g>\n     </g>\n     <g id=\"text_6\">\n      <!-- 50 -->\n      <g transform=\"translate(206.676398 241.194944)scale(0.1 -0.1)\">\n       <defs>\n        <path d=\"M 10.796875 72.90625 \nL 49.515625 72.90625 \nL 49.515625 64.59375 \nL 19.828125 64.59375 \nL 19.828125 46.734375 \nQ 21.96875 47.46875 24.109375 47.828125 \nQ 26.265625 48.1875 28.421875 48.1875 \nQ 40.625 48.1875 47.75 41.5 \nQ 54.890625 34.8125 54.890625 23.390625 \nQ 54.890625 11.625 47.5625 5.09375 \nQ 40.234375 -1.421875 26.90625 -1.421875 \nQ 22.3125 -1.421875 17.546875 -0.640625 \nQ 12.796875 0.140625 7.71875 1.703125 \nL 7.71875 11.625 \nQ 12.109375 9.234375 16.796875 8.0625 \nQ 21.484375 6.890625 26.703125 6.890625 \nQ 35.15625 6.890625 40.078125 11.328125 \nQ 45.015625 15.765625 45.015625 23.390625 \nQ 45.015625 31 40.078125 35.4375 \nQ 35.15625 39.890625 26.703125 39.890625 \nQ 22.75 39.890625 18.8125 39.015625 \nQ 14.890625 38.140625 10.796875 36.28125 \nz\n\" id=\"DejaVuSans-53\"/>\n       </defs>\n       <use xlink:href=\"#DejaVuSans-53\"/>\n       <use x=\"63.623047\" xlink:href=\"#DejaVuSans-48\"/>\n      </g>\n     </g>\n    </g>\n   </g>\n   <g id=\"matplotlib.axis_2\">\n    <g id=\"ytick_1\">\n     <g id=\"line2d_7\">\n      <defs>\n       <path d=\"M 0 0 \nL -3.5 0 \n\" id=\"md9709a8ce7\" style=\"stroke:#000000;stroke-width:0.8;\"/>\n      </defs>\n      <g>\n       <use style=\"stroke:#000000;stroke-width:0.8;\" x=\"26.925\" xlink:href=\"#md9709a8ce7\" y=\"10.999219\"/>\n      </g>\n     </g>\n     <g id=\"text_7\">\n      <!-- 0 -->\n      <g transform=\"translate(13.5625 14.798437)scale(0.1 -0.1)\">\n       <use xlink:href=\"#DejaVuSans-48\"/>\n      </g>\n     </g>\n    </g>\n    <g id=\"ytick_2\">\n     <g id=\"line2d_8\">\n      <g>\n       <use style=\"stroke:#000000;stroke-width:0.8;\" x=\"26.925\" xlink:href=\"#md9709a8ce7\" y=\"47.853456\"/>\n      </g>\n     </g>\n     <g id=\"text_8\">\n      <!-- 10 -->\n      <g transform=\"translate(7.2 51.652675)scale(0.1 -0.1)\">\n       <use xlink:href=\"#DejaVuSans-49\"/>\n       <use x=\"63.623047\" xlink:href=\"#DejaVuSans-48\"/>\n      </g>\n     </g>\n    </g>\n    <g id=\"ytick_3\">\n     <g id=\"line2d_9\">\n      <g>\n       <use style=\"stroke:#000000;stroke-width:0.8;\" x=\"26.925\" xlink:href=\"#md9709a8ce7\" y=\"84.707693\"/>\n      </g>\n     </g>\n     <g id=\"text_9\">\n      <!-- 20 -->\n      <g transform=\"translate(7.2 88.506912)scale(0.1 -0.1)\">\n       <use xlink:href=\"#DejaVuSans-50\"/>\n       <use x=\"63.623047\" xlink:href=\"#DejaVuSans-48\"/>\n      </g>\n     </g>\n    </g>\n    <g id=\"ytick_4\">\n     <g id=\"line2d_10\">\n      <g>\n       <use style=\"stroke:#000000;stroke-width:0.8;\" x=\"26.925\" xlink:href=\"#md9709a8ce7\" y=\"121.561931\"/>\n      </g>\n     </g>\n     <g id=\"text_10\">\n      <!-- 30 -->\n      <g transform=\"translate(7.2 125.361149)scale(0.1 -0.1)\">\n       <use xlink:href=\"#DejaVuSans-51\"/>\n       <use x=\"63.623047\" xlink:href=\"#DejaVuSans-48\"/>\n      </g>\n     </g>\n    </g>\n    <g id=\"ytick_5\">\n     <g id=\"line2d_11\">\n      <g>\n       <use style=\"stroke:#000000;stroke-width:0.8;\" x=\"26.925\" xlink:href=\"#md9709a8ce7\" y=\"158.416168\"/>\n      </g>\n     </g>\n     <g id=\"text_11\">\n      <!-- 40 -->\n      <g transform=\"translate(7.2 162.215387)scale(0.1 -0.1)\">\n       <use xlink:href=\"#DejaVuSans-52\"/>\n       <use x=\"63.623047\" xlink:href=\"#DejaVuSans-48\"/>\n      </g>\n     </g>\n    </g>\n    <g id=\"ytick_6\">\n     <g id=\"line2d_12\">\n      <g>\n       <use style=\"stroke:#000000;stroke-width:0.8;\" x=\"26.925\" xlink:href=\"#md9709a8ce7\" y=\"195.270405\"/>\n      </g>\n     </g>\n     <g id=\"text_12\">\n      <!-- 50 -->\n      <g transform=\"translate(7.2 199.069624)scale(0.1 -0.1)\">\n       <use xlink:href=\"#DejaVuSans-53\"/>\n       <use x=\"63.623047\" xlink:href=\"#DejaVuSans-48\"/>\n      </g>\n     </g>\n    </g>\n   </g>\n   <g id=\"patch_3\">\n    <path d=\"M 26.925 226.596507 \nL 26.925 9.156507 \n\" style=\"fill:none;stroke:#000000;stroke-linecap:square;stroke-linejoin:miter;stroke-width:0.8;\"/>\n   </g>\n   <g id=\"patch_4\">\n    <path d=\"M 244.365 226.596507 \nL 244.365 9.156507 \n\" style=\"fill:none;stroke:#000000;stroke-linecap:square;stroke-linejoin:miter;stroke-width:0.8;\"/>\n   </g>\n   <g id=\"patch_5\">\n    <path d=\"M 26.925 226.596507 \nL 244.365 226.596507 \n\" style=\"fill:none;stroke:#000000;stroke-linecap:square;stroke-linejoin:miter;stroke-width:0.8;\"/>\n   </g>\n   <g id=\"patch_6\">\n    <path d=\"M 26.925 9.156507 \nL 244.365 9.156507 \n\" style=\"fill:none;stroke:#000000;stroke-linecap:square;stroke-linejoin:miter;stroke-width:0.8;\"/>\n   </g>\n  </g>\n </g>\n <defs>\n  <clipPath id=\"p7b4616a1bd\">\n   <rect height=\"217.44\" width=\"217.44\" x=\"26.925\" y=\"9.156507\"/>\n  </clipPath>\n </defs>\n</svg>\n",
      "image/png": "[encoded data removed]"
     },
     "metadata": {
      "needs_background": "light"
     }
    }
   ],
   "source": [
    "plt.imshow(article_adj_mat)"
   ]
  },
  {
   "cell_type": "code",
   "execution_count": 131,
   "metadata": {},
   "outputs": [
    {
     "output_type": "execute_result",
     "data": {
      "text/plain": [
       "[('Grieger 2003', 'Xu et al 2020'),\n",
       " ('Grieger 2003', 'Yenipazarli 2020'),\n",
       " ('Grieger 2003', 'Zennyo 2020'),\n",
       " ('Grieger 2003', 'Qin et al 2020b'),\n",
       " ('Xu et al 2020', 'Mantin et al 2014'),\n",
       " ('Xu et al 2020', 'He et al 2021'),\n",
       " ('Xu et al 2020', 'Renna 2010'),\n",
       " ('Xu et al 2020', 'Luo et al 2020'),\n",
       " ('Cao et al 2019', 'Yan et al 2019'),\n",
       " ('Cao et al 2019', 'Guo et al 2020'),\n",
       " ('Mantin et al 2014', 'Liu et al 2020'),\n",
       " ('Mantin et al 2014', 'Shen et al 2020'),\n",
       " ('Mantin et al 2014', 'Lin et al 2020'),\n",
       " ('Li 2020', 'Schlosser and Boissier 2018'),\n",
       " ('Li 2020', 'Yan et al 2019'),\n",
       " ('Li 2020', 'Shen et al 2019b'),\n",
       " ('Li 2020', 'Ryan et al 2012'),\n",
       " ('Shen et al 2019', 'He et al 2021'),\n",
       " ('Shen et al 2019', 'Shen et al 2020'),\n",
       " ('Shen et al 2019', 'Guo et al 2020'),\n",
       " ('Avinadav et al 2015b', 'Yan et al 2018'),\n",
       " ('Avinadav et al 2015b', 'Lu et al 2018'),\n",
       " ('Avinadav et al 2015b', 'Abhishek et al 2016'),\n",
       " ('Hua et al 2020', 'Xu et al 2018'),\n",
       " ('Zhen et al 2020', 'Shen et al 2019b'),\n",
       " ('Avinadav et al 2020b', 'He et al 2021'),\n",
       " ('Avinadav et al 2020b', 'Avinadav et al 2019'),\n",
       " ('Avinadav et al 2020b', 'Ryan et al 2012'),\n",
       " ('Alaei et al 2020', 'Avinadav et al 2017'),\n",
       " ('Alaei et al 2020', 'De Giovanni 2020'),\n",
       " ('Wang et al 2020', 'Zennyo 2020'),\n",
       " ('Wang et al 2020', 'Qin et al 2020b'),\n",
       " ('Schlosser and Boissier 2018', 'Yenipazarli 2020'),\n",
       " ('Schlosser and Boissier 2018', 'Shen et al 2020'),\n",
       " ('Schlosser and Boissier 2018', 'de Matta et al 2017'),\n",
       " ('Cai and Lo 2020', 'Lu et al 2018'),\n",
       " ('Yan et al 2018', 'Wang et al 2019'),\n",
       " ('Yan et al 2018', 'Shen et al 2020'),\n",
       " ('Yan et al 2018', 'Hagiu and Wright 2020'),\n",
       " ('Yenipazarli 2020', 'He et al 2021'),\n",
       " ('Yenipazarli 2020', 'Shen et al 2019b'),\n",
       " ('Yenipazarli 2020', 'Ryan et al 2012'),\n",
       " ('Liu et al 2020', 'Lu et al 2018'),\n",
       " ('Liu et al 2020', 'Shen et al 2019b'),\n",
       " ('Liu et al 2020', 'Luo et al 2020'),\n",
       " ('Avinadav et al 2020', 'Yan et al 2019'),\n",
       " ('Avinadav et al 2020', 'Qin et al 2020b'),\n",
       " ('Avinadav et al 2015a', 'Choi et al 2004'),\n",
       " ('Avinadav et al 2015a', 'Chen et al 2020'),\n",
       " ('He et al 2021', 'Chen et al 2019'),\n",
       " ('He et al 2021', 'Zhang and Zhang 2020'),\n",
       " ('He et al 2021', 'Ryan et al 2012'),\n",
       " ('Wang et al 2019', 'Qin et al 2020'),\n",
       " ('He et al 2020', 'Luo et al 2020'),\n",
       " ('Chernonog 2020', 'Avinadav et al 2019'),\n",
       " ('Chen et al 2019', 'Avinadav et al 2017'),\n",
       " ('Chen et al 2019', 'Avinadav et al 2019'),\n",
       " ('Chen et al 2019', 'Luo et al 2020'),\n",
       " ('Choi et al 2004', 'Li et al 2016'),\n",
       " ('Choi et al 2004', 'de Matta et al 2017'),\n",
       " ('Yan et al 2019', 'Shen et al 2020'),\n",
       " ('Yan et al 2019', 'Abhishek et al 2016'),\n",
       " ('Avinadav et al 2017', 'Xu et al 2018'),\n",
       " ('Lu et al 2018', 'Zennyo 2020'),\n",
       " ('Lu et al 2018', 'De Giovanni 2020'),\n",
       " ('Zennyo 2020', 'Shen et al 2019b'),\n",
       " ('Zennyo 2020', 'De Giovanni 2020'),\n",
       " ('Li et al 2019', 'Hagiu and Wright 2020'),\n",
       " ('Cao et al 2020', 'Li et al 2016'),\n",
       " ('Cao et al 2020', 'Luo et al 2020'),\n",
       " ('Shen et al 2020', 'Lin et al 2020'),\n",
       " ('Renna 2010', 'Li et al 2016'),\n",
       " ('Renna 2010', 'De Giovanni 2020'),\n",
       " ('Li et al 2016', 'Lin et al 2020'),\n",
       " ('Zhang and Zhang 2020', 'Chen et al 2020'),\n",
       " ('Zhang and Zhang 2020', 'De Giovanni 2020'),\n",
       " ('Avinadav et al 2019', 'Hagiu and Wright 2020'),\n",
       " ('Shen et al 2019b', 'Guo et al 2020'),\n",
       " ('Chen et al 2020', 'Qin et al 2020b'),\n",
       " ('Qin et al 2020b', 'de Matta et al 2017'),\n",
       " ('Abhishek et al 2016', 'Luo et al 2020'),\n",
       " ('Guo et al 2020', 'Yu et al 2020'),\n",
       " ('Lin et al 2020', 'Ryan et al 2012')]"
      ]
     },
     "metadata": {},
     "execution_count": 131
    }
   ],
   "source": [
    "articleGraph = nx.Graph(article_adj_mat)\n",
    "articleGraph = nx.relabel_nodes(articleGraph,dict(article_adj.article))\n",
    "list(articleGraph.edges)[::10]"
   ]
  },
  {
   "cell_type": "code",
   "execution_count": 163,
   "metadata": {},
   "outputs": [
    {
     "output_type": "stream",
     "name": "stdout",
     "text": [
      "0.16042539004447154\n"
     ]
    },
    {
     "output_type": "execute_result",
     "data": {
      "text/plain": [
       "{0: ['Grieger 2003',\n",
       "  'Li 2020',\n",
       "  'Avinadav et al 2015b',\n",
       "  'Avinadav et al 2020b',\n",
       "  'Alaei et al 2020',\n",
       "  'Yan et al 2018',\n",
       "  'Liu et al 2020',\n",
       "  'Avinadav et al 2020',\n",
       "  'Avinadav et al 2015a',\n",
       "  'Chernonog 2020',\n",
       "  'Choi et al 2004',\n",
       "  'Yan et al 2019',\n",
       "  'Avinadav et al 2017',\n",
       "  'Zhang and Zhang 2020',\n",
       "  'Avinadav et al 2019',\n",
       "  'Shen et al 2019b',\n",
       "  'Zhao and Bisi 2010',\n",
       "  'de Matta et al 2017',\n",
       "  'Yu and Zhang 2017',\n",
       "  'De Giovanni 2020'],\n",
       " 1: ['Xu et al 2020',\n",
       "  'Mantin et al 2014',\n",
       "  'Shen et al 2019',\n",
       "  'Wang et al 2020',\n",
       "  'Schlosser and Boissier 2018',\n",
       "  'Yenipazarli 2020',\n",
       "  'He et al 2021',\n",
       "  'Chen et al 2019',\n",
       "  'Zennyo 2020',\n",
       "  'Li et al 2019',\n",
       "  'Cao et al 2020',\n",
       "  'Shen et al 2020',\n",
       "  'Zhou et al 2019',\n",
       "  'Renna 2010',\n",
       "  'Li et al 2016',\n",
       "  'Qin et al 2020b',\n",
       "  'Abhishek et al 2016',\n",
       "  'Hagiu and Wright 2020',\n",
       "  'Yu et al 2020',\n",
       "  'Lin et al 2020',\n",
       "  'Qin et al 2020',\n",
       "  'Luo et al 2020',\n",
       "  'Ryan et al 2012'],\n",
       " 2: ['Cao et al 2019',\n",
       "  'Hua et al 2020',\n",
       "  'Zhen et al 2020',\n",
       "  'Cai and Lo 2020',\n",
       "  'Wang et al 2019',\n",
       "  'He et al 2020',\n",
       "  'Lu et al 2018',\n",
       "  'Xu et al 2018',\n",
       "  'Jiang et al 2017',\n",
       "  'Li et al 2020',\n",
       "  'Chen et al 2020',\n",
       "  'Guo et al 2020'],\n",
       " -1: ['Sun et al 2020',\n",
       "  'Zhang and Zhang 2019',\n",
       "  'Geng et al 2018',\n",
       "  'Tian et al 2018']}"
      ]
     },
     "metadata": {},
     "execution_count": 163
    }
   ],
   "source": [
    "rs=1007\n",
    "# for rs in range(1000,1020):\n",
    "partition = community.best_partition(articleGraph,random_state=rs)\n",
    "print(community.modularity(partition,articleGraph))\n",
    "\n",
    "inverse_article_partition = {}\n",
    "for k, v in partition.items():\n",
    "    inverse_article_partition[v] = inverse_article_partition.get(v,[])+[k]\n",
    "\n",
    "inverse_article_partition[-1] = []\n",
    "for k,v in inverse_article_partition.items():\n",
    "    if len(v) ==1 :\n",
    "        inverse_article_partition[-1] += v\n",
    "\n",
    "inverse_article_partition = {k: v for k, v in inverse_article_partition.items() if len(v)>1 }\n",
    "\n",
    "inverse_article_partition"
   ]
  },
  {
   "cell_type": "code",
   "execution_count": 150,
   "metadata": {},
   "outputs": [],
   "source": [
    "clusters_from_references = {0: ['Cao et al 2020',\n",
    "  'Chen et al 2020',\n",
    "  'Wang et al 2019',\n",
    "  'Cao et al 2019',\n",
    "  'Zhen et al 2020',\n",
    "  'Mantin et al 2014',\n",
    "  'Shen et al 2019',\n",
    "  'Yenipazarli 2020',\n",
    "  'Tian et al 2018',\n",
    "  'Ryan et al 2012',\n",
    "  'de Matta et al 2017',\n",
    "  'Zhang and Zhang 2019',\n",
    "  'Shen et al 2019b',\n",
    "  'Zhang and Zhang 2020',\n",
    "  'Yan et al 2019',\n",
    "  'Yan et al 2018',\n",
    "  'Abhishek et al 2016'],\n",
    " 1: ['Li et al 2019',\n",
    "  'Chen et al 2019',\n",
    "  'Qin et al 2020',\n",
    "  'Zennyo 2020',\n",
    "  'He et al 2020',\n",
    "  'Li 2020',\n",
    "  'Cai and Lo 2020',\n",
    "  'Alaei et al 2020',\n",
    "  'Xu et al 2020',\n",
    "  'Qin et al 2020b',\n",
    "  'Li et al 2020',\n",
    "  'Guo et al 2020',\n",
    "  'He et al 2021',\n",
    "  'Liu et al 2020',\n",
    "  'Shen et al 2020',\n",
    "  'Geng et al 2018'],\n",
    " -1: ['De Giovanni 2020',\n",
    "  'Sun et al 2020',\n",
    "  'Hagiu and Wright 2020',\n",
    "  'Xu et al 2018',\n",
    "  'Jiang et al 2017',\n",
    "  'Hua et al 2020',\n",
    "  'Li et al 2016',\n",
    "  'Grieger 2003',\n",
    "  'Lin et al 2020',\n",
    "  'Renna 2010',\n",
    "  'Schlosser and Boissier 2018',\n",
    "  'Zhou et al 2019',\n",
    "  'Yu and Zhang 2017',\n",
    "  'Wang et al 2020',\n",
    "  'Choi et al 2004',\n",
    "  'Lu et al 2018',\n",
    "  'Zhao and Bisi 2010',\n",
    "  'Luo et al 2020'],\n",
    " 8: ['Avinadav et al 2015a',\n",
    "  'Avinadav et al 2017',\n",
    "  'Avinadav et al 2019',\n",
    "  'Avinadav et al 2015b',\n",
    "  'Chernonog 2020',\n",
    "  'Avinadav et al 2020b',\n",
    "  'Avinadav et al 2020']}"
   ]
  },
  {
   "cell_type": "code",
   "execution_count": 164,
   "metadata": {},
   "outputs": [],
   "source": [
    "from itertools import product\n",
    "def compare_sets(d1, d2):\n",
    "    for k1, k2, in product(d1.keys(), d2.keys()):\n",
    "        v1,v2 = d1[k1], d2[k2]\n",
    "        joint = len(set(v1) & set(v2))\n",
    "        if joint and len(v2) > 1:\n",
    "            yield k1, k2, len(v1), len(v2), joint"
   ]
  },
  {
   "cell_type": "code",
   "execution_count": 165,
   "metadata": {},
   "outputs": [
    {
     "output_type": "execute_result",
     "data": {
      "text/plain": [
       "    0  1   2   3  4\n",
       "0   0  0  17  20  5\n",
       "1   0  1  17  23  6\n",
       "2   0  2  17  12  4\n",
       "3   0 -1  17   4  2\n",
       "4   1  0  16  20  3\n",
       "5   1  1  16  23  8\n",
       "6   1  2  16  12  4\n",
       "7   1 -1  16   4  1\n",
       "8  -1  0  18  20  5\n",
       "9  -1  1  18  23  8\n",
       "10 -1  2  18  12  4\n",
       "11 -1 -1  18   4  1\n",
       "12  8  0   7  20  7"
      ],
      "text/html": "<div>\n<style scoped>\n    .dataframe tbody tr th:only-of-type {\n        vertical-align: middle;\n    }\n\n    .dataframe tbody tr th {\n        vertical-align: top;\n    }\n\n    .dataframe thead th {\n        text-align: right;\n    }\n</style>\n<table border=\"1\" class=\"dataframe\">\n  <thead>\n    <tr style=\"text-align: right;\">\n      <th></th>\n      <th>0</th>\n      <th>1</th>\n      <th>2</th>\n      <th>3</th>\n      <th>4</th>\n    </tr>\n  </thead>\n  <tbody>\n    <tr>\n      <th>0</th>\n      <td>0</td>\n      <td>0</td>\n      <td>17</td>\n      <td>20</td>\n      <td>5</td>\n    </tr>\n    <tr>\n      <th>1</th>\n      <td>0</td>\n      <td>1</td>\n      <td>17</td>\n      <td>23</td>\n      <td>6</td>\n    </tr>\n    <tr>\n      <th>2</th>\n      <td>0</td>\n      <td>2</td>\n      <td>17</td>\n      <td>12</td>\n      <td>4</td>\n    </tr>\n    <tr>\n      <th>3</th>\n      <td>0</td>\n      <td>-1</td>\n      <td>17</td>\n      <td>4</td>\n      <td>2</td>\n    </tr>\n    <tr>\n      <th>4</th>\n      <td>1</td>\n      <td>0</td>\n      <td>16</td>\n      <td>20</td>\n      <td>3</td>\n    </tr>\n    <tr>\n      <th>5</th>\n      <td>1</td>\n      <td>1</td>\n      <td>16</td>\n      <td>23</td>\n      <td>8</td>\n    </tr>\n    <tr>\n      <th>6</th>\n      <td>1</td>\n      <td>2</td>\n      <td>16</td>\n      <td>12</td>\n      <td>4</td>\n    </tr>\n    <tr>\n      <th>7</th>\n      <td>1</td>\n      <td>-1</td>\n      <td>16</td>\n      <td>4</td>\n      <td>1</td>\n    </tr>\n    <tr>\n      <th>8</th>\n      <td>-1</td>\n      <td>0</td>\n      <td>18</td>\n      <td>20</td>\n      <td>5</td>\n    </tr>\n    <tr>\n      <th>9</th>\n      <td>-1</td>\n      <td>1</td>\n      <td>18</td>\n      <td>23</td>\n      <td>8</td>\n    </tr>\n    <tr>\n      <th>10</th>\n      <td>-1</td>\n      <td>2</td>\n      <td>18</td>\n      <td>12</td>\n      <td>4</td>\n    </tr>\n    <tr>\n      <th>11</th>\n      <td>-1</td>\n      <td>-1</td>\n      <td>18</td>\n      <td>4</td>\n      <td>1</td>\n    </tr>\n    <tr>\n      <th>12</th>\n      <td>8</td>\n      <td>0</td>\n      <td>7</td>\n      <td>20</td>\n      <td>7</td>\n    </tr>\n  </tbody>\n</table>\n</div>"
     },
     "metadata": {},
     "execution_count": 165
    }
   ],
   "source": [
    "pd.DataFrame(compare_sets(clusters_from_references,inverse_article_partition))"
   ]
  },
  {
   "cell_type": "code",
   "execution_count": 185,
   "metadata": {},
   "outputs": [],
   "source": [
    "keyword_clusters = {}\n",
    "for group, articles in inverse_article_partition.items():\n",
    "    kws = Counter()\n",
    "    for article in articles:\n",
    "        kws.update(article_kws_dict[article])\n",
    "    keyword_clusters[group] = kws\n",
    "\n",
    "\n"
   ]
  },
  {
   "cell_type": "code",
   "execution_count": 188,
   "metadata": {},
   "outputs": [
    {
     "output_type": "execute_result",
     "data": {
      "text/plain": [
       "[[('supply chain management', 12),\n",
       "  ('game theory', 7),\n",
       "  ('supply chain', 4),\n",
       "  ('production', 4),\n",
       "  ('manufacturing', 4),\n",
       "  ('transportation and logistics', 4),\n",
       "  ('revenue sharing', 3),\n",
       "  ('risk attitude', 2)],\n",
       " [('e-commerce', 5),\n",
       "  ('online marketplace', 3),\n",
       "  ('game theory', 3),\n",
       "  ('delivery time', 2),\n",
       "  ('coordination', 2),\n",
       "  ('bargaining', 2),\n",
       "  ('channel selection', 2),\n",
       "  ('dynamic pricing', 2)],\n",
       " [('green supply chain', 2),\n",
       "  ('trade-in strategy', 1),\n",
       "  ('b2c platform', 1),\n",
       "  ('dual-format retailing model', 1),\n",
       "  ('sales efforts', 1),\n",
       "  ('inventory management', 1),\n",
       "  ('newsvendor problem', 1),\n",
       "  ('barter exchange', 1)],\n",
       " []]"
      ]
     },
     "metadata": {},
     "execution_count": 188
    }
   ],
   "source": [
    "[kc.most_common(8) for kc in keyword_clusters.values()]"
   ]
  },
  {
   "cell_type": "code",
   "execution_count": 183,
   "metadata": {},
   "outputs": [],
   "source": [
    "#a = Counter()\n",
    "a.update(['a','a','b','c'])"
   ]
  },
  {
   "cell_type": "code",
   "execution_count": 184,
   "metadata": {},
   "outputs": [
    {
     "output_type": "execute_result",
     "data": {
      "text/plain": [
       "Counter({'a': 4, 'b': 2, 'c': 2})"
      ]
     },
     "metadata": {},
     "execution_count": 184
    }
   ],
   "source": [
    "a"
   ]
  },
  {
   "cell_type": "code",
   "execution_count": 189,
   "metadata": {},
   "outputs": [
    {
     "output_type": "execute_result",
     "data": {
      "text/plain": [
       "['delivery time', 'marketplace mode', 'platform power', 'coordination']"
      ]
     },
     "metadata": {},
     "execution_count": 189
    }
   ],
   "source": [
    "article_kws_dict['Xu et al 2020']"
   ]
  },
  {
   "cell_type": "code",
   "execution_count": null,
   "metadata": {},
   "outputs": [],
   "source": []
  }
 ]
}