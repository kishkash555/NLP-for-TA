{
 "cells": [
  {
   "cell_type": "code",
   "execution_count": 1,
   "id": "gorgeous-brunei",
   "metadata": {},
   "outputs": [],
   "source": [
    "from xml_tools import get_abstract_contents\n",
    "from collections import Counter\n",
    "from sklearn.feature_extraction.text import TfidfVectorizer\n",
    "from sklearn.metrics.pairwise import linear_kernel\n",
    "from sklearn.cluster import KMeans\n",
    "import pandas as pd\n",
    "from sklearn.decomposition import PCA\n",
    "import numpy as np\n",
    "from scipy.spatial import distance_matrix\n",
    "from sklearn import manifold\n",
    "from tqdm import tqdm"
   ]
  },
  {
   "cell_type": "code",
   "execution_count": 2,
   "id": "nuclear-consumer",
   "metadata": {},
   "outputs": [],
   "source": [
    "import glob\n",
    "from os import path\n",
    "\n"
   ]
  },
  {
   "cell_type": "code",
   "execution_count": 3,
   "id": "injured-moisture",
   "metadata": {
    "scrolled": true
   },
   "outputs": [],
   "source": [
    "import spacy\n",
    "nlp = spacy.load(\"en_core_web_lg\")"
   ]
  },
  {
   "cell_type": "code",
   "execution_count": 4,
   "id": "subjective-amino",
   "metadata": {},
   "outputs": [
    {
     "data": {
      "text/plain": [
       "['../articles_from_tatiana/review_revenue_header_xml/Zhang et al 2010.pdf.xml',\n",
       " '../articles_from_tatiana/review_revenue_header_xml/Pal et al. 2018.pdf.xml',\n",
       " '../articles_from_tatiana/review_revenue_header_xml/Gong et al 2018.pdf.xml',\n",
       " '../articles_from_tatiana/review_revenue_header_xml/Linh and Hong  2009-Channel coordination through a revenue sharing contract.pdf.xml',\n",
       " '../articles_from_tatiana/review_revenue_header_xml/Cao et al-2013-IJPE.pdf.xml',\n",
       " '../articles_from_tatiana/review_revenue_header_xml/Buratto et al - 2019.pdf.xml',\n",
       " '../articles_from_tatiana/review_revenue_header_xml/Hsueh 2014-Improving corporate social responsibility in a supply chain through a new revenue sharing contract.pdf.xml',\n",
       " '../articles_from_tatiana/review_revenue_header_xml/Lee and Rhee-2010-IJPE.pdf.xml',\n",
       " '../articles_from_tatiana/review_revenue_header_xml/Avinadav et al. 2019-IJPE.pdf.xml',\n",
       " '../articles_from_tatiana/review_revenue_header_xml/Shen et al-2019-POMS.pdf.xml']"
      ]
     },
     "execution_count": 4,
     "metadata": {},
     "output_type": "execute_result"
    }
   ],
   "source": [
    "xmls = glob.glob('../articles_from_tatiana/review_revenue_header_xml/*.xml')\n",
    "\n",
    "xmls[:10]"
   ]
  },
  {
   "cell_type": "code",
   "execution_count": 5,
   "id": "harmful-neighbor",
   "metadata": {},
   "outputs": [],
   "source": [
    "article_abstract_dict = {path.basename(x).rsplit('.',2)[0]: get_abstract_contents(x) for x in xmls}"
   ]
  },
  {
   "cell_type": "code",
   "execution_count": 6,
   "id": "clinical-daisy",
   "metadata": {},
   "outputs": [
    {
     "name": "stdout",
     "output_type": "stream",
     "text": [
      "Zhang et al 2010: With the emergence of virtual market places, consignment sel... (1017)\n",
      "\n",
      "Pal et al. 2018: Uncertainty is a major challenging factor in the marketing s... (1036)\n",
      "\n",
      "Gong et al 2018: The information technology (IT) capabilities of third-party ... (1614)\n",
      "\n",
      "Linh and Hong  2009-Channel coordination through a revenue sharing contract: This paper studies channel coordination through revenue shar... (772)\n",
      "\n",
      "Cao et al-2013-IJPE: This paper develops a coordination mechanism for a supply ch... (1290)\n",
      "\n",
      "Buratto et al - 2019: This paper investigates whether a supply chain can achieve c... (1354)\n",
      "\n",
      "Hsueh 2014-Improving corporate social responsibility in a supply chain through a new revenue sharing contract: Due to the social and environmental impacts of industrial ac... (1450)\n",
      "\n",
      "Lee and Rhee-2010-IJPE: Numerous studies have offered diverse contractual forms of a... (1761)\n",
      "\n",
      "Avinadav et al. 2019-IJPE: Virtual products, such as mobile apps, 3D print files, e-mus... (1737)\n",
      "\n",
      "Shen et al-2019-POMS: T his paper studies how a manufacturer should engage with a ... (1514)\n",
      "\n",
      "Dana and  Spier 2001-Revenue Sharing and Vertical Control in the Video Rental Industry: ... (0)\n",
      "\n",
      "Chen et al 2011: This article deals with the problem of coordinating a vertic... (1315)\n",
      "\n",
      "Chauhan and Proth 2005-Analysis of a supply chain partnership with revenue sharing: The profit margins of retailers and providers are becoming s... (926)\n",
      "\n",
      "Kong et al. 2013: This work explores the potential of revenue sharing contract... (1059)\n",
      "\n",
      "Heydari et al 2018: In this paper, a two-stage reverse supply chain (RSC) is ana... (1784)\n",
      "\n",
      "zhang et al. 2015: P rior theory claims that buyback and revenue-sharing contra... (2047)\n",
      "\n",
      "Khouja et al-2010-IJPE: In rental information goods supply chain, such as movie DVDs... (978)\n",
      "\n",
      "Saha 2013-CCRS: In this paper three different types of rebate induced contra... (679)\n",
      "\n",
      "Feng et al 2014-Revenue-sharing contracts in an N-stage supply chain with reliability consideration: Revenue-sharing (RS) contracts have been used in a number of... (1597)\n",
      "\n",
      "Zhao and Wu 2011-coordination of agri-food chain with revenue sharing contract and stochastic demand: ... (0)\n",
      "\n",
      "Cai et al 2012- Exclusive Channels and Revenue Sharing in a complementary goods market: This hybrid paper duopoly evaluates common the joint retaile... (1163)\n",
      "\n",
      "Hu et al-2013-IJPE: This paper studies a flexible ordering policy among a manufa... (751)\n",
      "\n",
      "Giannoccaro and pontrandolfo-2009: This paper focuses on the implementation issues of the reven... (1364)\n",
      "\n",
      "Liu and Wang-2019: We investigate two competing carriers' incentives of horizon... (717)\n",
      "\n",
      "check-Hu and Feng 2017-Optimization and coordination of supply chain with revenue sharing: In a one-supplier-one-buyer supply chain, uncertainty occurs... (1417)\n",
      "\n",
      "Liu li et al 2017: As the demands of some important products such as oil, gas, ... (876)\n",
      "\n",
      "Katok and Wu-2009-Contracting_in_Supply_Chains_A_Laboratory_Investigation: T he coordination of supply chains by means of contracting m... (1055)\n",
      "\n",
      "Tan_et_al-2016: While digital goods industries such as entertainment, softwa... (339)\n",
      "\n",
      "Yang and Chen 2017-Retailer-driven carbon emission abatement with consumer: We investigate the impact of Revenue-Sharing and Cost-Sharin... (1701)\n",
      "\n",
      "Giovanni 2014: We consider a closed-loop supply chain (CLSC) with a single ... (1219)\n",
      "\n",
      "check-Li et al 2009-Supply chain coordination and decision making under consignment contract with revenue sharing: Consignment contract with revenue sharing has been widely ap... (974)\n",
      "\n",
      "Krishnan and Winter 2011-On the role of revenue-sharing contracts in supply chains: The supply chain coordinating role of revenue-sharing has, t... (422)\n",
      "\n",
      "Xiao et al 2017: We consider a financially constrained supply chain in which ... (1163)\n",
      "\n",
      "Lin et al. 2010: We propose an insurance contract under which the supplier sh... (710)\n",
      "\n",
      "Wang et al-2013b: Markup pricing contracts have been widely employed in many i... (1309)\n",
      "\n",
      "Hu et al 2017: In this paper, a one-retailer and two-manufacturer supply ch... (1083)\n",
      "\n",
      "Sheu 2011-Marketing-driven channel coordination with revenue-sharing contracts: This paper explores the equilibrium behavior of a basic supp... (1309)\n",
      "\n",
      "Krylatov et al. -2016 (לא קשור): ... (0)\n",
      "\n",
      "check-Yao et al 2008-Manufacturer’s revenue-sharing contract and retail competition: This paper investigates a revenue-sharing contract for coord... (1492)\n",
      "\n",
      "Moon and Feng-2017: We address a novel decentralized supply chain with one suppl... (677)\n",
      "\n",
      "Zao and Shi 2011: This paper considers two competing supply chains, each with ... (1219)\n",
      "\n",
      "Gerchak and Khmelnitsky 2003: Newspapers are often sold through stores via consignment arr... (987)\n",
      "\n",
      "Dong et al 2016: Carbon emission abatement is a hot topic in environmental su... (881)\n",
      "\n",
      "Cachon et al-2005: ... (0)\n",
      "\n",
      "Chen et al 2017: This paper investigates the interaction of provider of free ... (1067)\n",
      "\n",
      "Hua et al-2011-Omega: Product design decision has significant impacts on firm's co... (1491)\n",
      "\n",
      "Guan and Zhao 2010: Based on continuous review (r, Q) policy, this paper deals w... (999)\n",
      "\n",
      "Zhao et al-2016-JORS: In this paper, we consider a start-up service provider that ... (989)\n",
      "\n",
      "check-Hu et al 2016-Three-echelon supply chain coordination: This paper studies supply chain coordination via revenue sha... (1018)\n",
      "\n",
      "Avinadav et al.- 2015b: Consider n mobile application (app) developers selling their... (855)\n",
      "\n",
      "El Ouardighi and Kim 2010-Supply quality management with wholesale price and revenue-sharing contracts under horizontal competition: In a number of industries (e.g., the airplane industry, aero... (1418)\n",
      "\n",
      "RAZA 2018: Corporate social responsibility is among the most desired fe... (1778)\n",
      "\n",
      "Fang et al. 2016: This paper investigates the equilibrium contract selection p... (1296)\n",
      "\n",
      "Li_et_al-2015: W e consider a decentralized two-period supply chain in whic... (1304)\n",
      "\n",
      "Zhang 2015-Coordinating a supply chain for deteriorating items with a revenue sharing: In this study, a one-manufacturer-one-retailer supply chain ... (1253)\n",
      "\n",
      "Avinadav et al. 2017: This paper evaluates mergers and acquisitions (M&A) in a sup... (1084)\n",
      "\n",
      "Lu et al 2017: Supply chain contracts are widely considered as useful and n... (854)\n",
      "\n",
      "Seifbarghy et al. 2015: We consider a two-level supply chain consisting of a manufac... (1174)\n",
      "\n",
      "Wen et al. 2018: ... (0)\n",
      "\n",
      "Hou et al 2009-Achieving better coordination through revenue sharing and bargaining: Coordination is essential for improving supply chain wide pe... (770)\n",
      "\n",
      "Yang et al. 2015: This work explores the impact of quick response on supply ch... (952)\n",
      "\n",
      "Koulamas 2006-full version: ... (0)\n",
      "\n",
      "Ru and Wang 2010- consignment contracts: Consignment is a popular form of business arrangement where ... (1610)\n",
      "\n",
      "Palsule-Desai 2013-Supply chain coordination using revenue-dependent revenue: A typical single period revenue sharing contract specifies a... (1934)\n",
      "\n",
      "Hou et al 2017: This paper focuses on a three-echelon supply chain composed ... (861)\n",
      "\n",
      "Yao et al. 2008b: This paper investigates a revenue-sharing contract for coord... (1492)\n",
      "\n",
      "Yang et al 2017-The role of revenue sharing and first-mover advantage in emission: In this study, we explore the role of revenue sharing and fi... (1565)\n",
      "\n",
      "Jorgensen et al-2003-EJOR: We consider a channel of distribution with a single manufact... (1003)\n",
      "\n",
      "Giannoccaro and pontrandolfo-2004-IJPE: Supply chain (SC) coordination can be pursued by adopting a ... (746)\n",
      "\n",
      "Chen et al 2011-On channel coordination through revenue-sharing contracts with price and shelf-space dependent demand: This paper deals with the problem of coordinating a vertical... (1302)\n",
      "\n",
      "Govindan and Popiuc 2014-Reverse supply chain coordination by revenue sharing contract: Products that are not recycled at the end of their life incr... (996)\n",
      "\n",
      "Xiao et al 2011-Coordinating a supply chain with a quality assurance policy via a revenue sharing contract: This paper explores coordination of a (global) supply chain ... (1502)\n",
      "\n",
      "Wang et al 2012 (1): In this article, we consider a single-manufacturer-single-bu... (908)\n",
      "\n",
      "Liu et al-2009: The service provision of the retailer has a great effect on ... (1070)\n",
      "\n",
      "Panda et al 2017: This paper analyzes the effects of corporate social responsi... (1189)\n",
      "\n",
      "check-Xu et al 2014-Coordinating a dual-channel supply chain with risk-averse: This paper investigates the impact of establishing a dual-ch... (1243)\n",
      "\n",
      "Heese and Kemahlioglu-Ziya 2014: W e consider a supply chain with a supplier that sells to a ... (926)\n",
      "\n",
      "Feng et al 2017: In this paper, we consider a two-echelon reverse supply chai... (1502)\n",
      "\n",
      "Tan_Carrillo-2017: T he introduction of digital goods in the media industry has... (1695)\n",
      "\n",
      "Jiang 2012: We analyze a supply chain consisting of one manufacturer and... (1437)\n",
      "\n",
      "Avinadav T. 2020-IJPE: Using the framework of an economic order quantity (EOQ) mode... (1397)\n",
      "\n",
      "Corbett 2001: ... (0)\n",
      "\n",
      "Heese and Kemahlıoğlu-Ziya 2016-Don’t ask don’t tell-Sharing revenues with a dishonest retailer: When different supply chain parties have private information... (1318)\n",
      "\n",
      "Wang 2006: ... (0)\n",
      "\n",
      "Avinadav et al. 2020-IJPR: This is a PDF file of an article that has undergone enhancem... (574)\n",
      "\n",
      "Zhang et al 2010-Revenue sharing with multiple airlines and airports: This paper investigates the effects of concession revenue sh... (1397)\n",
      "\n",
      "Yao et al. 2008a: Purpose-The purpose of this paper is to numerically analyze ... (2244)\n",
      "\n",
      "Choi and He-2019: With the advance of platform technologies, peer-to-peer coll... (1543)\n",
      "\n",
      "Adida and Ratisoontorn-2011: Consignment contracts have been widely employed in many indu... (1518)\n",
      "\n",
      "Jin et al-2015-EJOR: From the practices of Chinese consumer electronics market, w... (1241)\n",
      "\n",
      "Zhang et al 2019: More and more e-tailers (platforms) are allowing manufacture... (1547)\n",
      "\n",
      "Gerchak et al-2007: Vendor-managed revenue-sharing arrangements are common in th... (1106)\n",
      "\n",
      "Chakraborty et al 2015-Coordination and competition in a common retailer: In this paper, we study a supply chain comprising two compet... (1183)\n",
      "\n",
      "Bai et al 2004-revenue sharing and control rights: We present a model of team production motivated by the styli... (722)\n",
      "\n",
      "Kunter 2012-Coordination via cost and revenue sharing in manufacturer–retailer channels: The problem of establishing efficiency in a manufacturer-ret... (1687)\n",
      "\n",
      "Qin and Yang 2008: We consider a supply chain involving one supplier and one re... (846)\n",
      "\n",
      "Chakraborty et al 2018: The performance of a supply chain is often characterized by ... (903)\n",
      "\n",
      "van der Veen and Venugopal 2005-Using Revenue Sharing to Create Win-Win in the Video Rental Supply Chain: Recent developments in video rental supply chains seem to in... (800)\n",
      "\n",
      "Wang and Shin 2014: W e consider a supply chain with an upstream supplier who in... (1372)\n",
      "\n",
      "Cai  et al 2017-Flexible contract design for VMI supply chain with service-sensitive demand: To coordinate a VMI (vendor-managed inventory) supply chain ... (1367)\n",
      "\n",
      "Cai-2010-channel selection and coordination: This paper investigates the influence of channel structures ... (890)\n",
      "\n",
      "Chen et al 2010: This paper deals with the problem of coordinating a vertical... (704)\n",
      "\n",
      "De Giovanni et al 2019: Most of the cooperative advertising literature has focused o... (1349)\n",
      "\n",
      "de Matt et al 2017: We model the decisions in two simple, structurally different... (1228)\n",
      "\n",
      "Panda 2014-Coordination of a socially responsible supply chain using revenue sharing contract: This paper explores coordination of a corporate social respo... (645)\n",
      "\n",
      "Hu-Li-2012: This paper studies the consignment contract with revenue sha... (1244)\n",
      "\n",
      "Bellantuono et al 2009-The implications of joint adoption of revenue sharing and advance booking discount: Consider a supply chain that consists of a supplier and a re... (1290)\n",
      "\n",
      "van der Rhee et al 2010-A new revenue sharing mechanism for coordinating multi-echelon supply chains: A new type of revenue sharing (RS) contract mechanism for mu... (368)\n",
      "\n",
      "Avinadav et al 2015a: The paper provides a thorough investigation of the revenue s... (1719)\n",
      "\n",
      "check-Pan et al 2010-Revenue-sharing versus wholesale price mechanisms under different channel structures: We consider a supply chain channel with two manufacturers an... (733)\n",
      "\n",
      "Hu et al. 2019: We have observed four modes of cost reduction in supply chai... (1448)\n",
      "\n",
      "Yang et al 2018-Supplier encroachment under nonlinear pricing with imperfect substitutes: We explore the impact of nonlinear pricing (NP) on supplier ... (1292)\n",
      "\n",
      "Lu et al-2018-EJOR: We model a supply chain consisting of an author, a publisher... (1408)\n",
      "\n",
      "Giri et al 2017: In this paper, we consider a supply chain in which multiple ... (1251)\n",
      "\n",
      "Govindan and Malomfalean 2019: Over the past decade, a significant change has occurred in t... (1024)\n",
      "\n",
      "check-Wang et al 2004-Channel Performance under Consignment Contract with Revenue Sharing: Under a consignment contract with revenue sharing, a supplie... (1155)\n",
      "\n",
      "Sarathi et al 2014-An integrated revenue sharing and quantity discounts contract: This paper develops a combined contract model for coordinati... (729)\n",
      "\n",
      "Wang et al. 2013: We investigate a dominant retailer's optimal joint strategy ... (1386)\n",
      "\n",
      "Becker-Peth and Thonemann 2016-Reference points in revenue sharing contracts—How to design optimal: Coordinating supply chains is an important goal for contract... (871)\n",
      "\n",
      "Giovanni and Roselli 2012: In a marketing channel governed by goodwill dynamics, player... (700)\n",
      "\n",
      "Gerchak and Wang 2004-full version: A ssembly and kitting operations, as well as jointly sold pr... (1510)\n",
      "\n",
      "Li et al- 2016-WCRS: This paper considers a supply chain that consists of a manuf... (623)\n",
      "\n",
      "de Matta et al 2014: We consider two independently managed parties, a retailer an... (791)\n",
      "\n",
      "Xie et al 2017: On the background of an online/offline dual channel, this pa... (850)\n",
      "\n",
      "Shen 2018: This paper investigates a type of platform retailing, where ... (1012)\n",
      "\n",
      "Vafa Arani et al 2016-A revenue-sharing option contract toward coordination of supply chains: In this paper, a novel mixed revenue-sharing option contract... (1332)\n",
      "\n",
      "He et al 2017: In a supply chain with one risk neutral manufacturer and one... (716)\n",
      "\n",
      "Yan et al-2018-EJOR: In recent years, the increasing prevalence of online retaili... (1704)\n",
      "\n",
      "Xiao and Xu-2018-POMS: W e consider an online retailer selling a seasonal product p... (1004)\n",
      "\n",
      "Sarker 2014: This paper studies the consignment stocking policy models fo... (1666)\n",
      "\n",
      "Wang et al 2012-Three revenue-sharing variants their significant performance differences under systemparameter uncertainties: ?seq=1&cid=pdf-reference#references_tab_contents You may nee... (433)\n",
      "\n",
      "Saraswati and Hanaoka 2014-Airport–airline cooperation under commercial revenue sharing: This study analyzes airport-airline cooperation where an air... (570)\n",
      "\n",
      "Giri and Bardhan-2012: This paper deals with an integrated single-manufacturer sing... (659)\n",
      "\n",
      "Gupta and Weerawat-2006-EJOR: Manufacture-to-order is an increasingly popular strategy in ... (1009)\n",
      "\n",
      "Lim et al 2015: ... (0)\n",
      "\n",
      "Mai et al 2017: In the past two decades, many store-brand products have been... (1384)\n",
      "\n"
     ]
    }
   ],
   "source": [
    "for k, v in article_abstract_dict.items():\n",
    "    print(f'{k}: {v[:60]}... ({len(v)})\\n')\n",
    "#article_abstract_dict.__repr__()[:1000]"
   ]
  },
  {
   "cell_type": "code",
   "execution_count": 7,
   "id": "norman-oliver",
   "metadata": {},
   "outputs": [
    {
     "data": {
      "text/plain": [
       "Counter({500: 123, 0: 9, 339: 1, 422: 1, 368: 1, 433: 1})"
      ]
     },
     "execution_count": 7,
     "metadata": {},
     "output_type": "execute_result"
    }
   ],
   "source": [
    "Counter([min(len(v),500) for v in article_abstract_dict.values()])"
   ]
  },
  {
   "cell_type": "code",
   "execution_count": 8,
   "id": "cheap-causing",
   "metadata": {},
   "outputs": [],
   "source": [
    "article_abstract_dict = {k: v for k,v in article_abstract_dict.items() if len(v)>0}"
   ]
  },
  {
   "cell_type": "code",
   "execution_count": 9,
   "id": "apart-parallel",
   "metadata": {},
   "outputs": [],
   "source": [
    "bywords = {\n",
    "    'rs','revenue share contract','revenue sharing contract','revenue sharing','rs contract','contract'\n",
    "}\n",
    "def spacy_clean_tokenizer(document, chunks=True):\n",
    "    tokens = nlp(document)\n",
    "    tokens = [token.lemma_ for token in (tokens.noun_chunks if chunks else tokens)  if (\n",
    "        (chunks or token.is_stop == False) and \n",
    "        (chunks or token.is_punct == False) and \n",
    "        token.lemma_.strip()!= ''\n",
    "    )]\n",
    "    tokens = [ ' '.join([tk.lemma_ for tk in nlp(token) if not (tk.is_stop or tk.is_punct)]) \n",
    "              for token in tokens\n",
    "             ]\n",
    "    tokens = [tk for tk in tokens if len(tk) and tk not in bywords]\n",
    "    return tokens"
   ]
  },
  {
   "cell_type": "code",
   "execution_count": 10,
   "id": "circular-invasion",
   "metadata": {},
   "outputs": [
    {
     "data": {
      "text/plain": [
       "['behavior',\n",
       " 'chance factor',\n",
       " 'condition',\n",
       " 'demand uncertainty',\n",
       " 'effect',\n",
       " 'environment',\n",
       " 'extra product',\n",
       " 'feasibility',\n",
       " 'flexible ordering policy',\n",
       " 'graphical illustration',\n",
       " 'key parameter',\n",
       " 'major challenging factor',\n",
       " 'manufacturer',\n",
       " 'manufacturer',\n",
       " 'manufacturer',\n",
       " 'manufacturer Stackelberg revenue sharing contract',\n",
       " 'marketing strategy',\n",
       " 'model',\n",
       " 'model',\n",
       " 'model',\n",
       " 'numerical example',\n",
       " 'optimal decision',\n",
       " 'penalty',\n",
       " 'player',\n",
       " 'propose model',\n",
       " 'random yield',\n",
       " 'random yield',\n",
       " 'range',\n",
       " 'salvage value',\n",
       " 'sensitivity',\n",
       " 'share',\n",
       " 'stock',\n",
       " 'stocking overstock risk',\n",
       " 'study',\n",
       " 'supplier',\n",
       " 'supplier production',\n",
       " 'supply chain',\n",
       " 'uncertainty',\n",
       " 'vertical Nash approach']"
      ]
     },
     "execution_count": 10,
     "metadata": {},
     "output_type": "execute_result"
    }
   ],
   "source": [
    "sorted(spacy_clean_tokenizer(list(article_abstract_dict.values())[1]))"
   ]
  },
  {
   "cell_type": "code",
   "execution_count": 11,
   "id": "activated-bridal",
   "metadata": {},
   "outputs": [
    {
     "name": "stdout",
     "output_type": "stream",
     "text": [
      "[154, 159, 233, 115, 180, 195, 214, 242, 251, 231, 200, 144, 164, 261, 299, 158, 87, 253, 170, 111, 227, 98, 216, 132, 146, 51, 273, 181, 147, 55, 175, 102, 181, 151, 177, 216, 97, 176, 150, 125, 161, 220, 159, 156, 146, 124, 202, 243, 178, 189, 172, 167, 123, 183, 114, 141, 259, 275, 127, 216, 230, 174, 125, 197, 143, 223, 130, 159, 174, 184, 144, 213, 260, 220, 232, 191, 94, 214, 308, 235, 218, 198, 233, 161, 182, 99, 234, 144, 141, 132, 189, 196, 126, 93, 198, 188, 96, 193, 209, 55, 254, 107, 225, 196, 217, 197, 152, 182, 112, 213, 125, 103, 220, 97, 124, 115, 146, 197, 100, 248, 158, 227, 62, 83, 101, 144, 198]\n"
     ]
    }
   ],
   "source": [
    "print([len(v.split()) for v in article_abstract_dict.values()])"
   ]
  },
  {
   "cell_type": "code",
   "execution_count": 12,
   "id": "frank-plastic",
   "metadata": {},
   "outputs": [
    {
     "data": {
      "text/plain": [
       "<127x2350 sparse matrix of type '<class 'numpy.float64'>'\n",
       "\twith 3937 stored elements in Compressed Sparse Row format>"
      ]
     },
     "execution_count": 12,
     "metadata": {},
     "output_type": "execute_result"
    }
   ],
   "source": [
    "tfidf_vectorizer = TfidfVectorizer(input = 'content', tokenizer = spacy_clean_tokenizer)\n",
    "\n",
    "result = tfidf_vectorizer.fit_transform(iter(article_abstract_dict.values()))\n",
    "result\n"
   ]
  },
  {
   "cell_type": "code",
   "execution_count": 13,
   "id": "casual-yorkshire",
   "metadata": {},
   "outputs": [
    {
     "data": {
      "text/plain": [
       "<matplotlib.image.AxesImage at 0x7f1a816243d0>"
      ]
     },
     "execution_count": 13,
     "metadata": {},
     "output_type": "execute_result"
    },
    {
     "data": {
      "image/png": "[encoded data removed]",
      "text/plain": [
       "<Figure size 864x288 with 1 Axes>"
      ]
     },
     "metadata": {
      "needs_background": "light"
     },
     "output_type": "display_data"
    }
   ],
   "source": [
    "n_clusters=8\n",
    "kmeans = KMeans(n_clusters=8,random_state=1015).fit(result)\n",
    "\n",
    "kmeans.cluster_centers_.shape\n",
    "\n",
    "import matplotlib.pyplot as plt\n",
    "plt.figure(figsize=(12,4))\n",
    "plt.imshow(kmeans.cluster_centers_,aspect=40,vmax=0.03)"
   ]
  },
  {
   "cell_type": "code",
   "execution_count": 14,
   "id": "relevant-mileage",
   "metadata": {},
   "outputs": [
    {
     "data": {
      "text/plain": [
       "[(0.05524830375259798, 'retailer'),\n",
       " (0.052887468018975745, 'manufacturer'),\n",
       " (0.05035351198375475, 'agency model'),\n",
       " (0.048438265353476326, 'supply chain'),\n",
       " (0.04562874113265929, 'supplier'),\n",
       " (0.028782155658413924, 'paper'),\n",
       " (0.027099697426240115, 'model'),\n",
       " (0.021541162775703573, 'result'),\n",
       " (0.01967885520322156, 'profit'),\n",
       " (0.018721002254230436, 'pareto zone'),\n",
       " (0.018446921036265503, 'coordination'),\n",
       " (0.01840030371804217, 'publisher')]"
      ]
     },
     "execution_count": 14,
     "metadata": {},
     "output_type": "execute_result"
    }
   ],
   "source": [
    "\n",
    "mean_coord = kmeans.cluster_centers_.mean(axis=0)\n",
    "mean_words = sorted(zip(mean_coord, tfidf_vectorizer.get_feature_names()),reverse=True)[:12]\n",
    "mean_words"
   ]
  },
  {
   "cell_type": "code",
   "execution_count": 15,
   "id": "thick-profit",
   "metadata": {},
   "outputs": [
    {
     "data": {
      "text/plain": [
       "[[(0.04770149053430676, 'firm'),\n",
       "  (0.04334093251445584, 'cooperative program'),\n",
       "  (0.04267023944669729, 'app'),\n",
       "  (0.03693210094349708, 'consignment contract'),\n",
       "  (0.036402397800760516, 'chain'),\n",
       "  (0.03557162937350536, 'vendor'),\n",
       "  (0.03373537018726707, 'reliability'),\n",
       "  (0.029919623676610302, '3pl provider'),\n",
       "  (0.029848140186169162, 'r'),\n",
       "  (0.028696004762798693, 'partner'),\n",
       "  (0.02591157940619003, 'developer'),\n",
       "  (0.025566281145788496, 'price discount mechanism')],\n",
       " [(0.11250168646366356, 'supply chain'),\n",
       "  (0.05524634584904903, 'supplier'),\n",
       "  (0.04069620868574915, 'insurance contract'),\n",
       "  (0.039006957284817595, 'buyer'),\n",
       "  (0.03484732101070405, 'decision sequence'),\n",
       "  (0.03220977770425959, 'loss averse retailer'),\n",
       "  (0.03155417451185569, 'er'),\n",
       "  (0.03136026850380576, 'coordination'),\n",
       "  (0.03109813389296221, 'uncertainty'),\n",
       "  (0.03064541533213057, 'risk diversification contract'),\n",
       "  (0.02754918328254716, 'flexible ordering policy'),\n",
       "  (0.027521005836425052, 'competition')]]"
      ]
     },
     "execution_count": 15,
     "metadata": {},
     "output_type": "execute_result"
    }
   ],
   "source": [
    "cc = kmeans.cluster_centers_\n",
    "k = []\n",
    "for i in range(n_clusters):\n",
    "    k.append(sorted(zip(cc[i,:]-mean_coord, tfidf_vectorizer.get_feature_names()),reverse=True)[:12])\n",
    "\n",
    "k[:2]"
   ]
  },
  {
   "cell_type": "code",
   "execution_count": 16,
   "id": "renewable-spending",
   "metadata": {},
   "outputs": [],
   "source": [
    "k50 = []\n",
    "for i in range(n_clusters):\n",
    "    k50.append(sorted(zip(cc[i,:]-mean_coord, tfidf_vectorizer.get_feature_names()),reverse=True)[:50])\n",
    "\n"
   ]
  },
  {
   "cell_type": "code",
   "execution_count": 17,
   "id": "medical-cache",
   "metadata": {},
   "outputs": [
    {
     "data": {
      "text/plain": [
       "[(0.04770149053430676, 'firm'),\n",
       " (0.04334093251445584, 'cooperative program'),\n",
       " (0.04267023944669729, 'app'),\n",
       " (0.03693210094349708, 'consignment contract'),\n",
       " (0.036402397800760516, 'chain'),\n",
       " (0.03557162937350536, 'vendor'),\n",
       " (0.03373537018726707, 'reliability'),\n",
       " (0.029919623676610302, '3pl provider'),\n",
       " (0.029848140186169162, 'r'),\n",
       " (0.028696004762798693, 'partner'),\n",
       " (0.02591157940619003, 'developer'),\n",
       " (0.025566281145788496, 'price discount mechanism'),\n",
       " (0.02478817274212764, 'cooperative advertising program'),\n",
       " (0.02394604308715412, 'service level'),\n",
       " (0.023640686056573525, 'supply chain member'),\n",
       " (0.023442793869574825, 'member'),\n",
       " (0.023123558225601016, 'equilibrium strategy'),\n",
       " (0.022987122796371134, 'investment'),\n",
       " (0.022529792384142083, 'sale'),\n",
       " (0.022490246791511383, 'rsr contract'),\n",
       " (0.022159636224660953, 'retailer'),\n",
       " (0.021406110128505025, 'deteriorate item'),\n",
       " (0.021063740002470514, 'manufacturer profit'),\n",
       " (0.020756391979896864, 'stackelberg leader'),\n",
       " (0.020737329952118213, 'port'),\n",
       " (0.020373990897815282, 'operation'),\n",
       " (0.019495168810899334, 'supply chain profit'),\n",
       " (0.01878766129637917, 'finding'),\n",
       " (0.018767585798254622, 'contract type'),\n",
       " (0.01809376457922525, 'alliance'),\n",
       " (0.018033560568135567, 'asymmetric information'),\n",
       " (0.018014494954722116, 'case'),\n",
       " (0.017951774205966182, 'contract structure'),\n",
       " (0.017013410219408682, 'inventory'),\n",
       " (0.01682942093475412, 'manufacturer'),\n",
       " (0.016758660040507252, 'utility function'),\n",
       " (0.016758660040507252, 'retailer utility function'),\n",
       " (0.016758660040507252, 'price quality investment'),\n",
       " (0.016758660040507252, 'mobile application'),\n",
       " (0.016758660040507252, 'member equilibrium strategy'),\n",
       " (0.016758660040507252, 'app developer'),\n",
       " (0.01648689918142717, 'double marginalization effect'),\n",
       " (0.016034002345115986, 'risk'),\n",
       " (0.015910145428083482, 'sc performance'),\n",
       " (0.015910145428083482, 'sc member'),\n",
       " (0.01574414233567104, 'carrier'),\n",
       " (0.015413103480805712, 'brand'),\n",
       " (0.01509867957604234, 'strategy'),\n",
       " (0.014909455165914697, 'different attitude'),\n",
       " (0.014876318849983756, 'risk attitude')]"
      ]
     },
     "execution_count": 17,
     "metadata": {},
     "output_type": "execute_result"
    }
   ],
   "source": [
    "k50[0]"
   ]
  },
  {
   "cell_type": "code",
   "execution_count": 18,
   "id": "structural-aviation",
   "metadata": {},
   "outputs": [
    {
     "data": {
      "text/html": [
       "<div>\n",
       "<style scoped>\n",
       "    .dataframe tbody tr th:only-of-type {\n",
       "        vertical-align: middle;\n",
       "    }\n",
       "\n",
       "    .dataframe tbody tr th {\n",
       "        vertical-align: top;\n",
       "    }\n",
       "\n",
       "    .dataframe thead th {\n",
       "        text-align: right;\n",
       "    }\n",
       "</style>\n",
       "<table border=\"1\" class=\"dataframe\">\n",
       "  <thead>\n",
       "    <tr style=\"text-align: right;\">\n",
       "      <th></th>\n",
       "      <th>cluster</th>\n",
       "      <th>words</th>\n",
       "      <th>score</th>\n",
       "    </tr>\n",
       "  </thead>\n",
       "  <tbody>\n",
       "    <tr>\n",
       "      <th>0</th>\n",
       "      <td>0</td>\n",
       "      <td>firm</td>\n",
       "      <td>0.047701</td>\n",
       "    </tr>\n",
       "    <tr>\n",
       "      <th>1</th>\n",
       "      <td>0</td>\n",
       "      <td>cooperative program</td>\n",
       "      <td>0.043341</td>\n",
       "    </tr>\n",
       "    <tr>\n",
       "      <th>2</th>\n",
       "      <td>0</td>\n",
       "      <td>app</td>\n",
       "      <td>0.042670</td>\n",
       "    </tr>\n",
       "    <tr>\n",
       "      <th>3</th>\n",
       "      <td>0</td>\n",
       "      <td>consignment contract</td>\n",
       "      <td>0.036932</td>\n",
       "    </tr>\n",
       "    <tr>\n",
       "      <th>4</th>\n",
       "      <td>0</td>\n",
       "      <td>chain</td>\n",
       "      <td>0.036402</td>\n",
       "    </tr>\n",
       "    <tr>\n",
       "      <th>...</th>\n",
       "      <td>...</td>\n",
       "      <td>...</td>\n",
       "      <td>...</td>\n",
       "    </tr>\n",
       "    <tr>\n",
       "      <th>7</th>\n",
       "      <td>7</td>\n",
       "      <td>publish</td>\n",
       "      <td>0.089592</td>\n",
       "    </tr>\n",
       "    <tr>\n",
       "      <th>8</th>\n",
       "      <td>7</td>\n",
       "      <td>new digital economy</td>\n",
       "      <td>0.089592</td>\n",
       "    </tr>\n",
       "    <tr>\n",
       "      <th>9</th>\n",
       "      <td>7</td>\n",
       "      <td>negative attention</td>\n",
       "      <td>0.089592</td>\n",
       "    </tr>\n",
       "    <tr>\n",
       "      <th>10</th>\n",
       "      <td>7</td>\n",
       "      <td>entertainment</td>\n",
       "      <td>0.089592</td>\n",
       "    </tr>\n",
       "    <tr>\n",
       "      <th>11</th>\n",
       "      <td>7</td>\n",
       "      <td>e book publishing industry</td>\n",
       "      <td>0.089592</td>\n",
       "    </tr>\n",
       "  </tbody>\n",
       "</table>\n",
       "<p>96 rows × 3 columns</p>\n",
       "</div>"
      ],
      "text/plain": [
       "    cluster                       words     score\n",
       "0         0                        firm  0.047701\n",
       "1         0         cooperative program  0.043341\n",
       "2         0                         app  0.042670\n",
       "3         0        consignment contract  0.036932\n",
       "4         0                       chain  0.036402\n",
       "..      ...                         ...       ...\n",
       "7         7                     publish  0.089592\n",
       "8         7         new digital economy  0.089592\n",
       "9         7          negative attention  0.089592\n",
       "10        7               entertainment  0.089592\n",
       "11        7  e book publishing industry  0.089592\n",
       "\n",
       "[96 rows x 3 columns]"
      ]
     },
     "execution_count": 18,
     "metadata": {},
     "output_type": "execute_result"
    }
   ],
   "source": [
    "df = pd.concat([pd.DataFrame(data=v, columns= ['score','words']) for i,v in enumerate(k)],axis=0)\n",
    "df['cluster'] = sum([[i]*12 for i in range(n_clusters)],[]) \n",
    "df = df[df.columns[::-1]]\n",
    "df"
   ]
  },
  {
   "cell_type": "code",
   "execution_count": 19,
   "id": "settled-forum",
   "metadata": {},
   "outputs": [
    {
     "data": {
      "text/plain": [
       "cluster\n",
       "0    firm; cooperative program; app; consignment co...\n",
       "1    supply chain; supplier; insurance contract; bu...\n",
       "2    supplier; retailer; consignment contract; whol...\n",
       "3    model; system; quick response; rq; tape; owner...\n",
       "4    coordination mechanism; effect; consumer; m&a;...\n",
       "5    manufacturer; customer; retailer; impact; pape...\n",
       "6    csr; wholesale price; jstor; channel coordinat...\n",
       "7    agency model; pareto zone; publisher; digital ...\n",
       "Name: words, dtype: object"
      ]
     },
     "execution_count": 19,
     "metadata": {},
     "output_type": "execute_result"
    }
   ],
   "source": [
    "df.groupby('cluster')['words'].apply( lambda w: '; '.join(w))"
   ]
  },
  {
   "cell_type": "code",
   "execution_count": 20,
   "id": "sustained-enterprise",
   "metadata": {},
   "outputs": [
    {
     "data": {
      "text/plain": [
       "'/home/siegman/Documents/Shahar/years/y2021/t_and_t/code'"
      ]
     },
     "execution_count": 20,
     "metadata": {},
     "output_type": "execute_result"
    }
   ],
   "source": [
    "pwd"
   ]
  },
  {
   "cell_type": "code",
   "execution_count": 21,
   "id": "athletic-jersey",
   "metadata": {},
   "outputs": [],
   "source": [
    "df.to_excel('revenue_review_tf_idf_cluster_main_words.xlsx', index=False)"
   ]
  },
  {
   "cell_type": "code",
   "execution_count": 22,
   "id": "returning-interface",
   "metadata": {},
   "outputs": [
    {
     "data": {
      "text/plain": [
       "array([3, 3, 0, 6, 4, 0, 6, 4, 5, 5, 0, 5, 2, 6, 2, 2, 6, 0, 2, 1, 4, 0,\n",
       "       1, 4, 2, 7, 5, 6, 5, 3, 1, 1, 4, 4, 2, 5, 1, 1, 3, 5, 0, 5, 3, 4,\n",
       "       1, 0, 5, 3, 2, 5, 0, 4, 2, 5, 1, 3, 2, 1, 4, 5, 3, 0, 3, 5, 6, 4,\n",
       "       3, 0, 6, 5, 2, 3, 7, 4, 5, 2, 3, 1, 5, 4, 2, 2, 5, 2, 5, 3, 6, 2,\n",
       "       0, 3, 2, 0, 2, 5, 0, 1, 6, 2, 5, 3, 0, 5, 0, 2, 7, 5, 4, 2, 5, 4,\n",
       "       3, 2, 2, 1, 2, 6, 2, 0, 1, 4, 2, 3, 6, 6, 6, 5, 5], dtype=int32)"
      ]
     },
     "execution_count": 22,
     "metadata": {},
     "output_type": "execute_result"
    }
   ],
   "source": [
    "kmeans.predict(result)\n"
   ]
  },
  {
   "cell_type": "code",
   "execution_count": 50,
   "id": "placed-explanation",
   "metadata": {},
   "outputs": [],
   "source": [
    "cluster_affinity = np.array([3, 3, 0, 6, 4, 0, 6, 4, 5, 5, 0, 5, 2, 6, 2, 2, 6, 0, 2, 1, 4, 0,\n",
    "       1, 4, 2, 7, 5, 6, 5, 3, 1, 1, 4, 4, 2, 5, 1, 1, 3, 5, 0, 5, 3, 4,\n",
    "       1, 0, 5, 3, 2, 5, 0, 4, 2, 5, 1, 3, 2, 1, 4, 5, 3, 0, 3, 5, 6, 4,\n",
    "       3, 0, 6, 5, 2, 3, 7, 4, 5, 2, 3, 1, 5, 4, 2, 2, 5, 2, 5, 3, 6, 2,\n",
    "       0, 3, 2, 0, 2, 5, 0, 1, 6, 2, 5, 3, 0, 5, 0, 2, 7, 5, 4, 2, 5, 4,\n",
    "       3, 2, 2, 1, 2, 6, 2, 0, 1, 4, 2, 3, 6, 6, 6, 5, 5],\n",
    "      dtype=np.int32)"
   ]
  },
  {
   "cell_type": "code",
   "execution_count": 24,
   "id": "alleged-childhood",
   "metadata": {},
   "outputs": [],
   "source": [
    "# cluster_affinity = np.array([5, 7, 2, 3, 3, 4, 3, 1, 3, 4, 5, 4, 5, 3, 5, 5, 2, 6, 5, 5, 1, 6,\n",
    "#        5, 4, 5, 3, 1, 3, 3, 6, 5, 5, 5, 4, 5, 2, 5, 5, 4, 3, 1, 4, 4, 2,\n",
    "#        4, 0, 6, 2, 7, 5, 4, 2, 2, 2, 4, 5, 2, 5, 4, 0, 2, 1, 4, 1, 7, 5,\n",
    "#        3, 3, 7, 5, 3, 2, 5, 7, 7, 1, 3, 5, 1, 6, 2, 0, 5, 4, 0, 5, 4, 7,\n",
    "#        3, 5, 4, 4, 2, 2, 5, 1, 3, 7, 3, 5, 5, 6, 6, 2, 1, 1, 2, 4, 7, 5,\n",
    "#        5, 5, 2, 3, 5, 1, 5, 1, 5, 3, 5, 3, 5, 0, 7, 5, 6, 3, 5, 3, 4],\n",
    "#       dtype=np.int32)"
   ]
  },
  {
   "cell_type": "code",
   "execution_count": 51,
   "id": "oriented-wichita",
   "metadata": {},
   "outputs": [],
   "source": [
    "cluster_sets =[[x[1] for x in k] for k in k50]"
   ]
  },
  {
   "cell_type": "code",
   "execution_count": 26,
   "id": "missing-pantyhose",
   "metadata": {},
   "outputs": [],
   "source": [
    "article_tokens = {k: set(spacy_clean_tokenizer(v)) for k,v in article_abstract_dict.items()}"
   ]
  },
  {
   "cell_type": "code",
   "execution_count": 52,
   "id": "impossible-stations",
   "metadata": {},
   "outputs": [],
   "source": [
    "from collections import Counter\n",
    "c = Counter()\n",
    "for v in article_tokens.values():\n",
    "    c.update(v)\n",
    "    "
   ]
  },
  {
   "cell_type": "code",
   "execution_count": 53,
   "id": "incorrect-honduras",
   "metadata": {},
   "outputs": [
    {
     "data": {
      "text/plain": [
       "2347"
      ]
     },
     "execution_count": 53,
     "metadata": {},
     "output_type": "execute_result"
    }
   ],
   "source": [
    "len(c)"
   ]
  },
  {
   "cell_type": "code",
   "execution_count": 54,
   "id": "consistent-endorsement",
   "metadata": {},
   "outputs": [],
   "source": [
    "def get_article_indetifiers():\n",
    "    for (article_name, article_words), cluster  in \\\n",
    "            zip(article_tokens.items(), tqdm(cluster_affinity)):\n",
    "        cluster_words = cluster_sets[cluster]\n",
    "        joint_words = [word for word in cluster_words if word in article_words and c[word]>=3][:15]\n",
    "        yield article_name, cluster, joint_words"
   ]
  },
  {
   "cell_type": "code",
   "execution_count": 55,
   "id": "competitive-press",
   "metadata": {},
   "outputs": [
    {
     "name": "stderr",
     "output_type": "stream",
     "text": [
      " 99%|█████████▉| 126/127 [00:00<00:00, 87265.90it/s]\n"
     ]
    },
    {
     "data": {
      "text/html": [
       "<div>\n",
       "<style scoped>\n",
       "    .dataframe tbody tr th:only-of-type {\n",
       "        vertical-align: middle;\n",
       "    }\n",
       "\n",
       "    .dataframe tbody tr th {\n",
       "        vertical-align: top;\n",
       "    }\n",
       "\n",
       "    .dataframe thead th {\n",
       "        text-align: right;\n",
       "    }\n",
       "</style>\n",
       "<table border=\"1\" class=\"dataframe\">\n",
       "  <thead>\n",
       "    <tr style=\"text-align: right;\">\n",
       "      <th></th>\n",
       "      <th>article_name</th>\n",
       "      <th>cluster</th>\n",
       "      <th>article_words</th>\n",
       "    </tr>\n",
       "  </thead>\n",
       "  <tbody>\n",
       "    <tr>\n",
       "      <th>100</th>\n",
       "      <td>Avinadav et al 2015a</td>\n",
       "      <td>0</td>\n",
       "      <td>consignment contract, supply chain member, equ...</td>\n",
       "    </tr>\n",
       "    <tr>\n",
       "      <th>45</th>\n",
       "      <td>Avinadav et al.- 2015b</td>\n",
       "      <td>0</td>\n",
       "      <td>consignment contract, supply chain member, equ...</td>\n",
       "    </tr>\n",
       "    <tr>\n",
       "      <th>5</th>\n",
       "      <td>Buratto et al - 2019</td>\n",
       "      <td>0</td>\n",
       "      <td>cooperative program, consignment contract, ret...</td>\n",
       "    </tr>\n",
       "    <tr>\n",
       "      <th>91</th>\n",
       "      <td>Cai  et al 2017-Flexible contract design for V...</td>\n",
       "      <td>0</td>\n",
       "      <td>member, finding, inventory, risk</td>\n",
       "    </tr>\n",
       "    <tr>\n",
       "      <th>88</th>\n",
       "      <td>Chakraborty et al 2018</td>\n",
       "      <td>0</td>\n",
       "      <td>chain, partner, retailer, manufacturer</td>\n",
       "    </tr>\n",
       "    <tr>\n",
       "      <th>...</th>\n",
       "      <td>...</td>\n",
       "      <td>...</td>\n",
       "      <td>...</td>\n",
       "    </tr>\n",
       "    <tr>\n",
       "      <th>122</th>\n",
       "      <td>Wang et al 2012-Three revenue-sharing variants...</td>\n",
       "      <td>6</td>\n",
       "      <td></td>\n",
       "    </tr>\n",
       "    <tr>\n",
       "      <th>115</th>\n",
       "      <td>Xie et al 2017</td>\n",
       "      <td>6</td>\n",
       "      <td>wholesale price, revenue sharing ratio, channel</td>\n",
       "    </tr>\n",
       "    <tr>\n",
       "      <th>104</th>\n",
       "      <td>Lu et al-2018-EJOR</td>\n",
       "      <td>7</td>\n",
       "      <td>agency model, publisher, benefit</td>\n",
       "    </tr>\n",
       "    <tr>\n",
       "      <th>72</th>\n",
       "      <td>Tan_Carrillo-2017</td>\n",
       "      <td>7</td>\n",
       "      <td>agency model, publisher, benefit</td>\n",
       "    </tr>\n",
       "    <tr>\n",
       "      <th>25</th>\n",
       "      <td>Tan_et_al-2016</td>\n",
       "      <td>7</td>\n",
       "      <td>agency model</td>\n",
       "    </tr>\n",
       "  </tbody>\n",
       "</table>\n",
       "<p>127 rows × 3 columns</p>\n",
       "</div>"
      ],
      "text/plain": [
       "                                          article_name  cluster  \\\n",
       "100                               Avinadav et al 2015a        0   \n",
       "45                              Avinadav et al.- 2015b        0   \n",
       "5                                 Buratto et al - 2019        0   \n",
       "91   Cai  et al 2017-Flexible contract design for V...        0   \n",
       "88                              Chakraborty et al 2018        0   \n",
       "..                                                 ...      ...   \n",
       "122  Wang et al 2012-Three revenue-sharing variants...        6   \n",
       "115                                     Xie et al 2017        6   \n",
       "104                                 Lu et al-2018-EJOR        7   \n",
       "72                                   Tan_Carrillo-2017        7   \n",
       "25                                      Tan_et_al-2016        7   \n",
       "\n",
       "                                         article_words  \n",
       "100  consignment contract, supply chain member, equ...  \n",
       "45   consignment contract, supply chain member, equ...  \n",
       "5    cooperative program, consignment contract, ret...  \n",
       "91                    member, finding, inventory, risk  \n",
       "88              chain, partner, retailer, manufacturer  \n",
       "..                                                 ...  \n",
       "122                                                     \n",
       "115    wholesale price, revenue sharing ratio, channel  \n",
       "104                   agency model, publisher, benefit  \n",
       "72                    agency model, publisher, benefit  \n",
       "25                                        agency model  \n",
       "\n",
       "[127 rows x 3 columns]"
      ]
     },
     "execution_count": 55,
     "metadata": {},
     "output_type": "execute_result"
    }
   ],
   "source": [
    "cluster_summary = pd.DataFrame(\n",
    "        data=list(get_article_indetifiers()), \n",
    "        columns = 'article_name, cluster, article_words'.split(', ')\n",
    "    )\n",
    "\n",
    "cluster_summary['article_words'] = cluster_summary.article_words.map(', '.join)\n",
    "cluster_summary = cluster_summary.sort_values(['cluster','article_name'])\n",
    "cluster_summary"
   ]
  },
  {
   "cell_type": "code",
   "execution_count": 56,
   "id": "numeric-twenty",
   "metadata": {},
   "outputs": [],
   "source": [
    "cluster_summary.to_excel('revenue_review_tf_idf3.xlsx', index=False)"
   ]
  },
  {
   "cell_type": "code",
   "execution_count": 57,
   "id": "exceptional-christian",
   "metadata": {},
   "outputs": [
    {
     "data": {
      "text/plain": [
       "{'analysis',\n",
       " 'background',\n",
       " 'centralized decentralize dual channel close loop supply chain',\n",
       " 'centralized decision',\n",
       " 'change parameter valuation',\n",
       " 'channel',\n",
       " 'consideration',\n",
       " 'decentralized decision',\n",
       " 'feature',\n",
       " 'influence',\n",
       " 'manufacturing',\n",
       " 'numeric example',\n",
       " 'online offline dual channel',\n",
       " 'online offline price',\n",
       " 'optimal online offline price',\n",
       " 'optimal profit',\n",
       " 'recycle rate',\n",
       " 'recycle rate fluctuation',\n",
       " 'recycle revenue sharing ratio',\n",
       " 'relationship',\n",
       " 'revenue share mechanism',\n",
       " 'revenue sharing ratio',\n",
       " 'variable',\n",
       " 'wholesale price',\n",
       " 'wholesale price advertising investment'}"
      ]
     },
     "execution_count": 57,
     "metadata": {},
     "output_type": "execute_result"
    }
   ],
   "source": [
    "article_tokens['Xie et al 2017']"
   ]
  },
  {
   "cell_type": "code",
   "execution_count": 58,
   "id": "verified-madrid",
   "metadata": {},
   "outputs": [],
   "source": [
    "df2 = pd.DataFrame({'file_name': list(article_abstract_dict.keys()), 'cluster': kmeans.predict(result)})\n",
    "df2=df2.sort_values(['cluster','file_name'])"
   ]
  },
  {
   "cell_type": "code",
   "execution_count": 59,
   "id": "continued-scotland",
   "metadata": {},
   "outputs": [
    {
     "name": "stderr",
     "output_type": "stream",
     "text": [
      "<ipython-input-59-14fec56918fb>:6: SettingWithCopyWarning: \n",
      "A value is trying to be set on a copy of a slice from a DataFrame\n",
      "\n",
      "See the caveats in the documentation: https://pandas.pydata.org/pandas-docs/stable/user_guide/indexing.html#returning-a-view-versus-a-copy\n",
      "  df2['words'][gr['words'].index[0]] = word_series[cl]\n"
     ]
    }
   ],
   "source": [
    "word_series = df.groupby('cluster')['words'].apply( lambda w: '; '.join(w))\n",
    "df2['words']=''\n",
    "for cl,gr in df2.groupby('cluster'):\n",
    "#     print(cl)\n",
    "#     print(gr.columns)\n",
    "    df2['words'][gr['words'].index[0]] = word_series[cl]"
   ]
  },
  {
   "cell_type": "code",
   "execution_count": 60,
   "id": "ready-powder",
   "metadata": {},
   "outputs": [
    {
     "data": {
      "text/html": [
       "<div>\n",
       "<style scoped>\n",
       "    .dataframe tbody tr th:only-of-type {\n",
       "        vertical-align: middle;\n",
       "    }\n",
       "\n",
       "    .dataframe tbody tr th {\n",
       "        vertical-align: top;\n",
       "    }\n",
       "\n",
       "    .dataframe thead th {\n",
       "        text-align: right;\n",
       "    }\n",
       "</style>\n",
       "<table border=\"1\" class=\"dataframe\">\n",
       "  <thead>\n",
       "    <tr style=\"text-align: right;\">\n",
       "      <th></th>\n",
       "      <th>file_name</th>\n",
       "      <th>cluster</th>\n",
       "      <th>words</th>\n",
       "    </tr>\n",
       "  </thead>\n",
       "  <tbody>\n",
       "    <tr>\n",
       "      <th>100</th>\n",
       "      <td>Avinadav et al 2015a</td>\n",
       "      <td>0</td>\n",
       "      <td>firm; cooperative program; app; consignment co...</td>\n",
       "    </tr>\n",
       "    <tr>\n",
       "      <th>45</th>\n",
       "      <td>Avinadav et al.- 2015b</td>\n",
       "      <td>0</td>\n",
       "      <td></td>\n",
       "    </tr>\n",
       "    <tr>\n",
       "      <th>5</th>\n",
       "      <td>Buratto et al - 2019</td>\n",
       "      <td>0</td>\n",
       "      <td></td>\n",
       "    </tr>\n",
       "    <tr>\n",
       "      <th>91</th>\n",
       "      <td>Cai  et al 2017-Flexible contract design for V...</td>\n",
       "      <td>0</td>\n",
       "      <td></td>\n",
       "    </tr>\n",
       "    <tr>\n",
       "      <th>88</th>\n",
       "      <td>Chakraborty et al 2018</td>\n",
       "      <td>0</td>\n",
       "      <td></td>\n",
       "    </tr>\n",
       "    <tr>\n",
       "      <th>...</th>\n",
       "      <td>...</td>\n",
       "      <td>...</td>\n",
       "      <td>...</td>\n",
       "    </tr>\n",
       "    <tr>\n",
       "      <th>122</th>\n",
       "      <td>Wang et al 2012-Three revenue-sharing variants...</td>\n",
       "      <td>6</td>\n",
       "      <td></td>\n",
       "    </tr>\n",
       "    <tr>\n",
       "      <th>115</th>\n",
       "      <td>Xie et al 2017</td>\n",
       "      <td>6</td>\n",
       "      <td></td>\n",
       "    </tr>\n",
       "    <tr>\n",
       "      <th>104</th>\n",
       "      <td>Lu et al-2018-EJOR</td>\n",
       "      <td>7</td>\n",
       "      <td>agency model; pareto zone; publisher; digital ...</td>\n",
       "    </tr>\n",
       "    <tr>\n",
       "      <th>72</th>\n",
       "      <td>Tan_Carrillo-2017</td>\n",
       "      <td>7</td>\n",
       "      <td></td>\n",
       "    </tr>\n",
       "    <tr>\n",
       "      <th>25</th>\n",
       "      <td>Tan_et_al-2016</td>\n",
       "      <td>7</td>\n",
       "      <td></td>\n",
       "    </tr>\n",
       "  </tbody>\n",
       "</table>\n",
       "<p>127 rows × 3 columns</p>\n",
       "</div>"
      ],
      "text/plain": [
       "                                             file_name  cluster  \\\n",
       "100                               Avinadav et al 2015a        0   \n",
       "45                              Avinadav et al.- 2015b        0   \n",
       "5                                 Buratto et al - 2019        0   \n",
       "91   Cai  et al 2017-Flexible contract design for V...        0   \n",
       "88                              Chakraborty et al 2018        0   \n",
       "..                                                 ...      ...   \n",
       "122  Wang et al 2012-Three revenue-sharing variants...        6   \n",
       "115                                     Xie et al 2017        6   \n",
       "104                                 Lu et al-2018-EJOR        7   \n",
       "72                                   Tan_Carrillo-2017        7   \n",
       "25                                      Tan_et_al-2016        7   \n",
       "\n",
       "                                                 words  \n",
       "100  firm; cooperative program; app; consignment co...  \n",
       "45                                                      \n",
       "5                                                       \n",
       "91                                                      \n",
       "88                                                      \n",
       "..                                                 ...  \n",
       "122                                                     \n",
       "115                                                     \n",
       "104  agency model; pareto zone; publisher; digital ...  \n",
       "72                                                      \n",
       "25                                                      \n",
       "\n",
       "[127 rows x 3 columns]"
      ]
     },
     "execution_count": 60,
     "metadata": {},
     "output_type": "execute_result"
    }
   ],
   "source": [
    "df2"
   ]
  },
  {
   "cell_type": "code",
   "execution_count": 61,
   "id": "needed-cleveland",
   "metadata": {},
   "outputs": [
    {
     "data": {
      "text/plain": [
       "(8, 2350)"
      ]
     },
     "execution_count": 61,
     "metadata": {},
     "output_type": "execute_result"
    }
   ],
   "source": [
    "kmeans.cluster_centers_.shape\n"
   ]
  },
  {
   "cell_type": "code",
   "execution_count": 62,
   "id": "balanced-climate",
   "metadata": {},
   "outputs": [],
   "source": [
    "df2.to_excel('revenue_review_tf_idf_cluster_contents3.xlsx',sheet_name='clusters', index=False)"
   ]
  },
  {
   "cell_type": "code",
   "execution_count": 63,
   "id": "smooth-license",
   "metadata": {},
   "outputs": [
    {
     "data": {
      "text/plain": [
       "'1.2.2'"
      ]
     },
     "execution_count": 63,
     "metadata": {},
     "output_type": "execute_result"
    }
   ],
   "source": [
    "pd.__version__"
   ]
  },
  {
   "cell_type": "code",
   "execution_count": 64,
   "id": "vital-diagram",
   "metadata": {},
   "outputs": [
    {
     "data": {
      "text/plain": [
       "PCA()"
      ]
     },
     "execution_count": 64,
     "metadata": {},
     "output_type": "execute_result"
    }
   ],
   "source": [
    "cluster_centers_pca = PCA()\n",
    "cluster_centers_pca.fit(kmeans.cluster_centers_)"
   ]
  },
  {
   "cell_type": "code",
   "execution_count": 65,
   "id": "advance-prisoner",
   "metadata": {},
   "outputs": [
    {
     "data": {
      "text/plain": [
       "array([0.459, 0.579, 0.681, 0.773, 0.854, 0.933, 1.   , 1.   ])"
      ]
     },
     "execution_count": 65,
     "metadata": {},
     "output_type": "execute_result"
    }
   ],
   "source": [
    "np.round(np.cumsum(cluster_centers_pca.explained_variance_ratio_),3)"
   ]
  },
  {
   "cell_type": "code",
   "execution_count": 66,
   "id": "satisfactory-product",
   "metadata": {},
   "outputs": [
    {
     "data": {
      "text/plain": [
       "array([[-1.29153919e-03, -1.31394368e-03, -1.29153919e-03, ...,\n",
       "        -2.18344399e-03, -1.28658316e-03, -2.03691418e-03],\n",
       "       [ 9.19724299e-03, -4.09620889e-03,  9.19724299e-03, ...,\n",
       "         1.80118337e-02, -4.01091269e-03, -3.37730351e-03],\n",
       "       [-1.61371564e-03, -7.02279589e-03, -1.61371564e-03, ...,\n",
       "         1.13918607e-02, -6.87655877e-03, -1.28153296e-02],\n",
       "       ...,\n",
       "       [-6.81267579e-03, -3.06403729e-05, -6.81267579e-03, ...,\n",
       "         9.39258330e-03, -3.00023421e-05,  2.56955107e-02],\n",
       "       [-4.67486978e-03,  1.83340532e-02, -4.67486978e-03, ...,\n",
       "         9.81050677e-03,  1.79522794e-02, -1.71101535e-02],\n",
       "       [ 4.06176685e-02,  3.93906690e-01, -2.64064094e-01, ...,\n",
       "        -3.52916886e-03, -2.85159102e-03,  4.86067153e-03]])"
      ]
     },
     "execution_count": 66,
     "metadata": {},
     "output_type": "execute_result"
    }
   ],
   "source": [
    "cluster_centers_pca.components_ "
   ]
  },
  {
   "cell_type": "code",
   "execution_count": 67,
   "id": "demonstrated-devon",
   "metadata": {},
   "outputs": [],
   "source": [
    "cluster_centers_pca = PCA(2)\n",
    "emb = cluster_centers_pca.fit_transform(kmeans.cluster_centers_)"
   ]
  },
  {
   "cell_type": "code",
   "execution_count": 68,
   "id": "prescribed-verse",
   "metadata": {},
   "outputs": [
    {
     "data": {
      "image/png": "[encoded data removed]",
      "text/plain": [
       "<Figure size 432x288 with 1 Axes>"
      ]
     },
     "metadata": {
      "needs_background": "light"
     },
     "output_type": "display_data"
    }
   ],
   "source": [
    "plt.plot(emb[:,0], emb[:,1],'.')\n",
    "\n",
    "for i,r in enumerate(emb):\n",
    "    plt.text(r[0],r[1],str(i))"
   ]
  },
  {
   "cell_type": "code",
   "execution_count": 69,
   "id": "younger-beverage",
   "metadata": {},
   "outputs": [
    {
     "data": {
      "text/plain": [
       "<matplotlib.image.AxesImage at 0x7f1a802ccbe0>"
      ]
     },
     "execution_count": 69,
     "metadata": {},
     "output_type": "execute_result"
    },
    {
     "data": {
      "image/png": "[encoded data removed]",
      "text/plain": [
       "<Figure size 432x288 with 1 Axes>"
      ]
     },
     "metadata": {
      "needs_background": "light"
     },
     "output_type": "display_data"
    }
   ],
   "source": [
    "plt.imshow(distance_matrix(kmeans.cluster_centers_, kmeans.cluster_centers_))"
   ]
  },
  {
   "cell_type": "code",
   "execution_count": 70,
   "id": "rural-inquiry",
   "metadata": {},
   "outputs": [
    {
     "data": {
      "text/plain": [
       "array([0.385, 0.404, 0.402, 0.385, 0.387, 0.382, 0.405, 0.642])"
      ]
     },
     "execution_count": 70,
     "metadata": {},
     "output_type": "execute_result"
    }
   ],
   "source": [
    "np.round(distance_matrix(kmeans.cluster_centers_, kmeans.cluster_centers_).mean(axis=0),3)"
   ]
  },
  {
   "cell_type": "code",
   "execution_count": 71,
   "id": "sacred-simon",
   "metadata": {},
   "outputs": [],
   "source": [
    "\n",
    "mds = manifold.MDS(n_components=2, dissimilarity=\"euclidean\", random_state=6)\n",
    "results = mds.fit(kmeans.cluster_centers_)\n",
    "\n",
    "coords = results.embedding_\n"
   ]
  },
  {
   "cell_type": "code",
   "execution_count": 72,
   "id": "quiet-program",
   "metadata": {},
   "outputs": [
    {
     "data": {
      "image/png": "[encoded data removed]",
      "text/plain": [
       "<Figure size 432x288 with 1 Axes>"
      ]
     },
     "metadata": {
      "needs_background": "light"
     },
     "output_type": "display_data"
    }
   ],
   "source": [
    "plt.plot(coords[:,0], coords[:,1],'o')\n",
    "\n",
    "for i,r in enumerate(coords):\n",
    "    plt.text(r[0]+0.02,r[1],str(i),fontsize=12)"
   ]
  },
  {
   "cell_type": "code",
   "execution_count": 48,
   "id": "attempted-lambda",
   "metadata": {},
   "outputs": [
    {
     "data": {
      "text/plain": [
       "(127, 2350)"
      ]
     },
     "execution_count": 48,
     "metadata": {},
     "output_type": "execute_result"
    }
   ],
   "source": [
    "result.shape"
   ]
  },
  {
   "cell_type": "code",
   "execution_count": 49,
   "id": "adolescent-documentary",
   "metadata": {},
   "outputs": [
    {
     "ename": "IndexError",
     "evalue": "index (127) out of range",
     "output_type": "error",
     "traceback": [
      "\u001b[0;31m---------------------------------------------------------------------------\u001b[0m",
      "\u001b[0;31mIndexError\u001b[0m                                Traceback (most recent call last)",
      "\u001b[0;32m<ipython-input-49-704a218fd5ef>\u001b[0m in \u001b[0;36m<module>\u001b[0;34m\u001b[0m\n\u001b[1;32m      1\u001b[0m \u001b[0mpoint_coord\u001b[0m \u001b[0;34m=\u001b[0m \u001b[0;34m[\u001b[0m\u001b[0;34m]\u001b[0m\u001b[0;34m\u001b[0m\u001b[0;34m\u001b[0m\u001b[0m\n\u001b[1;32m      2\u001b[0m \u001b[0;32mfor\u001b[0m \u001b[0mcl\u001b[0m \u001b[0;32min\u001b[0m \u001b[0mrange\u001b[0m\u001b[0;34m(\u001b[0m\u001b[0;36m8\u001b[0m\u001b[0;34m)\u001b[0m\u001b[0;34m:\u001b[0m\u001b[0;34m\u001b[0m\u001b[0;34m\u001b[0m\u001b[0m\n\u001b[0;32m----> 3\u001b[0;31m     \u001b[0mpoints\u001b[0m \u001b[0;34m=\u001b[0m \u001b[0mresult\u001b[0m\u001b[0;34m[\u001b[0m\u001b[0mcluster_affinity\u001b[0m\u001b[0;34m==\u001b[0m\u001b[0mcl\u001b[0m\u001b[0;34m,\u001b[0m\u001b[0;34m:\u001b[0m\u001b[0;34m]\u001b[0m \u001b[0;34m-\u001b[0m \u001b[0mkmeans\u001b[0m\u001b[0;34m.\u001b[0m\u001b[0mcluster_centers_\u001b[0m\u001b[0;34m[\u001b[0m\u001b[0mi\u001b[0m\u001b[0;34m,\u001b[0m\u001b[0;34m:\u001b[0m\u001b[0;34m]\u001b[0m\u001b[0;34m\u001b[0m\u001b[0;34m\u001b[0m\u001b[0m\n\u001b[0m\u001b[1;32m      4\u001b[0m \u001b[0;34m\u001b[0m\u001b[0m\n\u001b[1;32m      5\u001b[0m     \u001b[0mpoints2d\u001b[0m \u001b[0;34m=\u001b[0m \u001b[0mmds\u001b[0m\u001b[0;34m.\u001b[0m\u001b[0mfit\u001b[0m\u001b[0;34m(\u001b[0m\u001b[0mpoints\u001b[0m\u001b[0;34m)\u001b[0m\u001b[0;34m.\u001b[0m\u001b[0membedding_\u001b[0m \u001b[0;34m+\u001b[0m \u001b[0mcoords\u001b[0m\u001b[0;34m[\u001b[0m\u001b[0mi\u001b[0m\u001b[0;34m,\u001b[0m\u001b[0;34m:\u001b[0m\u001b[0;34m]\u001b[0m\u001b[0;34m\u001b[0m\u001b[0;34m\u001b[0m\u001b[0m\n",
      "\u001b[0;32m~/miniconda3/envs/base1/lib/python3.9/site-packages/scipy/sparse/_index.py\u001b[0m in \u001b[0;36m__getitem__\u001b[0;34m(self, key)\u001b[0m\n\u001b[1;32m     31\u001b[0m     \"\"\"\n\u001b[1;32m     32\u001b[0m     \u001b[0;32mdef\u001b[0m \u001b[0m__getitem__\u001b[0m\u001b[0;34m(\u001b[0m\u001b[0mself\u001b[0m\u001b[0;34m,\u001b[0m \u001b[0mkey\u001b[0m\u001b[0;34m)\u001b[0m\u001b[0;34m:\u001b[0m\u001b[0;34m\u001b[0m\u001b[0;34m\u001b[0m\u001b[0m\n\u001b[0;32m---> 33\u001b[0;31m         \u001b[0mrow\u001b[0m\u001b[0;34m,\u001b[0m \u001b[0mcol\u001b[0m \u001b[0;34m=\u001b[0m \u001b[0mself\u001b[0m\u001b[0;34m.\u001b[0m\u001b[0m_validate_indices\u001b[0m\u001b[0;34m(\u001b[0m\u001b[0mkey\u001b[0m\u001b[0;34m)\u001b[0m\u001b[0;34m\u001b[0m\u001b[0;34m\u001b[0m\u001b[0m\n\u001b[0m\u001b[1;32m     34\u001b[0m         \u001b[0;31m# Dispatch to specialized methods.\u001b[0m\u001b[0;34m\u001b[0m\u001b[0;34m\u001b[0m\u001b[0;34m\u001b[0m\u001b[0m\n\u001b[1;32m     35\u001b[0m         \u001b[0;32mif\u001b[0m \u001b[0misinstance\u001b[0m\u001b[0;34m(\u001b[0m\u001b[0mrow\u001b[0m\u001b[0;34m,\u001b[0m \u001b[0mINT_TYPES\u001b[0m\u001b[0;34m)\u001b[0m\u001b[0;34m:\u001b[0m\u001b[0;34m\u001b[0m\u001b[0;34m\u001b[0m\u001b[0m\n",
      "\u001b[0;32m~/miniconda3/envs/base1/lib/python3.9/site-packages/scipy/sparse/_index.py\u001b[0m in \u001b[0;36m_validate_indices\u001b[0;34m(self, key)\u001b[0m\n\u001b[1;32m    136\u001b[0m                 \u001b[0mrow\u001b[0m \u001b[0;34m+=\u001b[0m \u001b[0mM\u001b[0m\u001b[0;34m\u001b[0m\u001b[0;34m\u001b[0m\u001b[0m\n\u001b[1;32m    137\u001b[0m         \u001b[0;32melif\u001b[0m \u001b[0;32mnot\u001b[0m \u001b[0misinstance\u001b[0m\u001b[0;34m(\u001b[0m\u001b[0mrow\u001b[0m\u001b[0;34m,\u001b[0m \u001b[0mslice\u001b[0m\u001b[0;34m)\u001b[0m\u001b[0;34m:\u001b[0m\u001b[0;34m\u001b[0m\u001b[0;34m\u001b[0m\u001b[0m\n\u001b[0;32m--> 138\u001b[0;31m             \u001b[0mrow\u001b[0m \u001b[0;34m=\u001b[0m \u001b[0mself\u001b[0m\u001b[0;34m.\u001b[0m\u001b[0m_asindices\u001b[0m\u001b[0;34m(\u001b[0m\u001b[0mrow\u001b[0m\u001b[0;34m,\u001b[0m \u001b[0mM\u001b[0m\u001b[0;34m)\u001b[0m\u001b[0;34m\u001b[0m\u001b[0;34m\u001b[0m\u001b[0m\n\u001b[0m\u001b[1;32m    139\u001b[0m \u001b[0;34m\u001b[0m\u001b[0m\n\u001b[1;32m    140\u001b[0m         \u001b[0;32mif\u001b[0m \u001b[0misintlike\u001b[0m\u001b[0;34m(\u001b[0m\u001b[0mcol\u001b[0m\u001b[0;34m)\u001b[0m\u001b[0;34m:\u001b[0m\u001b[0;34m\u001b[0m\u001b[0;34m\u001b[0m\u001b[0m\n",
      "\u001b[0;32m~/miniconda3/envs/base1/lib/python3.9/site-packages/scipy/sparse/_index.py\u001b[0m in \u001b[0;36m_asindices\u001b[0;34m(self, idx, length)\u001b[0m\n\u001b[1;32m    168\u001b[0m         \u001b[0mmax_indx\u001b[0m \u001b[0;34m=\u001b[0m \u001b[0mx\u001b[0m\u001b[0;34m.\u001b[0m\u001b[0mmax\u001b[0m\u001b[0;34m(\u001b[0m\u001b[0;34m)\u001b[0m\u001b[0;34m\u001b[0m\u001b[0;34m\u001b[0m\u001b[0m\n\u001b[1;32m    169\u001b[0m         \u001b[0;32mif\u001b[0m \u001b[0mmax_indx\u001b[0m \u001b[0;34m>=\u001b[0m \u001b[0mlength\u001b[0m\u001b[0;34m:\u001b[0m\u001b[0;34m\u001b[0m\u001b[0;34m\u001b[0m\u001b[0m\n\u001b[0;32m--> 170\u001b[0;31m             \u001b[0;32mraise\u001b[0m \u001b[0mIndexError\u001b[0m\u001b[0;34m(\u001b[0m\u001b[0;34m'index (%d) out of range'\u001b[0m \u001b[0;34m%\u001b[0m \u001b[0mmax_indx\u001b[0m\u001b[0;34m)\u001b[0m\u001b[0;34m\u001b[0m\u001b[0;34m\u001b[0m\u001b[0m\n\u001b[0m\u001b[1;32m    171\u001b[0m \u001b[0;34m\u001b[0m\u001b[0m\n\u001b[1;32m    172\u001b[0m         \u001b[0mmin_indx\u001b[0m \u001b[0;34m=\u001b[0m \u001b[0mx\u001b[0m\u001b[0;34m.\u001b[0m\u001b[0mmin\u001b[0m\u001b[0;34m(\u001b[0m\u001b[0;34m)\u001b[0m\u001b[0;34m\u001b[0m\u001b[0;34m\u001b[0m\u001b[0m\n",
      "\u001b[0;31mIndexError\u001b[0m: index (127) out of range"
     ]
    }
   ],
   "source": [
    "point_coord = []\n",
    "for cl in range(8):\n",
    "    points = result[cluster_affinity==cl,:] - kmeans.cluster_centers_[i,:]\n",
    "    \n",
    "    points2d = mds.fit(points).embedding_ + coords[i,:]\n",
    "    point_coord.append(points2d)"
   ]
  },
  {
   "cell_type": "code",
   "execution_count": null,
   "id": "turned-palace",
   "metadata": {},
   "outputs": [],
   "source": [
    "point_stats = []\n",
    "for cl in range(8):\n",
    "    points_dist = distance_matrix(result[cluster_affinity==cl,:].todense(),kmeans.cluster_centers_)\n",
    "    points_dist = (points_dist**2).mean(axis=0)\n",
    "    point_stats.append(points_dist)"
   ]
  },
  {
   "cell_type": "code",
   "execution_count": null,
   "id": "forced-advocacy",
   "metadata": {},
   "outputs": [],
   "source": [
    "plt.imshow(np.vstack(point_stats))"
   ]
  },
  {
   "cell_type": "code",
   "execution_count": null,
   "id": "excessive-transformation",
   "metadata": {},
   "outputs": [],
   "source": [
    "np.round(np.vstack(point_stats),3)"
   ]
  },
  {
   "cell_type": "code",
   "execution_count": null,
   "id": "painted-nicaragua",
   "metadata": {},
   "outputs": [],
   "source": [
    "import matplotlib.cm as cm"
   ]
  },
  {
   "cell_type": "code",
   "execution_count": null,
   "id": "precise-point",
   "metadata": {},
   "outputs": [],
   "source": [
    "\n",
    "for i,r in enumerate(coords):\n",
    "    plt.plot(coords[i,0], coords[i,1],'o',color = cm.tab20(i))\n",
    "    plt.plot(coords[i,0], coords[i,1],'d',color = cm.tab20(i))\n",
    "\n",
    "    plt.plot(point_coord[i][:,0], point_coord[i][:,1],'.',color = cm.tab20(i))"
   ]
  },
  {
   "cell_type": "code",
   "execution_count": null,
   "id": "robust-sullivan",
   "metadata": {},
   "outputs": [],
   "source": [
    "points2d"
   ]
  },
  {
   "cell_type": "code",
   "execution_count": null,
   "id": "intelligent-component",
   "metadata": {},
   "outputs": [],
   "source": [
    "result[cluster_affinity==2,:].todense().shape"
   ]
  },
  {
   "cell_type": "code",
   "execution_count": null,
   "id": "stretch-today",
   "metadata": {},
   "outputs": [],
   "source": []
  }
 ],
 "metadata": {
  "kernelspec": {
   "display_name": "Python 3.9.1 64-bit ('base1': conda)",
   "language": "python",
   "name": "python39164bitbase1conda6ae4cd7cd66d4873bccad52ac2cde672"
  },
  "language_info": {
   "codemirror_mode": {
    "name": "ipython",
    "version": 3
   },
   "file_extension": ".py",
   "mimetype": "text/x-python",
   "name": "python",
   "nbconvert_exporter": "python",
   "pygments_lexer": "ipython3",
   "version": "3.9.1"
  }
 },
 "nbformat": 4,
 "nbformat_minor": 5
}
