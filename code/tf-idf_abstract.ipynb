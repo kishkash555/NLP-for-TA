{
 "cells": [
  {
   "cell_type": "code",
   "execution_count": 61,
   "id": "gorgeous-brunei",
   "metadata": {},
   "outputs": [],
   "source": [
    "from xml_tools import get_abstract_contents\n",
    "from collections import Counter\n",
    "from sklearn.feature_extraction.text import TfidfVectorizer\n",
    "from sklearn.metrics.pairwise import linear_kernel\n",
    "from sklearn.cluster import KMeans\n",
    "import pandas as pd\n"
   ]
  },
  {
   "cell_type": "code",
   "execution_count": 2,
   "id": "nuclear-consumer",
   "metadata": {},
   "outputs": [],
   "source": [
    "import glob\n",
    "from os import path\n",
    "\n"
   ]
  },
  {
   "cell_type": "code",
   "execution_count": 4,
   "id": "injured-moisture",
   "metadata": {
    "scrolled": true
   },
   "outputs": [],
   "source": [
    "import spacy\n",
    "nlp = spacy.load(\"en_core_web_lg\")"
   ]
  },
  {
   "cell_type": "code",
   "execution_count": 5,
   "id": "subjective-amino",
   "metadata": {},
   "outputs": [
    {
     "data": {
      "text/plain": [
       "['../articles_from_tatiana/batch3_header_xml/Grieger 2003.xml',\n",
       " '../articles_from_tatiana/batch3_header_xml/Xu et al 2020.xml',\n",
       " '../articles_from_tatiana/batch3_header_xml/Cao et al 2019.xml',\n",
       " '../articles_from_tatiana/batch3_header_xml/Mantin et al 2014.xml',\n",
       " '../articles_from_tatiana/batch3_header_xml/Li 2020.xml',\n",
       " '../articles_from_tatiana/batch3_header_xml/Shen et al 2019.xml',\n",
       " '../articles_from_tatiana/batch3_header_xml/Avinadav et al 2015b.xml',\n",
       " '../articles_from_tatiana/batch3_header_xml/Hua et al 2020.xml',\n",
       " '../articles_from_tatiana/batch3_header_xml/Zhen et al 2020.xml',\n",
       " '../articles_from_tatiana/batch3_header_xml/Avinadav et al 2020b.xml']"
      ]
     },
     "execution_count": 5,
     "metadata": {},
     "output_type": "execute_result"
    }
   ],
   "source": [
    "xmls = glob.glob('../articles_from_tatiana/batch3_header_xml/*.xml')\n",
    "\n",
    "xmls[:10]"
   ]
  },
  {
   "cell_type": "code",
   "execution_count": 6,
   "id": "harmful-neighbor",
   "metadata": {},
   "outputs": [],
   "source": [
    "article_abstract_dict = {path.basename(x).split('.')[0]: get_abstract_contents(x) for x in xmls}"
   ]
  },
  {
   "cell_type": "code",
   "execution_count": 7,
   "id": "academic-zimbabwe",
   "metadata": {},
   "outputs": [
    {
     "name": "stdout",
     "output_type": "stream",
     "text": [
      "[117, 100, 245, 250, 96, 231, 124, 193, 257, 166, 340, 194, 169, 0, 209, 212, 248, 307, 90, 246, 254, 130, 200, 167, 254, 241, 224, 96, 247, 167, 217, 158, 94, 153, 141, 229, 184, 172, 244, 222, 189, 225, 220, 251, 161, 200, 242, 249, 246, 79, 199, 180, 213, 188, 281, 160, 148, 201, 185]\n"
     ]
    }
   ],
   "source": [
    "print([len(v.split()) for v in article_abstract_dict.values()])"
   ]
  },
  {
   "cell_type": "code",
   "execution_count": 31,
   "id": "preliminary-above",
   "metadata": {},
   "outputs": [],
   "source": [
    "def spacy_tokenizer(document, chunks=True):\n",
    "    tokens = nlp(document)\n",
    "    tokens = [token.lemma_ for token in (tokens.noun_chunks if chunks else tokens)  if (\n",
    "        (chunks or token.is_stop == False) and \n",
    "        (chunks or token.is_punct == False) and \n",
    "        token.lemma_.strip()!= ''\n",
    "    )]\n",
    "    return tokens"
   ]
  },
  {
   "cell_type": "code",
   "execution_count": 44,
   "id": "apart-parallel",
   "metadata": {},
   "outputs": [],
   "source": [
    "def spacy_clean_tokenizer(document, chunks=True):\n",
    "    tokens = nlp(document)\n",
    "    tokens = [token.lemma_ for token in (tokens.noun_chunks if chunks else tokens)  if (\n",
    "        (chunks or token.is_stop == False) and \n",
    "        (chunks or token.is_punct == False) and \n",
    "        token.lemma_.strip()!= ''\n",
    "    )]\n",
    "    tokens = [ ' '.join([tk.lemma_ for tk in nlp(token) if not (tk.is_stop or tk.is_punct)]) for token in tokens]\n",
    "    tokens = [tk for tk in tokens if len(tk)]\n",
    "    return tokens"
   ]
  },
  {
   "cell_type": "code",
   "execution_count": 49,
   "id": "obvious-metadata",
   "metadata": {},
   "outputs": [],
   "source": [
    "d = iter(article_abstract_dict.values())\n",
    "n = nlp(next(d))"
   ]
  },
  {
   "cell_type": "code",
   "execution_count": 50,
   "id": "hired-harassment",
   "metadata": {},
   "outputs": [
    {
     "data": {
      "text/plain": [
       "These days, Internet-based electronic marketplaces (EMs) are getting more and more popular. They emerge in different industries, supporting the exchange of goods and services of different kinds, with and for different types of actors, and are following different architectural principles. Most observers have assumed that EM would come to dominate the e-business landscape. Once you look beyond the publicity, however, you quickly see that most EMs are struggling. The supply chain dimension of an EM is largely neglected and poorly managed, while basic logistics operation is currently hampering turnover and revenues. The Paper at hand examines, based on a critical literature review, the actual EM discussion and calls for more supply chain management research within this field."
      ]
     },
     "execution_count": 50,
     "metadata": {},
     "output_type": "execute_result"
    }
   ],
   "source": [
    "n"
   ]
  },
  {
   "cell_type": "code",
   "execution_count": 46,
   "id": "suitable-bankruptcy",
   "metadata": {},
   "outputs": [
    {
     "data": {
      "text/plain": [
       "['internet base electronic marketplace',\n",
       " 'em',\n",
       " 'different industry',\n",
       " 'exchange',\n",
       " 'good',\n",
       " 'service',\n",
       " 'different kind',\n",
       " 'different type',\n",
       " 'actor',\n",
       " 'different architectural principle',\n",
       " 'observer',\n",
       " 'em',\n",
       " 'e business landscape',\n",
       " 'publicity',\n",
       " 'em',\n",
       " 'supply chain dimension',\n",
       " 'em',\n",
       " 'basic logistic operation',\n",
       " 'turnover',\n",
       " 'revenue',\n",
       " 'paper',\n",
       " 'hand examine',\n",
       " 'critical literature review',\n",
       " 'actual EM discussion',\n",
       " 'supply chain management research',\n",
       " 'field']"
      ]
     },
     "execution_count": 46,
     "metadata": {},
     "output_type": "execute_result"
    }
   ],
   "source": [
    "spacy_clean_tokenizer(d)"
   ]
  },
  {
   "cell_type": "code",
   "execution_count": 51,
   "id": "choice-harmony",
   "metadata": {},
   "outputs": [
    {
     "data": {
      "text/plain": [
       "[('supply chain', 3),\n",
       " ('platform power', 3),\n",
       " ('manufacturer', 2),\n",
       " ('platform', 2),\n",
       " ('paper', 1),\n",
       " ('coordination problem', 1),\n",
       " ('retailer', 1),\n",
       " ('product', 1),\n",
       " ('offline channel', 1),\n",
       " ('online platform', 1),\n",
       " ('ability', 1),\n",
       " ('market share', 1),\n",
       " ('wholesale price cost share contract', 1),\n",
       " ('cost share contract', 1),\n",
       " ('delivery time sensitivity', 1),\n",
       " ('result', 1)]"
      ]
     },
     "execution_count": 51,
     "metadata": {},
     "output_type": "execute_result"
    }
   ],
   "source": [
    "Counter(spacy_clean_tokenizer(next(d))).most_common()"
   ]
  },
  {
   "cell_type": "code",
   "execution_count": 52,
   "id": "accepted-diesel",
   "metadata": {},
   "outputs": [
    {
     "data": {
      "text/plain": [
       "[('platform', 7),\n",
       " ('self run store', 4),\n",
       " ('b2c platform', 3),\n",
       " ('party store', 3),\n",
       " ('GC', 3),\n",
       " ('cc', 3),\n",
       " ('consumer', 2),\n",
       " ('store', 2),\n",
       " ('product', 2),\n",
       " ('trade effort', 2),\n",
       " ('model', 2),\n",
       " ('trade program', 1),\n",
       " ('sale', 1),\n",
       " ('dual format retailing model', 1),\n",
       " ('trade program framework', 1),\n",
       " ('optimal trade rebate', 1),\n",
       " ('rebate', 1),\n",
       " ('gift card', 1),\n",
       " ('cash coupon', 1),\n",
       " ('market', 1),\n",
       " ('decision challenge', 1),\n",
       " ('optimal tradein strategy', 1),\n",
       " ('theoretical model', 1),\n",
       " ('effort', 1),\n",
       " ('i.e. model', 1),\n",
       " ('GC payment', 1),\n",
       " ('cc payment', 1),\n",
       " ('consideration', 1),\n",
       " ('interesting finding', 1),\n",
       " ('insight', 1),\n",
       " ('high quality low selling price', 1),\n",
       " ('competition', 1),\n",
       " ('trade', 1),\n",
       " ('low trade rebate', 1),\n",
       " ('high profit', 1),\n",
       " ('counterintuitive finding', 1),\n",
       " ('high gift card redemption rate', 1)]"
      ]
     },
     "execution_count": 52,
     "metadata": {},
     "output_type": "execute_result"
    }
   ],
   "source": [
    "Counter(spacy_clean_tokenizer(next(d))).most_common()"
   ]
  },
  {
   "cell_type": "code",
   "execution_count": 53,
   "id": "complex-algorithm",
   "metadata": {},
   "outputs": [
    {
     "data": {
      "text/plain": [
       "[('manufacturer', 7),\n",
       " ('retailer', 5),\n",
       " ('3p marketplace', 5),\n",
       " ('outside option', 3),\n",
       " ('sale', 3),\n",
       " ('profit', 2),\n",
       " ('3p seller', 2),\n",
       " ('competition', 2),\n",
       " ('r etailer', 1),\n",
       " ('dual format model', 1),\n",
       " ('addition', 1),\n",
       " ('traditional merchant', 1),\n",
       " ('good', 1),\n",
       " ('platform', 1),\n",
       " ('party', 1),\n",
       " ('3p', 1),\n",
       " ('seller', 1),\n",
       " ('customer', 1),\n",
       " ('strategic rationale', 1),\n",
       " ('analysis', 1),\n",
       " ('insight', 1),\n",
       " ('grow prevalence', 1),\n",
       " ('active 3p marketplace', 1),\n",
       " ('bargaining position', 1),\n",
       " ('negotiation', 1),\n",
       " ('increase prevalence', 1),\n",
       " ('marketplace', 1),\n",
       " ('hand', 1),\n",
       " ('retailer outside option', 1),\n",
       " ('action', 1),\n",
       " ('compete product', 1),\n",
       " ('good strategy', 1),\n",
       " ('term', 1),\n",
       " ('contract', 1),\n",
       " ('powerful retailer', 1),\n",
       " ('fee', 1),\n",
       " ('decrease', 1),\n",
       " ('increase', 1),\n",
       " ('value', 1),\n",
       " ('presence', 1),\n",
       " ('consumer', 1),\n",
       " ('benefit', 1)]"
      ]
     },
     "execution_count": 53,
     "metadata": {},
     "output_type": "execute_result"
    }
   ],
   "source": [
    "Counter(spacy_clean_tokenizer(next(d))).most_common()"
   ]
  },
  {
   "cell_type": "code",
   "execution_count": 56,
   "id": "dutch-winning",
   "metadata": {},
   "outputs": [],
   "source": [
    "tfidf_vectorizer = TfidfVectorizer(input = 'content', tokenizer = spacy_clean_tokenizer)"
   ]
  },
  {
   "cell_type": "code",
   "execution_count": 59,
   "id": "inappropriate-greeting",
   "metadata": {},
   "outputs": [
    {
     "data": {
      "text/plain": [
       "<59x1474 sparse matrix of type '<class 'numpy.float64'>'\n",
       "\twith 2108 stored elements in Compressed Sparse Row format>"
      ]
     },
     "execution_count": 59,
     "metadata": {},
     "output_type": "execute_result"
    }
   ],
   "source": [
    "result = tfidf_vectorizer.fit_transform(iter(article_abstract_dict.values()))\n",
    "result"
   ]
  },
  {
   "cell_type": "code",
   "execution_count": 58,
   "id": "hollow-exception",
   "metadata": {},
   "outputs": [
    {
     "data": {
      "text/plain": [
       "TfidfVectorizer(tokenizer=<function spacy_clean_tokenizer at 0x7f307251aee0>)"
      ]
     },
     "execution_count": 58,
     "metadata": {},
     "output_type": "execute_result"
    }
   ],
   "source": [
    "tfidf_vectorizer"
   ]
  },
  {
   "cell_type": "code",
   "execution_count": 136,
   "id": "median-publication",
   "metadata": {},
   "outputs": [],
   "source": [
    "kmeans = KMeans(n_clusters=3,random_state=1015).fit(result)"
   ]
  },
  {
   "cell_type": "code",
   "execution_count": 137,
   "id": "pleasant-consent",
   "metadata": {},
   "outputs": [
    {
     "data": {
      "text/plain": [
       "(3, 1474)"
      ]
     },
     "execution_count": 137,
     "metadata": {},
     "output_type": "execute_result"
    }
   ],
   "source": [
    "kmeans.cluster_centers_.shape"
   ]
  },
  {
   "cell_type": "code",
   "execution_count": 138,
   "id": "aerial-toyota",
   "metadata": {},
   "outputs": [
    {
     "data": {
      "text/plain": [
       "<matplotlib.image.AxesImage at 0x7f305d26fb20>"
      ]
     },
     "execution_count": 138,
     "metadata": {},
     "output_type": "execute_result"
    },
    {
     "data": {
      "image/png": "[encoded data removed]",
      "text/plain": [
       "<Figure size 864x288 with 1 Axes>"
      ]
     },
     "metadata": {
      "needs_background": "light"
     },
     "output_type": "display_data"
    }
   ],
   "source": [
    "import matplotlib.pyplot as plt\n",
    "plt.figure(figsize=(12,4))\n",
    "plt.imshow(kmeans.cluster_centers_,aspect=40,vmax=0.03)"
   ]
  },
  {
   "cell_type": "code",
   "execution_count": 169,
   "id": "parallel-friendly",
   "metadata": {
    "scrolled": true
   },
   "outputs": [
    {
     "data": {
      "text/plain": [
       "[[(0.05451822982656782, 'e tailer'),\n",
       "  (0.052085057483321213, 'marketplace'),\n",
       "  (0.05076172555424087, 'manufacturer'),\n",
       "  (0.04525019175914161, 'tailer'),\n",
       "  (0.04215588910000898, 'e'),\n",
       "  (0.040610115292626814, 'sale'),\n",
       "  (0.035693111947036164, 'marketplace channel'),\n",
       "  (0.03357962391753457, 'e marketplace'),\n",
       "  (0.030599610810264317, 'em'),\n",
       "  (0.02977364204468048, 'o2o platform'),\n",
       "  (0.02697580619792087, 'paper'),\n",
       "  (0.026130840267553263, 'online marketplace')],\n",
       " [(0.1589447220669641, 'platform'),\n",
       "  (0.1208346902411218, 'supplier'),\n",
       "  (0.05856935973361438, 'firm'),\n",
       "  (0.05526385712739338, 'agency contract'),\n",
       "  (0.05043663591193135, 'blockchain'),\n",
       "  (0.04024898792830568, 'supply chain'),\n",
       "  (0.03633763372071041, 'p2p marketplace'),\n",
       "  (0.03607462588227508, 'consumer'),\n",
       "  (0.03374996575303633, 'logistic service'),\n",
       "  (0.03374196289781138, 'contract'),\n",
       "  (0.03321105724324788, 'service provider'),\n",
       "  (0.03185529771142179, 'ddm')],\n",
       " [(0.1428603824464179, 'retailer'),\n",
       "  (0.13197477839883787, 'manufacturer'),\n",
       "  (0.057217229315224424, 'product'),\n",
       "  (0.04400266920870037, 'store'),\n",
       "  (0.042830991704145616, 'developer'),\n",
       "  (0.04034962110789052, 'app'),\n",
       "  (0.037716254126663205, 'demand'),\n",
       "  (0.036199067261656115, 'case'),\n",
       "  (0.036028410255019655, 'trading market'),\n",
       "  (0.03581351828046572, 'm&a'),\n",
       "  (0.034248100029706866, 'revenue sharing'),\n",
       "  (0.03389847227846568, 'platform power')]]"
      ]
     },
     "execution_count": 169,
     "metadata": {},
     "output_type": "execute_result"
    }
   ],
   "source": [
    "cc = kmeans.cluster_centers_\n",
    "k = []\n",
    "for i in range(3):\n",
    "    k.append(sorted(zip(cc[i,:], tfidf_vectorizer.get_feature_names()),reverse=True)[:12])\n",
    "\n",
    "k"
   ]
  },
  {
   "cell_type": "code",
   "execution_count": 174,
   "id": "robust-anthropology",
   "metadata": {},
   "outputs": [
    {
     "name": "stdout",
     "output_type": "stream",
     "text": [
      "e,\n",
      "e marketplace,\n",
      "e tailer,\n",
      "em,\n",
      "manufacturer,\n",
      "marketplace,\n",
      "marketplace channel,\n",
      "o2o platform,\n",
      "online marketplace,\n",
      "paper,\n",
      "sale,\n",
      "tailer\n",
      ";\n",
      "agency contract,\n",
      "blockchain,\n",
      "consumer,\n",
      "contract,\n",
      "ddm,\n",
      "firm,\n",
      "logistic service,\n",
      "p2p marketplace,\n",
      "platform,\n",
      "service provider,\n",
      "supplier,\n",
      "supply chain\n",
      ";\n",
      "app,\n",
      "case,\n",
      "demand,\n",
      "developer,\n",
      "m&a,\n",
      "manufacturer,\n",
      "platform power,\n",
      "product,\n",
      "retailer,\n",
      "revenue sharing,\n",
      "store,\n",
      "trading market\n",
      ";\n"
     ]
    }
   ],
   "source": [
    "lst = [',\\n'.join(sorted([b[1] for b in a])) for a in k]\n",
    "for l in lst:\n",
    "    print(l)\n",
    "    print(';')"
   ]
  },
  {
   "cell_type": "code",
   "execution_count": 140,
   "id": "ranking-point",
   "metadata": {},
   "outputs": [],
   "source": [
    "cluster_dict = dict(zip(article_abstract_dict.keys(), kmeans.labels_))"
   ]
  },
  {
   "cell_type": "code",
   "execution_count": 141,
   "id": "geographic-shopping",
   "metadata": {},
   "outputs": [],
   "source": [
    "inverse_clusters = {}\n",
    "for k, v in cluster_dict.items():\n",
    "    inverse_clusters[v] = inverse_clusters.get(v,[])+[k]\n",
    "\n",
    "for k in inverse_clusters.keys():\n",
    "    inverse_clusters[k] = sorted(inverse_clusters[k])"
   ]
  },
  {
   "cell_type": "code",
   "execution_count": 142,
   "id": "following-cartoon",
   "metadata": {},
   "outputs": [],
   "source": [
    "from itertools import product\n",
    "def compare_sets(d1, d2):\n",
    "    for k1, k2, in product(d1.keys(), d2.keys()):\n",
    "        v1,v2 = d1[k1], d2[k2]\n",
    "        joint = len(set(v1) & set(v2))\n",
    "        if joint and len(v2) > 1:\n",
    "            yield k1, k2, len(v1), len(v2), joint\n",
    "            \n",
    "def dict_intersections(d1,d2):\n",
    "    for k1, k2, in product(d1.keys(), d2.keys()):\n",
    "        v1,v2 = d1[k1], d2[k2]\n",
    "        joint = set(v1) & set(v2)\n",
    "        yield (k1,k2), joint"
   ]
  },
  {
   "cell_type": "code",
   "execution_count": 143,
   "id": "brave-beatles",
   "metadata": {},
   "outputs": [],
   "source": [
    "articles_from_keywords = {0: ['Grieger 2003',\n",
    "  'Li 2020',\n",
    "  'Avinadav et al 2015b',\n",
    "  'Avinadav et al 2020b',\n",
    "  'Alaei et al 2020',\n",
    "  'Yan et al 2018',\n",
    "  'Liu et al 2020',\n",
    "  'Avinadav et al 2020',\n",
    "  'Avinadav et al 2015a',\n",
    "  'Chernonog 2020',\n",
    "  'Choi et al 2004',\n",
    "  'Yan et al 2019',\n",
    "  'Avinadav et al 2017',\n",
    "  'Zhang and Zhang 2020',\n",
    "  'Avinadav et al 2019',\n",
    "  'Shen et al 2019b',\n",
    "  'Zhao and Bisi 2010',\n",
    "  'de Matta et al 2017',\n",
    "  'Yu and Zhang 2017',\n",
    "  'De Giovanni 2020'],\n",
    " 1: ['Xu et al 2020',\n",
    "  'Mantin et al 2014',\n",
    "  'Shen et al 2019',\n",
    "  'Wang et al 2020',\n",
    "  'Schlosser and Boissier 2018',\n",
    "  'Yenipazarli 2020',\n",
    "  'He et al 2021',\n",
    "  'Chen et al 2019',\n",
    "  'Zennyo 2020',\n",
    "  'Li et al 2019',\n",
    "  'Cao et al 2020',\n",
    "  'Shen et al 2020',\n",
    "  'Zhou et al 2019',\n",
    "  'Renna 2010',\n",
    "  'Li et al 2016',\n",
    "  'Qin et al 2020b',\n",
    "  'Abhishek et al 2016',\n",
    "  'Hagiu and Wright 2020',\n",
    "  'Yu et al 2020',\n",
    "  'Lin et al 2020',\n",
    "  'Qin et al 2020',\n",
    "  'Luo et al 2020',\n",
    "  'Ryan et al 2012'],\n",
    " 2: ['Cao et al 2019',\n",
    "  'Hua et al 2020',\n",
    "  'Zhen et al 2020',\n",
    "  'Cai and Lo 2020',\n",
    "  'Wang et al 2019',\n",
    "  'He et al 2020',\n",
    "  'Lu et al 2018',\n",
    "  'Xu et al 2018',\n",
    "  'Jiang et al 2017',\n",
    "  'Li et al 2020',\n",
    "  'Chen et al 2020',\n",
    "  'Guo et al 2020'],\n",
    "#  -1: ['Sun et al 2020',\n",
    "#   'Zhang and Zhang 2019',\n",
    "#   'Geng et al 2018',\n",
    "#   'Tian et al 2018']\n",
    "                         }"
   ]
  },
  {
   "cell_type": "code",
   "execution_count": 144,
   "id": "ecological-adoption",
   "metadata": {},
   "outputs": [
    {
     "data": {
      "text/plain": [
       "{0: ['Abhishek et al 2016',\n",
       "  'Alaei et al 2020',\n",
       "  'Cai and Lo 2020',\n",
       "  'Chen et al 2019',\n",
       "  'Chen et al 2020',\n",
       "  'Choi et al 2004',\n",
       "  'Grieger 2003',\n",
       "  'Hagiu and Wright 2020',\n",
       "  'He et al 2020',\n",
       "  'Li et al 2016',\n",
       "  'Li et al 2019',\n",
       "  'Lu et al 2018',\n",
       "  'Luo et al 2020',\n",
       "  'Renna 2010',\n",
       "  'Schlosser and Boissier 2018',\n",
       "  'Xu et al 2018',\n",
       "  'Yan et al 2018',\n",
       "  'Yan et al 2019',\n",
       "  'Yenipazarli 2020',\n",
       "  'Yu and Zhang 2017',\n",
       "  'Zhang and Zhang 2019',\n",
       "  'de Matta et al 2017'],\n",
       " 2: ['Avinadav et al 2015a',\n",
       "  'Avinadav et al 2015b',\n",
       "  'Avinadav et al 2017',\n",
       "  'Avinadav et al 2019',\n",
       "  'Avinadav et al 2020',\n",
       "  'Cao et al 2020',\n",
       "  'Chernonog 2020',\n",
       "  'He et al 2021',\n",
       "  'Hua et al 2020',\n",
       "  'Li et al 2020',\n",
       "  'Mantin et al 2014',\n",
       "  'Ryan et al 2012',\n",
       "  'Shen et al 2019',\n",
       "  'Shen et al 2019b',\n",
       "  'Sun et al 2020',\n",
       "  'Xu et al 2020',\n",
       "  'Yu et al 2020',\n",
       "  'Zhao and Bisi 2010',\n",
       "  'Zhen et al 2020'],\n",
       " 1: ['Avinadav et al 2020b',\n",
       "  'Cao et al 2019',\n",
       "  'De Giovanni 2020',\n",
       "  'Geng et al 2018',\n",
       "  'Guo et al 2020',\n",
       "  'Jiang et al 2017',\n",
       "  'Li 2020',\n",
       "  'Lin et al 2020',\n",
       "  'Liu et al 2020',\n",
       "  'Qin et al 2020',\n",
       "  'Qin et al 2020b',\n",
       "  'Shen et al 2020',\n",
       "  'Tian et al 2018',\n",
       "  'Wang et al 2019',\n",
       "  'Wang et al 2020',\n",
       "  'Zennyo 2020',\n",
       "  'Zhang and Zhang 2020',\n",
       "  'Zhou et al 2019']}"
      ]
     },
     "execution_count": 144,
     "metadata": {},
     "output_type": "execute_result"
    }
   ],
   "source": [
    "inverse_clusters"
   ]
  },
  {
   "cell_type": "code",
   "execution_count": 145,
   "id": "reflected-cemetery",
   "metadata": {},
   "outputs": [],
   "source": [
    "clusters_from_references = {0: ['Cao et al 2020',\n",
    "  'Chen et al 2020',\n",
    "  'Wang et al 2019',\n",
    "  'Cao et al 2019',\n",
    "  'Zhen et al 2020',\n",
    "  'Mantin et al 2014',\n",
    "  'Shen et al 2019',\n",
    "  'Yenipazarli 2020',\n",
    "  'Tian et al 2018',\n",
    "  'Ryan et al 2012',\n",
    "  'de Matta et al 2017',\n",
    "  'Zhang and Zhang 2019',\n",
    "  'Shen et al 2019b',\n",
    "  'Zhang and Zhang 2020',\n",
    "  'Yan et al 2019',\n",
    "  'Yan et al 2018',\n",
    "  'Abhishek et al 2016'],\n",
    " 1: ['Li et al 2019',\n",
    "  'Chen et al 2019',\n",
    "  'Qin et al 2020',\n",
    "  'Zennyo 2020',\n",
    "  'He et al 2020',\n",
    "  'Li 2020',\n",
    "  'Cai and Lo 2020',\n",
    "  'Alaei et al 2020',\n",
    "  'Xu et al 2020',\n",
    "  'Qin et al 2020b',\n",
    "  'Li et al 2020',\n",
    "  'Guo et al 2020',\n",
    "  'He et al 2021',\n",
    "  'Liu et al 2020',\n",
    "  'Shen et al 2020',\n",
    "  'Geng et al 2018'],\n",
    "#  -1: ['De Giovanni 2020',\n",
    "#   'Sun et al 2020',\n",
    "#   'Hagiu and Wright 2020',\n",
    "#   'Xu et al 2018',\n",
    "#   'Jiang et al 2017',\n",
    "#   'Hua et al 2020',\n",
    "#   'Li et al 2016',\n",
    "#   'Grieger 2003',\n",
    "#   'Lin et al 2020',\n",
    "#   'Renna 2010',\n",
    "#   'Schlosser and Boissier 2018',\n",
    "#   'Zhou et al 2019',\n",
    "#   'Yu and Zhang 2017',\n",
    "#   'Wang et al 2020',\n",
    "#   'Choi et al 2004',\n",
    "#   'Lu et al 2018',\n",
    "#   'Zhao and Bisi 2010',\n",
    "#   'Luo et al 2020'],\n",
    " 8: ['Avinadav et al 2015a',\n",
    "  'Avinadav et al 2017',\n",
    "  'Avinadav et al 2019',\n",
    "  'Avinadav et al 2015b',\n",
    "  'Chernonog 2020',\n",
    "  'Avinadav et al 2020b',\n",
    "  'Avinadav et al 2020']}"
   ]
  },
  {
   "cell_type": "code",
   "execution_count": 154,
   "id": "fresh-teaching",
   "metadata": {},
   "outputs": [
    {
     "data": {
      "text/html": [
       "<div>\n",
       "<style scoped>\n",
       "    .dataframe tbody tr th:only-of-type {\n",
       "        vertical-align: middle;\n",
       "    }\n",
       "\n",
       "    .dataframe tbody tr th {\n",
       "        vertical-align: top;\n",
       "    }\n",
       "\n",
       "    .dataframe thead th {\n",
       "        text-align: right;\n",
       "    }\n",
       "</style>\n",
       "<table border=\"1\" class=\"dataframe\">\n",
       "  <thead>\n",
       "    <tr style=\"text-align: right;\">\n",
       "      <th></th>\n",
       "      <th>0</th>\n",
       "      <th>1</th>\n",
       "      <th>2</th>\n",
       "      <th>3</th>\n",
       "      <th>4</th>\n",
       "    </tr>\n",
       "  </thead>\n",
       "  <tbody>\n",
       "    <tr>\n",
       "      <th>0</th>\n",
       "      <td>1</td>\n",
       "      <td>1</td>\n",
       "      <td>16</td>\n",
       "      <td>23</td>\n",
       "      <td>8</td>\n",
       "    </tr>\n",
       "    <tr>\n",
       "      <th>1</th>\n",
       "      <td>8</td>\n",
       "      <td>0</td>\n",
       "      <td>7</td>\n",
       "      <td>20</td>\n",
       "      <td>7</td>\n",
       "    </tr>\n",
       "    <tr>\n",
       "      <th>2</th>\n",
       "      <td>0</td>\n",
       "      <td>1</td>\n",
       "      <td>17</td>\n",
       "      <td>23</td>\n",
       "      <td>6</td>\n",
       "    </tr>\n",
       "    <tr>\n",
       "      <th>3</th>\n",
       "      <td>0</td>\n",
       "      <td>0</td>\n",
       "      <td>17</td>\n",
       "      <td>20</td>\n",
       "      <td>5</td>\n",
       "    </tr>\n",
       "    <tr>\n",
       "      <th>4</th>\n",
       "      <td>0</td>\n",
       "      <td>2</td>\n",
       "      <td>17</td>\n",
       "      <td>12</td>\n",
       "      <td>4</td>\n",
       "    </tr>\n",
       "    <tr>\n",
       "      <th>5</th>\n",
       "      <td>1</td>\n",
       "      <td>2</td>\n",
       "      <td>16</td>\n",
       "      <td>12</td>\n",
       "      <td>4</td>\n",
       "    </tr>\n",
       "    <tr>\n",
       "      <th>6</th>\n",
       "      <td>1</td>\n",
       "      <td>0</td>\n",
       "      <td>16</td>\n",
       "      <td>20</td>\n",
       "      <td>3</td>\n",
       "    </tr>\n",
       "  </tbody>\n",
       "</table>\n",
       "</div>"
      ],
      "text/plain": [
       "   0  1   2   3  4\n",
       "0  1  1  16  23  8\n",
       "1  8  0   7  20  7\n",
       "2  0  1  17  23  6\n",
       "3  0  0  17  20  5\n",
       "4  0  2  17  12  4\n",
       "5  1  2  16  12  4\n",
       "6  1  0  16  20  3"
      ]
     },
     "execution_count": 154,
     "metadata": {},
     "output_type": "execute_result"
    }
   ],
   "source": [
    "ref_kw_clusters = dict(dict_intersections(clusters_from_references,articles_from_keywords))\n",
    "pd.DataFrame(compare_sets(clusters_from_references,articles_from_keywords ))\\\n",
    "    .sort_values(4,ascending=False).reset_index(drop=True)"
   ]
  },
  {
   "cell_type": "code",
   "execution_count": 155,
   "id": "objective-variety",
   "metadata": {},
   "outputs": [
    {
     "data": {
      "text/html": [
       "<div>\n",
       "<style scoped>\n",
       "    .dataframe tbody tr th:only-of-type {\n",
       "        vertical-align: middle;\n",
       "    }\n",
       "\n",
       "    .dataframe tbody tr th {\n",
       "        vertical-align: top;\n",
       "    }\n",
       "\n",
       "    .dataframe thead th {\n",
       "        text-align: right;\n",
       "    }\n",
       "</style>\n",
       "<table border=\"1\" class=\"dataframe\">\n",
       "  <thead>\n",
       "    <tr style=\"text-align: right;\">\n",
       "      <th></th>\n",
       "      <th>0</th>\n",
       "      <th>1</th>\n",
       "      <th>2</th>\n",
       "      <th>3</th>\n",
       "      <th>4</th>\n",
       "    </tr>\n",
       "  </thead>\n",
       "  <tbody>\n",
       "    <tr>\n",
       "      <th>0</th>\n",
       "      <td>1</td>\n",
       "      <td>0</td>\n",
       "      <td>23</td>\n",
       "      <td>22</td>\n",
       "      <td>9</td>\n",
       "    </tr>\n",
       "    <tr>\n",
       "      <th>1</th>\n",
       "      <td>0</td>\n",
       "      <td>2</td>\n",
       "      <td>20</td>\n",
       "      <td>19</td>\n",
       "      <td>8</td>\n",
       "    </tr>\n",
       "    <tr>\n",
       "      <th>2</th>\n",
       "      <td>0</td>\n",
       "      <td>0</td>\n",
       "      <td>20</td>\n",
       "      <td>22</td>\n",
       "      <td>7</td>\n",
       "    </tr>\n",
       "    <tr>\n",
       "      <th>3</th>\n",
       "      <td>1</td>\n",
       "      <td>2</td>\n",
       "      <td>23</td>\n",
       "      <td>19</td>\n",
       "      <td>7</td>\n",
       "    </tr>\n",
       "    <tr>\n",
       "      <th>4</th>\n",
       "      <td>1</td>\n",
       "      <td>1</td>\n",
       "      <td>23</td>\n",
       "      <td>18</td>\n",
       "      <td>7</td>\n",
       "    </tr>\n",
       "    <tr>\n",
       "      <th>5</th>\n",
       "      <td>0</td>\n",
       "      <td>1</td>\n",
       "      <td>20</td>\n",
       "      <td>18</td>\n",
       "      <td>5</td>\n",
       "    </tr>\n",
       "    <tr>\n",
       "      <th>6</th>\n",
       "      <td>2</td>\n",
       "      <td>0</td>\n",
       "      <td>12</td>\n",
       "      <td>22</td>\n",
       "      <td>5</td>\n",
       "    </tr>\n",
       "    <tr>\n",
       "      <th>7</th>\n",
       "      <td>2</td>\n",
       "      <td>1</td>\n",
       "      <td>12</td>\n",
       "      <td>18</td>\n",
       "      <td>4</td>\n",
       "    </tr>\n",
       "    <tr>\n",
       "      <th>8</th>\n",
       "      <td>2</td>\n",
       "      <td>2</td>\n",
       "      <td>12</td>\n",
       "      <td>19</td>\n",
       "      <td>3</td>\n",
       "    </tr>\n",
       "  </tbody>\n",
       "</table>\n",
       "</div>"
      ],
      "text/plain": [
       "   0  1   2   3  4\n",
       "0  1  0  23  22  9\n",
       "1  0  2  20  19  8\n",
       "2  0  0  20  22  7\n",
       "3  1  2  23  19  7\n",
       "4  1  1  23  18  7\n",
       "5  0  1  20  18  5\n",
       "6  2  0  12  22  5\n",
       "7  2  1  12  18  4\n",
       "8  2  2  12  19  3"
      ]
     },
     "execution_count": 155,
     "metadata": {},
     "output_type": "execute_result"
    }
   ],
   "source": [
    "kw_tf_clusters = dict(dict_intersections(articles_from_keywords, inverse_clusters))\n",
    "pd.DataFrame(compare_sets(articles_from_keywords, inverse_clusters))\\\n",
    "    .sort_values(4,ascending=False).reset_index(drop=True)"
   ]
  },
  {
   "cell_type": "code",
   "execution_count": 157,
   "id": "grave-literature",
   "metadata": {},
   "outputs": [
    {
     "data": {
      "text/html": [
       "<div>\n",
       "<style scoped>\n",
       "    .dataframe tbody tr th:only-of-type {\n",
       "        vertical-align: middle;\n",
       "    }\n",
       "\n",
       "    .dataframe tbody tr th {\n",
       "        vertical-align: top;\n",
       "    }\n",
       "\n",
       "    .dataframe thead th {\n",
       "        text-align: right;\n",
       "    }\n",
       "</style>\n",
       "<table border=\"1\" class=\"dataframe\">\n",
       "  <thead>\n",
       "    <tr style=\"text-align: right;\">\n",
       "      <th></th>\n",
       "      <th>0</th>\n",
       "      <th>1</th>\n",
       "      <th>2</th>\n",
       "      <th>3</th>\n",
       "      <th>4</th>\n",
       "    </tr>\n",
       "  </thead>\n",
       "  <tbody>\n",
       "    <tr>\n",
       "      <th>0</th>\n",
       "      <td>(8, 0)</td>\n",
       "      <td>(0, 2)</td>\n",
       "      <td>7</td>\n",
       "      <td>8</td>\n",
       "      <td>6</td>\n",
       "    </tr>\n",
       "    <tr>\n",
       "      <th>1</th>\n",
       "      <td>(0, 1)</td>\n",
       "      <td>(1, 2)</td>\n",
       "      <td>6</td>\n",
       "      <td>7</td>\n",
       "      <td>4</td>\n",
       "    </tr>\n",
       "    <tr>\n",
       "      <th>2</th>\n",
       "      <td>(1, 1)</td>\n",
       "      <td>(1, 1)</td>\n",
       "      <td>8</td>\n",
       "      <td>7</td>\n",
       "      <td>4</td>\n",
       "    </tr>\n",
       "    <tr>\n",
       "      <th>3</th>\n",
       "      <td>(0, 0)</td>\n",
       "      <td>(0, 0)</td>\n",
       "      <td>5</td>\n",
       "      <td>7</td>\n",
       "      <td>3</td>\n",
       "    </tr>\n",
       "    <tr>\n",
       "      <th>4</th>\n",
       "      <td>(1, 1)</td>\n",
       "      <td>(1, 0)</td>\n",
       "      <td>8</td>\n",
       "      <td>9</td>\n",
       "      <td>2</td>\n",
       "    </tr>\n",
       "    <tr>\n",
       "      <th>5</th>\n",
       "      <td>(1, 2)</td>\n",
       "      <td>(2, 0)</td>\n",
       "      <td>4</td>\n",
       "      <td>5</td>\n",
       "      <td>2</td>\n",
       "    </tr>\n",
       "    <tr>\n",
       "      <th>6</th>\n",
       "      <td>(1, 1)</td>\n",
       "      <td>(1, 2)</td>\n",
       "      <td>8</td>\n",
       "      <td>7</td>\n",
       "      <td>2</td>\n",
       "    </tr>\n",
       "    <tr>\n",
       "      <th>7</th>\n",
       "      <td>(1, 0)</td>\n",
       "      <td>(0, 1)</td>\n",
       "      <td>3</td>\n",
       "      <td>5</td>\n",
       "      <td>2</td>\n",
       "    </tr>\n",
       "    <tr>\n",
       "      <th>8</th>\n",
       "      <td>(0, 2)</td>\n",
       "      <td>(2, 1)</td>\n",
       "      <td>4</td>\n",
       "      <td>4</td>\n",
       "      <td>2</td>\n",
       "    </tr>\n",
       "    <tr>\n",
       "      <th>9</th>\n",
       "      <td>(0, 1)</td>\n",
       "      <td>(1, 0)</td>\n",
       "      <td>6</td>\n",
       "      <td>9</td>\n",
       "      <td>2</td>\n",
       "    </tr>\n",
       "    <tr>\n",
       "      <th>10</th>\n",
       "      <td>(1, 0)</td>\n",
       "      <td>(0, 0)</td>\n",
       "      <td>3</td>\n",
       "      <td>7</td>\n",
       "      <td>1</td>\n",
       "    </tr>\n",
       "    <tr>\n",
       "      <th>11</th>\n",
       "      <td>(0, 0)</td>\n",
       "      <td>(0, 2)</td>\n",
       "      <td>5</td>\n",
       "      <td>8</td>\n",
       "      <td>1</td>\n",
       "    </tr>\n",
       "    <tr>\n",
       "      <th>12</th>\n",
       "      <td>(0, 2)</td>\n",
       "      <td>(2, 2)</td>\n",
       "      <td>4</td>\n",
       "      <td>3</td>\n",
       "      <td>1</td>\n",
       "    </tr>\n",
       "    <tr>\n",
       "      <th>13</th>\n",
       "      <td>(0, 2)</td>\n",
       "      <td>(2, 0)</td>\n",
       "      <td>4</td>\n",
       "      <td>5</td>\n",
       "      <td>1</td>\n",
       "    </tr>\n",
       "    <tr>\n",
       "      <th>14</th>\n",
       "      <td>(1, 2)</td>\n",
       "      <td>(2, 2)</td>\n",
       "      <td>4</td>\n",
       "      <td>3</td>\n",
       "      <td>1</td>\n",
       "    </tr>\n",
       "    <tr>\n",
       "      <th>15</th>\n",
       "      <td>(1, 2)</td>\n",
       "      <td>(2, 1)</td>\n",
       "      <td>4</td>\n",
       "      <td>4</td>\n",
       "      <td>1</td>\n",
       "    </tr>\n",
       "    <tr>\n",
       "      <th>16</th>\n",
       "      <td>(0, 0)</td>\n",
       "      <td>(0, 1)</td>\n",
       "      <td>5</td>\n",
       "      <td>5</td>\n",
       "      <td>1</td>\n",
       "    </tr>\n",
       "    <tr>\n",
       "      <th>17</th>\n",
       "      <td>(8, 0)</td>\n",
       "      <td>(0, 1)</td>\n",
       "      <td>7</td>\n",
       "      <td>5</td>\n",
       "      <td>1</td>\n",
       "    </tr>\n",
       "  </tbody>\n",
       "</table>\n",
       "</div>"
      ],
      "text/plain": [
       "         0       1  2  3  4\n",
       "0   (8, 0)  (0, 2)  7  8  6\n",
       "1   (0, 1)  (1, 2)  6  7  4\n",
       "2   (1, 1)  (1, 1)  8  7  4\n",
       "3   (0, 0)  (0, 0)  5  7  3\n",
       "4   (1, 1)  (1, 0)  8  9  2\n",
       "5   (1, 2)  (2, 0)  4  5  2\n",
       "6   (1, 1)  (1, 2)  8  7  2\n",
       "7   (1, 0)  (0, 1)  3  5  2\n",
       "8   (0, 2)  (2, 1)  4  4  2\n",
       "9   (0, 1)  (1, 0)  6  9  2\n",
       "10  (1, 0)  (0, 0)  3  7  1\n",
       "11  (0, 0)  (0, 2)  5  8  1\n",
       "12  (0, 2)  (2, 2)  4  3  1\n",
       "13  (0, 2)  (2, 0)  4  5  1\n",
       "14  (1, 2)  (2, 2)  4  3  1\n",
       "15  (1, 2)  (2, 1)  4  4  1\n",
       "16  (0, 0)  (0, 1)  5  5  1\n",
       "17  (8, 0)  (0, 1)  7  5  1"
      ]
     },
     "execution_count": 157,
     "metadata": {},
     "output_type": "execute_result"
    }
   ],
   "source": [
    "pd.DataFrame(compare_sets(ref_kw_clusters, kw_tf_clusters))\\\n",
    "    .sort_values(4,ascending=False).reset_index(drop=True)"
   ]
  },
  {
   "cell_type": "code",
   "execution_count": 161,
   "id": "industrial-thesis",
   "metadata": {},
   "outputs": [
    {
     "data": {
      "text/plain": [
       "[{'Yan et al 2018', 'Yan et al 2019', 'de Matta et al 2017'},\n",
       " {'Shen et al 2019b'},\n",
       " {'Zhang and Zhang 2020'},\n",
       " {'Abhishek et al 2016', 'Yenipazarli 2020'},\n",
       " {'Cao et al 2020', 'Mantin et al 2014', 'Ryan et al 2012', 'Shen et al 2019'},\n",
       " {'Chen et al 2020'},\n",
       " {'Zhen et al 2020'},\n",
       " {'Cao et al 2019', 'Wang et al 2019'},\n",
       " {'Alaei et al 2020'},\n",
       " {'Li 2020', 'Liu et al 2020'},\n",
       " {'Chen et al 2019', 'Li et al 2019'},\n",
       " {'He et al 2021', 'Xu et al 2020'},\n",
       " {'Qin et al 2020', 'Qin et al 2020b', 'Shen et al 2020', 'Zennyo 2020'},\n",
       " {'Cai and Lo 2020', 'He et al 2020'},\n",
       " {'Li et al 2020'},\n",
       " {'Guo et al 2020'},\n",
       " {'Avinadav et al 2015a',\n",
       "  'Avinadav et al 2015b',\n",
       "  'Avinadav et al 2017',\n",
       "  'Avinadav et al 2019',\n",
       "  'Avinadav et al 2020',\n",
       "  'Chernonog 2020'},\n",
       " {'Avinadav et al 2020b'}]"
      ]
     },
     "execution_count": 161,
     "metadata": {},
     "output_type": "execute_result"
    }
   ],
   "source": [
    "[a[1] for a in dict_intersections(ref_kw_clusters, kw_tf_clusters) if a[1]]"
   ]
  },
  {
   "cell_type": "code",
   "execution_count": 77,
   "id": "greatest-trick",
   "metadata": {},
   "outputs": [
    {
     "data": {
      "text/plain": [
       "[('Grieger 2003', 2),\n",
       " ('Xu et al 2020', 1),\n",
       " ('Cao et al 2019', 0),\n",
       " ('Mantin et al 2014', 1),\n",
       " ('Li 2020', 0),\n",
       " ('Shen et al 2019', 1),\n",
       " ('Avinadav et al 2015b', 1),\n",
       " ('Hua et al 2020', 1),\n",
       " ('Zhen et al 2020', 1),\n",
       " ('Avinadav et al 2020b', 1)]"
      ]
     },
     "execution_count": 77,
     "metadata": {},
     "output_type": "execute_result"
    }
   ],
   "source": [
    "list(cluster_dict.items())[:10]"
   ]
  },
  {
   "cell_type": "code",
   "execution_count": null,
   "id": "empty-checklist",
   "metadata": {},
   "outputs": [],
   "source": []
  },
  {
   "cell_type": "code",
   "execution_count": null,
   "id": "recreational-philip",
   "metadata": {},
   "outputs": [],
   "source": []
  },
  {
   "cell_type": "code",
   "execution_count": 48,
   "id": "union-package",
   "metadata": {},
   "outputs": [
    {
     "data": {
      "text/plain": [
       "'Xu et al 2020'"
      ]
     },
     "execution_count": 48,
     "metadata": {},
     "output_type": "execute_result"
    }
   ],
   "source": [
    "list(article_abstract_dict.keys())[1]"
   ]
  },
  {
   "cell_type": "code",
   "execution_count": 15,
   "id": "aboriginal-violation",
   "metadata": {},
   "outputs": [
    {
     "data": {
      "text/plain": [
       "['DET',\n",
       " 'NOUN',\n",
       " 'PUNCT',\n",
       " 'NOUN',\n",
       " 'PUNCT',\n",
       " 'VERB',\n",
       " 'ADJ',\n",
       " 'NOUN',\n",
       " 'PUNCT',\n",
       " 'PROPN']"
      ]
     },
     "execution_count": 15,
     "metadata": {},
     "output_type": "execute_result"
    }
   ],
   "source": [
    "[a.pos_ for a in n[:10]]"
   ]
  },
  {
   "cell_type": "code",
   "execution_count": 113,
   "id": "compound-tomato",
   "metadata": {},
   "outputs": [
    {
     "data": {
      "text/plain": [
       "['__class__',\n",
       " '__delattr__',\n",
       " '__dict__',\n",
       " '__dir__',\n",
       " '__doc__',\n",
       " '__eq__',\n",
       " '__format__',\n",
       " '__ge__',\n",
       " '__getattribute__',\n",
       " '__getstate__',\n",
       " '__gt__',\n",
       " '__hash__',\n",
       " '__init__',\n",
       " '__init_subclass__',\n",
       " '__le__',\n",
       " '__lt__',\n",
       " '__module__',\n",
       " '__ne__',\n",
       " '__new__',\n",
       " '__reduce__',\n",
       " '__reduce_ex__',\n",
       " '__repr__',\n",
       " '__setattr__',\n",
       " '__setstate__',\n",
       " '__sizeof__',\n",
       " '__str__',\n",
       " '__subclasshook__',\n",
       " '__weakref__',\n",
       " '_algorithm',\n",
       " '_check_n_features',\n",
       " '_check_params',\n",
       " '_check_test_data',\n",
       " '_estimator_type',\n",
       " '_get_param_names',\n",
       " '_get_tags',\n",
       " '_more_tags',\n",
       " '_n_init',\n",
       " '_n_threads',\n",
       " '_repr_html_',\n",
       " '_repr_html_inner',\n",
       " '_repr_mimebundle_',\n",
       " '_tol',\n",
       " '_transform',\n",
       " '_validate_data',\n",
       " 'algorithm',\n",
       " 'cluster_centers_',\n",
       " 'copy_x',\n",
       " 'fit',\n",
       " 'fit_predict',\n",
       " 'fit_transform',\n",
       " 'get_params',\n",
       " 'inertia_',\n",
       " 'init',\n",
       " 'labels_',\n",
       " 'max_iter',\n",
       " 'n_clusters',\n",
       " 'n_features_in_',\n",
       " 'n_init',\n",
       " 'n_iter_',\n",
       " 'n_jobs',\n",
       " 'precompute_distances',\n",
       " 'predict',\n",
       " 'random_state',\n",
       " 'score',\n",
       " 'set_params',\n",
       " 'tol',\n",
       " 'transform',\n",
       " 'verbose']"
      ]
     },
     "execution_count": 113,
     "metadata": {},
     "output_type": "execute_result"
    }
   ],
   "source": [
    "dir(kmeans)"
   ]
  },
  {
   "cell_type": "markdown",
   "id": "annual-wales",
   "metadata": {},
   "source": [
    "### Finding the best clustering score"
   ]
  },
  {
   "cell_type": "code",
   "execution_count": 122,
   "id": "vertical-collection",
   "metadata": {},
   "outputs": [
    {
     "data": {
      "text/plain": [
       "0.9393114395322577"
      ]
     },
     "execution_count": 122,
     "metadata": {},
     "output_type": "execute_result"
    }
   ],
   "source": [
    "result.todense().var(axis=0).sum()"
   ]
  },
  {
   "cell_type": "code",
   "execution_count": 128,
   "id": "found-pride",
   "metadata": {},
   "outputs": [
    {
     "data": {
      "text/plain": [
       "0.8924182458532648"
      ]
     },
     "execution_count": 128,
     "metadata": {},
     "output_type": "execute_result"
    }
   ],
   "source": [
    "np.vstack(\n",
    "    [a-b for a, b in zip(result.todense().tolist(), (kmeans.cluster_centers_[i,:] for i in kmeans.labels_))]\n",
    "    ).var(axis=0).sum()"
   ]
  },
  {
   "cell_type": "code",
   "execution_count": 130,
   "id": "textile-cradle",
   "metadata": {},
   "outputs": [
    {
     "data": {
      "text/plain": [
       "1474"
      ]
     },
     "execution_count": 130,
     "metadata": {},
     "output_type": "execute_result"
    }
   ],
   "source": [
    "len(kmeans.cluster_centers_.T.tolist())"
   ]
  },
  {
   "cell_type": "code",
   "execution_count": 131,
   "id": "organizational-simple",
   "metadata": {},
   "outputs": [],
   "source": [
    "cscore = lambda km: np.vstack(\n",
    "    [a-b for a, b in zip(result.todense().tolist(), (km.cluster_centers_[i,:] for i in km.labels_))]\n",
    "    ).var(axis=0).sum()"
   ]
  },
  {
   "cell_type": "code",
   "execution_count": 134,
   "id": "express-richardson",
   "metadata": {},
   "outputs": [
    {
     "data": {
      "text/plain": [
       "[(0.8906863646563798, 1040),\n",
       " (0.8908189485758846, 1015),\n",
       " (0.8911069135133188, 1010),\n",
       " (0.8915278106101494, 1022),\n",
       " (0.8918134326897701, 1005),\n",
       " (0.8920391233613445, 1000),\n",
       " (0.8922567481874499, 1038),\n",
       " (0.8922892754816908, 1031),\n",
       " (0.8922894087399308, 1035),\n",
       " (0.8923452291062675, 1028),\n",
       " (0.8924505639138758, 1043),\n",
       " (0.8925015783524348, 1024),\n",
       " (0.8925098202049475, 1033),\n",
       " (0.8926387492670069, 1041),\n",
       " (0.8926500882565607, 1046),\n",
       " (0.8926707006516241, 1012),\n",
       " (0.8927305221060807, 1018),\n",
       " (0.8927488555435417, 1039),\n",
       " (0.8927488555435417, 1042),\n",
       " (0.8927628474904442, 1002),\n",
       " (0.8929954790156525, 1027),\n",
       " (0.8931382260542716, 1019),\n",
       " (0.8932013685695394, 1030),\n",
       " (0.8932571465305656, 1047),\n",
       " (0.8932663878229734, 1048),\n",
       " (0.8934748241614732, 1003),\n",
       " (0.8936120736601645, 1025),\n",
       " (0.89363362167312, 1029),\n",
       " (0.893799875451625, 1032),\n",
       " (0.8938436752604791, 1011),\n",
       " (0.8938499955110022, 1026),\n",
       " (0.8938599271857773, 1001),\n",
       " (0.8938692356527936, 1020),\n",
       " (0.8940990454474931, 1009),\n",
       " (0.8941320045107849, 1004),\n",
       " (0.8942185983541535, 1013),\n",
       " (0.8945051490107472, 1021),\n",
       " (0.894545761591316, 1017),\n",
       " (0.8945534893552474, 1023),\n",
       " (0.8946112893477076, 1007),\n",
       " (0.8946284594035299, 1044),\n",
       " (0.8946492063550106, 1008),\n",
       " (0.8948875214958977, 1045),\n",
       " (0.8949190607309399, 1006),\n",
       " (0.8950257472626153, 1014),\n",
       " (0.8953577926168317, 1036),\n",
       " (0.8957751998050163, 1037),\n",
       " (0.895872676554374, 1016),\n",
       " (0.8961840660824796, 1049),\n",
       " (0.8977908955119612, 1034)]"
      ]
     },
     "execution_count": 134,
     "metadata": {},
     "output_type": "execute_result"
    }
   ],
   "source": [
    "ll =[]\n",
    "for r in range(1000,1050):\n",
    "    kmn = KMeans(n_clusters=3,random_state=r).fit(result)\n",
    "    ll.append((cscore(kmn),r ))\n",
    "\n",
    "sorted(ll)"
   ]
  },
  {
   "cell_type": "code",
   "execution_count": 135,
   "id": "powerful-cloud",
   "metadata": {},
   "outputs": [
    {
     "data": {
      "text/plain": [
       "[(0.8903291221020005, 1092),\n",
       " (0.8912438610209917, 1067),\n",
       " (0.8913394875906091, 1068),\n",
       " (0.8915269529046982, 1059),\n",
       " (0.8916639847508497, 1066),\n",
       " (0.8917762348165423, 1091),\n",
       " (0.8919594612332696, 1053),\n",
       " (0.8921336985423475, 1084),\n",
       " (0.8923399956504259, 1054),\n",
       " (0.8925166806475324, 1094),\n",
       " (0.8925494284220777, 1072),\n",
       " (0.8926102326759884, 1078),\n",
       " (0.8926570126390276, 1055),\n",
       " (0.8926810965840705, 1097),\n",
       " (0.892733306172413, 1088),\n",
       " (0.8927465925014039, 1095),\n",
       " (0.89275851017101, 1060),\n",
       " (0.892758523582369, 1076),\n",
       " (0.8928332957945412, 1057),\n",
       " (0.8928977071861028, 1077),\n",
       " (0.89295213780422, 1086),\n",
       " (0.8929843436081197, 1063),\n",
       " (0.8932734011750758, 1058),\n",
       " (0.8932990435503353, 1087),\n",
       " (0.8933411620889457, 1056),\n",
       " (0.8934225345165141, 1065),\n",
       " (0.8935360674136414, 1090),\n",
       " (0.8935517109975906, 1099),\n",
       " (0.8938322899648853, 1064),\n",
       " (0.8938935695829402, 1062),\n",
       " (0.8938953543707042, 1085),\n",
       " (0.8940345758492507, 1051),\n",
       " (0.8941419316417398, 1089),\n",
       " (0.8941593058155576, 1050),\n",
       " (0.894260692720022, 1073),\n",
       " (0.8944328429688915, 1052),\n",
       " (0.8944496940371469, 1096),\n",
       " (0.8944508630671797, 1081),\n",
       " (0.8944800171573517, 1074),\n",
       " (0.8944813435716441, 1075),\n",
       " (0.8945911064027872, 1080),\n",
       " (0.8946125834738236, 1069),\n",
       " (0.894682606569628, 1061),\n",
       " (0.8947117604309536, 1070),\n",
       " (0.8947455327127989, 1098),\n",
       " (0.8950865915425699, 1083),\n",
       " (0.8951515394329016, 1079),\n",
       " (0.8953140669614895, 1071),\n",
       " (0.8955277717792051, 1093),\n",
       " (0.8957822437188667, 1082)]"
      ]
     },
     "execution_count": 135,
     "metadata": {},
     "output_type": "execute_result"
    }
   ],
   "source": [
    "ll =[]\n",
    "for r in range(1050,1100):\n",
    "    kmn = KMeans(n_clusters=3,random_state=r).fit(result)\n",
    "    ll.append((cscore(kmn),r ))\n",
    "\n",
    "sorted(ll)"
   ]
  },
  {
   "cell_type": "code",
   "execution_count": 163,
   "id": "grateful-monday",
   "metadata": {},
   "outputs": [],
   "source": [
    "from scipy.special import comb"
   ]
  },
  {
   "cell_type": "code",
   "execution_count": 165,
   "id": "thirty-steel",
   "metadata": {},
   "outputs": [
    {
     "data": {
      "text/plain": [
       "0.8694764805297269"
      ]
     },
     "execution_count": 165,
     "metadata": {},
     "output_type": "execute_result"
    }
   ],
   "source": [
    "(19/59*18/58*17/57*24)**3*comb(60,4)/(58*59*60)"
   ]
  },
  {
   "cell_type": "code",
   "execution_count": 166,
   "id": "invisible-elizabeth",
   "metadata": {},
   "outputs": [
    {
     "data": {
      "text/plain": [
       "0.658503"
      ]
     },
     "execution_count": 166,
     "metadata": {},
     "output_type": "execute_result"
    }
   ],
   "source": [
    "0.87**3"
   ]
  },
  {
   "cell_type": "code",
   "execution_count": null,
   "id": "thrown-unknown",
   "metadata": {},
   "outputs": [],
   "source": []
  }
 ],
 "metadata": {
  "kernelspec": {
   "display_name": "Python 3.9.1 64-bit ('base1': conda)",
   "language": "python",
   "name": "python39164bitbase1conda6ae4cd7cd66d4873bccad52ac2cde672"
  },
  "language_info": {
   "codemirror_mode": {
    "name": "ipython",
    "version": 3
   },
   "file_extension": ".py",
   "mimetype": "text/x-python",
   "name": "python",
   "nbconvert_exporter": "python",
   "pygments_lexer": "ipython3",
   "version": "3.9.1"
  }
 },
 "nbformat": 4,
 "nbformat_minor": 5
}
